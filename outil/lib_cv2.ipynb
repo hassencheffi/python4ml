{
 "cells": [
  {
   "cell_type": "markdown",
   "id": "8a76d6d6",
   "metadata": {},
   "source": [
    "# Débuter avec la bibliothèque cv2\n"
   ]
  },
  {
   "cell_type": "markdown",
   "id": "6e3e00f6",
   "metadata": {},
   "source": [
    "<div style=\"width: 25%; margin: 0 auto;\">\n",
    "    <img src=\"../images/logos/opencv.svg\" alt=\"Opencv\" style=\"width: 100%; height: auto;\">\n",
    "</div>"
   ]
  },
  {
   "cell_type": "code",
   "execution_count": 1,
   "id": "37f8a949",
   "metadata": {
    "scrolled": false
   },
   "outputs": [
    {
     "name": "stdout",
     "output_type": "stream",
     "text": [
      "4.6.0\n"
     ]
    }
   ],
   "source": [
    "import matplotlib\n",
    "import cv2\n",
    "print(cv2.__version__)\n",
    "\n",
    "\n",
    "\n"
   ]
  },
  {
   "cell_type": "code",
   "execution_count": null,
   "id": "1a802b01",
   "metadata": {},
   "outputs": [],
   "source": []
  }
 ],
 "metadata": {
  "kernelspec": {
   "display_name": "Python 3 (ipykernel)",
   "language": "python",
   "name": "python3"
  },
  "language_info": {
   "codemirror_mode": {
    "name": "ipython",
    "version": 3
   },
   "file_extension": ".py",
   "mimetype": "text/x-python",
   "name": "python",
   "nbconvert_exporter": "python",
   "pygments_lexer": "ipython3",
   "version": "3.10.9"
  }
 },
 "nbformat": 4,
 "nbformat_minor": 5
}
