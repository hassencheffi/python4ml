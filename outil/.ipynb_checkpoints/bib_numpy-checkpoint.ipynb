{
 "cells": [
  {
   "cell_type": "markdown",
   "id": "504e1c1c",
   "metadata": {},
   "source": [
    "# Débuter avec la bibliothèque numpy"
   ]
  },
  {
   "cell_type": "markdown",
   "id": "196679ff",
   "metadata": {},
   "source": [
    "<div style=\"width: 50%; margin: 0 auto;\">\n",
    "    <img src=\"../images/logos/numpy.svg\" alt=\"Numpy\" style=\"width: 100%; height: auto;\">\n",
    "</div>"
   ]
  },
  {
   "cell_type": "markdown",
   "id": "09f3a21b",
   "metadata": {},
   "source": [
    "NumPy (Num erical Py thon) est une bibliothèque open-source très populaire pour Python, qui offre des fonctionnalités puissantes pour effectuer des opérations mathématiques et numériques. Elle est largement utilisée dans le domaine de l'apprentissage automatique, l'analyse de données, les simulations scientifiques, et bien d'autres domaines nécessitant des calculs numériques efficaces.\n",
    "\n",
    "Pour utiliser NumPy, vous pouvez installer la bibliothèque en exécutant la commande \"**pip install numpy**\" dans votre terminal ou invite de commande.\n",
    "\n",
    "Une fois NumPy installé, vous pouvez importer la bibliothèque dans votre code Python en utilisant **import numpy as np**, ce qui est une pratique courante pour raccourcir le nom de la bibliothèque et faciliter l'utilisation.\n",
    "\n",
    "Ci-dessous, vous trouverez quelques exemples illustrant l'utilisation de la bibliothèque "
   ]
  },
  {
   "cell_type": "markdown",
   "id": "ba4d2ab0",
   "metadata": {},
   "source": [
    "### Créer un tableau NumPy"
   ]
  },
  {
   "cell_type": "markdown",
   "id": "4af90198",
   "metadata": {},
   "source": [
    "Création de tableau simple"
   ]
  },
  {
   "cell_type": "code",
   "execution_count": null,
   "id": "08efe757",
   "metadata": {},
   "outputs": [],
   "source": [
    "import numpy as np\n",
    "#Création d'un tableau d'entier\n",
    "tab=np.array([1,5,6,3])\n",
    "print(tab)"
   ]
  },
  {
   "cell_type": "code",
   "execution_count": null,
   "id": "5f31fa2b",
   "metadata": {},
   "outputs": [],
   "source": [
    "# Création d'un tableau de réels\n",
    "tab=np.array([1.,5.,6.,3.])\n",
    "print(tab)"
   ]
  },
  {
   "cell_type": "code",
   "execution_count": null,
   "id": "2dc43f6e",
   "metadata": {},
   "outputs": [],
   "source": [
    "# Création d'un tableau de réels\n",
    "tab=np.array([1,5,6,3],dtype=np.float32)\n",
    "print(tab)"
   ]
  },
  {
   "cell_type": "markdown",
   "id": "8b7531d6",
   "metadata": {},
   "source": [
    "Crée un tableau de zéro avec une taille spécifiée"
   ]
  },
  {
   "cell_type": "code",
   "execution_count": null,
   "id": "f9245eb2",
   "metadata": {},
   "outputs": [],
   "source": [
    "import numpy as np\n",
    "\n",
    "taille = 5\n",
    "tableau_vide = np.zeros(taille)\n",
    "\n",
    "print(tableau_vide)"
   ]
  },
  {
   "cell_type": "markdown",
   "id": "f555afe4",
   "metadata": {},
   "source": [
    "Crée un tableau rempli de 1 avec une taille spécifiée."
   ]
  },
  {
   "cell_type": "code",
   "execution_count": null,
   "id": "126f1ac6",
   "metadata": {},
   "outputs": [],
   "source": [
    "import numpy as np\n",
    "\n",
    "taille = 4\n",
    "tableau_de_1 = np.ones(taille)\n",
    "\n",
    "print(tableau_de_1)\n",
    "# Résultat : [1. 1. 1. 1.]\n"
   ]
  },
  {
   "cell_type": "markdown",
   "id": "3006c12e",
   "metadata": {},
   "source": [
    " Crée un tableau rempli de valeurs identiques avec une taille spécifiée."
   ]
  },
  {
   "cell_type": "code",
   "execution_count": null,
   "id": "b0b4dc53",
   "metadata": {},
   "outputs": [],
   "source": [
    "import numpy as np\n",
    "\n",
    "taille = (4,3)\n",
    "valeur = 7\n",
    "tableau_valeurs_identiques = np.full(taille, valeur)\n",
    "\n",
    "print(tableau_valeurs_identiques)\n",
    "# Résultat : [[7 7 7]\n",
    "# [7 7 7]\n",
    "# [7 7 7]\n",
    "# [7 7 7]]"
   ]
  },
  {
   "cell_type": "markdown",
   "id": "bc204fed",
   "metadata": {},
   "source": [
    "Crée un tableau d'entiers entre une valeur de début et une valeur de fin, avec un pas spécifié."
   ]
  },
  {
   "cell_type": "code",
   "execution_count": null,
   "id": "ee4d5433",
   "metadata": {},
   "outputs": [],
   "source": [
    "import numpy as np\n",
    "\n",
    "debut = 1\n",
    "fin = 10\n",
    "pas = 2\n",
    "tableau_intervalles = np.arange(debut, fin, pas)\n",
    "\n",
    "print(tableau_intervalles)\n",
    "# Résultat : [1 3 5 7 9]\n"
   ]
  },
  {
   "cell_type": "markdown",
   "id": "6c1833a0",
   "metadata": {},
   "source": [
    "Crée un tableau linéairement espacé avec un nombre spécifié de valeurs entre un début et une fin."
   ]
  },
  {
   "cell_type": "code",
   "execution_count": null,
   "id": "e43dd379",
   "metadata": {},
   "outputs": [],
   "source": [
    "import numpy as np\n",
    "\n",
    "debut = 0\n",
    "fin = 1\n",
    "nombre_valeurs = 5\n",
    "tableau_linspace = np.linspace(debut, fin, nombre_valeurs)\n",
    "\n",
    "print(tableau_linspace)\n",
    "# Résultat : [0.   0.25 0.5  0.75 1.  ]\n"
   ]
  },
  {
   "cell_type": "markdown",
   "id": "583ce4bd",
   "metadata": {},
   "source": [
    "Création d'un tableau de valeur aléatoire"
   ]
  },
  {
   "cell_type": "code",
   "execution_count": null,
   "id": "87f8da3e",
   "metadata": {},
   "outputs": [],
   "source": [
    "# Création d'un tableau de valeur aléatoire\n",
    "tab=np.random.rand(3,5)\n",
    "print(tab)\n"
   ]
  },
  {
   "cell_type": "markdown",
   "id": "8305335b",
   "metadata": {},
   "source": [
    "Création d'un tableau à partir d'une liste"
   ]
  },
  {
   "cell_type": "code",
   "execution_count": null,
   "id": "68e25aee",
   "metadata": {},
   "outputs": [],
   "source": [
    "import numpy as np\n",
    "\n",
    "# Créer un tableau à partir d'une liste\n",
    "liste = [1, 2, 3, 4, 5]\n",
    "tableau = np.array(liste)\n",
    "\n",
    "print(tableau)"
   ]
  },
  {
   "cell_type": "markdown",
   "id": "8bc84a43",
   "metadata": {},
   "source": [
    "### Opérations avec les tableaux NumPy "
   ]
  },
  {
   "cell_type": "code",
   "execution_count": null,
   "id": "72716a92",
   "metadata": {},
   "outputs": [],
   "source": [
    "import numpy as np\n",
    "\n",
    "# Créer deux tableaux\n",
    "tableau1 = np.array([1, 2, 3])\n",
    "tableau2 = np.array([4, 5, 6])\n",
    "print(\"tableau1:\", tableau1)\n",
    "print(\"tableau2:\", tableau2)"
   ]
  },
  {
   "cell_type": "code",
   "execution_count": null,
   "id": "1d6f3e87",
   "metadata": {},
   "outputs": [],
   "source": [
    "# Addition de deux tableaux\n",
    "somme = tableau1 + tableau2\n",
    "print(\"Somme t1+t2:\", somme)"
   ]
  },
  {
   "cell_type": "code",
   "execution_count": null,
   "id": "bf24d8e2",
   "metadata": {},
   "outputs": [],
   "source": [
    "# Multiplication élément par élément\n",
    "produit = tableau1 * tableau2\n",
    "print(\"Produit t1xt2:\", produit)"
   ]
  },
  {
   "cell_type": "code",
   "execution_count": null,
   "id": "782bffaf",
   "metadata": {},
   "outputs": [],
   "source": [
    "# Opérations mathématiques avec un tableau\n",
    "resultat = np.sqrt(tableau1) + np.sin(tableau2)\n",
    "# sin avec Radian\n",
    "print(\"Résultat sqrt(t1)+sin(t2):\", resultat)"
   ]
  },
  {
   "cell_type": "code",
   "execution_count": null,
   "id": "617a548f",
   "metadata": {},
   "outputs": [],
   "source": [
    "division = tableau1 / 3\n",
    "print(\"t1/3 :\", division)"
   ]
  },
  {
   "cell_type": "markdown",
   "id": "53ebc740",
   "metadata": {},
   "source": [
    "### Opération sur les matrices"
   ]
  },
  {
   "cell_type": "markdown",
   "id": "59703113",
   "metadata": {},
   "source": [
    "Extraire la partie supérieure de la matrice"
   ]
  },
  {
   "cell_type": "code",
   "execution_count": null,
   "id": "390c3474",
   "metadata": {},
   "outputs": [],
   "source": [
    "import numpy as np\n",
    "\n",
    "# Création d'une matrice 4x4 pour illustrer les fonctions triu et tril\n",
    "matrice = np.array([[1, 2, 3, 4],\n",
    "                    [5, 6, 7, 8],\n",
    "                    [9, 10, 11, 12],\n",
    "                    [13, 14, 15, 16]])\n",
    "\n",
    "print(matrice)\n",
    "\n",
    "matrice_triu = np.triu(matrice)\n",
    "\n",
    "print(\"Partie supérieur de la matrice:\",matrice_triu,sep=\"\\n\")"
   ]
  },
  {
   "cell_type": "markdown",
   "id": "00c826df",
   "metadata": {},
   "source": [
    "Extraire la partie inférieure de la matrice"
   ]
  },
  {
   "cell_type": "code",
   "execution_count": null,
   "id": "efb53485",
   "metadata": {},
   "outputs": [],
   "source": [
    "import numpy as np\n",
    "\n",
    "# Création d'une matrice 4x4 pour illustrer les fonctions triu et tril\n",
    "matrice = np.array([[1, 2, 3, 4],\n",
    "                    [5, 6, 7, 8],\n",
    "                    [9, 10, 11, 12],\n",
    "                    [13, 14, 15, 16]])\n",
    "\n",
    "print(matrice)\n",
    "\n",
    "matrice_tril = np.tril(matrice)\n",
    "\n",
    "print(\"Partie inférieur de la matrice:\",matrice_tril,sep=\"\\n\")"
   ]
  },
  {
   "cell_type": "markdown",
   "id": "4476483c",
   "metadata": {},
   "source": [
    "### Indexation et découpage de tableaux NumPy "
   ]
  },
  {
   "cell_type": "code",
   "execution_count": null,
   "id": "2f68fc91",
   "metadata": {},
   "outputs": [],
   "source": [
    "import numpy as np\n",
    "\n",
    "# Créer un tableau\n",
    "tableau = np.array([10, 20, 30, 40, 50, 60, 70, 80, 90])\n",
    "tableau"
   ]
  },
  {
   "cell_type": "code",
   "execution_count": null,
   "id": "9c0655b5",
   "metadata": {},
   "outputs": [],
   "source": [
    "# Accéder à un élément spécifique\n",
    "element = tableau[2]\n",
    "print(\"Élément à l'index 2 :\", element)"
   ]
  },
  {
   "cell_type": "code",
   "execution_count": null,
   "id": "ea94f8a3",
   "metadata": {},
   "outputs": [],
   "source": [
    "# Découper le tableau\n",
    "tab_2_5 = tableau[1:5]\n",
    "print(\"Sous-tableau du deuxième élément au cinquième élément:\", tab_2_5)"
   ]
  },
  {
   "cell_type": "code",
   "execution_count": null,
   "id": "3d7832e2",
   "metadata": {},
   "outputs": [],
   "source": [
    "# Accéder aux 3 premiers éléments\n",
    "tab_3_premier = tableau[:3]\n",
    "print(\"Trois premiers éléments ::\", tab_3_premier)"
   ]
  },
  {
   "cell_type": "code",
   "execution_count": null,
   "id": "01ce7684",
   "metadata": {},
   "outputs": [],
   "source": [
    "# Accéder aux 3 derniers éléments\n",
    "tab_3_dernier = tableau[-3:]\n",
    "print(\"Trois derniers éléments :\", tab_3_dernier)"
   ]
  },
  {
   "cell_type": "markdown",
   "id": "3a2f3079",
   "metadata": {},
   "source": [
    "### Dimensions et formes de tableaux NumPy "
   ]
  },
  {
   "cell_type": "code",
   "execution_count": null,
   "id": "b825d8ba",
   "metadata": {},
   "outputs": [],
   "source": [
    "import numpy as np\n",
    "\n",
    "# Créer un tableau 2D (matrice)\n",
    "matrice = np.array([[1, 2, 3], [4, 5, 6], [7, 8, 9]])\n",
    "print(matrice)\n",
    "\n",
    "# Afficher le nombre de dimensions\n",
    "print(\"Nombre de dimensions :\", matrice.ndim)\n",
    "\n",
    "# Afficher la forme (nombre de lignes et de colonnes)\n",
    "print(\"Forme de la matrice :\", matrice.shape)\n",
    "\n",
    "# Accéder à un élément spécifique dans la matrice\n",
    "element = matrice[1, 2]  # Deuxième ligne, troisième colonne\n",
    "print(\"Élément à la position (1, 2) :\", element)\n"
   ]
  },
  {
   "cell_type": "code",
   "execution_count": null,
   "id": "a83de9b6",
   "metadata": {},
   "outputs": [],
   "source": [
    "import numpy as np\n",
    "tr = np.arange(20)\n",
    "print(\"Notre tableau:\\n\",tr)\n",
    "# array([ 0,  1,  2,  3,  4,  5,  6,  7,  8,  9, 10, 11, 12, 13, 14, 15, 16,\n",
    "#        17, 18, 19])\n",
    "# Réordonne le tableau en une matrice à 4 lignes et 5 colonnes\n",
    "print(\"reshape (4,5):\\n\",tr.reshape(4,5))\n",
    "# Réordonne le tableau en une matrice à 2 lignes et 10 colonnes\n",
    "print(\"reshape (2,10):\\n\",tr.reshape(2,10))\n",
    "# array([[ 0,  1,  2,  3,  4,  5,  6,  7,  8,  9],\n",
    "#        [10, 11, 12, 13, 14, 15, 16, 17, 18, 19]])\n",
    "print(\"reshape (20):\\n\",tr.reshape(20))\n",
    "# array([ 0,  1,  2,  3,  4,  5,  6,  7,  8,  9, 10, 11, 12, 13, 14, 15, 16,\n",
    "#       17, 18, 19])"
   ]
  },
  {
   "cell_type": "markdown",
   "id": "efcfb51b",
   "metadata": {},
   "source": [
    "### Fonctions statistiques avec NumPy "
   ]
  },
  {
   "cell_type": "code",
   "execution_count": null,
   "id": "23ebc71f",
   "metadata": {
    "scrolled": true
   },
   "outputs": [],
   "source": [
    "import numpy as np\n",
    "\n",
    "# Créer un tableau de valeurs aléatoires\n",
    "tableau = np.random.randint(1, 100, size=10)\n",
    "\n",
    "# Afficher le tableau\n",
    "print(\"Tableau :\", tableau)\n",
    "\n",
    "# Calculer la moyenne\n",
    "moyenne = np.mean(tableau)\n",
    "print(\"Moyenne :\", moyenne)\n",
    "\n",
    "# Calculer la somme\n",
    "somme = np.sum(tableau)\n",
    "print(\"Somme :\", somme)\n",
    "\n",
    "# Trouver la valeur maximale et minimale\n",
    "max_value = np.max(tableau)\n",
    "min_value = np.min(tableau)\n",
    "print(\"Valeur maximale :\", max_value)\n",
    "print(\"Valeur minimale :\", min_value)\n"
   ]
  },
  {
   "cell_type": "markdown",
   "id": "80bfc182",
   "metadata": {},
   "source": [
    "# Exercices"
   ]
  },
  {
   "cell_type": "markdown",
   "id": "d2c4ff62",
   "metadata": {},
   "source": [
    "### Opérations sur les tableaux"
   ]
  },
  {
   "cell_type": "markdown",
   "id": "fffd6f64",
   "metadata": {},
   "source": [
    "1. Créez deux tableaux NumPy à une dimension, A et B, contenant respectivement les nombres de 1 à 5 et de 6 à 10.\n",
    "2. Additionnez les deux tableaux A et B.\n",
    "3. Multipliez chaque élément du tableau A par 3."
   ]
  },
  {
   "cell_type": "markdown",
   "id": "4f2f8db5",
   "metadata": {},
   "source": [
    "### Manipulation de tableaux multidimensionnels"
   ]
  },
  {
   "cell_type": "markdown",
   "id": "44f5883b",
   "metadata": {},
   "source": [
    "1. Créez une matrice NumPy 3x3 contenant des nombres entiers de 1 à 9.\n",
    "2. Affichez la somme de chaque colonne.\n",
    "3. Trouvez la valeur minimale et maximale dans la matrice."
   ]
  },
  {
   "cell_type": "markdown",
   "id": "75367fd8",
   "metadata": {},
   "source": [
    "### Indexation et tranchage"
   ]
  },
  {
   "cell_type": "markdown",
   "id": "301d3967",
   "metadata": {},
   "source": [
    "1. Créez un tableau NumPy contenant les carrés des entiers de 0 à 9.\n",
    "2. Affichez les éléments pairs du tableau.\n",
    "3. Créez une sous-matrice 2x2 à partir de la matrice créée à l'exercice précédent, en utilisant l'indexation."
   ]
  }
 ],
 "metadata": {
  "celltoolbar": "Format de la Cellule Texte Brut",
  "kernelspec": {
   "display_name": "Python 3 (ipykernel)",
   "language": "python",
   "name": "python3"
  },
  "language_info": {
   "codemirror_mode": {
    "name": "ipython",
    "version": 3
   },
   "file_extension": ".py",
   "mimetype": "text/x-python",
   "name": "python",
   "nbconvert_exporter": "python",
   "pygments_lexer": "ipython3",
   "version": "3.10.9"
  }
 },
 "nbformat": 4,
 "nbformat_minor": 5
}
