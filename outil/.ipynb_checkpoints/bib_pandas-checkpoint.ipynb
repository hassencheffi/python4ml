{
 "cells": [
  {
   "cell_type": "markdown",
   "id": "03de8873",
   "metadata": {},
   "source": [
    "# Débuter avec la bibliothèque pandas"
   ]
  },
  {
   "cell_type": "markdown",
   "id": "3fde374b",
   "metadata": {},
   "source": [
    "<div style=\"width: 50%; margin: 0 auto;\">\n",
    "    <img src=\"../images/logos/pandas.svg\" alt=\"Pandas\" style=\"width: 100%; height: auto;\">\n",
    "</div>"
   ]
  },
  {
   "cell_type": "markdown",
   "id": "b5b25c0b",
   "metadata": {},
   "source": [
    "## Présentation de la bibliothèque pandas\n",
    "\n",
    "Pandas est une bibliothèque open-source très populaire en Python pour la **manipulation** et l'**analyse des données**. Elle offre des structures de données puissantes et flexibles pour travailler avec des **données tabulaires** et des **séries temporelles**. Deux structures de données principales sont utilisées dans pandas : les \"DataFrames\" et les \"Series\".\n",
    "\n",
    "Les DataFrames sont des tableaux bidimensionnels, similaires à une feuille de calcul ou une table de base de données, où chaque colonne peut contenir des données de différents types (nombres, chaînes de caractères, dates, etc.). Les Series sont des tableaux à une dimension, semblables aux listes ou aux tableaux unidimensionnels en Python, mais avec des fonctionnalités supplémentaires.\n",
    "\n",
    "Pandas offre également des fonctionnalités puissantes pour lire et écrire des données depuis et vers différents formats de fichiers, tels que CSV, Excel, SQL, et bien plus encore. Il est également largement utilisé pour nettoyer, transformer et analyser des données avant de les utiliser pour des tâches de modélisation ou de visualisation."
   ]
  },
  {
   "cell_type": "markdown",
   "id": "992871e5",
   "metadata": {},
   "source": [
    "## Installation de pandas\n",
    "\n",
    "Avant de commencer à utiliser pandas, assurez-vous de l'installer. Vous pouvez le faire en utilisant **pip**, si vous ne l'avez pas déjà installé. Exécutez la commande suivante dans votre terminal ou votre invite de commande :\n",
    "\n",
    "**pip install pandas**"
   ]
  },
  {
   "cell_type": "markdown",
   "id": "baba5b61",
   "metadata": {},
   "source": [
    "## Exemples d'utilisation de pandas en Python"
   ]
  },
  {
   "cell_type": "markdown",
   "id": "7cc71c81",
   "metadata": {},
   "source": [
    "### Créer un DataFrame\n",
    "Pour créer un DataFrame, l'une des manières les plus courantes consiste à utiliser un dictionnaire Python :"
   ]
  },
  {
   "cell_type": "code",
   "execution_count": null,
   "id": "2db99ef7",
   "metadata": {},
   "outputs": [],
   "source": [
    "import pandas as pd\n",
    "data = {\n",
    "    'Nom': ['Ali', 'Mohamed', 'Samir', 'Sofien','khalil','imen','ridha','ahmed','eya','adam'],\n",
    "    'Age': [25, 30, 35, 40,22,13,25,31,18,51],\n",
    "    'Ville': ['Sfax', 'Tunis', 'Gabes', 'Mahdia','Sfax','Mednine','Monsatir','Bizerte','Kef','Gafsa']\n",
    "}\n",
    "\n",
    "df = pd.DataFrame(data)\n",
    "print(df)"
   ]
  },
  {
   "cell_type": "markdown",
   "id": "691ad3b0",
   "metadata": {},
   "source": [
    "### Charger des données à partir d'un fichier\n",
    "\n",
    "Pandas peut également être utilisé pour lire des données à partir de fichiers. Par exemple, pour lire des données à partir d'un fichier CSV :"
   ]
  },
  {
   "cell_type": "code",
   "execution_count": null,
   "id": "5d510c7f",
   "metadata": {},
   "outputs": [],
   "source": [
    "import pandas as pda\n",
    "df = pd.read_csv('test_data.csv')\n",
    "print(df)"
   ]
  },
  {
   "cell_type": "markdown",
   "id": "9dd1d0c9",
   "metadata": {},
   "source": [
    "### Explorer les données\n",
    "\n",
    "Une fois que vous avez un DataFrame, il y a plusieurs opérations que vous pouvez effectuer pour explorer vos données :\n",
    "# head()\n",
    "Lorsque vous appelez la méthode df.head() sur un DataFrame df de pandas, elle affiche les premières lignes du DataFrame par défaut. Par défaut, les cinq premières lignes du DataFrame sont affichées. Si le DataFrame est assez grand, cette méthode vous permet d'obtenir un aperçu rapide des premières données sans afficher tout le DataFrame.\n",
    "\n",
    "# info()\n",
    "Lorsque vous appelez la méthode df.info() sur un DataFrame df de pandas, elle affiche des informations utiles sur le DataFrame, notamment :\n",
    "\n",
    "    Le nombre total de lignes (entrées) dans le DataFrame.\n",
    "    Le nombre total de colonnes dans le DataFrame.\n",
    "    Le nom et le type de données de chaque colonne.\n",
    "    Le nombre de valeurs non nulles dans chaque colonne.\n",
    "    La consommation de mémoire par le DataFrame.\n",
    "\n",
    "# describe()\n",
    "Lorsque vous appelez la méthode df.describe() sur un DataFrame df de pandas, elle affiche des statistiques descriptives pour les colonnes numériques du DataFrame. Les statistiques fournies incluent :\n",
    "\n",
    "    Le compte (count) : Le nombre de valeurs non nulles pour chaque colonne numérique.\n",
    "    La moyenne (mean) : La moyenne arithmétique des valeurs pour chaque colonne numérique.\n",
    "    L'écart type (std) : L'écart type des valeurs pour chaque colonne numérique, qui mesure la dispersion des données par rapport à la moyenne.\n",
    "    La valeur minimale (min) : La valeur minimale pour chaque colonne numérique.\n",
    "    Le premier quartile (25%) : Le premier quartile des valeurs pour chaque colonne numérique, qui représente le point en dessous duquel se situe le quart des données les plus petites.\n",
    "    La médiane (50%) : La médiane des valeurs pour chaque colonne numérique, qui représente la valeur centrale lorsque les données sont triées par ordre croissant.\n",
    "    Le troisième quartile (75%) : Le troisième quartile des valeurs pour chaque colonne numérique, qui représente le point en dessous duquel se situe les trois quarts des données les plus petites.\n",
    "    La valeur maximale (max) : La valeur maximale pour chaque colonne numérique."
   ]
  },
  {
   "cell_type": "code",
   "execution_count": null,
   "id": "bdfda284",
   "metadata": {},
   "outputs": [],
   "source": [
    "# Afficher toutes les lignes du DataFrame\n",
    "df.sort_values(by=\"Moyenne\")\n",
    "print(\"Toutes données:\\n:\",df.sort_values(by=\"Moyenne\"))\n",
    "print(\"-----------------------------------------------------------\")\n",
    "# Afficher les premières lignes du DataFrame\n",
    "print(\"df.head():\\n:\",df.head())\n",
    "print(\"-----------------------------------------------------------\")\n",
    "# Afficher les dernières lignes du DataFrame\n",
    "print(\"df.tail():\\n:\",df.tail())\n",
    "print(\"-----------------------------------------------------------\")\n",
    "# Afficher les informations sur les colonnes et les types de données\n",
    "print(\"df.info():\\n:\",df.info())\n",
    "print(\"-----------------------------------------------------------\")\n",
    "# Effectuer des statistiques descriptives sur les colonnes numériques\n",
    "print(\"df.describe():\\n:\",df.describe())\n"
   ]
  },
  {
   "cell_type": "markdown",
   "id": "5bfe2e51",
   "metadata": {},
   "source": [
    "## Sélectionner des données\n",
    "\n",
    "Vous pouvez sélectionner des colonnes spécifiques ou des lignes en utilisant des opérations de découpage :"
   ]
  },
  {
   "cell_type": "code",
   "execution_count": null,
   "id": "e82d078e",
   "metadata": {},
   "outputs": [],
   "source": [
    "# Sélectionner une colonne spécifique\n",
    "print(\"La liste des noms:\")\n",
    "print(df['Nom'])"
   ]
  },
  {
   "cell_type": "code",
   "execution_count": null,
   "id": "38f151da",
   "metadata": {},
   "outputs": [],
   "source": [
    "# Sélectionner plusieurs colonnes\n",
    "print(\"La colonne nom et moyenne:\")\n",
    "print(df[['Nom', 'Moyenne']])"
   ]
  },
  {
   "cell_type": "code",
   "execution_count": null,
   "id": "200de46b",
   "metadata": {},
   "outputs": [],
   "source": [
    "# Sélectionner une ligne spécifique\n",
    "print(\"La ligne 2:\")\n",
    "print(df.iloc[2])"
   ]
  },
  {
   "cell_type": "code",
   "execution_count": null,
   "id": "5cd4927d",
   "metadata": {},
   "outputs": [],
   "source": [
    "# Sélectionner des lignes en utilisant des conditions\n",
    "print(\"Les lignes dont la moyenne est >15\")\n",
    "print(df[df['Moyenne'] > 15])"
   ]
  },
  {
   "cell_type": "code",
   "execution_count": null,
   "id": "0a1a9f51",
   "metadata": {},
   "outputs": [],
   "source": [
    "# Sélectionner des lignes en utilisant des conditions\n",
    "print(\"Les lignes dont la moyenne est <16 pour la ville 'Sfax'\")\n",
    "print(df[(df['Moyenne'] < 16)&(df['Ville'] == 'Sfax')])"
   ]
  },
  {
   "cell_type": "code",
   "execution_count": null,
   "id": "57a2799d",
   "metadata": {},
   "outputs": [],
   "source": [
    "# Sélectionner des lignes dont la moyenne est null\n",
    "print(\"Les lignes dont la moyenne est nulle\")\n",
    "print(df[df['Moyenne'].isna()])"
   ]
  },
  {
   "cell_type": "code",
   "execution_count": null,
   "id": "607dc0b6",
   "metadata": {},
   "outputs": [],
   "source": [
    "# Sélectionner des lignes qui contiennent une valeur nulle\n",
    "print(\"Les lignes qui contiennent une valeur nulle\")\n",
    "print(df[df.isna().any(axis=1)])"
   ]
  },
  {
   "cell_type": "markdown",
   "id": "1d23a0a7",
   "metadata": {},
   "source": [
    "## Supprimer colonne, ligne"
   ]
  },
  {
   "cell_type": "markdown",
   "id": "5024a44d",
   "metadata": {},
   "source": [
    "![drop](./images/drop.jpg)"
   ]
  },
  {
   "cell_type": "markdown",
   "id": "125d64f0",
   "metadata": {},
   "source": [
    "Supprimer une ligne"
   ]
  },
  {
   "cell_type": "code",
   "execution_count": null,
   "id": "4994f61b",
   "metadata": {},
   "outputs": [],
   "source": [
    "import pandas as pd\n",
    "df = pd.read_csv('test_data.csv')\n",
    "print(\"Les données d'orgine:\")\n",
    "print(df)\n",
    "print(\"------------------------------------\")\n",
    "df = df.drop(1)\n",
    "print(df)"
   ]
  },
  {
   "cell_type": "markdown",
   "id": "641c2a6b",
   "metadata": {},
   "source": [
    "Supprimer plusieurs lignes"
   ]
  },
  {
   "cell_type": "code",
   "execution_count": null,
   "id": "38ffd1bf",
   "metadata": {},
   "outputs": [],
   "source": [
    "import pandas as pd\n",
    "df = pd.read_csv('test_data.csv')\n",
    "print(\"Les données d'orgine:\")\n",
    "print(df)\n",
    "print(\"------------------------------------\")\n",
    "df = df.drop(labels=[1,5,10])\n",
    "print(df)"
   ]
  },
  {
   "cell_type": "code",
   "execution_count": null,
   "id": "74aec369",
   "metadata": {},
   "outputs": [],
   "source": [
    "Supprimer des colonnes"
   ]
  },
  {
   "cell_type": "code",
   "execution_count": null,
   "id": "3bdae802",
   "metadata": {},
   "outputs": [],
   "source": [
    "import pandas as pd\n",
    "df = pd.read_csv('test_data.csv')\n",
    "print(\"Les données d'orgine:\")\n",
    "print(df)\n",
    "print(\"------------------------------------\")\n",
    "df = df.drop(labels=[\"Moyenne\",\"Ville\"],axis=1)\n",
    "print(df)"
   ]
  },
  {
   "cell_type": "markdown",
   "id": "da60b05a",
   "metadata": {},
   "source": [
    "## Manipuler les données\n",
    "\n",
    "Nous allons essayer de remplacer la valeur manquante de la colonne \"Moyenne\" par trois méthodes différentes :"
   ]
  },
  {
   "cell_type": "markdown",
   "id": "a90b325b",
   "metadata": {},
   "source": [
    "### En supprimant les lignes des valeurs manquantes"
   ]
  },
  {
   "cell_type": "code",
   "execution_count": null,
   "id": "c44e3a13",
   "metadata": {},
   "outputs": [],
   "source": [
    "import pandas as pd\n",
    "df = pd.read_csv('test_data.csv')\n",
    "print(\"Les données d'orgine:\")\n",
    "print(df)\n",
    "df = df.dropna()\n",
    "print(df)"
   ]
  },
  {
   "cell_type": "markdown",
   "id": "4c5f1ca7",
   "metadata": {},
   "source": [
    "Vous observez que les index des lignes contenant une valeur manquante ont été supprimés. Il est nécessaire de régénérer les index pour garantir que les indexes soient continus, ordonnés"
   ]
  },
  {
   "cell_type": "code",
   "execution_count": null,
   "id": "099c1fd5",
   "metadata": {},
   "outputs": [],
   "source": [
    "df.reset_index(drop=True, inplace=True)\n",
    "print(df)"
   ]
  },
  {
   "cell_type": "markdown",
   "id": "985f6441",
   "metadata": {},
   "source": [
    "### En utilisant la moyenne générale de la colonne \"Moyenne\" "
   ]
  },
  {
   "cell_type": "code",
   "execution_count": null,
   "id": "4f6b997b",
   "metadata": {},
   "outputs": [],
   "source": [
    "import pandas as pda\n",
    "df = pd.read_csv('test_data.csv')\n",
    "print(\"Les données d'orgine:\")\n",
    "print(df)\n",
    "moyenne = df['Moyenne'].mean()\n",
    "print(\"La moyenne:\",moyenne)\n",
    "df['Moyenne'].fillna(moyenne, inplace=True)\n",
    "print(df)"
   ]
  },
  {
   "cell_type": "markdown",
   "id": "2abe9798",
   "metadata": {},
   "source": [
    "### En utilisant la moyenne de la colonne \"Moyenne\" de la ville sfax"
   ]
  },
  {
   "cell_type": "code",
   "execution_count": null,
   "id": "d46be77c",
   "metadata": {},
   "outputs": [],
   "source": [
    "import pandas as pda\n",
    "df = pd.read_csv('test_data.csv')\n",
    "print(\"Les données d'orgine:\")\n",
    "print(df)\n",
    "print(\"Ligne qui correspondent à la ville sfax:\")\n",
    "print(df[df[\"Ville\"]=='Sfax'])\n",
    "moyenne_sfax = df[df['Ville'] == 'Sfax']['Moyenne'].mean()\n",
    "\n",
    "print(\"La moyenne de la ville sfax:\",moyenne_sfax)\n",
    "df['Moyenne'].fillna(moyenne_sfax, inplace=True)\n",
    "print(df)"
   ]
  },
  {
   "cell_type": "markdown",
   "id": "4f912bc5",
   "metadata": {},
   "source": [
    "## Groupement et agrégation des données"
   ]
  },
  {
   "cell_type": "code",
   "execution_count": 15,
   "id": "ada22aaa",
   "metadata": {},
   "outputs": [],
   "source": [
    "import pandas as pd\n",
    "\n",
    "# Créer le DataFrame à partir des données fournies\n",
    "data = {\n",
    "    'Nom': ['Ali', 'Mohamed', 'Samir', 'Ridha', 'Sofien', 'Mariem', 'Majdi', 'Mohsen', 'Saif', 'Hanen', 'Sami', 'Saida'],\n",
    "    'Moyenne': [16.50, 13.40, 14.00, None, 12.00, 15.5, 13.5, 11, 15.00, 15.20, 14.00, 13.50],\n",
    "    'Ville': ['Sfax', 'Tunis', 'Gabes', 'Sfax', 'Mahdia', 'Sfax', 'Gabes', 'Gabes', 'Sfax', 'Tunis', 'Mahdia', 'Tunis']\n",
    "}\n",
    "df = pd.DataFrame(data)"
   ]
  },
  {
   "cell_type": "markdown",
   "id": "1d0804cf",
   "metadata": {},
   "source": [
    "Liste des villes"
   ]
  },
  {
   "cell_type": "code",
   "execution_count": null,
   "id": "66f0a639",
   "metadata": {},
   "outputs": [],
   "source": [
    "df[\"Ville\"].unique()"
   ]
  },
  {
   "cell_type": "markdown",
   "id": "8bdf60f9",
   "metadata": {},
   "source": [
    "Nombre d'étudiant par ville"
   ]
  },
  {
   "cell_type": "code",
   "execution_count": 17,
   "id": "9db59f66",
   "metadata": {},
   "outputs": [
    {
     "data": {
      "text/plain": [
       "Ville\n",
       "Gabes     3\n",
       "Mahdia    2\n",
       "Sfax      4\n",
       "Tunis     3\n",
       "Name: Nom, dtype: int64"
      ]
     },
     "execution_count": 17,
     "metadata": {},
     "output_type": "execute_result"
    }
   ],
   "source": [
    "df.groupby('Ville')['Nom'].count()"
   ]
  },
  {
   "cell_type": "markdown",
   "id": "19002b12",
   "metadata": {},
   "source": [
    "Moyenne par ville"
   ]
  },
  {
   "cell_type": "code",
   "execution_count": 18,
   "id": "e2904776",
   "metadata": {},
   "outputs": [
    {
     "data": {
      "text/plain": [
       "Ville\n",
       "Gabes     12.833333\n",
       "Mahdia    13.000000\n",
       "Sfax      15.666667\n",
       "Tunis     14.033333\n",
       "Name: Moyenne, dtype: float64"
      ]
     },
     "execution_count": 18,
     "metadata": {},
     "output_type": "execute_result"
    }
   ],
   "source": [
    "df.groupby('Ville')['Moyenne'].mean()"
   ]
  },
  {
   "cell_type": "code",
   "execution_count": null,
   "id": "0022464f",
   "metadata": {},
   "outputs": [],
   "source": [
    "# Afficher le DataFrame initial\n",
    "print(\"DataFrame initial:\")\n",
    "print(df)\n",
    "print()\n",
    "\n",
    "# Grouper les données par la colonne \"Ville\" et calculer la moyenne de chaque groupe\n",
    "groupe_par_ville = df.groupby('Ville')\n",
    "moyenne_par_ville = groupe_par_ville['Moyenne'].mean()\n",
    "\n",
    "# Afficher les moyennes par ville\n",
    "print(\"Moyenne des Moyennes par ville:\")\n",
    "print(moyenne_par_ville)\n",
    "print()\n",
    "\n",
    "# Grouper les données par la colonne \"Ville\" et compter le nombre d'étudiants dans chaque groupe\n",
    "nombre_etudiants_par_ville = groupe_par_ville['Nom'].count()\n",
    "\n",
    "# Afficher le nombre d'étudiants par ville\n",
    "print(\"Nombre d'étudiants par ville:\")\n",
    "print(nombre_etudiants_par_ville)"
   ]
  },
  {
   "cell_type": "markdown",
   "id": "cb1d1cd8",
   "metadata": {},
   "source": [
    "Pour plus d'information **[Site pandas](https://pandas.pydata.org/docs/user_guide/index.html)**"
   ]
  },
  {
   "cell_type": "markdown",
   "id": "1416c8ec",
   "metadata": {},
   "source": [
    "### "
   ]
  }
 ],
 "metadata": {
  "kernelspec": {
   "display_name": "Python 3 (ipykernel)",
   "language": "python",
   "name": "python3"
  },
  "language_info": {
   "codemirror_mode": {
    "name": "ipython",
    "version": 3
   },
   "file_extension": ".py",
   "mimetype": "text/x-python",
   "name": "python",
   "nbconvert_exporter": "python",
   "pygments_lexer": "ipython3",
   "version": "3.10.9"
  }
 },
 "nbformat": 4,
 "nbformat_minor": 5
}
