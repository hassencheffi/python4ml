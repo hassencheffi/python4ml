{
 "cells": [
  {
   "cell_type": "code",
   "execution_count": 3,
   "id": "ce2f30e0",
   "metadata": {},
   "outputs": [
    {
     "name": "stdout",
     "output_type": "stream",
     "text": [
      "fichié généré avec succès!\n"
     ]
    }
   ],
   "source": [
    "import csv\n",
    "import random\n",
    "from datetime import datetime, timedelta\n",
    "\n",
    "# ... (définition des catégories et produits)\n",
    "\n",
    "# Génération des données pour chaque jour\n",
    "start_date = datetime(2016, 1, 1)\n",
    "end_date = datetime(2022, 12, 31)\n",
    "date_range = [start_date + timedelta(days=i) for i in range((end_date - start_date).days + 1)]\n",
    "\n",
    "with open('ventes.csv', 'w', newline='', encoding='utf-8') as csvfile:\n",
    "    fieldnames = ['Date', 'Produit', 'Catégorie', 'Prix HT']\n",
    "    writer = csv.DictWriter(csvfile, fieldnames=fieldnames)\n",
    "    writer.writeheader()\n",
    "\n",
    "    for date in date_range:\n",
    "        num_sales = random.randint(3, 11)\n",
    "        for _ in range(num_sales):\n",
    "            produit = random.choice(produits)\n",
    "            categorie = random.choice(categories)\n",
    "            prix_ht = round(random.uniform(5, 500), 2)\n",
    "            writer.writerow({\n",
    "                'Date': date.strftime('%Y-%m-%d'),\n",
    "                'Produit': produit,\n",
    "                'Catégorie': categorie,\n",
    "                'Prix HT': prix_ht\n",
    "            })\n",
    "\n",
    "print(\"fichié généré avec succès!\")"
   ]
  },
  {
   "cell_type": "code",
   "execution_count": null,
   "id": "87545ffe",
   "metadata": {},
   "outputs": [],
   "source": []
  }
 ],
 "metadata": {
  "kernelspec": {
   "display_name": "Python 3 (ipykernel)",
   "language": "python",
   "name": "python3"
  },
  "language_info": {
   "codemirror_mode": {
    "name": "ipython",
    "version": 3
   },
   "file_extension": ".py",
   "mimetype": "text/x-python",
   "name": "python",
   "nbconvert_exporter": "python",
   "pygments_lexer": "ipython3",
   "version": "3.10.9"
  }
 },
 "nbformat": 4,
 "nbformat_minor": 5
}
