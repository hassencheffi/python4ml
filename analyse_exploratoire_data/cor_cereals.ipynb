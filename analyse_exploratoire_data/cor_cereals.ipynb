{
 "cells": [
  {
   "cell_type": "markdown",
   "id": "91a11467",
   "metadata": {},
   "source": [
    "# Exemple Céreals"
   ]
  },
  {
   "cell_type": "markdown",
   "id": "44d1638e",
   "metadata": {},
   "source": [
    "# 1. Importer les bibliothèques requises."
   ]
  },
  {
   "cell_type": "markdown",
   "id": "244d65f1",
   "metadata": {},
   "source": [
    "Pour mener à bien notre exploration et manipulation de données, nous importerons les bibliothèques essentielles. **Pandas** nous permettra de manipuler les données de manière tabulaire, **NumPy** facilitera les calculs, tandis que **Matplotlib** et **Seaborn** nous aideront à créer des visualisations informatives incluant des courbes et des graphiques."
   ]
  },
  {
   "cell_type": "code",
   "execution_count": null,
   "id": "8a37b347",
   "metadata": {},
   "outputs": [],
   "source": [
    "import numpy as np\n",
    "import pandas as pd\n",
    "import seaborn as sns\n",
    "import matplotlib.pyplot as plt"
   ]
  },
  {
   "cell_type": "markdown",
   "id": "82baee27",
   "metadata": {},
   "source": [
    "# 2. Chargement et visualisation des données "
   ]
  },
  {
   "cell_type": "markdown",
   "id": "b4109a26",
   "metadata": {},
   "source": [
    "Chargez les Données dans un DataFrame Pandas à partir du fichier \"cereals.csv\"."
   ]
  },
  {
   "cell_type": "code",
   "execution_count": null,
   "id": "25253b39",
   "metadata": {
    "scrolled": false
   },
   "outputs": [],
   "source": [
    "data = pd.read_csv(\"cereals.csv\")\n",
    "data"
   ]
  },
  {
   "cell_type": "markdown",
   "id": "a79c321d",
   "metadata": {},
   "source": [
    "Afficher un aperçu des premières lignes du jeu de données."
   ]
  },
  {
   "cell_type": "code",
   "execution_count": null,
   "id": "91c50dd9",
   "metadata": {
    "scrolled": true
   },
   "outputs": [],
   "source": []
  },
  {
   "cell_type": "markdown",
   "id": "3aec9960",
   "metadata": {},
   "source": [
    "Obtenez des Informations sur les Données. Utilisez une méthode pour afficher un résumé des informations sur les données, incluant le nombre de valeurs non nulles et le type de données de chaque colonne."
   ]
  },
  {
   "cell_type": "code",
   "execution_count": null,
   "id": "892bb2ef",
   "metadata": {
    "scrolled": false
   },
   "outputs": [],
   "source": []
  },
  {
   "cell_type": "markdown",
   "id": "e8dabb0f",
   "metadata": {},
   "source": [
    "Générez des Statistiques Descriptives. Générez des statistiques descriptives (moyenne, médiane, écart-type, etc.) pour chaque colonne numérique."
   ]
  },
  {
   "cell_type": "code",
   "execution_count": null,
   "id": "fdd83064",
   "metadata": {},
   "outputs": [],
   "source": []
  },
  {
   "cell_type": "markdown",
   "id": "ae6976e5",
   "metadata": {},
   "source": [
    "Quel est le nombre total de lignes dans ce jeu de données ?"
   ]
  },
  {
   "cell_type": "code",
   "execution_count": null,
   "id": "2aee5ef8",
   "metadata": {},
   "outputs": [],
   "source": []
  },
  {
   "cell_type": "markdown",
   "id": "32ebb6a8",
   "metadata": {},
   "source": [
    "Quel est le nombre de Fabricant (Manufacturer)?"
   ]
  },
  {
   "cell_type": "code",
   "execution_count": null,
   "id": "7e6c11ef",
   "metadata": {},
   "outputs": [],
   "source": []
  },
  {
   "cell_type": "markdown",
   "id": "f9c7f818",
   "metadata": {},
   "source": [
    "Donner la liste de ces fabriquant?"
   ]
  },
  {
   "cell_type": "code",
   "execution_count": null,
   "id": "79aeaea5",
   "metadata": {},
   "outputs": [],
   "source": []
  },
  {
   "cell_type": "markdown",
   "id": "9e093d9f",
   "metadata": {},
   "source": [
    "Donner la somme des calories pas fabriquant."
   ]
  },
  {
   "cell_type": "code",
   "execution_count": null,
   "id": "5585f933",
   "metadata": {},
   "outputs": [],
   "source": []
  },
  {
   "cell_type": "markdown",
   "id": "e329fd5e",
   "metadata": {},
   "source": [
    "Afficher un graphique en barre représentant les calories par fabriquant"
   ]
  },
  {
   "cell_type": "code",
   "execution_count": null,
   "id": "7c0b80f8",
   "metadata": {},
   "outputs": [],
   "source": []
  },
  {
   "cell_type": "markdown",
   "id": "040f56a0",
   "metadata": {},
   "source": [
    "## 3. Nettoyage et Préparation des Données"
   ]
  },
  {
   "cell_type": "markdown",
   "id": "ffdb6f7a",
   "metadata": {},
   "source": [
    "Vérifiez s'il y a des valeurs manquantes. Si c'est le cas, remplacez-les par la moyenne."
   ]
  },
  {
   "cell_type": "code",
   "execution_count": null,
   "id": "a95916fc",
   "metadata": {},
   "outputs": [],
   "source": []
  },
  {
   "cell_type": "markdown",
   "id": "83bc2ee4",
   "metadata": {},
   "source": [
    "Vérifiez s'il y a des valeurs aberrante. Si c'est le cas, remplacez-les par la moyenne."
   ]
  },
  {
   "cell_type": "code",
   "execution_count": null,
   "id": "7cc67d7c",
   "metadata": {},
   "outputs": [],
   "source": []
  },
  {
   "cell_type": "markdown",
   "id": "80a8a1f5",
   "metadata": {},
   "source": [
    "Calculez la Corrélation entre les Caractéristiques"
   ]
  },
  {
   "cell_type": "code",
   "execution_count": null,
   "id": "6a06e750",
   "metadata": {},
   "outputs": [],
   "source": []
  },
  {
   "cell_type": "markdown",
   "id": "a99a403d",
   "metadata": {},
   "source": [
    "Encodez les Variables Catégoriques"
   ]
  },
  {
   "cell_type": "code",
   "execution_count": null,
   "id": "790f5502",
   "metadata": {},
   "outputs": [],
   "source": []
  },
  {
   "cell_type": "markdown",
   "id": "f35f4606",
   "metadata": {},
   "source": [
    "Normalisez les colonnes numériques pour que les données soient sur une échelle comparable."
   ]
  },
  {
   "cell_type": "code",
   "execution_count": null,
   "id": "d8f4b13c",
   "metadata": {},
   "outputs": [],
   "source": []
  },
  {
   "cell_type": "markdown",
   "id": "2840fb56",
   "metadata": {},
   "source": [
    "## 4. Préparation des Données pour le Machine Learning"
   ]
  },
  {
   "cell_type": "markdown",
   "id": "349b5144",
   "metadata": {},
   "source": [
    "Créez des Jeux de Données d'Entraînement et de Test"
   ]
  },
  {
   "cell_type": "code",
   "execution_count": null,
   "id": "ae35d667",
   "metadata": {},
   "outputs": [],
   "source": []
  }
 ],
 "metadata": {
  "kernelspec": {
   "display_name": "Python 3 (ipykernel)",
   "language": "python",
   "name": "python3"
  },
  "language_info": {
   "codemirror_mode": {
    "name": "ipython",
    "version": 3
   },
   "file_extension": ".py",
   "mimetype": "text/x-python",
   "name": "python",
   "nbconvert_exporter": "python",
   "pygments_lexer": "ipython3",
   "version": "3.10.9"
  }
 },
 "nbformat": 4,
 "nbformat_minor": 5
}
