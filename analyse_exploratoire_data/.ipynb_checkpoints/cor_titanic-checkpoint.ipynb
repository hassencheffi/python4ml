{
 "cells": [
  {
   "cell_type": "markdown",
   "id": "684b0020",
   "metadata": {},
   "source": [
    "# Exemple Titanic"
   ]
  },
  {
   "cell_type": "markdown",
   "id": "98889358",
   "metadata": {},
   "source": [
    "Pour mener à bien notre exploration et manipulation de données, nous importerons les bibliothèques essentielles. Pandas nous permettra de manipuler les données de manière tabulaire, NumPy facilitera les calculs, tandis que Matplotlib et Seaborn nous aideront à créer des visualisations informatives incluant des courbes et des graphiques."
   ]
  },
  {
   "cell_type": "markdown",
   "id": "4104c6c2",
   "metadata": {},
   "source": [
    "# 1. Importer les bibliothèques requises."
   ]
  },
  {
   "cell_type": "code",
   "execution_count": null,
   "id": "cc26c37d",
   "metadata": {},
   "outputs": [],
   "source": [
    "import numpy as np\n",
    "import pandas as pd\n",
    "import seaborn as sns\n",
    "import matplotlib.pyplot as plt"
   ]
  },
  {
   "cell_type": "markdown",
   "id": "f5c92d15",
   "metadata": {},
   "source": [
    "# 2. Chargement et visualisation des données "
   ]
  },
  {
   "cell_type": "markdown",
   "id": "8f9fe970",
   "metadata": {},
   "source": [
    "Charger les données dans un DataFrame Pandas à partir du fichier \"ventes.csv\"."
   ]
  },
  {
   "cell_type": "code",
   "execution_count": null,
   "id": "156eb974",
   "metadata": {},
   "outputs": [],
   "source": [
    "df= pd.read_csv(\"titanic.csv\")\n",
    "df.describe()"
   ]
  },
  {
   "cell_type": "markdown",
   "id": "bbe1cec3",
   "metadata": {},
   "source": [
    "Afficher un aperçu des premières lignes du jeu de données."
   ]
  },
  {
   "cell_type": "code",
   "execution_count": null,
   "id": "cc3b26c2",
   "metadata": {},
   "outputs": [],
   "source": [
    "df.head()"
   ]
  },
  {
   "cell_type": "code",
   "execution_count": null,
   "id": "c5665b9f",
   "metadata": {},
   "outputs": [],
   "source": [
    "Afficher la matrice de corrélation"
   ]
  },
  {
   "cell_type": "code",
   "execution_count": null,
   "id": "bb4d580e",
   "metadata": {},
   "outputs": [],
   "source": [
    "correlation_matrix = df.corr()\n",
    "\n",
    "# Affichage de la heatmap de la matrice de corrélation\n",
    "plt.figure(figsize=(8, 6))\n",
    "sns.heatmap(correlation_matrix, annot=True, cmap='coolwarm', center=0)\n",
    "plt.title(\"Matrice de Corrélation\")\n",
    "plt.tight_layout()\n",
    "\n",
    "# Affichage de la heatmap\n",
    "plt.show()"
   ]
  },
  {
   "cell_type": "markdown",
   "id": "b282988e",
   "metadata": {},
   "source": [
    "Afficher les lignes qui contiennent des valeurs null"
   ]
  },
  {
   "cell_type": "code",
   "execution_count": null,
   "id": "151c9907",
   "metadata": {},
   "outputs": [],
   "source": [
    "df[df.isna().any(axis=1)]"
   ]
  },
  {
   "cell_type": "markdown",
   "id": "54c02662",
   "metadata": {},
   "source": [
    "Mettez à jour les valeurs \"Embarked\" nulles avec la valeur \"S\"."
   ]
  },
  {
   "cell_type": "code",
   "execution_count": null,
   "id": "7eb8f8d4",
   "metadata": {},
   "outputs": [],
   "source": [
    "df[\"Embarked\"].fillna(\"S\",inplace=True)"
   ]
  },
  {
   "cell_type": "markdown",
   "id": "6ebf843d",
   "metadata": {},
   "source": [
    "Mettez à jour les valeurs \"Age\" nulles avec les médianes correspondantes."
   ]
  },
  {
   "cell_type": "code",
   "execution_count": null,
   "id": "652fad3e",
   "metadata": {},
   "outputs": [],
   "source": [
    "df[\"Age\"].fillna(df[\"Age\"].median(),inplace=True)"
   ]
  },
  {
   "cell_type": "markdown",
   "id": "88ea1795",
   "metadata": {},
   "source": [
    "Mettez à jour les valeurs \"Cabin\" nulles avec la valeur \"C85\" pour les lignes dont \"Embarked=C\" et \"C123\" si non. Ensuite, réaffichez les valeurs nulles pour vérification."
   ]
  },
  {
   "cell_type": "code",
   "execution_count": null,
   "id": "6898481b",
   "metadata": {},
   "outputs": [],
   "source": [
    "df.loc[df['Embarked'] == 'C', 'Cabin'] = df.loc[df['Embarked'] == 'C', 'Cabin'].fillna('C85')\n",
    "df.loc[df['Embarked'] != 'C', 'Cabin'] = df.loc[df['Embarked'] != 'C', 'Cabin'].fillna('C123')"
   ]
  },
  {
   "cell_type": "markdown",
   "id": "035c53b7",
   "metadata": {},
   "source": [
    "Réaffichez les valeurs nulles pour vérification."
   ]
  },
  {
   "cell_type": "code",
   "execution_count": null,
   "id": "e54fb5fb",
   "metadata": {},
   "outputs": [],
   "source": [
    "df[df.isna().any(axis=1)]"
   ]
  },
  {
   "cell_type": "markdown",
   "id": "81a00acf",
   "metadata": {},
   "source": [
    "Afficher un graphique représentant le nombre de survivant par sexe"
   ]
  },
  {
   "cell_type": "code",
   "execution_count": null,
   "id": "043d17b8",
   "metadata": {},
   "outputs": [],
   "source": [
    "nb_survivant_par_sexe=df.groupby(\"Sex\")[\"Survived\"].sum()\n",
    "print(nb_survivant_par_sexe)\n",
    "plt.figure(figsize=(10, 6))\n",
    "nb_survivant_par_sexe.plot(kind=\"bar\")\n",
    "plt.title(\"Nombre de survivant par sexe\")\n",
    "plt.xlabel(\"Sexe\")\n",
    "plt.ylabel(\"Nombre de survivant\")\n",
    "plt.tight_layout()"
   ]
  },
  {
   "cell_type": "code",
   "execution_count": null,
   "id": "ebdf05f1",
   "metadata": {},
   "outputs": [],
   "source": []
  }
 ],
 "metadata": {
  "kernelspec": {
   "display_name": "Python 3 (ipykernel)",
   "language": "python",
   "name": "python3"
  },
  "language_info": {
   "codemirror_mode": {
    "name": "ipython",
    "version": 3
   },
   "file_extension": ".py",
   "mimetype": "text/x-python",
   "name": "python",
   "nbconvert_exporter": "python",
   "pygments_lexer": "ipython3",
   "version": "3.10.9"
  }
 },
 "nbformat": 4,
 "nbformat_minor": 5
}
