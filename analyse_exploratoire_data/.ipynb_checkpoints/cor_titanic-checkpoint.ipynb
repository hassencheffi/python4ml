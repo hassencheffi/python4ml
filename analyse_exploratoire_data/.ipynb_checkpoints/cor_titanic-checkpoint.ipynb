{
 "cells": [
  {
   "cell_type": "markdown",
   "id": "684b0020",
   "metadata": {},
   "source": [
    "# Exemple Titanic"
   ]
  },
  {
   "cell_type": "markdown",
   "id": "98889358",
   "metadata": {},
   "source": [
    "Pour mener à bien notre exploration et manipulation de données, nous importerons les bibliothèques essentielles. Pandas nous permettra de manipuler les données de manière tabulaire, NumPy facilitera les calculs, tandis que Matplotlib et Seaborn nous aideront à créer des visualisations informatives incluant des courbes et des graphiques."
   ]
  },
  {
   "cell_type": "markdown",
   "id": "4104c6c2",
   "metadata": {},
   "source": [
    "# 1. Importer les bibliothèques requises."
   ]
  },
  {
   "cell_type": "code",
   "execution_count": null,
   "id": "cc26c37d",
   "metadata": {},
   "outputs": [],
   "source": [
    "import numpy as np\n",
    "import pandas as pd\n",
    "import seaborn as sns\n",
    "import matplotlib.pyplot as plt"
   ]
  },
  {
   "cell_type": "markdown",
   "id": "f5c92d15",
   "metadata": {},
   "source": [
    "# 2. Chargement et visualisation des données "
   ]
  },
  {
   "cell_type": "markdown",
   "id": "8f9fe970",
   "metadata": {},
   "source": [
    "Charger les données dans un DataFrame Pandas à partir du fichier \"titanic.csv\"."
   ]
  },
  {
   "cell_type": "code",
   "execution_count": null,
   "id": "156eb974",
   "metadata": {},
   "outputs": [],
   "source": []
  },
  {
   "cell_type": "markdown",
   "id": "bbe1cec3",
   "metadata": {},
   "source": [
    "Afficher un aperçu des premières lignes du jeu de données."
   ]
  },
  {
   "cell_type": "code",
   "execution_count": null,
   "id": "cc3b26c2",
   "metadata": {},
   "outputs": [],
   "source": []
  },
  {
   "cell_type": "markdown",
   "id": "97817440",
   "metadata": {},
   "source": [
    "Obtenez des Informations sur les Données. Utilisez une méthode pour afficher un résumé des informations sur les données, incluant le nombre de valeurs non nulles et le type de données de chaque colonne."
   ]
  },
  {
   "cell_type": "code",
   "execution_count": null,
   "id": "6a96b2f7",
   "metadata": {},
   "outputs": [],
   "source": []
  },
  {
   "cell_type": "markdown",
   "id": "9dd08b76",
   "metadata": {},
   "source": [
    "Quel est le nombre total de lignes dans ce jeu de données ?"
   ]
  },
  {
   "cell_type": "code",
   "execution_count": null,
   "id": "1f788b8c",
   "metadata": {},
   "outputs": [],
   "source": []
  },
  {
   "cell_type": "markdown",
   "id": "f942252c",
   "metadata": {},
   "source": [
    "Quel est le nombre total de passager?"
   ]
  },
  {
   "cell_type": "code",
   "execution_count": null,
   "id": "a675e2c0",
   "metadata": {},
   "outputs": [],
   "source": []
  },
  {
   "cell_type": "markdown",
   "id": "b282988e",
   "metadata": {},
   "source": [
    "Quel est le nombre de passager par classe?"
   ]
  },
  {
   "cell_type": "code",
   "execution_count": null,
   "id": "98a0a186",
   "metadata": {},
   "outputs": [],
   "source": []
  },
  {
   "cell_type": "markdown",
   "id": "f3671b0b",
   "metadata": {},
   "source": [
    "Affichez un graphique de nombre de passager par classe"
   ]
  },
  {
   "cell_type": "code",
   "execution_count": null,
   "id": "c2ea6366",
   "metadata": {},
   "outputs": [],
   "source": []
  },
  {
   "cell_type": "markdown",
   "id": "54c02662",
   "metadata": {},
   "source": [
    "## 3. Nettoyage et Préparation des Données"
   ]
  },
  {
   "cell_type": "markdown",
   "id": "205221cb",
   "metadata": {},
   "source": [
    "Vérifiez s'il y a des valeurs manquantes. Si c'est le cas, remplacez-les par la moyenne."
   ]
  },
  {
   "cell_type": "code",
   "execution_count": null,
   "id": "63fa5f68",
   "metadata": {},
   "outputs": [],
   "source": []
  },
  {
   "cell_type": "markdown",
   "id": "a915a4be",
   "metadata": {},
   "source": [
    "Vérifiez s'il y a des valeurs aberrante. Si c'est le cas, remplacez-les par la moyenne."
   ]
  },
  {
   "cell_type": "code",
   "execution_count": null,
   "id": "2bfbf1e1",
   "metadata": {},
   "outputs": [],
   "source": []
  },
  {
   "cell_type": "markdown",
   "id": "51c84016",
   "metadata": {},
   "source": [
    "Calculez la Corrélation entre les Caractéristiques"
   ]
  },
  {
   "cell_type": "code",
   "execution_count": null,
   "id": "2441efd0",
   "metadata": {},
   "outputs": [],
   "source": []
  },
  {
   "cell_type": "markdown",
   "id": "6d6be964",
   "metadata": {},
   "source": [
    "Encodez les Variables Catégoriques"
   ]
  },
  {
   "cell_type": "code",
   "execution_count": null,
   "id": "a0577c5a",
   "metadata": {},
   "outputs": [],
   "source": []
  },
  {
   "cell_type": "markdown",
   "id": "6ebf843d",
   "metadata": {},
   "source": [
    "Normalisez les colonnes numériques pour que les données soient sur une échelle comparable."
   ]
  },
  {
   "cell_type": "code",
   "execution_count": null,
   "id": "d43c6fed",
   "metadata": {},
   "outputs": [],
   "source": []
  },
  {
   "cell_type": "markdown",
   "id": "a03d3f45",
   "metadata": {},
   "source": [
    "## 4. Préparation des Données pour le Machine Learning"
   ]
  },
  {
   "cell_type": "markdown",
   "id": "88ea1795",
   "metadata": {},
   "source": [
    "Créez des Jeux de Données d'Entraînement et de Test"
   ]
  },
  {
   "cell_type": "code",
   "execution_count": null,
   "id": "f24385af",
   "metadata": {},
   "outputs": [],
   "source": []
  }
 ],
 "metadata": {
  "kernelspec": {
   "display_name": "Python 3 (ipykernel)",
   "language": "python",
   "name": "python3"
  },
  "language_info": {
   "codemirror_mode": {
    "name": "ipython",
    "version": 3
   },
   "file_extension": ".py",
   "mimetype": "text/x-python",
   "name": "python",
   "nbconvert_exporter": "python",
   "pygments_lexer": "ipython3",
   "version": "3.10.9"
  }
 },
 "nbformat": 4,
 "nbformat_minor": 5
}
