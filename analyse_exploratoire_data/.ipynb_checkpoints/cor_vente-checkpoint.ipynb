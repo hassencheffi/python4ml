{
 "cells": [
  {
   "cell_type": "markdown",
   "id": "8780cc4a",
   "metadata": {},
   "source": [
    "# Exemple Chiffre d'affaire vente"
   ]
  },
  {
   "cell_type": "markdown",
   "id": "c748e8fd",
   "metadata": {},
   "source": [
    "Pour mener à bien notre exploration et manipulation de données, nous importerons les bibliothèques essentielles. Pandas nous permettra de manipuler les données de manière tabulaire, NumPy facilitera les calculs, tandis que Matplotlib et Seaborn nous aideront à créer des visualisations informatives incluant des courbes et des graphiques."
   ]
  },
  {
   "cell_type": "markdown",
   "id": "7021a6c4",
   "metadata": {},
   "source": [
    "# 1. Importer les bibliothèques requises."
   ]
  },
  {
   "cell_type": "code",
   "execution_count": null,
   "id": "c124ffed",
   "metadata": {},
   "outputs": [],
   "source": [
    "import numpy as np\n",
    "import pandas as pd\n",
    "import seaborn as sns\n",
    "import matplotlib.pyplot as plt"
   ]
  },
  {
   "cell_type": "markdown",
   "id": "420fcc48",
   "metadata": {},
   "source": [
    "# 2. Chargement et visualisation des données "
   ]
  },
  {
   "cell_type": "markdown",
   "id": "ac09a2dd",
   "metadata": {},
   "source": [
    "Charger les données dans un DataFrame Pandas à partir du fichier \"ventes.csv\"."
   ]
  },
  {
   "cell_type": "code",
   "execution_count": null,
   "id": "fb787108",
   "metadata": {},
   "outputs": [],
   "source": [
    "df= pd.read_csv(\"ventes.csv\")\n",
    "df"
   ]
  },
  {
   "cell_type": "markdown",
   "id": "d4b714f8",
   "metadata": {},
   "source": [
    "Afficher un aperçu des premières lignes du jeu de données."
   ]
  },
  {
   "cell_type": "code",
   "execution_count": null,
   "id": "81fd6731",
   "metadata": {},
   "outputs": [],
   "source": [
    "df.head()"
   ]
  },
  {
   "cell_type": "markdown",
   "id": "85a493e8",
   "metadata": {},
   "source": [
    "Afficher la liste des produits"
   ]
  },
  {
   "cell_type": "code",
   "execution_count": null,
   "id": "a10bea64",
   "metadata": {},
   "outputs": [],
   "source": [
    "df[\"Produit\"].unique()"
   ]
  },
  {
   "cell_type": "markdown",
   "id": "9fc8d8fe",
   "metadata": {},
   "source": [
    "Afficher la liste des catégories de produits"
   ]
  },
  {
   "cell_type": "code",
   "execution_count": null,
   "id": "4209012c",
   "metadata": {},
   "outputs": [],
   "source": [
    "df[\"Catégorie\"].unique()"
   ]
  },
  {
   "cell_type": "markdown",
   "id": "5320154c",
   "metadata": {},
   "source": [
    "Convertir la première colonne \"Date\" en format date"
   ]
  },
  {
   "cell_type": "code",
   "execution_count": null,
   "id": "41048542",
   "metadata": {},
   "outputs": [],
   "source": [
    "df['Date'] = pd.to_datetime(df['Date'])"
   ]
  },
  {
   "cell_type": "markdown",
   "id": "18a2c7c6",
   "metadata": {},
   "source": [
    "Afficher le chiffre d'affaire par année de chaque article par un graphique en ligne"
   ]
  },
  {
   "cell_type": "code",
   "execution_count": null,
   "id": "342804e6",
   "metadata": {},
   "outputs": [],
   "source": [
    "ca_article_annee = df.groupby([df['Date'].dt.year,\"Produit\"])[\"Prix HT\"].sum().reset_index()\n",
    "print(ca_article_annee)"
   ]
  },
  {
   "cell_type": "code",
   "execution_count": null,
   "id": "c8387bfc",
   "metadata": {},
   "outputs": [],
   "source": [
    "plt.figure(figsize=(10, 6))\n",
    "pivot_df = ca_article_annee.pivot(index='Date', columns='Produit', values='Prix HT')\n",
    "pivot_df.plot(kind='line')\n",
    "plt.title(\"Évolution du Prix HT par article par années\")\n",
    "plt.xlabel(\"Année\")\n",
    "plt.ylabel(\"Total Prix HT\")\n",
    "plt.legend(title=\"Produit\")\n",
    "plt.tight_layout()"
   ]
  },
  {
   "cell_type": "markdown",
   "id": "fc5a5e4a",
   "metadata": {},
   "source": [
    "Afficher l'évolution du chiffre d'affaire total par années par un graphique en bar"
   ]
  },
  {
   "cell_type": "code",
   "execution_count": null,
   "id": "5130ad71",
   "metadata": {},
   "outputs": [],
   "source": [
    "ca_par_annee= df.groupby(df[\"Date\"].dt.year)[\"Prix HT\"].sum()\n",
    "print(ca_par_annee)\n",
    "\n",
    "plt.figure(figsize=(10, 6))\n",
    "ca_par_annee.plot(x=\"Date\",y=\"Prix HT\",kind='bar')\n",
    "plt.title(\"Évolution du Prix HT par années\")\n",
    "plt.xlabel(\"Année\")\n",
    "plt.ylabel(\"Total Prix HT\")\n",
    "plt.tight_layout()"
   ]
  },
  {
   "cell_type": "code",
   "execution_count": null,
   "id": "b5db8126",
   "metadata": {},
   "outputs": [],
   "source": []
  },
  {
   "cell_type": "code",
   "execution_count": null,
   "id": "d408e970",
   "metadata": {},
   "outputs": [],
   "source": []
  }
 ],
 "metadata": {
  "kernelspec": {
   "display_name": "Python 3 (ipykernel)",
   "language": "python",
   "name": "python3"
  },
  "language_info": {
   "codemirror_mode": {
    "name": "ipython",
    "version": 3
   },
   "file_extension": ".py",
   "mimetype": "text/x-python",
   "name": "python",
   "nbconvert_exporter": "python",
   "pygments_lexer": "ipython3",
   "version": "3.10.9"
  }
 },
 "nbformat": 4,
 "nbformat_minor": 5
}
