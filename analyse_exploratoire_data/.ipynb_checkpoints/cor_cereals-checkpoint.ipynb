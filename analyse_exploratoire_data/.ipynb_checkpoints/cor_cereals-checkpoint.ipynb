{
 "cells": [
  {
   "cell_type": "markdown",
   "id": "91a11467",
   "metadata": {},
   "source": [
    "# Exemple Céreals"
   ]
  },
  {
   "cell_type": "markdown",
   "id": "44d1638e",
   "metadata": {},
   "source": [
    "# 1. Importer les bibliothèques requises."
   ]
  },
  {
   "cell_type": "markdown",
   "id": "244d65f1",
   "metadata": {},
   "source": [
    "Pour mener à bien notre exploration et manipulation de données, nous importerons les bibliothèques essentielles. **Pandas** nous permettra de manipuler les données de manière tabulaire, **NumPy** facilitera les calculs, tandis que **Matplotlib** et **Seaborn** nous aideront à créer des visualisations informatives incluant des courbes et des graphiques."
   ]
  },
  {
   "cell_type": "code",
   "execution_count": null,
   "id": "8a37b347",
   "metadata": {},
   "outputs": [],
   "source": [
    "import numpy as np\n",
    "import pandas as pd\n",
    "import seaborn as sns\n",
    "import matplotlib.pyplot as plt"
   ]
  },
  {
   "cell_type": "markdown",
   "id": "82baee27",
   "metadata": {},
   "source": [
    "# 2. Chargement et visualisation des données "
   ]
  },
  {
   "cell_type": "markdown",
   "id": "b4109a26",
   "metadata": {},
   "source": [
    "Charger les données dans un DataFrame Pandas à partir du fichier \"cereals.csv\"."
   ]
  },
  {
   "cell_type": "code",
   "execution_count": null,
   "id": "25253b39",
   "metadata": {},
   "outputs": [],
   "source": [
    "df= pd.read_csv(\"cereals.csv\")\n",
    "df"
   ]
  },
  {
   "cell_type": "markdown",
   "id": "a79c321d",
   "metadata": {},
   "source": [
    "Afficher un aperçu des premières lignes du jeu de données."
   ]
  },
  {
   "cell_type": "code",
   "execution_count": null,
   "id": "91c50dd9",
   "metadata": {},
   "outputs": [],
   "source": [
    "df.head()"
   ]
  },
  {
   "cell_type": "markdown",
   "id": "ae6976e5",
   "metadata": {},
   "source": [
    "Quel est le nombre total de lignes dans ce jeu de données ?"
   ]
  },
  {
   "cell_type": "code",
   "execution_count": null,
   "id": "ad5b2780",
   "metadata": {},
   "outputs": [],
   "source": [
    "df.shape[0]"
   ]
  },
  {
   "cell_type": "markdown",
   "id": "32ebb6a8",
   "metadata": {},
   "source": [
    "Quel est le nombre de Fabricant (Manufacturer)?"
   ]
  },
  {
   "cell_type": "code",
   "execution_count": null,
   "id": "36728d7b",
   "metadata": {},
   "outputs": [],
   "source": [
    "len(df[\"Manufacturer\"].unique())"
   ]
  },
  {
   "cell_type": "markdown",
   "id": "f9c7f818",
   "metadata": {},
   "source": [
    "Donner la liste de ces fabriquant?"
   ]
  },
  {
   "cell_type": "code",
   "execution_count": null,
   "id": "ab692c13",
   "metadata": {},
   "outputs": [],
   "source": [
    "df[\"Manufacturer\"].unique()"
   ]
  },
  {
   "cell_type": "markdown",
   "id": "9e093d9f",
   "metadata": {},
   "source": [
    "Donner la somme des calories pas fabriquant."
   ]
  },
  {
   "cell_type": "code",
   "execution_count": null,
   "id": "5330eace",
   "metadata": {},
   "outputs": [],
   "source": [
    "cal_by_man=df.groupby([\"Manufacturer\"])[\"Calories\"].sum()\n",
    "cal_by_man\n"
   ]
  },
  {
   "cell_type": "markdown",
   "id": "e329fd5e",
   "metadata": {},
   "source": [
    "Afficher un graphique en barre représentant les calories par fabriquant"
   ]
  },
  {
   "cell_type": "code",
   "execution_count": null,
   "id": "248c8d5b",
   "metadata": {
    "scrolled": false
   },
   "outputs": [],
   "source": [
    "cal_by_man.plot.bar(x='Manufacturer', y='Calories',title=\"Nombre de calories par Fabriquant\")"
   ]
  },
  {
   "cell_type": "code",
   "execution_count": null,
   "id": "0763fa07",
   "metadata": {},
   "outputs": [],
   "source": []
  }
 ],
 "metadata": {
  "kernelspec": {
   "display_name": "Python 3 (ipykernel)",
   "language": "python",
   "name": "python3"
  },
  "language_info": {
   "codemirror_mode": {
    "name": "ipython",
    "version": 3
   },
   "file_extension": ".py",
   "mimetype": "text/x-python",
   "name": "python",
   "nbconvert_exporter": "python",
   "pygments_lexer": "ipython3",
   "version": "3.10.9"
  }
 },
 "nbformat": 4,
 "nbformat_minor": 5
}
