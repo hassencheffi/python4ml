{
 "cells": [
  {
   "cell_type": "markdown",
   "id": "34445323",
   "metadata": {
    "slideshow": {
     "slide_type": "-"
    }
   },
   "source": [
    "<div style=\"width: 80%; margin: 0 auto;background-color:#C7C7C7;width: 100%;height: 125px; margin-top:10px;background-image: url('./images/machine_learning.png');background-size: 20% auto;background-position: right; background-repeat: no-repeat;padding: 10px 0px 0px 10px;\">\n",
    "    <h1 style=\"text-shadow: 3px 3px 2px black, 0 0 1em white, 0 0 0.1em blue;color: yellow;\">Formation python pour le machine learning</h1>\n",
    "    <h6>Réalisée Hassen CHEFFI</h6>\n",
    "</div>\n"
   ]
  },
  {
   "cell_type": "markdown",
   "id": "5d082ca1",
   "metadata": {},
   "source": [
    "## 1. Introduction à Python et à l'écosystème du machine learning"
   ]
  },
  {
   "cell_type": "markdown",
   "id": "c41abc15",
   "metadata": {},
   "source": [
    "1. Présentation de Python : syntaxe de base, types de données, structures de contrôle. [<sup>[Notebook]</sup>](./base_python/index.ipynb)\n",
    "2. Calculs numériques avec Numpy [<sup>[Notebook]</sup>](./outil/bib_numpy.ipynb)\n",
    "3. Manipulation et analyse de données avec Pandas [<sup>[Notebook]</sup>](./outil/bib_pandas.ipynb)\n",
    "4. Visualisation de données avec Matplotlib [<sup>[Notebook]</sup>](./outil/bib_matplotlib.ipynb)\n",
    "5. Visualisation de données avec Seaborn [<sup>[Notebook]</sup>](./outil/bib_seaborn.ipynb)"
   ]
  },
  {
   "cell_type": "markdown",
   "id": "2b1a3ad7",
   "metadata": {},
   "source": [
    "## 2. Nettoyage des Données"
   ]
  },
  {
   "cell_type": "markdown",
   "id": "2c195bee",
   "metadata": {},
   "source": [
    "1. Gestion des valeurs aberrantes [<sup>[Notebook]</sup>](./nettoyage_donnees/valeur_aberrante.ipynb)\n",
    "2. Gestion des valeurs manquantes [<sup>[Notebook]</sup>](./nettoyage_donnees/valeur_manquante.ipynb)\n",
    "3. Mise à l'échelle des caractéristiques [<sup>[Notebook]</sup>](./nettoyage_donnees/mise_a_echelle.ipynb)"
   ]
  },
  {
   "cell_type": "markdown",
   "id": "b4a26fb1",
   "metadata": {},
   "source": [
    "## 3. Manipulation et visualisation de données\n",
    "Dans la section à suivre, nous entreprendrons une analyse exploratoire des données afin d'obtenir un aperçu approfondi de notre jeu de données. Pour ce faire, nous nous appuierons sur une sélection d'exemples représentatifs qui illustreront les différents aspects et tendances présentes dans nos données. Ces exemples choisis nous permettront de mettre en évidence des relations potentielles, des schémas récurrents et des variations significatives, jetant ainsi les bases d'une compréhension approfondie de notre ensemble de données.\n",
    "\n",
    "Vous aurez accès à des ensembles de données de test. Pour chaque jeu de données, vous trouverez à disposition un Notebook d'exercices ainsi qu'un Notebook de correction. Ces ressources seront mises à votre disposition pour vous permettre d'interagir avec les données de manière pratique à travers le cahier d'exercices, et ensuite de vérifier vos démarches et d'approfondir votre compréhension en consultant le cahier de correction.\n",
    "\n",
    "1. Jeu de données \"céreals\" [<sup>[Notebook]</sup>](./analyse_exploratoire_data/cor_cereals.ipynb)\n",
    "2. Jeu de données \"ventes\" [<sup>[Notebook]</sup>](./analyse_exploratoire_data/cor_vente.ipynb)\n",
    "3. Jeu de données \"titanic\" [<sup>[Notebook]</sup>](./analyse_exploratoire_data/cor_titanic.ipynb)\n"
   ]
  },
  {
   "cell_type": "markdown",
   "id": "4db47b99",
   "metadata": {},
   "source": [
    "## 4. Tensorflow\n",
    "\n",
    "1. Modélisation simple d'une fonction $f(x)=2x$ [<sup>[Notebook]</sup>](./tensorflow/first_step/learn_linear_func.ipynb)\n",
    "2. Modelisation de fonction logique $OR$, $AND$, $XOR$ [<sup>[Notebook]</sup>](./tensorflow/first_step/or_gate.ipynb)\n",
    "3. Classification des chiffres manuscrits du jeu de données $MNIST$ [<sup>[Notebook]</sup>](./tensorflow/classification/mnist_classification.ipynb)\n",
    "4. Classification des chiffres manuscrits du jeu de données $MNIST$ avec $CNN$ [<sup>[Notebook]</sup>](./tensorflow/classification/mnist_CNN_classification.ipynb)\n"
   ]
  }
 ],
 "metadata": {
  "celltoolbar": "Format de la Cellule Texte Brut",
  "kernelspec": {
   "display_name": "Python 3 (ipykernel)",
   "language": "python",
   "name": "python3"
  },
  "language_info": {
   "codemirror_mode": {
    "name": "ipython",
    "version": 3
   },
   "file_extension": ".py",
   "mimetype": "text/x-python",
   "name": "python",
   "nbconvert_exporter": "python",
   "pygments_lexer": "ipython3",
   "version": "3.10.9"
  }
 },
 "nbformat": 4,
 "nbformat_minor": 5
}
