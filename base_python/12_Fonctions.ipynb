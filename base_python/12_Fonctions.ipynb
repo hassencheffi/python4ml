{
 "cells": [
  {
   "cell_type": "markdown",
   "id": "9f4da4b3",
   "metadata": {},
   "source": [
    "# 12. Les fonctions"
   ]
  },
  {
   "cell_type": "markdown",
   "id": "2b07c1a9",
   "metadata": {},
   "source": [
    "## 12.1 Définition"
   ]
  },
  {
   "cell_type": "markdown",
   "id": "1af0c514",
   "metadata": {},
   "source": [
    "Pour définir une fonction, Python utilise le mot-clé **``def``**. Si on souhaite que la fonction renvoie quelque chose, il faut utiliser le mot-clé **``return``**. Par exemple :"
   ]
  },
  {
   "cell_type": "code",
   "execution_count": null,
   "id": "2b8619b7",
   "metadata": {},
   "outputs": [],
   "source": [
    "def carre(x):\n",
    "    return x**2\n",
    "\n",
    "carre(2)"
   ]
  },
  {
   "cell_type": "markdown",
   "id": "6807c32f",
   "metadata": {},
   "source": [
    "Notez que la syntaxe de **``def``** utilise les deux-points comme les boucles **``for``** et while ainsi que les tests **``if``**, un bloc d’instructions est donc attendu. De même que pour les boucles et les tests, l'**``indentation``** de ce bloc d'instructions (qu'on appelle le corps de la fonction) est **obligatoire**."
   ]
  },
  {
   "cell_type": "markdown",
   "id": "67a3656a",
   "metadata": {},
   "source": [
    "## 12.2 Passage d'arguments"
   ]
  },
  {
   "cell_type": "markdown",
   "id": "825c0bd4",
   "metadata": {},
   "source": [
    "Le nombre d'arguments que l'on peut passer à une fonction est variable. Nous avons vu ci-dessus des fonctions auxquelles on passait 0 ou 1 argument. Dans les chapitres précédents, vous avez rencontré des fonctions internes à Python qui prenaient au moins 2 arguments. Souvenez-vous par exemple de **``range(1, 10)``** ou encore **``range(1, 10, 2)``**. Le nombre d'argument est donc laissé libre à l'initiative du programmeur qui développe une nouvelle fonction."
   ]
  },
  {
   "cell_type": "markdown",
   "id": "4c99ee2d",
   "metadata": {},
   "source": [
    "Une particularité des fonctions en Python est que vous n'êtes pas obligé de préciser le type des arguments que vous lui passez, dès lors que les opérations que vous effectuez avec ces arguments sont valides. Python est en effet connu comme étant un langage au « typage dynamique », c'est-à-dire qu'il reconnaît pour vous le type des variables au moment de l'exécution. Par exemple :"
   ]
  },
  {
   "cell_type": "code",
   "execution_count": null,
   "id": "778d96e8",
   "metadata": {},
   "outputs": [],
   "source": [
    "def fois(x, y):\n",
    "    return x*y"
   ]
  },
  {
   "cell_type": "code",
   "execution_count": null,
   "id": "84bb8622",
   "metadata": {},
   "outputs": [],
   "source": [
    "fois(2, 3)"
   ]
  },
  {
   "cell_type": "code",
   "execution_count": null,
   "id": "e43c4233",
   "metadata": {},
   "outputs": [],
   "source": [
    "fois(3.1415, 5.23)"
   ]
  },
  {
   "cell_type": "code",
   "execution_count": null,
   "id": "a844af3a",
   "metadata": {},
   "outputs": [],
   "source": [
    "fois([1,2],2)"
   ]
  },
  {
   "cell_type": "code",
   "execution_count": null,
   "id": "1e1d5078",
   "metadata": {},
   "outputs": [],
   "source": [
    "fois(\"salut\",2)"
   ]
  },
  {
   "cell_type": "markdown",
   "id": "650156ec",
   "metadata": {},
   "source": [
    "## 12.3 Renvoi de résultats"
   ]
  },
  {
   "cell_type": "markdown",
   "id": "84483a50",
   "metadata": {},
   "source": [
    "Un énorme avantage en Python est que les fonctions sont capables de renvoyer plusieurs objets à la fois, comme dans cette fraction de code :"
   ]
  },
  {
   "cell_type": "code",
   "execution_count": null,
   "id": "cf129dbe",
   "metadata": {},
   "outputs": [],
   "source": [
    "def carre_cube(x):\n",
    "    return x**2, x**3\n",
    "\n",
    "carre_cube(2)"
   ]
  },
  {
   "cell_type": "code",
   "execution_count": null,
   "id": "c517f418",
   "metadata": {},
   "outputs": [],
   "source": [
    "vcarre, vcube = carre_cube(2)\n",
    "print(vcarre,vcube)"
   ]
  },
  {
   "cell_type": "markdown",
   "id": "3a36dd6f",
   "metadata": {},
   "source": [
    "## 12.4 Arguments positionnels et arguments par mot-clé"
   ]
  },
  {
   "cell_type": "markdown",
   "id": "ea4b28d8",
   "metadata": {},
   "source": [
    "Jusqu'à maintenant, nous avons systématiquement passé le nombre d'arguments que la fonction attendait. Que se passe-t-il si une fonction attend deux arguments et que nous ne lui en passons qu'un seul ?"
   ]
  },
  {
   "cell_type": "code",
   "execution_count": null,
   "id": "ee45b9b0",
   "metadata": {},
   "outputs": [],
   "source": [
    "def fois(x=5, y=1):\n",
    "    return x*y\n",
    "\n",
    "print()\n",
    "print(fois(y=2,x=12))"
   ]
  },
  {
   "cell_type": "code",
   "execution_count": null,
   "id": "6710112e",
   "metadata": {},
   "outputs": [],
   "source": [
    "fois(2, 3)"
   ]
  },
  {
   "cell_type": "code",
   "execution_count": null,
   "id": "f5670cb8",
   "metadata": {},
   "outputs": [],
   "source": [
    "fois(2)"
   ]
  },
  {
   "cell_type": "markdown",
   "id": "76f70048",
   "metadata": {},
   "source": [
    "On constate que passer un seul argument à une fonction qui en attend deux conduit à une erreur."
   ]
  },
  {
   "cell_type": "markdown",
   "id": "cb7084c0",
   "metadata": {},
   "source": [
    "Mais il est aussi possible de passer un ou plusieurs argument(s) de manière **facultative** et de leur attribuer une valeur par défaut :"
   ]
  },
  {
   "cell_type": "code",
   "execution_count": null,
   "id": "f042b7bc",
   "metadata": {},
   "outputs": [],
   "source": [
    "def fct(x=1):\n",
    "    return x"
   ]
  },
  {
   "cell_type": "code",
   "execution_count": null,
   "id": "0d6d38b4",
   "metadata": {},
   "outputs": [],
   "source": [
    "fct(10)"
   ]
  },
  {
   "cell_type": "code",
   "execution_count": null,
   "id": "878403f2",
   "metadata": {},
   "outputs": [],
   "source": [
    "fct()"
   ]
  },
  {
   "cell_type": "markdown",
   "id": "061e87d1",
   "metadata": {},
   "source": [
    "Il est bien sûr possible de passer plusieurs arguments par mot-clé :"
   ]
  },
  {
   "cell_type": "code",
   "execution_count": null,
   "id": "cd532c6b",
   "metadata": {},
   "outputs": [],
   "source": [
    "def fct(x=0, y=0, z=0):\n",
    "    return x, y, z"
   ]
  },
  {
   "cell_type": "code",
   "execution_count": null,
   "id": "75bcbccb",
   "metadata": {},
   "outputs": [],
   "source": [
    "fct()"
   ]
  },
  {
   "cell_type": "code",
   "execution_count": null,
   "id": "531cb053",
   "metadata": {},
   "outputs": [],
   "source": [
    "fct(10, 8)"
   ]
  },
  {
   "cell_type": "markdown",
   "id": "d86210db",
   "metadata": {},
   "source": [
    "On observe que pour l'instant, les arguments par mot-clé sont pris dans l'ordre dans lesquels on les passe lors de l'appel. Comment pourrions-nous faire si on souhaitait préciser l'argument par mot-clé $z$ et garder les valeurs de $x$ et $y$ par défaut ? Simplement en précisant le nom de l'argument lors de l'appel :"
   ]
  },
  {
   "cell_type": "code",
   "execution_count": null,
   "id": "a8506453",
   "metadata": {},
   "outputs": [],
   "source": [
    "fct(z=10)"
   ]
  },
  {
   "cell_type": "code",
   "execution_count": null,
   "id": "92ef8d7d",
   "metadata": {},
   "outputs": [],
   "source": [
    "fct(z=10, x=3, y=80)"
   ]
  },
  {
   "cell_type": "markdown",
   "id": "933be20c",
   "metadata": {},
   "source": [
    "## 12.5. fonction lambda"
   ]
  },
  {
   "cell_type": "markdown",
   "id": "6f88fdba",
   "metadata": {},
   "source": [
    "En Python, une fonction lambda est une petite fonction anonyme, c'est-à-dire une fonction sans nom. Elle est définie par le mot-clé lambda, suivi de ses arguments, suivi d'un deux-points **``:``**, et enfin de l'expression qui constitue le corps de la fonction. Les fonctions lambda peuvent avoir n'importe quel nombre d'arguments, mais ne peuvent contenir qu'une seule expression. Elles sont souvent utilisées pour des opérations nécessitant une fonction pour une courte période de temps, là où définir une fonction complète avec **``def``** serait trop lourd.\n",
    "\n",
    "Les fonctions lambda sont rapides à écrire et peuvent rendre le code plus clair et plus concis lorsque vous avez besoin d'une petite fonction.\n",
    "Elles sont très pratiques dans les opérations qui requièrent une fonction simple passée en argument à une autre fonction, comme **``map()``**, **``filter()``**, et **``sorted()``**."
   ]
  },
  {
   "cell_type": "markdown",
   "id": "24e0e635",
   "metadata": {},
   "source": [
    "#### Syntaxe de base"
   ]
  },
  {
   "cell_type": "markdown",
   "id": "d9412a55",
   "metadata": {},
   "source": [
    "**``lambda arguments : expression``**"
   ]
  },
  {
   "cell_type": "markdown",
   "id": "967b1277",
   "metadata": {},
   "source": [
    "#### Exemples"
   ]
  },
  {
   "cell_type": "code",
   "execution_count": null,
   "id": "04368132",
   "metadata": {},
   "outputs": [],
   "source": [
    "def add(x,y):\n",
    "    return x+y\n",
    "\n",
    "add = lambda x, y: x + y\n",
    "print(add(5, 3))"
   ]
  },
  {
   "cell_type": "markdown",
   "id": "071d2dd0",
   "metadata": {},
   "source": [
    "# Exercices"
   ]
  },
  {
   "cell_type": "markdown",
   "id": "1ba39aea",
   "metadata": {},
   "source": [
    "### Fonction factorielle"
   ]
  },
  {
   "cell_type": "markdown",
   "id": "6b884990",
   "metadata": {},
   "source": [
    "Créez une fonction **``factorielle(n)``** qui prend un entier en paramètre et retourne sa factorielle. Pensez à utiliser **``raise Exception()``** pour générer une erreur si le nombre saisi n'est pas un entier."
   ]
  },
  {
   "cell_type": "markdown",
   "id": "47b4a181",
   "metadata": {},
   "source": [
    "### Nombres premiers"
   ]
  },
  {
   "cell_type": "markdown",
   "id": "0633e9f9",
   "metadata": {},
   "source": [
    "Créez une fonction **``est_premier()``** qui prend comme argument un nombre entier positif $n$ et qui renvoie le booléen **``True``** si $n$ est premier et **``False``** si $n$ n'est pas premier. Déterminez tous les nombres premiers de 2 à 100. "
   ]
  },
  {
   "cell_type": "markdown",
   "id": "4a1312c8",
   "metadata": {},
   "source": [
    "### Distance 3D"
   ]
  },
  {
   "cell_type": "markdown",
   "id": "38c56187",
   "metadata": {},
   "source": [
    "Créez une fonction **``calc_distance_3D(pointA, PointB)``** qui calcule la distance euclidienne en trois dimensions entre deux points. Testez votre fonction sur les 2points $A\\left(0,0,0\\right)$ et $B\\left(1,1,1\\right)$ est bien $\\sqrt{3}$.\n",
    "\n",
    "On rappelle que la distance euclidienne d entre deux points $A$ et $B$ de coordonnées cartésiennes respectives $\\left(x_{A},y_{A},z_{A}\\right)$ et $\\left(x_{B},y_{B},z_{B}\\right)$\n",
    "\n",
    "se calcule comme suit :\n",
    "\n",
    "<center>$d=\\sqrt{\\left(x_{A}-x_{B}\\right)^{2}+\\left(y_{A}-y_{B}\\right)^{2}+\\left(z_{A}-z_{B}\\right)^{2}}$</center>\n"
   ]
  },
  {
   "cell_type": "markdown",
   "id": "52234346",
   "metadata": {},
   "source": [
    "### Calcul du PGCD"
   ]
  },
  {
   "cell_type": "markdown",
   "id": "02063424",
   "metadata": {},
   "source": [
    "Écrire une fonction en Python qui prend deux entiers en entrée et retourne leur Plus Grand Commun Diviseur ($PGCD$).\n",
    "\n",
    "Le $PGCD$ de deux nombres entiers, $a$ et $b$, est le plus grand nombre entier positif qui divise à la fois $a$ et $b$.\n",
    "\n",
    "Utilisez votre fonction pour calculer le $PGCD$ des deux nombres saisis par l'utilisateur.\n",
    "\n",
    "Exemple: $PGCD(21,49) = 7$\n",
    "\n",
    "#### Contraintes :\n",
    "\n",
    "* Les nombres saisis par l'utilisateur peuvent être positifs ou négatifs.\n",
    "* Vous devez gérer le cas où l'un des nombres est égal à zéro. Le $PGCD$ de 0 et d'un autre nombre est toujours le nombre non nul.\n",
    "\n",
    "#### Conseils :\n",
    "Vous pouvez utiliser l'algorithme d'Euclide pour calculer le $PGCD$ de deux nombres.\n",
    "\n",
    "Voici une description de l'algorithme d'Euclide :\n",
    "\n",
    "1. Soit $a$ et $b$ les deux nombres dont vous souhaitez calculer le $PGCD$.\n",
    "2. Effectuez la division entière de $a$ par $b$, et appelez $r$ le reste.\n",
    "3. Si $r$ est égal à zéro, alors $b$ est le $PGCD(a,b)$.\n",
    "4. Sinon, répétez le processus en remplaçant $a$ par $b$ et $b$ par $r$, puis retournez à l'étape 2."
   ]
  },
  {
   "cell_type": "code",
   "execution_count": null,
   "id": "fdf951a3",
   "metadata": {},
   "outputs": [],
   "source": []
  },
  {
   "cell_type": "markdown",
   "id": "5dc95cb0",
   "metadata": {},
   "source": [
    "### Calcul du PPCM"
   ]
  },
  {
   "cell_type": "markdown",
   "id": "887555a2",
   "metadata": {},
   "source": [
    "Écrire une fonction en Python qui prend deux entiers en entrée et retourne leur Plus Petit Commun Multiple ($PPCM$).\n",
    "\n",
    "Le PPCM de deux nombres entiers, $a$ et $b$, est le plus petit nombre entier positif divisible à la fois par $a$ et $b$.\n",
    "\n",
    "Utilisez votre fonction pour calculer le $PPCM$ des deux nombres saisis par l'utilisateur.\n",
    "\n",
    "#### Contraintes :\n",
    "* Les nombres saisis par l'utilisateur peuvent être positifs ou négatifs.\n",
    "* Vous devez gérer le cas où l'un des nombres est égal à zéro. Le $PPCM$ de 0 et d'un autre nombre est toujours 0.\n",
    "\n",
    "#### Conseils :\n",
    "\n",
    "    Vous pouvez utiliser la relation:\n",
    "<center>$PPCM(a,b)=\\frac{|a.b|}{PGCD(a,b)}$</center>\n",
    "    où $PGCD$ est le Plus Grand Commun Diviseur.\n",
    "   \n"
   ]
  }
 ],
 "metadata": {
  "kernelspec": {
   "display_name": "Python 3 (ipykernel)",
   "language": "python",
   "name": "python3"
  },
  "language_info": {
   "codemirror_mode": {
    "name": "ipython",
    "version": 3
   },
   "file_extension": ".py",
   "mimetype": "text/x-python",
   "name": "python",
   "nbconvert_exporter": "python",
   "pygments_lexer": "ipython3",
   "version": "3.10.9"
  }
 },
 "nbformat": 4,
 "nbformat_minor": 5
}
