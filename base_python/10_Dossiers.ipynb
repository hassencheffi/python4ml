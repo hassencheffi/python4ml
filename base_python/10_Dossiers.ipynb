{
 "cells": [
  {
   "cell_type": "markdown",
   "id": "4e14093e",
   "metadata": {},
   "source": [
    "# 10. Les dossiers"
   ]
  },
  {
   "cell_type": "markdown",
   "id": "ddd24476",
   "metadata": {},
   "source": [
    "## 10.1 La fonction listdir()"
   ]
  },
  {
   "cell_type": "markdown",
   "id": "d9c04291",
   "metadata": {},
   "source": [
    "Avec python il est possible d'obtenir une liste de l'ensemble des fichiers situés dans un répertoire donné en utilsant **os.listdir()**. La fonction **os.listdir()** retourne une liste des fichiers et des répertoires situés dans le répertoire cible. Pour avoir uniquement les fichiers il suffit d'appliquer un simple filtre en utililant **isfile()**"
   ]
  },
  {
   "cell_type": "code",
   "execution_count": 3,
   "id": "4b828ebb",
   "metadata": {},
   "outputs": [
    {
     "name": "stdout",
     "output_type": "stream",
     "text": [
      "['dossier1', 'dossier2', 'notes.txt', 'zoo.txt', 'zoo2.txt']\n"
     ]
    }
   ],
   "source": [
    "import os\n",
    "list = os.listdir('./datas')\n",
    "print(list)"
   ]
  },
  {
   "cell_type": "code",
   "execution_count": 8,
   "id": "d5788136",
   "metadata": {},
   "outputs": [
    {
     "name": "stdout",
     "output_type": "stream",
     "text": [
      "['notes.txt', 'zoo.txt', 'zoo2.txt']\n"
     ]
    }
   ],
   "source": [
    "import os\n",
    "FichList = [ f for f in os.listdir('./datas') if os.path.isfile(os.path.join('./datas',f)) ]\n",
    "print(FichList)"
   ]
  },
  {
   "cell_type": "code",
   "execution_count": 15,
   "id": "5e3dcdb0",
   "metadata": {},
   "outputs": [
    {
     "name": "stdout",
     "output_type": "stream",
     "text": [
      "['notes.txt', 'zoo.txt', 'zoo2.txt']\n"
     ]
    }
   ],
   "source": [
    "import os\n",
    "FichList = [f for f in os.listdir('./datas') if f.endswith('.txt')]\n",
    "print(FichList)"
   ]
  },
  {
   "cell_type": "code",
   "execution_count": 13,
   "id": "9bfef0a5",
   "metadata": {},
   "outputs": [
    {
     "data": {
      "text/plain": [
       "['notes.txt', 'zoo.txt', 'zoo2.txt']"
      ]
     },
     "execution_count": 13,
     "metadata": {},
     "output_type": "execute_result"
    }
   ],
   "source": [
    "import os\n",
    "FichList = [ f for f in os.listdir('./datas') if os.path.isfile(os.path.join('./datas',f)) ]\n",
    "print(FichList)"
   ]
  },
  {
   "cell_type": "markdown",
   "id": "f400a13f",
   "metadata": {},
   "source": [
    "# Exercices"
   ]
  },
  {
   "cell_type": "markdown",
   "id": "bc19b4d9",
   "metadata": {},
   "source": [
    "Écrire un script Python qui parcourt un dossier (Dossiers_Etudiants) contenant des dossiers d'étudiants, chaque dossier portant le nom de l'étudiant, et calcule la moyenne des notes de chaque étudiant à partir d'un fichier \"notes.txt\" présent dans chaque dossier. Enfin, afficher la liste des moyennes des étudiants par ordre décroissant."
   ]
  },
  {
   "cell_type": "code",
   "execution_count": null,
   "id": "415d6781",
   "metadata": {},
   "outputs": [],
   "source": []
  }
 ],
 "metadata": {
  "kernelspec": {
   "display_name": "Python 3 (ipykernel)",
   "language": "python",
   "name": "python3"
  },
  "language_info": {
   "codemirror_mode": {
    "name": "ipython",
    "version": 3
   },
   "file_extension": ".py",
   "mimetype": "text/x-python",
   "name": "python",
   "nbconvert_exporter": "python",
   "pygments_lexer": "ipython3",
   "version": "3.10.9"
  }
 },
 "nbformat": 4,
 "nbformat_minor": 5
}
