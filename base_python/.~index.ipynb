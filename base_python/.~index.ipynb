{
 "cells": [
  {
   "cell_type": "markdown",
   "id": "d02efc8d",
   "metadata": {},
   "source": [
    "# Table des matières"
   ]
  },
  {
   "cell_type": "markdown",
   "id": "1a149e27",
   "metadata": {},
   "source": [
    "1. Introduction [<sup>[Notebook]</sup>](./1_introduction.ipynb)\n",
    "2. Les variables [<sup>[Notebook]</sup>](./2_variables.ipynb)\n",
    "3. Affichage [<sup>[Notebook]</sup>](./3_affichage.ipynb)\n",
    "4. Les listes [<sup>[Notebook]</sup>](./4_listes.ipynb)\n",
    "5. Boucles et comparaisons [<sup>[Notebook]</sup>](./5_boucles_et_comparaisons.ipynb)\n",
    "6. Les dictionnaires [<sup>[Notebook]</sup>](./6_Dictionnaires.ipynb)\n",
    "7. Les tuples [<sup>[Notebook]</sup>](./7_Tuples.ipynb)\n",
    "8. Tests [<sup>[Notebook]</sup>](./8_tests.ipynb)\n",
    "9. Les fichiers [<sup>[Notebook]</sup>](./9_Fichiers.ipynb)\n",
    "10. Les dossiers [<sup>[Notebook]</sup>](./10_Dossiers.ipynb)\n",
    "11. Les modules [<sup>[Notebook]</sup>](./11_Modules.ipynb)\n",
    "12. Les fonctions [<sup>[Notebook]</sup>](./12_Fonctions.ipynb)\n",
    "\n",
    "Calcul du PPCM et PGCD"
   ]
  }
 ],
 "metadata": {
  "kernelspec": {
   "display_name": "Python 3 (ipykernel)",
   "language": "python",
   "name": "python3"
  },
  "language_info": {
   "codemirror_mode": {
    "name": "ipython",
    "version": 3
   },
   "file_extension": ".py",
   "mimetype": "text/x-python",
   "name": "python",
   "nbconvert_exporter": "python",
   "pygments_lexer": "ipython3",
   "version": "3.10.9"
  }
 },
 "nbformat": 4,
 "nbformat_minor": 5
}
