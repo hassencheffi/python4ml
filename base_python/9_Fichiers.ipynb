{
 "cells": [
  {
   "cell_type": "markdown",
   "id": "621bc098",
   "metadata": {},
   "source": [
    "# 9. Fichiers"
   ]
  },
  {
   "cell_type": "markdown",
   "id": "32c550c8",
   "metadata": {},
   "source": [
    "## 9.1 Lecture dans un fichier"
   ]
  },
  {
   "cell_type": "markdown",
   "id": "7ed025e2",
   "metadata": {},
   "source": [
    "Une grande partie de l'information en biologie est stockée sous forme de texte dans des fichiers. Pour traiter cette information, vous devez le plus souvent lire ou écrire dans un ou plusieurs fichiers. Python possède pour cela de nombreux outils qui vous simplifient la vie."
   ]
  },
  {
   "cell_type": "markdown",
   "id": "68423720",
   "metadata": {},
   "source": [
    "### 9.1.1 Méthode .readlines()"
   ]
  },
  {
   "cell_type": "markdown",
   "id": "f095af0a",
   "metadata": {},
   "source": [
    "Avant de passer à un exemple concret, créez un fichier dans un éditeur de texte que vous enregistrerez dans votre répertoire courant avec le nom **``zoo.txt``** et le contenu suivant :"
   ]
  },
  {
   "cell_type": "code",
   "execution_count": null,
   "id": "abc90681",
   "metadata": {},
   "outputs": [],
   "source": [
    "content = open(\"datas/zoo.txt\", \"r\")"
   ]
  },
  {
   "cell_type": "markdown",
   "id": "fa2079a3",
   "metadata": {},
   "source": [
    "L'instruction **``open()``** ouvre le fichier **``zoo.txt``**. Ce fichier est ouvert en lecture seule, comme l'indique le second argument **``r``** (pour **``read``**) de la fonction **``open()``**. Remarquez que le fichier n'est pas encore lu, mais simplement ouvert (un peu comme lorsqu'on ouvre un livre, mais qu'on ne l'a pas encore lu). Le curseur de lecture est prêt à lire le premier caractère du fichier. L'instruction **``open(\"datas/zoo.txt\", \"r\")``** suppose que le fichier **``zoo.txt``** est dans le répertoire depuis lequel l'interpréteur Python a été lancé. Si ce n'est pas le cas, il faut préciser le chemin d'accès au fichier."
   ]
  },
  {
   "cell_type": "code",
   "execution_count": null,
   "id": "90b6c59e",
   "metadata": {},
   "outputs": [],
   "source": [
    "content"
   ]
  },
  {
   "cell_type": "markdown",
   "id": "a132f864",
   "metadata": {},
   "source": [
    "Lorsqu'on affiche le contenu de la variable $content$, on se rend compte que Python la considère comme un objet de type fichier ouvert."
   ]
  },
  {
   "cell_type": "code",
   "execution_count": null,
   "id": "e743a3b1",
   "metadata": {},
   "outputs": [],
   "source": [
    "content.readlines()\n"
   ]
  },
  {
   "cell_type": "markdown",
   "id": "fda295ed",
   "metadata": {},
   "source": [
    "Nous utilisons à nouveau la syntaxe **``objet.méthode()``** (présentée dans le chapitre 3 Affichage). Ici la méthode **``.readlines()``** agit sur l'objet $content$ en déplaçant le curseur de lecture du début à la fin du fichier, puis elle renvoie une liste contenant toutes les lignes du fichier (dans notre analogie avec un livre, ceci correspondrait à lire toutes les lignes du livre)."
   ]
  },
  {
   "cell_type": "code",
   "execution_count": null,
   "id": "257a94cd",
   "metadata": {},
   "outputs": [],
   "source": [
    "content.close()"
   ]
  },
  {
   "cell_type": "markdown",
   "id": "eeb2c988",
   "metadata": {},
   "source": [
    "Enfin, on applique la méthode **``.close()``** sur l'objet $content$, ce qui, vous vous en doutez, ferme le fichier (ceci correspondrait à fermer le livre). Vous remarquerez que la méthode **``.close()``** ne renvoie rien mais modifie l'état de l'objet filin en fichier fermé. Ainsi, si on essaie de lire à nouveau les lignes du fichier, Python renvoie une erreur car il ne peut pas lire un fichier fermé."
   ]
  },
  {
   "cell_type": "code",
   "execution_count": null,
   "id": "b8118024",
   "metadata": {},
   "outputs": [],
   "source": [
    "content = open(\"datas/zoo.txt\", \"r\")\n",
    "lines = content.readlines()\n",
    "for line in lines:\n",
    "    print(line)\n"
   ]
  },
  {
   "cell_type": "code",
   "execution_count": null,
   "id": "3e48dceb",
   "metadata": {},
   "outputs": [],
   "source": [
    "with open(\"datas/zoo.txt\", 'r') as content:\n",
    "    lignes = content.readlines()\n",
    "    for ligne in lignes:\n",
    "        print(ligne)"
   ]
  },
  {
   "cell_type": "markdown",
   "id": "7dda0895",
   "metadata": {},
   "source": [
    "### 9.1.2 Méthode .read()"
   ]
  },
  {
   "cell_type": "markdown",
   "id": "3e446f09",
   "metadata": {},
   "source": [
    "Il existe d'autres méthodes que **``.readlines()``** pour lire (et manipuler) un fichier. Par exemple, la méthode **``.read()``** lit tout le contenu d'un fichier et renvoie une chaîne de caractères unique."
   ]
  },
  {
   "cell_type": "code",
   "execution_count": null,
   "id": "a3b5937a",
   "metadata": {},
   "outputs": [],
   "source": [
    "with open(\"datas/zoo.txt\", \"r\") as content:\n",
    "    print(content.read())"
   ]
  },
  {
   "cell_type": "markdown",
   "id": "a6485fdb",
   "metadata": {},
   "source": [
    "### 9.1.3 Méthode .readline()"
   ]
  },
  {
   "cell_type": "markdown",
   "id": "66d22a23",
   "metadata": {},
   "source": [
    "La méthode **``.readline()``** (sans s à la fin) lit une ligne d'un fichier et la renvoie sous forme de chaîne de caractères. À chaque nouvel appel de **``.readline()``**, la ligne suivante est renvoyée. Associée à la boucle **``while``**, cette méthode permet de lire un fichier ligne par ligne."
   ]
  },
  {
   "cell_type": "code",
   "execution_count": null,
   "id": "c6648b03",
   "metadata": {},
   "outputs": [],
   "source": [
    "with open(\"datas/zoo.txt\", \"r\") as content:\n",
    "    line  = content.readline()\n",
    "    while line  != \"\":\n",
    "        print(line)\n",
    "        line = content.readline()"
   ]
  },
  {
   "cell_type": "markdown",
   "id": "34f24e7e",
   "metadata": {},
   "source": [
    "### 9.1.4 Itérations directe sur le fichier"
   ]
  },
  {
   "cell_type": "code",
   "execution_count": null,
   "id": "6db78d54",
   "metadata": {},
   "outputs": [],
   "source": [
    "with open(\"datas/zoo.txt\", \"r\") as content:\n",
    "    for line in content:\n",
    "        print(line)"
   ]
  },
  {
   "cell_type": "markdown",
   "id": "ee2059c4",
   "metadata": {},
   "source": [
    "## 9.2 Écriture dans un fichier"
   ]
  },
  {
   "cell_type": "markdown",
   "id": "f5e277e0",
   "metadata": {},
   "source": [
    "Écrire dans un fichier est aussi simple que de le lire. Voyez l'exemple suivant :"
   ]
  },
  {
   "cell_type": "code",
   "execution_count": null,
   "id": "a05c93ce",
   "metadata": {},
   "outputs": [],
   "source": [
    "#Création d'une liste de chaînes de caractères animaux2\n",
    "animaux2 = [\"poisson\", \"abeille\", \"chat\"]\n",
    "#Ouverture du fichier zoo2.txt en mode écriture, avec le caractère w pour write.\n",
    "with open(\"datas/zoo2.txt\", \"w\") as newfile:\n",
    "    for animal in animaux2:\n",
    "        newfile.write(f\"{animal}\\n\")\n",
    "newfile.close()"
   ]
  },
  {
   "cell_type": "markdown",
   "id": "2b092715",
   "metadata": {},
   "source": [
    "## 9.3 Ouvrir deux fichiers avec l'instruction with"
   ]
  },
  {
   "cell_type": "code",
   "execution_count": null,
   "id": "490a24ca",
   "metadata": {},
   "outputs": [],
   "source": [
    "with open(\"datas/zoo.txt\", \"r\") as file1, open(\"datas/zoo2.txt\", \"w\") as file2:\n",
    "    for line in file1:\n",
    "        file2.write(\"* \" + line)\n",
    "file1.close()\n",
    "file2.close()"
   ]
  },
  {
   "cell_type": "markdown",
   "id": "4613fe7d",
   "metadata": {},
   "source": [
    "# Exercices"
   ]
  },
  {
   "cell_type": "markdown",
   "id": "91755910",
   "metadata": {},
   "source": [
    "Le fichier **[notes.txt](datas/notes.txt)** contient les notes obtenues par des étudiants pour le cours de Python. Chaque ligne du fichier ne contient qu'une note.\n",
    "\n",
    "Téléchargez le fichier **``notes.txt``** et enregistrez-le dans votre répertoire de travail. N'hésitez pas à l'ouvrir avec un éditeur de texte pour voir à quoi il ressemble.\n",
    "\n",
    "Créez un script Python qui lit chaque ligne de ce fichier, extrait les notes sous forme de float et les stocke dans une liste.\n",
    "\n",
    "Terminez le script en calculant et affichant la moyenne des notes avec deux décimales."
   ]
  },
  {
   "cell_type": "code",
   "execution_count": null,
   "id": "aef85179",
   "metadata": {},
   "outputs": [],
   "source": []
  }
 ],
 "metadata": {
  "kernelspec": {
   "display_name": "Python 3 (ipykernel)",
   "language": "python",
   "name": "python3"
  },
  "language_info": {
   "codemirror_mode": {
    "name": "ipython",
    "version": 3
   },
   "file_extension": ".py",
   "mimetype": "text/x-python",
   "name": "python",
   "nbconvert_exporter": "python",
   "pygments_lexer": "ipython3",
   "version": "3.10.9"
  }
 },
 "nbformat": 4,
 "nbformat_minor": 5
}
