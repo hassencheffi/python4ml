{
 "cells": [
  {
   "cell_type": "markdown",
   "id": "4ff2e43f",
   "metadata": {},
   "source": [
    "# Présentation de la bibliothèque random en Python"
   ]
  },
  {
   "cell_type": "markdown",
   "id": "88505270",
   "metadata": {},
   "source": [
    "La bibliothèque random de Python permet de générer des nombres aléatoires et de réaliser des opérations basées sur le hasard. Elle est largement utilisée dans des contextes variés, comme les simulations, les tests, les jeux, et plus encore."
   ]
  },
  {
   "cell_type": "markdown",
   "id": "3fd2fc68",
   "metadata": {},
   "source": [
    "#### Importation de random"
   ]
  },
  {
   "cell_type": "markdown",
   "id": "3bf7a53d",
   "metadata": {},
   "source": [
    "Avant d'utiliser ses fonctionnalités, la bibliothèque doit être importée :"
   ]
  },
  {
   "cell_type": "code",
   "execution_count": 3,
   "id": "d88a4bc5",
   "metadata": {},
   "outputs": [],
   "source": [
    "import random\n"
   ]
  },
  {
   "cell_type": "markdown",
   "id": "cf4153a1",
   "metadata": {},
   "source": [
    "## Fonctions les plus utilisées dans random"
   ]
  },
  {
   "cell_type": "markdown",
   "id": "36ab6538",
   "metadata": {},
   "source": [
    "### 1. Générer un nombre aléatoire flottant"
   ]
  },
  {
   "cell_type": "markdown",
   "id": "9bdde5c0",
   "metadata": {},
   "source": [
    "random(): Génère un nombre flottant entre 0.0 et 1.0 (exclu)."
   ]
  },
  {
   "cell_type": "code",
   "execution_count": 4,
   "id": "b183c967",
   "metadata": {},
   "outputs": [
    {
     "name": "stdout",
     "output_type": "stream",
     "text": [
      "0.15883084477019582\n"
     ]
    }
   ],
   "source": [
    "print(random.random())  # Exemple: 0.7315675432\n"
   ]
  },
  {
   "cell_type": "markdown",
   "id": "fa37e75f",
   "metadata": {},
   "source": [
    "### 2. Générer un entier aléatoire"
   ]
  },
  {
   "cell_type": "markdown",
   "id": "39afafb0",
   "metadata": {},
   "source": [
    "randint(a, b): Génère un entier aléatoire entre a et b (inclus)."
   ]
  },
  {
   "cell_type": "code",
   "execution_count": 6,
   "id": "9c8357ef",
   "metadata": {},
   "outputs": [
    {
     "name": "stdout",
     "output_type": "stream",
     "text": [
      "10\n"
     ]
    }
   ],
   "source": [
    "print(random.randint(1, 10))  # Exemple: 7\n"
   ]
  },
  {
   "cell_type": "markdown",
   "id": "7b330b47",
   "metadata": {},
   "source": [
    "randrange(start, stop, step): Génère un entier aléatoire entre start (inclus) et stop (exclu) en suivant un pas de step."
   ]
  },
  {
   "cell_type": "code",
   "execution_count": 15,
   "id": "d9fb6d19",
   "metadata": {},
   "outputs": [
    {
     "name": "stdout",
     "output_type": "stream",
     "text": [
      "4\n"
     ]
    }
   ],
   "source": [
    "print(random.randrange(0, 10, 2))  # Exemple: 4\n"
   ]
  },
  {
   "cell_type": "markdown",
   "id": "59a20467",
   "metadata": {},
   "source": [
    "### 3. Générer un flottant aléatoire dans une plage"
   ]
  },
  {
   "cell_type": "markdown",
   "id": "482e5540",
   "metadata": {},
   "source": [
    "uniform(a, b): Génère un nombre flottant aléatoire entre a et b."
   ]
  },
  {
   "cell_type": "code",
   "execution_count": null,
   "id": "ca455c76",
   "metadata": {},
   "outputs": [],
   "source": [
    "print(random.uniform(1.5, 5.5))  # Exemple: 3.423\n"
   ]
  },
  {
   "cell_type": "markdown",
   "id": "28eb624a",
   "metadata": {},
   "source": [
    "### 4. Choisir un élément aléatoire dans une séquence"
   ]
  },
  {
   "cell_type": "markdown",
   "id": "196055b3",
   "metadata": {},
   "source": [
    "choice(seq): Sélectionne un élément aléatoire d'une séquence (liste, tuple, chaîne, etc.)."
   ]
  },
  {
   "cell_type": "code",
   "execution_count": null,
   "id": "828cc0bd",
   "metadata": {},
   "outputs": [],
   "source": [
    "colors = [\"red\", \"blue\", \"green\"]\n",
    "print(random.choice(colors))  # Exemple: \"blue\"\n"
   ]
  },
  {
   "cell_type": "markdown",
   "id": "2f25b983",
   "metadata": {},
   "source": [
    "### 5. Créer une liste aléatoire"
   ]
  },
  {
   "cell_type": "markdown",
   "id": "85e64bce",
   "metadata": {},
   "source": [
    "choices(population, weights=None, k=1): Retourne une liste de k éléments choisis aléatoirement dans la population, avec une probabilité optionnelle définie par weights."
   ]
  },
  {
   "cell_type": "code",
   "execution_count": 21,
   "id": "75432ac4",
   "metadata": {},
   "outputs": [
    {
     "name": "stdout",
     "output_type": "stream",
     "text": [
      "['b', 'b', 'b', 'a', 'b', 'b', 'b', 'b', 'a', 'b', 'a', 'a']\n"
     ]
    }
   ],
   "source": [
    "print(random.choices([\"a\", \"b\", \"c\"], weights=[10, 1, 1], k=12))\n",
    "# Exemple: ['a', 'a', 'b']\n"
   ]
  },
  {
   "cell_type": "markdown",
   "id": "a46b4e10",
   "metadata": {},
   "source": [
    "sample(population, k): Sélectionne un échantillon de k éléments sans remplacement."
   ]
  },
  {
   "cell_type": "code",
   "execution_count": 31,
   "id": "a06cdd03",
   "metadata": {},
   "outputs": [
    {
     "name": "stdout",
     "output_type": "stream",
     "text": [
      "[3, 1, 2]\n"
     ]
    },
    {
     "data": {
      "text/plain": [
       "[7, 2, 9, 8, 1, 6, 4, 3, 5]"
      ]
     },
     "execution_count": 31,
     "metadata": {},
     "output_type": "execute_result"
    }
   ],
   "source": [
    "print(random.sample(range(1, 10), 3))  # Exemple: [4, 7, 2]"
   ]
  },
  {
   "cell_type": "markdown",
   "id": "67a4e395",
   "metadata": {},
   "source": [
    "### 6. Mélanger une liste"
   ]
  },
  {
   "cell_type": "markdown",
   "id": "8447dcf8",
   "metadata": {},
   "source": [
    "shuffle(x): Mélange aléatoirement les éléments d'une liste."
   ]
  },
  {
   "cell_type": "code",
   "execution_count": null,
   "id": "ff4e78d6",
   "metadata": {},
   "outputs": [],
   "source": [
    "numbers = [1, 2, 3, 4]\n",
    "random.shuffle(numbers)\n",
    "print(numbers)  # Exemple: [3, 1, 4, 2]\n"
   ]
  },
  {
   "cell_type": "markdown",
   "id": "ae5b56d1",
   "metadata": {},
   "source": [
    "### 7. Générer des nombres selon des distributions"
   ]
  },
  {
   "cell_type": "markdown",
   "id": "768bea66",
   "metadata": {},
   "source": [
    "gauss(mu, sigma): Génère un nombre selon une distribution normale (Gaussienne) avec une moyenne mu et un écart-type sigma."
   ]
  },
  {
   "cell_type": "code",
   "execution_count": null,
   "id": "bc3aceb2",
   "metadata": {},
   "outputs": [],
   "source": [
    "print(random.gauss(0, 1))  # Exemple: -0.232\n"
   ]
  },
  {
   "cell_type": "markdown",
   "id": "cb083e34",
   "metadata": {},
   "source": [
    "betavariate(alpha, beta): Génère un nombre selon une distribution Beta."
   ]
  },
  {
   "cell_type": "code",
   "execution_count": null,
   "id": "7d129dc9",
   "metadata": {},
   "outputs": [],
   "source": [
    "print(random.betavariate(2, 5))  # Exemple: 0.345\n"
   ]
  },
  {
   "cell_type": "markdown",
   "id": "28768ed2",
   "metadata": {},
   "source": [
    "expovariate(lambd): Génère un nombre selon une distribution exponentielle."
   ]
  },
  {
   "cell_type": "code",
   "execution_count": null,
   "id": "10113dba",
   "metadata": {},
   "outputs": [],
   "source": [
    "print(random.expovariate(1.5))  # Exemple: 0.455\n"
   ]
  },
  {
   "cell_type": "markdown",
   "id": "a71a1520",
   "metadata": {},
   "source": [
    "## Remarques importantes"
   ]
  },
  {
   "cell_type": "markdown",
   "id": "2afc762c",
   "metadata": {},
   "source": [
    "### 1. Initialisation du générateur aléatoire :"
   ]
  },
  {
   "cell_type": "markdown",
   "id": "a4c69948",
   "metadata": {},
   "source": [
    "* défaut, Python utilise l'horloge système pour initialiser son générateur aléatoire.\n",
    "* Vous pouvez utiliser random.seed(n) pour reproduire les mêmes résultats aléatoires (utile pour des tests)."
   ]
  },
  {
   "cell_type": "code",
   "execution_count": 36,
   "id": "daa366e0",
   "metadata": {},
   "outputs": [
    {
     "name": "stdout",
     "output_type": "stream",
     "text": [
      "0.6394267984578837\n"
     ]
    }
   ],
   "source": [
    "random.seed(42)\n",
    "print(random.random())  # Le même résultat sera généré à chaque exécution.\n"
   ]
  },
  {
   "cell_type": "markdown",
   "id": "73e7ff7b",
   "metadata": {},
   "source": [
    "### 2. Applications pratiques :"
   ]
  },
  {
   "cell_type": "markdown",
   "id": "9806c2b9",
   "metadata": {},
   "source": [
    "* Jeux : Génération de dés, cartes, choix aléatoires.\n",
    "* Tests : Génération de données aléatoires.\n",
    "* Simulations : Modélisation probabilistique."
   ]
  }
 ],
 "metadata": {
  "kernelspec": {
   "display_name": "Python 3 (ipykernel)",
   "language": "python",
   "name": "python3"
  },
  "language_info": {
   "codemirror_mode": {
    "name": "ipython",
    "version": 3
   },
   "file_extension": ".py",
   "mimetype": "text/x-python",
   "name": "python",
   "nbconvert_exporter": "python",
   "pygments_lexer": "ipython3",
   "version": "3.12.3"
  }
 },
 "nbformat": 4,
 "nbformat_minor": 5
}
