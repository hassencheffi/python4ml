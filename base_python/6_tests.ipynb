{
 "cells": [
  {
   "cell_type": "markdown",
   "id": "6043927b",
   "metadata": {},
   "source": [
    "# 6. Tests"
   ]
  },
  {
   "cell_type": "markdown",
   "id": "8f06759c",
   "metadata": {},
   "source": [
    "## 6.1. Définition"
   ]
  },
  {
   "cell_type": "markdown",
   "id": "522b4515",
   "metadata": {},
   "source": [
    "Les tests sont un élément essentiel à tout langage informatique si on veut lui donner un peu de complexité car ils permettent à l'ordinateur de prendre des décisions. Pour cela, Python utilise l'instruction if ainsi qu'une comparaison que nous avons abordée au chapitre précédent. Voici un premier exemple :"
   ]
  },
  {
   "cell_type": "code",
   "execution_count": null,
   "id": "0cc0d3c1",
   "metadata": {},
   "outputs": [],
   "source": [
    "x = 2\n",
    "if x == 2:\n",
    "     print(\"Le test est vrai !\")"
   ]
  },
  {
   "cell_type": "markdown",
   "id": "f61ad3de",
   "metadata": {},
   "source": [
    "et un second : "
   ]
  },
  {
   "cell_type": "code",
   "execution_count": null,
   "id": "ce80025e",
   "metadata": {},
   "outputs": [],
   "source": [
    "x = 3\n",
    "if x == 2:\n",
    "     print(\"Le test est vrai !\")"
   ]
  },
  {
   "cell_type": "markdown",
   "id": "eab5f7a7",
   "metadata": {},
   "source": [
    "## 6.2. Tests à plusieurs cas"
   ]
  },
  {
   "cell_type": "markdown",
   "id": "f0311bf1",
   "metadata": {},
   "source": [
    "Parfois, il est pratique de tester si la condition est vraie ou si elle est fausse dans une même instruction if. Plutôt que d'utiliser deux instructions if, on peut se servir des instructions if et else :"
   ]
  },
  {
   "cell_type": "code",
   "execution_count": null,
   "id": "12d52c47",
   "metadata": {},
   "outputs": [],
   "source": [
    "x = 2\n",
    "if x == 2:\n",
    "    print(\"Le test est vrai !\")\n",
    "else:\n",
    "    print(\"Le test est faux !\")"
   ]
  },
  {
   "cell_type": "code",
   "execution_count": null,
   "id": "b81120b7",
   "metadata": {},
   "outputs": [],
   "source": [
    "x = 3\n",
    "if x == 2:\n",
    "    print(\"Le test est vrai !\")\n",
    "else:\n",
    "    print(\"Le test est faux !\")"
   ]
  },
  {
   "cell_type": "markdown",
   "id": "6eed773b",
   "metadata": {},
   "source": [
    "On peut utiliser une série de tests dans la même instruction if, notamment pour tester plusieurs valeurs d'une même variable."
   ]
  },
  {
   "cell_type": "code",
   "execution_count": null,
   "id": "652a49d4",
   "metadata": {
    "scrolled": false
   },
   "outputs": [],
   "source": [
    "from random import choices\n",
    "c = choices(['1', 'A', '!'])\n",
    "print(c)\n",
    "if c[0] == \"1\":\n",
    "     print(\"Chiffre\")\n",
    "elif c[0] == \"A\":\n",
    "    print(\"Lettre\")\n",
    "elif c[0] == \"!\":\n",
    "    print(\"Symbole\")\n"
   ]
  },
  {
   "cell_type": "markdown",
   "id": "540d8cfd",
   "metadata": {},
   "source": [
    "## 6.3. Tests multiples"
   ]
  },
  {
   "cell_type": "markdown",
   "id": "b5f7e591",
   "metadata": {},
   "source": [
    "En Python, on utilise le mot réservé and pour l'opérateur ET et le mot réservé or pour l'opérateur OU. Respectez bien la casse des opérateurs and et or qui, en Python, s'écrivent en minuscule. En voici un exemple d'utilisation :"
   ]
  },
  {
   "cell_type": "code",
   "execution_count": null,
   "id": "8e550dec",
   "metadata": {},
   "outputs": [],
   "source": [
    "x = 2\n",
    "y = 2\n",
    "if x == 2 and y == 2:\n",
    "    print(\"le test est vrai\")"
   ]
  },
  {
   "cell_type": "markdown",
   "id": "75a944e5",
   "metadata": {},
   "source": [
    "Enfin, on peut utiliser l'opérateur logique de négation not qui inverse le résultat d'une condition :"
   ]
  },
  {
   "cell_type": "code",
   "execution_count": null,
   "id": "553a10c1",
   "metadata": {},
   "outputs": [],
   "source": [
    "not True"
   ]
  },
  {
   "cell_type": "markdown",
   "id": "be22a7e1",
   "metadata": {},
   "source": [
    "## 6.3. Instructions break et continue"
   ]
  },
  {
   "cell_type": "markdown",
   "id": "516f1a5a",
   "metadata": {},
   "source": [
    "Ces deux instructions permettent de modifier le comportement d'une boucle (for ou while) avec un test."
   ]
  },
  {
   "cell_type": "markdown",
   "id": "2aa69bb4",
   "metadata": {},
   "source": [
    "L'instruction break stoppe la boucle."
   ]
  },
  {
   "cell_type": "code",
   "execution_count": null,
   "id": "a9738424",
   "metadata": {},
   "outputs": [],
   "source": [
    "for i in range(5):\n",
    "    if i > 2:\n",
    "        break\n",
    "    print(i)"
   ]
  },
  {
   "cell_type": "markdown",
   "id": "2c0df18b",
   "metadata": {},
   "source": [
    "L'instruction continue saute à l'itération suivante, sans exécuter la suite du bloc d'instructions de la boucle."
   ]
  },
  {
   "cell_type": "code",
   "execution_count": null,
   "id": "be50ab77",
   "metadata": {},
   "outputs": [],
   "source": [
    "for i in range(5):\n",
    "    if i == 2:\n",
    "        continue\n",
    "    print(i)"
   ]
  },
  {
   "cell_type": "markdown",
   "id": "86eb6f21",
   "metadata": {},
   "source": [
    "## Exercices"
   ]
  },
  {
   "cell_type": "markdown",
   "id": "4be66f64",
   "metadata": {},
   "source": [
    "### Minimum d'une liste"
   ]
  },
  {
   "cell_type": "markdown",
   "id": "23181062",
   "metadata": {},
   "source": [
    "La fonction min() de Python renvoie l'élément le plus petit d'une liste constituée de valeurs numériques ou de chaînes de caractères. Sans utiliser cette fonction, créez un script qui détermine le plus petit élément de la liste [8, 4, 6, 1, 5]."
   ]
  },
  {
   "cell_type": "code",
   "execution_count": null,
   "id": "09e04dfb",
   "metadata": {},
   "outputs": [],
   "source": []
  },
  {
   "cell_type": "markdown",
   "id": "e4002661",
   "metadata": {},
   "source": [
    "### Notes et mention d'un étudiant"
   ]
  },
  {
   "cell_type": "markdown",
   "id": "f12cbf04",
   "metadata": {},
   "source": [
    "Voici les notes d'un étudiant : 14, 9, 13, 15 et 12. Créez un script qui affiche la note maximum (utilisez la fonction max()), la note minimum (utilisez la fonction min()) et qui calcule la moyenne.\n",
    "\n",
    "Affichez la valeur de la moyenne avec deux décimales. Affichez aussi la mention obtenue sachant que la mention est « passable » si la moyenne est entre 10 inclus et 12 exclus, « assez bien » entre 12 inclus et 14 exclus et « bien » au-delà de 14."
   ]
  },
  {
   "cell_type": "code",
   "execution_count": null,
   "id": "da2df18e",
   "metadata": {},
   "outputs": [],
   "source": []
  },
  {
   "cell_type": "markdown",
   "id": "be054616",
   "metadata": {},
   "source": [
    "### Détermination des nombres premiers inférieurs à 100 "
   ]
  },
  {
   "cell_type": "markdown",
   "id": "9f753f05",
   "metadata": {},
   "source": [
    "Un nombre premier est un entier naturel qui admet exactement deux diviseurs distincts entiers et positifs (qui sont alors 1 et lui-même). Cette définition exclut 1, qui n'a qu'un seul diviseur entier positif. Par opposition, un nombre non nul produit de deux nombres entiers différents de 1 est dit composé. Par exemple est composé, tout comme, mais 11 est premier car 1 et 11 sont les seuls diviseurs de 11. Les nombres 0 et 1 ne sont ni premiers ni composés.\n",
    "\n",
    "Déterminez les nombres premiers inférieurs à 100. Combien y a-t-il de nombres premiers entre 0 et 100 ?"
   ]
  },
  {
   "cell_type": "code",
   "execution_count": null,
   "id": "99852bf1",
   "metadata": {},
   "outputs": [],
   "source": []
  },
  {
   "cell_type": "markdown",
   "id": "79a247ce",
   "metadata": {},
   "source": [
    "## Elimination de voyelle"
   ]
  },
  {
   "cell_type": "markdown",
   "id": "146364d2",
   "metadata": {},
   "source": [
    "Ecrire un programme en python qui lit une chaine de caractère et qui affiche la chaine sans voyelle."
   ]
  },
  {
   "cell_type": "code",
   "execution_count": null,
   "id": "379c03b1",
   "metadata": {},
   "outputs": [],
   "source": []
  },
  {
   "cell_type": "markdown",
   "id": "92d6a1f5",
   "metadata": {},
   "source": [
    "## Jeu de devinette"
   ]
  },
  {
   "cell_type": "markdown",
   "id": "d02835cc",
   "metadata": {},
   "source": [
    "Écrivez un programme Python qui génère un nombre aléatoire entre 1 et 100. L'utilisateur a pour tâche de deviner ce nombre en fournissant des réponses. Cependant, il est limité à 7 essais.\n",
    "\n",
    "À chaque essai, le programme doit indiquer si la réponse de l'utilisateur est trop grande, trop petite ou correcte. Si l'utilisateur ne devine pas le nombre en 7 essais, le programme devrait afficher la réponse correcte à la fin."
   ]
  },
  {
   "cell_type": "markdown",
   "id": "0a07b83c",
   "metadata": {},
   "source": [
    "Exemple de déroulement du programme :"
   ]
  },
  {
   "cell_type": "markdown",
   "id": "3e6cdf80",
   "metadata": {},
   "source": [
    "Bienvenue dans le Jeu de Devinette !\n",
    "\n",
    "Devinez le nombre entre 1 et 100 en 7 essais maximum.\n",
    "\n",
    "Essai 1: 50 \\\n",
    "Trop grand. Il vous reste 6 essais.\n",
    "\n",
    "Essai 2: 25 \\\n",
    "Trop petit. Il vous reste 5 essais.\n",
    "\n",
    "Essai 3: 37 \\\n",
    "Correct ! Vous avez deviné le nombre en 3 essais. Bravo !\n"
   ]
  }
 ],
 "metadata": {
  "kernelspec": {
   "display_name": "Python 3 (ipykernel)",
   "language": "python",
   "name": "python3"
  },
  "language_info": {
   "codemirror_mode": {
    "name": "ipython",
    "version": 3
   },
   "file_extension": ".py",
   "mimetype": "text/x-python",
   "name": "python",
   "nbconvert_exporter": "python",
   "pygments_lexer": "ipython3",
   "version": "3.10.9"
  }
 },
 "nbformat": 4,
 "nbformat_minor": 5
}
