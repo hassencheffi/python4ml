{
 "cells": [
  {
   "cell_type": "markdown",
   "id": "08272a34",
   "metadata": {},
   "source": [
    "# 6. Dictionnaire"
   ]
  },
  {
   "cell_type": "markdown",
   "id": "f2f4930a",
   "metadata": {},
   "source": [
    "## 6.1 Définition"
   ]
  },
  {
   "cell_type": "markdown",
   "id": "68aaf35c",
   "metadata": {},
   "source": [
    "Les **dictionnaires** se révèlent très pratiques lorsque vous devez manipuler des structures complexes à décrire et que les listes présentent leurs limites. Les dictionnaires sont des collections non ordonnées d'objets (ceci est vrai jusqu'à la version 3.6 de Python, voir remarque ci-dessous). Il ne s'agit pas d'objets séquentiels comme les listes ou chaînes de caractères, mais plutôt d'objets dits de correspondance (mapping objects en anglais) ou tableaux associatifs. En effet, on accède aux valeurs d'un dictionnaire par des clés. Ceci semble un peu confus ? Regardez l'exemple suivant :"
   ]
  },
  {
   "cell_type": "code",
   "execution_count": null,
   "id": "ae2ada71",
   "metadata": {},
   "outputs": [],
   "source": [
    "ani1 = {}\n",
    "ani1[\"nom\"] = \"girafe\"\n",
    "ani1[\"taille\"] = 5.0\n",
    "ani1[\"poids\"] = 1100\n",
    "ani1"
   ]
  },
  {
   "cell_type": "markdown",
   "id": "e4a53e13",
   "metadata": {},
   "source": [
    "En premier, on définit un dictionnaire vide avec les accolades **{}** (tout comme on peut le faire pour les listes avec **[]**). Ensuite, on remplit le dictionnaire avec différentes clés (**\"nom\"**, **\"taille\"**, **\"poids\"**) auxquelles on affecte des valeurs (**\"girafe\"**, **5.0**, **1100**). Vous pouvez mettre autant de clés que vous voulez dans un dictionnaire (tout comme vous pouvez ajouter autant d'éléments que vous voulez dans une liste)."
   ]
  },
  {
   "cell_type": "markdown",
   "id": "4a77fe56",
   "metadata": {},
   "source": [
    "On peut aussi initialiser toutes les clés et les valeurs d'un dictionnaire en une seule opération :"
   ]
  },
  {
   "cell_type": "code",
   "execution_count": null,
   "id": "f4686659",
   "metadata": {},
   "outputs": [],
   "source": [
    "ani2 = {\"nom\": \"singe\", \"poids\": 70, \"taille\": 1.75}\n",
    "ani2"
   ]
  },
  {
   "cell_type": "markdown",
   "id": "b609aaab",
   "metadata": {},
   "source": [
    "Mais rien ne nous empêche d'ajouter une clé et une valeur supplémentaire :"
   ]
  },
  {
   "cell_type": "code",
   "execution_count": null,
   "id": "f7ccf92a",
   "metadata": {},
   "outputs": [],
   "source": [
    "ani2[\"age\"] = 15\n",
    "ani2"
   ]
  },
  {
   "cell_type": "markdown",
   "id": "7d60f391",
   "metadata": {},
   "source": [
    "Pour récupérer la valeur associée à une clé donnée, il suffit d'utiliser la syntaxe suivante dictionnaire[\"cle\"]. Par exemple :"
   ]
  },
  {
   "cell_type": "code",
   "execution_count": null,
   "id": "bf3a916d",
   "metadata": {},
   "outputs": [],
   "source": [
    "ani1[\"taille\"]"
   ]
  },
  {
   "cell_type": "markdown",
   "id": "f1d6abf7",
   "metadata": {},
   "source": [
    "## 6.2 Itération sur les clés pour obtenir les valeurs"
   ]
  },
  {
   "cell_type": "markdown",
   "id": "afd22d4f",
   "metadata": {},
   "source": [
    "Si on souhaite voir toutes les associations clés / valeurs, on peut itérer sur un dictionnaire de la manière suivante :"
   ]
  },
  {
   "cell_type": "code",
   "execution_count": 7,
   "id": "6b71f1b2",
   "metadata": {},
   "outputs": [
    {
     "name": "stdout",
     "output_type": "stream",
     "text": [
      "nom singe\n",
      "poids 70\n",
      "taille 1.75\n"
     ]
    }
   ],
   "source": [
    "ani2 = {'nom': 'singe', 'poids': 70, 'taille': 1.75}\n",
    "for key in ani2:\n",
    "    print(key, ani2[key])"
   ]
  },
  {
   "cell_type": "markdown",
   "id": "35e36e30",
   "metadata": {},
   "source": [
    "## 6.3 Méthodes .keys(), .values() et .items()"
   ]
  },
  {
   "cell_type": "markdown",
   "id": "c2dee7f2",
   "metadata": {},
   "source": [
    "Les méthodes **.keys()** et **.values()** renvoient, comme vous vous en doutez, les clés et les valeurs d'un dictionnaire :"
   ]
  },
  {
   "cell_type": "code",
   "execution_count": 8,
   "id": "ce6b8b17",
   "metadata": {},
   "outputs": [
    {
     "name": "stdout",
     "output_type": "stream",
     "text": [
      "dict_keys(['nom', 'poids', 'taille'])\n",
      "dict_values(['singe', 70, 1.75])\n"
     ]
    }
   ],
   "source": [
    "ani2 = {'nom': 'singe', 'poids': 70, 'taille': 1.75}\n",
    "print(ani2.keys())\n",
    "print(ani2.values())"
   ]
  },
  {
   "cell_type": "markdown",
   "id": "e9d0d9c9",
   "metadata": {},
   "source": [
    "Les mentions **dict_keys** et **dict_values** indiquent que nous avons à faire à des objets un peu particuliers. Ils ne sont pas indexables (on ne peut pas retrouver un élément par indice, par exemple dico.keys()[0] renverra une erreur). Si besoin, nous pouvons les transformer en liste avec la fonction **list()** :"
   ]
  },
  {
   "cell_type": "code",
   "execution_count": 9,
   "id": "471a0613",
   "metadata": {},
   "outputs": [
    {
     "data": {
      "text/plain": [
       "['singe', 70, 1.75]"
      ]
     },
     "execution_count": 9,
     "metadata": {},
     "output_type": "execute_result"
    }
   ],
   "source": [
    "ani2.values()\n",
    "list(ani2.values())"
   ]
  },
  {
   "cell_type": "markdown",
   "id": "2d76c063",
   "metadata": {},
   "source": [
    "Enfin, il existe la méthode **.items()** qui renvoie un nouvel objet **dict_items** :"
   ]
  },
  {
   "cell_type": "code",
   "execution_count": 11,
   "id": "9b19015b",
   "metadata": {},
   "outputs": [
    {
     "data": {
      "text/plain": [
       "dict_items([(0, 't'), (1, 'o'), (2, 't'), (3, 'o')])"
      ]
     },
     "execution_count": 11,
     "metadata": {},
     "output_type": "execute_result"
    }
   ],
   "source": [
    "dico = {0: \"t\", 1: \"o\", 2: \"t\", 3: \"o\"}\n",
    "dico.items()"
   ]
  },
  {
   "cell_type": "code",
   "execution_count": 15,
   "id": "f09212fc",
   "metadata": {},
   "outputs": [
    {
     "name": "stdout",
     "output_type": "stream",
     "text": [
      "0 t\n",
      "1 o\n",
      "2 t\n",
      "3 o\n"
     ]
    }
   ],
   "source": [
    "for key, val in dico.items():\n",
    "    print(key, val)"
   ]
  },
  {
   "cell_type": "code",
   "execution_count": 17,
   "id": "e1669f39",
   "metadata": {},
   "outputs": [
    {
     "name": "stdout",
     "output_type": "stream",
     "text": [
      "nom singe\n",
      "poids 70\n",
      "taille 1.75\n",
      "mois janvier\n"
     ]
    }
   ],
   "source": [
    "ani2[\"mois\"]=\"janvier\"\n",
    "for key, val in ani2.items():\n",
    "    print(key,val)"
   ]
  },
  {
   "cell_type": "markdown",
   "id": "1327a913",
   "metadata": {},
   "source": [
    "## 6.4 Existence d'une clé ou d'une valeur"
   ]
  },
  {
   "cell_type": "markdown",
   "id": "67c8b908",
   "metadata": {},
   "source": [
    "Pour vérifier si une clé existe dans un dictionnaire, on peut utiliser le test d’appartenance avec l'opérateur **in** qui renvoie un booléen :"
   ]
  },
  {
   "cell_type": "code",
   "execution_count": 20,
   "id": "745d3b7c",
   "metadata": {},
   "outputs": [
    {
     "name": "stdout",
     "output_type": "stream",
     "text": [
      "La clé 'poids' existe pour ani2\n",
      "La clé 'age' existe pour ani2\n"
     ]
    }
   ],
   "source": [
    "ani2 = {'nom': 'singe', 'poids': 70, 'taille': 1.75}\n",
    "if \"poids\" in ani2:\n",
    "    print(\"La clé 'poids' existe pour ani2\")\n",
    "if \"age\" in ani2:\n",
    "    print(\"La clé 'age' existe pour ani2\")"
   ]
  },
  {
   "cell_type": "markdown",
   "id": "b2d2c71d",
   "metadata": {},
   "source": [
    "## 6.5 Tri par clés"
   ]
  },
  {
   "cell_type": "markdown",
   "id": "326deeba",
   "metadata": {},
   "source": [
    "On peut utiliser la fonction **sorted()** vue précédemment avec les listes pour trier un dictionnaire par ses clés :"
   ]
  },
  {
   "cell_type": "code",
   "execution_count": 21,
   "id": "f4aabeee",
   "metadata": {},
   "outputs": [
    {
     "data": {
      "text/plain": [
       "['nom', 'poids', 'taille']"
      ]
     },
     "execution_count": 21,
     "metadata": {},
     "output_type": "execute_result"
    }
   ],
   "source": [
    "ani2 = {'nom': 'singe', 'taille': 1.75, 'poids': 70}\n",
    "sorted(ani2)"
   ]
  },
  {
   "cell_type": "markdown",
   "id": "51c89519",
   "metadata": {},
   "source": [
    "Les clés sont triées ici par ordre alphabétique."
   ]
  },
  {
   "cell_type": "markdown",
   "id": "950bae9a",
   "metadata": {},
   "source": [
    "## 6.6 Tri par valeurs"
   ]
  },
  {
   "cell_type": "markdown",
   "id": "161881ae",
   "metadata": {},
   "source": [
    "Pour trier un dictionnaire par ses valeurs, il faut utiliser la fonction sorted avec l'argument **key** :"
   ]
  },
  {
   "cell_type": "code",
   "execution_count": 26,
   "id": "d37eb28b",
   "metadata": {
    "scrolled": true
   },
   "outputs": [
    {
     "data": {
      "text/plain": [
       "['c', 'a', 'b']"
      ]
     },
     "execution_count": 26,
     "metadata": {},
     "output_type": "execute_result"
    }
   ],
   "source": [
    "dico = {\"a\": 15, \"b\": 5, \"c\":20}\n",
    "sorted(dico, key=dico.get)"
   ]
  },
  {
   "cell_type": "markdown",
   "id": "56c76ce5",
   "metadata": {},
   "source": [
    "## 6.7 Clé associée au minimum ou au maximum des valeurs"
   ]
  },
  {
   "cell_type": "markdown",
   "id": "dc4fe244",
   "metadata": {},
   "source": [
    "Les fonctions **min()** et **max()**, que vous avez déjà manipulées dans les chapitres précédents, acceptent également l'argument **key=**. On peut ainsi obtenir la clé associée au minimum ou au maximum des valeurs d'un dictionnaire :"
   ]
  },
  {
   "cell_type": "code",
   "execution_count": 30,
   "id": "65c0fc8e",
   "metadata": {},
   "outputs": [
    {
     "name": "stdout",
     "output_type": "stream",
     "text": [
      "c\n",
      "b\n",
      "20\n"
     ]
    }
   ],
   "source": [
    "dico = {\"a\": 15, \"b\": 5, \"c\":20}\n",
    "print(max(dico, key=dico.get))\n",
    "print(min(dico, key=dico.get))\n",
    "print(dico[max(dico, key=dico.get)])"
   ]
  },
  {
   "cell_type": "markdown",
   "id": "91db0e2d",
   "metadata": {},
   "source": [
    "## 6.8 Fonction dict()"
   ]
  },
  {
   "cell_type": "markdown",
   "id": "ddb14a3a",
   "metadata": {},
   "source": [
    "La fonction **dict()** va convertir l'argument qui lui est passé en dictionnaire. Il s'agit donc d'une fonction de casting comme **int()**, **str()**, etc. Toutefois, l'argument qui lui est passé doit avoir une forme particulière : un objet séquentiel contenant d'autres objets séquentiels de 2 éléments. Par exemple, une liste de listes de 2 éléments :"
   ]
  },
  {
   "cell_type": "code",
   "execution_count": 47,
   "id": "1ab5f98c",
   "metadata": {},
   "outputs": [
    {
     "data": {
      "text/plain": [
       "{'girafe': 2, 'singe': 3}"
      ]
     },
     "execution_count": 47,
     "metadata": {},
     "output_type": "execute_result"
    }
   ],
   "source": [
    "liste_animaux = [[\"girafe\", 2], [\"singe\", 3]]\n",
    "dict(liste_animaux)"
   ]
  },
  {
   "cell_type": "code",
   "execution_count": null,
   "id": "c28cebdc",
   "metadata": {},
   "outputs": [],
   "source": []
  }
 ],
 "metadata": {
  "kernelspec": {
   "display_name": "Python 3 (ipykernel)",
   "language": "python",
   "name": "python3"
  },
  "language_info": {
   "codemirror_mode": {
    "name": "ipython",
    "version": 3
   },
   "file_extension": ".py",
   "mimetype": "text/x-python",
   "name": "python",
   "nbconvert_exporter": "python",
   "pygments_lexer": "ipython3",
   "version": "3.10.9"
  }
 },
 "nbformat": 4,
 "nbformat_minor": 5
}
