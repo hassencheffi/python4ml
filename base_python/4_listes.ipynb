{
 "cells": [
  {
   "cell_type": "markdown",
   "id": "6043927b",
   "metadata": {},
   "source": [
    "# 4. Listes"
   ]
  },
  {
   "cell_type": "markdown",
   "id": "8f06759c",
   "metadata": {},
   "source": [
    "## 4.1. Définition"
   ]
  },
  {
   "cell_type": "markdown",
   "id": "522b4515",
   "metadata": {},
   "source": [
    "Une liste est une structure de données qui contient une série de valeurs. Python autorise la construction de liste contenant des valeurs de types différents (par exemple entier et chaîne de caractères), ce qui leur confère une grande flexibilité. Une liste est déclarée par une série de valeurs (n'oubliez pas les guillemets, simples ou doubles, s'il s'agit de chaînes de caractères) séparées par des virgules, et le tout encadré par des crochets."
   ]
  },
  {
   "cell_type": "markdown",
   "id": "5f6425b1",
   "metadata": {},
   "source": [
    "En voici quelques exemples :"
   ]
  },
  {
   "cell_type": "code",
   "execution_count": null,
   "id": "0cc0d3c1",
   "metadata": {},
   "outputs": [],
   "source": [
    "animaux = [\"girafe\", \"tigre\", \"singe\", \"souris\"]\n",
    "print(animaux)"
   ]
  },
  {
   "cell_type": "code",
   "execution_count": null,
   "id": "229dd328",
   "metadata": {},
   "outputs": [],
   "source": [
    "tailles = [5, 2.5, 1.75, 0.15]\n",
    "print(tailles)"
   ]
  },
  {
   "cell_type": "code",
   "execution_count": null,
   "id": "ce80025e",
   "metadata": {},
   "outputs": [],
   "source": [
    "mixte = [\"girafe\", 5, \"souris\", 0.15]\n",
    "print(mixte)"
   ]
  },
  {
   "cell_type": "markdown",
   "id": "eab5f7a7",
   "metadata": {},
   "source": [
    "## 4.2. Utilisation"
   ]
  },
  {
   "cell_type": "markdown",
   "id": "f0311bf1",
   "metadata": {},
   "source": [
    "Un des gros avantages d'une liste est que vous pouvez appeler ses éléments par leur position. Ce numéro est appelé indice (ou index) de la liste."
   ]
  },
  {
   "cell_type": "markdown",
   "id": "6d4cad89",
   "metadata": {},
   "source": [
    "| Liste  | :[ | \"girafe\", | \"tigre\", | \"singe\"] |\n",
    "|--------|----|-----------|----------|----------|\n",
    "| indice | :  | 0         | 1        | 2        |\n"
   ]
  },
  {
   "cell_type": "markdown",
   "id": "6fcb4ba5",
   "metadata": {},
   "source": [
    "Soyez très attentif au fait que les indices d'une liste de n éléments commencent à 0 et se terminent à n-1. Voyez l'exemple suivant :"
   ]
  },
  {
   "cell_type": "code",
   "execution_count": null,
   "id": "7d80c0ab",
   "metadata": {},
   "outputs": [],
   "source": [
    "animaux = [\"girafe\", \"tigre\", \"singe\", \"souris\"]"
   ]
  },
  {
   "cell_type": "code",
   "execution_count": null,
   "id": "2b58785a",
   "metadata": {},
   "outputs": [],
   "source": [
    "print(animaux[0])"
   ]
  },
  {
   "cell_type": "code",
   "execution_count": null,
   "id": "a4762522",
   "metadata": {},
   "outputs": [],
   "source": [
    "print(animaux[3])"
   ]
  },
  {
   "cell_type": "markdown",
   "id": "8fb7ec60",
   "metadata": {},
   "source": [
    "Par conséquent, si on appelle l'élément d'indice 4 de notre liste, Python renverra un message d'erreur :"
   ]
  },
  {
   "cell_type": "code",
   "execution_count": null,
   "id": "82c75530",
   "metadata": {},
   "outputs": [],
   "source": [
    "print(animaux[4])"
   ]
  },
  {
   "cell_type": "markdown",
   "id": "a4e983bc",
   "metadata": {},
   "source": [
    "## 4.3. Opération sur les listes"
   ]
  },
  {
   "cell_type": "markdown",
   "id": "7a64a3cd",
   "metadata": {},
   "source": [
    "Tout comme les chaînes de caractères, les listes supportent l'opérateur + de concaténation, ainsi que l'opérateur * pour la duplication :"
   ]
  },
  {
   "cell_type": "code",
   "execution_count": null,
   "id": "e214db17",
   "metadata": {},
   "outputs": [],
   "source": [
    "ani1 = [\"girafe\", \"tigre\"]\n",
    "ani2 = [\"singe\", \"souris\"]"
   ]
  },
  {
   "cell_type": "code",
   "execution_count": null,
   "id": "5f81179b",
   "metadata": {},
   "outputs": [],
   "source": [
    "print(ani1 + ani2)"
   ]
  },
  {
   "cell_type": "code",
   "execution_count": null,
   "id": "df6a8b46",
   "metadata": {},
   "outputs": [],
   "source": [
    "print(ani1 * 3)"
   ]
  },
  {
   "cell_type": "markdown",
   "id": "6be9fe6c",
   "metadata": {},
   "source": [
    "L'opérateur + est très pratique pour concaténer deux listes."
   ]
  },
  {
   "cell_type": "markdown",
   "id": "80cb7c8f",
   "metadata": {},
   "source": [
    "### 4.3.1. Méthodes associées aux listes"
   ]
  },
  {
   "cell_type": "markdown",
   "id": "9afbe976",
   "metadata": {},
   "source": [
    "### .append()"
   ]
  },
  {
   "cell_type": "markdown",
   "id": "adae3266",
   "metadata": {},
   "source": [
    "La méthode *.append()* **ajoute** un élément à la fin d'une liste :"
   ]
  },
  {
   "cell_type": "code",
   "execution_count": null,
   "id": "854522e2",
   "metadata": {},
   "outputs": [],
   "source": [
    "a = [1, 2, 3]\n",
    "print(a)"
   ]
  },
  {
   "cell_type": "code",
   "execution_count": null,
   "id": "b4009d3e",
   "metadata": {},
   "outputs": [],
   "source": [
    "a.append(5)\n",
    "print(a)"
   ]
  },
  {
   "cell_type": "markdown",
   "id": "e58731d4",
   "metadata": {},
   "source": [
    "qui est équivalent à :"
   ]
  },
  {
   "cell_type": "code",
   "execution_count": null,
   "id": "d885ee6f",
   "metadata": {},
   "outputs": [],
   "source": [
    "a = [1, 2, 3]\n",
    "a = a + [5]\n",
    "print(a)"
   ]
  },
  {
   "cell_type": "markdown",
   "id": "9c3fd1f1",
   "metadata": {},
   "source": [
    "### .insert()"
   ]
  },
  {
   "cell_type": "markdown",
   "id": "c3d5dfd4",
   "metadata": {},
   "source": [
    "La méthode *.insert()* **insère** un objet dans une liste à un indice déterminé :"
   ]
  },
  {
   "cell_type": "code",
   "execution_count": null,
   "id": "d772ae22",
   "metadata": {},
   "outputs": [],
   "source": [
    "a = [1, 2, 3]\n",
    "a.insert(2, -15)\n",
    "print(a)"
   ]
  },
  {
   "cell_type": "markdown",
   "id": "d6ec8a3a",
   "metadata": {},
   "source": [
    "### del"
   ]
  },
  {
   "cell_type": "markdown",
   "id": "3198d185",
   "metadata": {},
   "source": [
    "L'instruction del **supprime** un élément d'une liste à un indice déterminé :"
   ]
  },
  {
   "cell_type": "code",
   "execution_count": null,
   "id": "247a868a",
   "metadata": {},
   "outputs": [],
   "source": [
    "a = [1, 2, 3]\n",
    "del a[1]\n",
    "print(a)"
   ]
  },
  {
   "cell_type": "markdown",
   "id": "bfe94ea0",
   "metadata": {},
   "source": [
    "### .remove()"
   ]
  },
  {
   "cell_type": "markdown",
   "id": "9cb3952e",
   "metadata": {},
   "source": [
    "La méthode *.remove()* **supprime** un élément d'une liste à partir de sa valeur :"
   ]
  },
  {
   "cell_type": "code",
   "execution_count": null,
   "id": "3b4e4646",
   "metadata": {},
   "outputs": [],
   "source": [
    "a = [1, 2, 3]\n",
    "a.remove(3)\n",
    "print(a)"
   ]
  },
  {
   "cell_type": "markdown",
   "id": "88f70873",
   "metadata": {},
   "source": [
    "S'il y a plusieurs fois la même valeur dans la liste, seule la première est retirée. Il faut appeler la méthode *.remove()* autant de fois que nécessaire pour retirer toutes les occurences d'un même élément :"
   ]
  },
  {
   "cell_type": "code",
   "execution_count": null,
   "id": "093de444",
   "metadata": {},
   "outputs": [],
   "source": [
    "a = [1, 2, 3, 4, 3]\n",
    "a.remove(3)\n",
    "print(a)\n",
    "a.remove(3)\n",
    "print(a)"
   ]
  },
  {
   "cell_type": "markdown",
   "id": "921a509b",
   "metadata": {},
   "source": [
    "### .sort()"
   ]
  },
  {
   "cell_type": "markdown",
   "id": "42c92a4b",
   "metadata": {},
   "source": [
    "La méthode *.sort()* **trie** les éléments d'une liste **du plus petit au plus grand**:"
   ]
  },
  {
   "cell_type": "code",
   "execution_count": null,
   "id": "e8bf354d",
   "metadata": {},
   "outputs": [],
   "source": [
    "a = [3, 1, 2]\n",
    "a.sort()\n",
    "print(a)"
   ]
  },
  {
   "cell_type": "markdown",
   "id": "bbe6a921",
   "metadata": {},
   "source": [
    "L'argument *reverse=True* spécifie le **tri inverse**, c'est-à-dire du plus grand au plus petit élément :"
   ]
  },
  {
   "cell_type": "code",
   "execution_count": null,
   "id": "83fbdf07",
   "metadata": {},
   "outputs": [],
   "source": [
    "a = [3, 1, 2]\n",
    "a.sort(reverse=True)\n",
    "print(a)"
   ]
  },
  {
   "cell_type": "markdown",
   "id": "a1367299",
   "metadata": {},
   "source": [
    "### sorted()"
   ]
  },
  {
   "cell_type": "markdown",
   "id": "47eba01d",
   "metadata": {},
   "source": [
    "La fonction *sorted()* **trie** également une liste. **Contrairement** à la méthode précédente *.sort()*, cette fonction renvoie la liste triée et **ne modifie pas la liste** initiale :"
   ]
  },
  {
   "cell_type": "code",
   "execution_count": null,
   "id": "cd76f7db",
   "metadata": {},
   "outputs": [],
   "source": [
    "a = [3, 1, 2]\n",
    "print(sorted(a))\n",
    "print(a)"
   ]
  },
  {
   "cell_type": "code",
   "execution_count": null,
   "id": "c59714f2",
   "metadata": {},
   "outputs": [],
   "source": [
    "a = [3, 1, 2]\n",
    "print(sorted(a,reverse=True))\n",
    "print(a)"
   ]
  },
  {
   "cell_type": "markdown",
   "id": "7fca9c9e",
   "metadata": {},
   "source": [
    "### .reverse()"
   ]
  },
  {
   "cell_type": "markdown",
   "id": "d4665b92",
   "metadata": {},
   "source": [
    "La méthode *.reverse()* **inverse** une liste :"
   ]
  },
  {
   "cell_type": "code",
   "execution_count": null,
   "id": "554d76c3",
   "metadata": {},
   "outputs": [],
   "source": [
    "a = [3, 1, 2]\n",
    "a.reverse()\n",
    "print(a)"
   ]
  },
  {
   "cell_type": "markdown",
   "id": "5000b53c",
   "metadata": {},
   "source": [
    "### .count()"
   ]
  },
  {
   "cell_type": "markdown",
   "id": "86d48c8c",
   "metadata": {},
   "source": [
    "La méthode *.count()* **compte** le nombre d'**éléments** (passés en argument) dans une liste :"
   ]
  },
  {
   "cell_type": "code",
   "execution_count": null,
   "id": "13d76b57",
   "metadata": {},
   "outputs": [],
   "source": [
    "a = [1, 2, 4, 3, 1, 1]\n",
    "a.count(1)"
   ]
  },
  {
   "cell_type": "markdown",
   "id": "a5ec8114",
   "metadata": {},
   "source": [
    "### 4.3.2. Construction d'une liste par itération"
   ]
  },
  {
   "cell_type": "markdown",
   "id": "da31578a",
   "metadata": {},
   "source": [
    "Vous pouvez directement utiliser la fonction *list()* qui prend n'importe quel objet séquentiel (liste, chaîne de caractères, etc.) et qui renvoie une liste :"
   ]
  },
  {
   "cell_type": "code",
   "execution_count": null,
   "id": "1c60bde1",
   "metadata": {},
   "outputs": [],
   "source": [
    "aplphabet=\"ABCDEFGHIJKLMNOPQRSTUVWXYZ\"\n",
    "print(list(aplphabet))"
   ]
  },
  {
   "cell_type": "code",
   "execution_count": null,
   "id": "5028304e",
   "metadata": {},
   "outputs": [],
   "source": [
    "len(list(aplphabet))"
   ]
  },
  {
   "cell_type": "markdown",
   "id": "889c697d",
   "metadata": {},
   "source": [
    "### 4.3.3. Test d'appartenance"
   ]
  },
  {
   "cell_type": "markdown",
   "id": "2e907d01",
   "metadata": {},
   "source": [
    "L'opérateur *in* **teste** si un élément fait partie d'une liste."
   ]
  },
  {
   "cell_type": "code",
   "execution_count": null,
   "id": "ce97f164",
   "metadata": {
    "scrolled": true
   },
   "outputs": [],
   "source": [
    "liste = [1, 3, 5, 7, 9]"
   ]
  },
  {
   "cell_type": "code",
   "execution_count": null,
   "id": "01d4f024",
   "metadata": {},
   "outputs": [],
   "source": [
    "3 in liste"
   ]
  },
  {
   "cell_type": "code",
   "execution_count": null,
   "id": "a9ce92d4",
   "metadata": {},
   "outputs": [],
   "source": [
    "4 in liste"
   ]
  },
  {
   "cell_type": "markdown",
   "id": "90d5c546",
   "metadata": {},
   "source": [
    "## 4.4. Indiçage négatif"
   ]
  },
  {
   "cell_type": "markdown",
   "id": "64d3c683",
   "metadata": {},
   "source": [
    "La liste peut également être indexée avec des nombres négatifs selon le modèle suivant :"
   ]
  },
  {
   "cell_type": "markdown",
   "id": "65a22ac0",
   "metadata": {},
   "source": [
    "| Liste         | :[ | \"girafe\", | \"tigre\", | \"singe\"] |\n",
    "|---------------|----|-----------|----------|----------|\n",
    "| indice positif| :  | 0         | 1        | 2        |\n",
    "| indice négatif| :  | -3        | -2       | -1       |"
   ]
  },
  {
   "cell_type": "markdown",
   "id": "dc33c6ed",
   "metadata": {},
   "source": [
    "| Liste         | :[ | \"A\", | \"B\", | \"C\", | \"D\", | \"E\", | \"F\"] |\n",
    "|---------------|----|------|------|------|------|------|------|\n",
    "| indice positif| :  | 0    | 1    | 2    | 3    | 4    | 5    |\n",
    "| indice négatif| :  | -6   | -5   | -4   | -3   | -2   | -1   |"
   ]
  },
  {
   "cell_type": "code",
   "execution_count": null,
   "id": "a97cfa24",
   "metadata": {},
   "outputs": [],
   "source": [
    "animaux = [\"girafe\", \"tigre\", \"singe\", \"souris\"]"
   ]
  },
  {
   "cell_type": "code",
   "execution_count": null,
   "id": "a48ee711",
   "metadata": {},
   "outputs": [],
   "source": [
    "animaux[-1]"
   ]
  },
  {
   "cell_type": "code",
   "execution_count": null,
   "id": "be165909",
   "metadata": {
    "scrolled": true
   },
   "outputs": [],
   "source": [
    "animaux[-3]"
   ]
  },
  {
   "cell_type": "markdown",
   "id": "c8386faa",
   "metadata": {},
   "source": [
    "## 4.4. Tranches"
   ]
  },
  {
   "cell_type": "markdown",
   "id": "ba270233",
   "metadata": {},
   "source": [
    "Un autre avantage des listes est la possibilité de **sélectionner une partie** d'une liste en utilisant un **indiçage** construit sur le modèle [m:n+1] pour récupérer tous les éléments, du émième au énième (de l'élément m inclus à l'élément n+1 exclu). On dit alors qu'on récupère une tranche de la liste, par exemple :"
   ]
  },
  {
   "cell_type": "markdown",
   "id": "a6c29743",
   "metadata": {},
   "source": [
    "### liste[ début : fin : pas ]"
   ]
  },
  {
   "cell_type": "code",
   "execution_count": null,
   "id": "09ba163c",
   "metadata": {},
   "outputs": [],
   "source": [
    "animaux = [\"girafe\", \"tigre\", \"singe\", \"souris\"]"
   ]
  },
  {
   "cell_type": "code",
   "execution_count": null,
   "id": "295e9202",
   "metadata": {},
   "outputs": [],
   "source": [
    "animaux[0:2]"
   ]
  },
  {
   "cell_type": "code",
   "execution_count": null,
   "id": "f306966c",
   "metadata": {},
   "outputs": [],
   "source": [
    "animaux[0:3]"
   ]
  },
  {
   "cell_type": "code",
   "execution_count": null,
   "id": "ebab0b82",
   "metadata": {},
   "outputs": [],
   "source": [
    "animaux[0:]"
   ]
  },
  {
   "cell_type": "code",
   "execution_count": null,
   "id": "94842ee3",
   "metadata": {},
   "outputs": [],
   "source": [
    "animaux[:]"
   ]
  },
  {
   "cell_type": "code",
   "execution_count": null,
   "id": "3a394a63",
   "metadata": {},
   "outputs": [],
   "source": [
    "animaux[1:]"
   ]
  },
  {
   "cell_type": "code",
   "execution_count": null,
   "id": "9e957ada",
   "metadata": {},
   "outputs": [],
   "source": [
    "animaux[1:-1]"
   ]
  },
  {
   "cell_type": "code",
   "execution_count": null,
   "id": "6283d970",
   "metadata": {},
   "outputs": [],
   "source": [
    "num = list(range(10))\n",
    "num"
   ]
  },
  {
   "cell_type": "code",
   "execution_count": null,
   "id": "4f94e42a",
   "metadata": {},
   "outputs": [],
   "source": [
    "num[0::2]"
   ]
  },
  {
   "cell_type": "code",
   "execution_count": null,
   "id": "72ec9a04",
   "metadata": {},
   "outputs": [],
   "source": [
    "num[1:-1:2]"
   ]
  },
  {
   "cell_type": "code",
   "execution_count": null,
   "id": "a9bbe334",
   "metadata": {},
   "outputs": [],
   "source": [
    "num[3::3]"
   ]
  },
  {
   "cell_type": "markdown",
   "id": "0a1f4ac1",
   "metadata": {},
   "source": [
    "## 4.5. Minimum, maximum et somme d'une liste"
   ]
  },
  {
   "cell_type": "markdown",
   "id": "2ecf3177",
   "metadata": {},
   "source": [
    "Les fonctions *min()*, *max()* et *sum()* renvoient respectivement le **minimum**, le **maximum** et la **somme** d'une liste passée en argument."
   ]
  },
  {
   "cell_type": "code",
   "execution_count": null,
   "id": "7b6437f7",
   "metadata": {},
   "outputs": [],
   "source": [
    "num = list(range(5))\n",
    "num"
   ]
  },
  {
   "cell_type": "code",
   "execution_count": null,
   "id": "41dc07bc",
   "metadata": {},
   "outputs": [],
   "source": [
    "sum(num)"
   ]
  },
  {
   "cell_type": "code",
   "execution_count": null,
   "id": "7988cf51",
   "metadata": {},
   "outputs": [],
   "source": [
    "min(num)"
   ]
  },
  {
   "cell_type": "code",
   "execution_count": null,
   "id": "d2ee6cbf",
   "metadata": {},
   "outputs": [],
   "source": [
    "max(num)"
   ]
  },
  {
   "cell_type": "markdown",
   "id": "1cf577fc",
   "metadata": {},
   "source": [
    "## Exercices"
   ]
  },
  {
   "cell_type": "markdown",
   "id": "2f21767e",
   "metadata": {},
   "source": [
    "## Calcul de somme"
   ]
  },
  {
   "cell_type": "markdown",
   "id": "60820b49",
   "metadata": {},
   "source": [
    "Écrivez un programme Python qui, en utilisant les fonctions disponibles pour les listes, calcule les sommes suivantes dans la plage de 10 à 200, sans utiliser de boucle explicite :\n",
    "\n",
    "* La somme de tous les nombres dans la plage de 10 à 200.\n",
    "* La somme des nombres pairs dans la même plage.\n",
    "* La somme des nombres impairs dans la même plage.\n",
    "\n",
    "Assurez-vous d'utiliser des fonctions distinctes pour chacun de ces calculs, et exploitez au maximum les capacités des fonctions intégrées de Python pour travailler avec des listes."
   ]
  },
  {
   "cell_type": "markdown",
   "id": "879e18d1",
   "metadata": {},
   "source": [
    "## Min et max d'un tableau"
   ]
  },
  {
   "cell_type": "code",
   "execution_count": 1,
   "id": "364dec03",
   "metadata": {},
   "outputs": [
    {
     "name": "stdout",
     "output_type": "stream",
     "text": [
      "10 11 44 25 55 33 22 \n"
     ]
    },
    {
     "data": {
      "text/plain": [
       "['1',\n",
       " '0',\n",
       " ' ',\n",
       " '1',\n",
       " '1',\n",
       " ' ',\n",
       " '4',\n",
       " '4',\n",
       " ' ',\n",
       " '2',\n",
       " '5',\n",
       " ' ',\n",
       " '5',\n",
       " '5',\n",
       " ' ',\n",
       " '3',\n",
       " '3',\n",
       " ' ',\n",
       " '2',\n",
       " '2',\n",
       " ' ']"
      ]
     },
     "execution_count": 1,
     "metadata": {},
     "output_type": "execute_result"
    }
   ],
   "source": [
    "a=input()\n",
    "ma=list(a)\n",
    "ma"
   ]
  },
  {
   "cell_type": "code",
   "execution_count": null,
   "id": "252c57eb",
   "metadata": {},
   "outputs": [],
   "source": [
    "10 22 "
   ]
  }
 ],
 "metadata": {
  "kernelspec": {
   "display_name": "Python 3 (ipykernel)",
   "language": "python",
   "name": "python3"
  },
  "language_info": {
   "codemirror_mode": {
    "name": "ipython",
    "version": 3
   },
   "file_extension": ".py",
   "mimetype": "text/x-python",
   "name": "python",
   "nbconvert_exporter": "python",
   "pygments_lexer": "ipython3",
   "version": "3.10.9"
  }
 },
 "nbformat": 4,
 "nbformat_minor": 5
}
