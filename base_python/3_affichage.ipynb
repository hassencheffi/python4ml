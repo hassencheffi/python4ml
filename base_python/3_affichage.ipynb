{
 "cells": [
  {
   "cell_type": "markdown",
   "id": "6cf53608",
   "metadata": {},
   "source": [
    "# 3. Affichage"
   ]
  },
  {
   "cell_type": "markdown",
   "id": "94f75ea6",
   "metadata": {},
   "source": [
    "## 3.1 La fonction print()"
   ]
  },
  {
   "cell_type": "markdown",
   "id": "d9c16baf",
   "metadata": {},
   "source": [
    "Dans le chapitre 1, nous avons rencontré la fonction print() qui affiche une chaîne de caractères (le fameux \"Hello world!\"). En fait, la fonction **``print()``** affiche l'argument qu'on lui passe entre parenthèses et un retour à ligne. Ce retour à ligne supplémentaire est ajouté par défaut. Si toutefois, on ne veut pas afficher ce retour à la ligne, on peut utiliser l'argument par « mot-clé » end :"
   ]
  },
  {
   "cell_type": "code",
   "execution_count": null,
   "id": "20b57b0d",
   "metadata": {},
   "outputs": [],
   "source": [
    "print(\"Hello world!\")\n",
    "print(\"Hello\", end=\"\")\n",
    "print(\"world!\")"
   ]
  },
  {
   "cell_type": "markdown",
   "id": "485b0368",
   "metadata": {},
   "source": [
    "Il est également possible d'afficher le contenu de plusieurs variables (quel que soit leur type) en les séparant par des virgules :"
   ]
  },
  {
   "cell_type": "code",
   "execution_count": null,
   "id": "7de6664a",
   "metadata": {},
   "outputs": [],
   "source": [
    "x = 32\n",
    "nom = \"John\"\n",
    "print(nom, \"a\", x, \"ans\")"
   ]
  },
  {
   "cell_type": "markdown",
   "id": "d983346e",
   "metadata": {},
   "source": [
    "Python a écrit une phrase complète en remplaçant les variables $x$ et $nom$ par leur contenu. Vous remarquerez que pour afficher plusieurs éléments de texte sur une seule ligne, nous avons utilisé le séparateur « , » entre les différents éléments. Python a également ajouté un espace à chaque fois que l'on utilisait le séparateur « , ». On peut modifier ce comportement en passant à la fonction "
   ]
  },
  {
   "cell_type": "code",
   "execution_count": null,
   "id": "6ecdc6f0",
   "metadata": {},
   "outputs": [],
   "source": [
    "x = 32\n",
    "nom = \"John\"\n",
    "print(nom, \"a\", x, \"ans\", sep=\"\")"
   ]
  },
  {
   "cell_type": "code",
   "execution_count": null,
   "id": "ab1af8ca",
   "metadata": {},
   "outputs": [],
   "source": [
    "print(nom, \"a\", x, \"ans\", sep=\"-\")"
   ]
  },
  {
   "cell_type": "markdown",
   "id": "a3d894ba",
   "metadata": {},
   "source": [
    "## 3.2 Écriture formatée"
   ]
  },
  {
   "cell_type": "markdown",
   "id": "1bd8ef79",
   "metadata": {},
   "source": [
    "### 3.2.1 Définitions"
   ]
  },
  {
   "cell_type": "markdown",
   "id": "5d697220",
   "metadata": {},
   "source": [
    "L'écriture formatée est un mécanisme permettant d'afficher des variables avec un certain format, par exemple justifiées à gauche ou à droite, ou encore avec un certain nombre de décimales pour les floats. L'écriture formatée est incontournable lorsqu'on veut créer des fichiers organisés en « belles colonnes » comme par exemple les fichiers PDB (pour en savoir plus sur ce format, reportez-vous à l'annexe A Quelques formats de données rencontrés en biologie)."
   ]
  },
  {
   "cell_type": "markdown",
   "id": "81663caa",
   "metadata": {},
   "source": [
    "Depuis la version 3.6, Python a introduit les f-strings pour mettre en place l'écriture formatée que nous allons décrire en détail dans cette rubrique. Il existe d'autres manières pour formatter des chaînes de caractères qui étaient utilisées avant la version 3.6, nous en avons mis un rappel bref dans la rubrique suivante. Toutefois, nous conseillons vivement l'utilisation des f-strings si vous débutez l'apprentissage de Python."
   ]
  },
  {
   "cell_type": "markdown",
   "id": "f6701e7c",
   "metadata": {},
   "source": [
    "#### Que signifie f-string ?"
   ]
  },
  {
   "cell_type": "markdown",
   "id": "3d28a3a7",
   "metadata": {},
   "source": [
    "f-string est le diminutif de formatted string literals. Mais encore ? Dans le chapitre précédent, nous avons vu les chaînes de caractères ou encore strings qui étaient représentées par un texte entouré de guillemets simples ou doubles. Par exemple :"
   ]
  },
  {
   "cell_type": "code",
   "execution_count": null,
   "id": "22d845f8",
   "metadata": {},
   "outputs": [],
   "source": [
    "\"Ceci est une chaîne de caractères\""
   ]
  },
  {
   "cell_type": "markdown",
   "id": "df8172b2",
   "metadata": {},
   "source": [
    "L'équivalent en f-string est tout simplement la même chaîne de caractères précédée du caractère f sans espace entre les deux :"
   ]
  },
  {
   "cell_type": "code",
   "execution_count": null,
   "id": "e68807f9",
   "metadata": {},
   "outputs": [],
   "source": [
    "f\"Ceci est une chaîne de caractères\""
   ]
  },
  {
   "cell_type": "markdown",
   "id": "322419e8",
   "metadata": {},
   "source": [
    "### 3.2.2 Prise en main des f-strings"
   ]
  },
  {
   "cell_type": "markdown",
   "id": "2644eec8",
   "metadata": {},
   "source": [
    "Les f-strings permettent une meilleure organisation de l'affichage des variables. Reprenons l'exemple ci-dessus à propos de notre ami John :"
   ]
  },
  {
   "cell_type": "code",
   "execution_count": null,
   "id": "624462b1",
   "metadata": {},
   "outputs": [],
   "source": [
    "x = 32\n",
    "nom = \"John\"\n",
    "print(f\"{nom} a {x} ans\")"
   ]
  },
  {
   "cell_type": "markdown",
   "id": "7a2a3648",
   "metadata": {},
   "source": [
    "#### Remarque:"
   ]
  },
  {
   "cell_type": "markdown",
   "id": "2554501b",
   "metadata": {},
   "source": [
    "Une variable est utilisable plus d'une fois pour une f-string donnée :"
   ]
  },
  {
   "cell_type": "code",
   "execution_count": null,
   "id": "48592caf",
   "metadata": {},
   "outputs": [],
   "source": [
    "var = \"to\"\n",
    "print(f\"{var} et {var} font {var}{var}\")"
   ]
  },
  {
   "cell_type": "markdown",
   "id": "36eae795",
   "metadata": {},
   "source": [
    "### 3.2.3 Spécification de format"
   ]
  },
  {
   "cell_type": "markdown",
   "id": "ebd180e4",
   "metadata": {},
   "source": [
    "Les f-strings permettent de remplacer des variables au sein d'une chaîne de caractères. On peut également spécifier le format de leur affichage."
   ]
  },
  {
   "cell_type": "code",
   "execution_count": null,
   "id": "253481b7",
   "metadata": {},
   "outputs": [],
   "source": [
    "note_dc=11\n",
    "note_ds=15\n",
    "moyenne=(note_dc+note_ds*2)/3\n",
    "print(\"La moyenne est\",moyenne)\n",
    "print(f\"La moyenne est {moyenne:.2f}\")\n",
    "print(f\"La moyenne est {moyenne:.3f}\")"
   ]
  },
  {
   "cell_type": "markdown",
   "id": "d98fd982",
   "metadata": {},
   "source": [
    "Détaillons le contenu des accolades de la première ligne (**``{moyenne:.2f}``**) :\n",
    "* D'abord on a le nom de la variable à formatter, $moyenne$, c'est indispensable avec les f-strings.\n",
    "* Ensuite on rencontre les deux-points **``:``**, ceux-ci indiquent que ce qui suit va spécifier le format dans lequel on veut afficher la variable $moyenne$.\n",
    "* À droite des deux-points on trouve **``.2f``** qui indique ce format : la lettre **``f``** indique qu'on souhaite afficher la variable sous forme d'un **float**, les caractères **``.2``** indiquent **la précision** voulue, soit ici deux chiffres après la virgule. \n",
    "\n",
    "Notez enfin que le formatage avec **``.xf``** ($x$ étant un entier positif) renvoie un résultat arrondi."
   ]
  },
  {
   "cell_type": "markdown",
   "id": "d2ae20ac",
   "metadata": {},
   "source": [
    "Vous pouvez aussi formater des entiers avec la lettre **``d``** (ici d veut dire decimal integer) :"
   ]
  },
  {
   "cell_type": "code",
   "execution_count": null,
   "id": "6b4335e8",
   "metadata": {
    "scrolled": true
   },
   "outputs": [],
   "source": [
    "nombre_etudiant = 28\n",
    "print(f\"Le nombre d'étudiant est {nombre_etudiant:d}\")"
   ]
  },
  {
   "cell_type": "markdown",
   "id": "9dcfe224",
   "metadata": {},
   "source": [
    "Enfin, il est possible de préciser sur combien de caractères vous voulez qu'un résultat soit écrit et comment se fait l'alignement (à gauche, à droite ou centré). Dans la portion de code suivante, le caractère:"
   ]
  },
  {
   "cell_type": "code",
   "execution_count": null,
   "id": "48447122",
   "metadata": {},
   "outputs": [],
   "source": [
    "print(f\"{10:>6d}\")\n",
    "print(f\"{1000:>6d}\")"
   ]
  },
  {
   "cell_type": "code",
   "execution_count": null,
   "id": "ddff95ef",
   "metadata": {},
   "outputs": [],
   "source": [
    "print(f\"{10:<6d}\")\n",
    "print(f\"{1000:<6d}\")"
   ]
  },
  {
   "cell_type": "code",
   "execution_count": null,
   "id": "ddb354d8",
   "metadata": {},
   "outputs": [],
   "source": [
    "print(f\"{10:^6d}\")\n",
    "print(f\"{1000:^6d}\")"
   ]
  },
  {
   "cell_type": "code",
   "execution_count": null,
   "id": "7024dcfb",
   "metadata": {
    "scrolled": true
   },
   "outputs": [],
   "source": [
    "print(f\"{10:*^6d}\")\n",
    "print(f\"{1000:*^6d}\")"
   ]
  },
  {
   "cell_type": "code",
   "execution_count": null,
   "id": "4bb386fd",
   "metadata": {},
   "outputs": [],
   "source": [
    "print(f\"{10:0>6d}\")\n",
    "print(f\"{1000:0>6d}\")"
   ]
  },
  {
   "cell_type": "markdown",
   "id": "376ab13d",
   "metadata": {},
   "source": [
    "> Notez que \n",
    "> * $>$ spécifie un alignement à droite\n",
    ">* $<$ spécifie un alignement à gauche \n",
    ">* ^ spécifie un alignement centré. \n",
    "\n",
    ">Il est également possible d'indiquer le caractère qui servira de remplissage lors des alignements (l'espace est le caractère par défaut)."
   ]
  },
  {
   "cell_type": "markdown",
   "id": "1d15d23f",
   "metadata": {},
   "source": [
    "Ce formatage est également possible sur des chaînes de caractères avec la lettre **``s``** (comme string) :"
   ]
  },
  {
   "cell_type": "code",
   "execution_count": null,
   "id": "b3cc00bc",
   "metadata": {},
   "outputs": [],
   "source": [
    "print(\"Etudiant: Ali DAMMAK. Moyenne: 12.00\")\n",
    "print(\"Etudiant: Salah BEN ABDALLAH. Moyenne: 11.00\")"
   ]
  },
  {
   "cell_type": "code",
   "execution_count": null,
   "id": "e00ed9d7",
   "metadata": {},
   "outputs": [],
   "source": [
    "print(f\"Etudiant: {'Ali DAMMAK':>20}.   Moyenne: {12.00:6>}\")\n",
    "print(f\"Etudiant: {'Salah BEN ABDALLAH':>20}.   Moyenne: {11.00:6>}\")"
   ]
  },
  {
   "cell_type": "markdown",
   "id": "3eac8620",
   "metadata": {},
   "source": [
    "Vous voyez tout de suite l'énorme avantage de l'écriture formatée. Elle vous permet d'écrire en colonnes parfaitement alignées."
   ]
  },
  {
   "cell_type": "markdown",
   "id": "6fe71d97",
   "metadata": {},
   "source": [
    "Pour les floats, il est possible de combiner le nombre de caractères à afficher avec le nombre de décimales :"
   ]
  },
  {
   "cell_type": "code",
   "execution_count": null,
   "id": "b860d394",
   "metadata": {},
   "outputs": [],
   "source": [
    "moyenne = 12.666666666\n",
    "print(f\"{moyenne:7.3f}\")\n",
    "print(f\"{moyenne:10.3f}\")"
   ]
  },
  {
   "cell_type": "markdown",
   "id": "8506564b",
   "metadata": {},
   "source": [
    "L'instruction **``7.3f``** signifie que l'on souhaite écrire un float avec 3 décimales et formaté sur 7 caractères (par défaut justifiés à droite). L'instruction **``10.3f``** fait la même chose sur 10 caractères. Remarquez que le séparateur décimal . compte pour un caractère. De même, si on avait un nombre négatif, le signe $-$ compterait aussi pour un caractère."
   ]
  },
  {
   "cell_type": "markdown",
   "id": "ce720a59",
   "metadata": {},
   "source": [
    "### 3.2.4 Autres détails sur les f-strings"
   ]
  },
  {
   "cell_type": "markdown",
   "id": "17cfb3b0",
   "metadata": {},
   "source": [
    "Si on veut afficher des accolades littérales avec les f-strings, il faut les doubler pour échapper au formatage :"
   ]
  },
  {
   "cell_type": "code",
   "execution_count": null,
   "id": "99df4403",
   "metadata": {},
   "outputs": [],
   "source": [
    "print(f\"Accolades littérales {{}} ou {{ ou }} et pour le formatage {10}\")"
   ]
  },
  {
   "cell_type": "markdown",
   "id": "6843c998",
   "metadata": {},
   "source": [
    "### 3.2.5 Expressions dans les f-strings"
   ]
  },
  {
   "cell_type": "markdown",
   "id": "244c46e3",
   "metadata": {},
   "source": [
    "Une fonctionnalité extrêmement puissante des f-strings est de supporter des expressions Python au sein des accolades. Ainsi, il est possible d'y mettre directement une opération ou encore un appel à une fonction :"
   ]
  },
  {
   "cell_type": "code",
   "execution_count": null,
   "id": "fabb1281",
   "metadata": {},
   "outputs": [],
   "source": [
    "print(f\"Le résultat de 5 * 5 vaut {5 * 5:0.2f}\")"
   ]
  },
  {
   "cell_type": "code",
   "execution_count": null,
   "id": "d93d759b",
   "metadata": {
    "scrolled": true
   },
   "outputs": [],
   "source": [
    "print(f\"Le minimum est {min(1, -2, 4)}\")"
   ]
  },
  {
   "cell_type": "code",
   "execution_count": null,
   "id": "7623ed9e",
   "metadata": {},
   "outputs": [],
   "source": []
  }
 ],
 "metadata": {
  "kernelspec": {
   "display_name": "Python 3 (ipykernel)",
   "language": "python",
   "name": "python3"
  },
  "language_info": {
   "codemirror_mode": {
    "name": "ipython",
    "version": 3
   },
   "file_extension": ".py",
   "mimetype": "text/x-python",
   "name": "python",
   "nbconvert_exporter": "python",
   "pygments_lexer": "ipython3",
   "version": "3.10.9"
  }
 },
 "nbformat": 4,
 "nbformat_minor": 5
}
