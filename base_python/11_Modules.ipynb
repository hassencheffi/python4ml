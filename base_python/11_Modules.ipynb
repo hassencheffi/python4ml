{
 "cells": [
  {
   "cell_type": "markdown",
   "id": "5084a89b",
   "metadata": {},
   "source": [
    "# 11. Modules"
   ]
  },
  {
   "cell_type": "markdown",
   "id": "131ee868",
   "metadata": {},
   "source": [
    "## 11.1 Définition"
   ]
  },
  {
   "cell_type": "markdown",
   "id": "2cf90bd3",
   "metadata": {},
   "source": [
    "Les modules sont des programmes Python qui contiennent des fonctions que l'on est amené à réutiliser souvent (on les appelle aussi bibliothèques ou libraries). Ce sont des « boîtes à outils » qui vont vous être très utiles."
   ]
  },
  {
   "cell_type": "markdown",
   "id": "66f72c17",
   "metadata": {},
   "source": [
    "## 11.2 Importation de modules"
   ]
  },
  {
   "cell_type": "markdown",
   "id": "0b4e3b36",
   "metadata": {},
   "source": [
    "Dans les chapitres précédents, nous avons rencontré la notion de module plusieurs fois. Notamment lorsque nous avons voulu tirer un nombre aléatoire :"
   ]
  },
  {
   "cell_type": "code",
   "execution_count": null,
   "id": "d1268b25",
   "metadata": {},
   "outputs": [],
   "source": [
    "import random\n",
    "random.randint(0, 10)"
   ]
  },
  {
   "cell_type": "markdown",
   "id": "ba306772",
   "metadata": {},
   "source": [
    "Il existe un autre moyen d'importer une ou plusieurs fonctions d'un module :"
   ]
  },
  {
   "cell_type": "code",
   "execution_count": null,
   "id": "0daf5bec",
   "metadata": {},
   "outputs": [],
   "source": [
    "from random import randint\n",
    "randint(0,10)"
   ]
  },
  {
   "cell_type": "markdown",
   "id": "ea5cd2f6",
   "metadata": {},
   "source": [
    "À l'aide du mot-clé from, on peut importer une fonction spécifique d'un module donné. Remarquez bien qu'il est inutile de répéter le nom du module dans ce cas, seul le nom de la fonction en question est requis."
   ]
  },
  {
   "cell_type": "markdown",
   "id": "ddb0f9de",
   "metadata": {},
   "source": [
    "On peut également importer toutes les fonctions d'un module :"
   ]
  },
  {
   "cell_type": "code",
   "execution_count": null,
   "id": "98882232",
   "metadata": {},
   "outputs": [],
   "source": [
    "from random import *\n",
    "randint(0,50)"
   ]
  },
  {
   "cell_type": "markdown",
   "id": "7ee2c689",
   "metadata": {},
   "source": [
    "Enfin, pour vider de la mémoire un module déjà chargé, on peut utiliser "
   ]
  },
  {
   "cell_type": "code",
   "execution_count": null,
   "id": "a3a3daef",
   "metadata": {},
   "outputs": [],
   "source": [
    "import random\n",
    "random.randint(0,10)\n",
    "del random\n",
    "random.randint(0,10)"
   ]
  },
  {
   "cell_type": "markdown",
   "id": "7d90ccf1",
   "metadata": {},
   "source": [
    "## 11.3 Obtenir de l'aide sur les modules importés"
   ]
  },
  {
   "cell_type": "code",
   "execution_count": null,
   "id": "c603c518",
   "metadata": {},
   "outputs": [],
   "source": [
    "import random\n",
    "help(random)"
   ]
  },
  {
   "cell_type": "markdown",
   "id": "69bd04aa",
   "metadata": {},
   "source": [
    "La commande **help()** est en fait une commande plus générale permettant d'avoir de l'aide sur n'importe quel objet chargé en mémoire."
   ]
  },
  {
   "cell_type": "code",
   "execution_count": null,
   "id": "0f351afe",
   "metadata": {},
   "outputs": [],
   "source": [
    "t = [1, 2, 3]\n",
    "help(t)"
   ]
  },
  {
   "cell_type": "markdown",
   "id": "159148ff",
   "metadata": {},
   "source": [
    "## 11.4 Installer un nouveau module"
   ]
  },
  {
   "cell_type": "markdown",
   "id": "1b06648b",
   "metadata": {},
   "source": [
    "### 11.4.1 Environnement python"
   ]
  },
  {
   "cell_type": "markdown",
   "id": "4e0696da",
   "metadata": {},
   "source": [
    "Pour installer un module, il suffit lancer le terminal de windows puis taper la commande suivante :"
   ]
  },
  {
   "cell_type": "code",
   "execution_count": null,
   "id": "7752df16",
   "metadata": {},
   "outputs": [],
   "source": [
    "pip install nom_du_module"
   ]
  },
  {
   "cell_type": "markdown",
   "id": "00fbc47f",
   "metadata": {},
   "source": [
    "Pour mettre un à jour un module déjà installé:"
   ]
  },
  {
   "cell_type": "markdown",
   "id": "38767eda",
   "metadata": {},
   "source": [
    "**``pip install --upgrade nom_du_module``**"
   ]
  },
  {
   "cell_type": "markdown",
   "id": "d5df171e",
   "metadata": {},
   "source": [
    "### 11.4.2 Environnement anaconda"
   ]
  },
  {
   "cell_type": "markdown",
   "id": "c63d5420",
   "metadata": {},
   "source": [
    "La distribution Anaconda contient son propre gestionnaire de packages **``conda``**. À utiliser en ligne de commande (terminal)."
   ]
  },
  {
   "cell_type": "code",
   "execution_count": null,
   "id": "e038681a",
   "metadata": {},
   "outputs": [],
   "source": [
    "conda install nom_du_package"
   ]
  }
 ],
 "metadata": {
  "kernelspec": {
   "display_name": "Python 3 (ipykernel)",
   "language": "python",
   "name": "python3"
  },
  "language_info": {
   "codemirror_mode": {
    "name": "ipython",
    "version": 3
   },
   "file_extension": ".py",
   "mimetype": "text/x-python",
   "name": "python",
   "nbconvert_exporter": "python",
   "pygments_lexer": "ipython3",
   "version": "3.10.9"
  }
 },
 "nbformat": 4,
 "nbformat_minor": 5
}
