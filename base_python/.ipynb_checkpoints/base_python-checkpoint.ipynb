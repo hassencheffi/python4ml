{
 "cells": [
  {
   "cell_type": "markdown",
   "id": "d5a90621",
   "metadata": {},
   "source": [
    "# Débuter avec Python"
   ]
  },
  {
   "cell_type": "markdown",
   "id": "411dfed7",
   "metadata": {},
   "source": [
    "<div style=\"width: 50%; margin: 0 auto;\">\n",
    "    <img src=\"../images/logos/python.svg\" alt=\"Python\" style=\"width: 100%; height: auto;\">\n",
    "</div>"
   ]
  },
  {
   "cell_type": "markdown",
   "id": "18b8c584",
   "metadata": {},
   "source": [
    "## 1. Introduction"
   ]
  },
  {
   "cell_type": "markdown",
   "id": "d6a06bbd",
   "metadata": {},
   "source": [
    "### 1.1. C'est quoi Python ?"
   ]
  },
  {
   "cell_type": "markdown",
   "id": "54fd4368",
   "metadata": {},
   "source": [
    "Le langage de programmation Python a été créé en 1989 par Guido van Rossum, aux Pays-Bas. Le nom Python vient d'un hommage à la série télévisée Monty Python's Flying Circus dont G. van Rossum est fan. La première version publique de ce langage a été publiée en 1991.\n",
    "\n",
    "Ce langage de programmation présente de nombreuses caractéristiques intéressantes :\n",
    "\n",
    " * **Il est multiplateforme**. C'est-à-dire qu'il fonctionne sur de nombreux systèmes d'exploitation : Windows, Mac OS X, Linux, Android, iOS, depuis les mini-ordinateurs Raspberry Pi jusqu'aux supercalculateurs.\n",
    " * **Il est gratuit**. Vous pouvez l'installer sur autant d'ordinateurs que vous voulez (même sur votre téléphone !).\n",
    " * C'est un langage de haut niveau. Il demande relativement peu de connaissance sur le fonctionnement d'un ordinateur pour être utilisé.\n",
    " * **C'est un langage interprété**. Un script Python n'a pas besoin d'être compilé pour être exécuté, contrairement à des langages comme le C ou le C++.\n",
    " * **Il est orienté objet**. C'est-à-dire qu'il est possible de concevoir en Python des entités qui miment celles du monde réel (une cellule, une protéine, un atome, etc.) avec un certain nombre de règles de fonctionnement et d'interactions.\n",
    " * **Il est relativement simple à prendre en main**.\n",
    "    Enfin, il est très utilisé en bioinformatique et plus généralement en analyse de données.\n"
   ]
  },
  {
   "cell_type": "markdown",
   "id": "6bfd1414",
   "metadata": {},
   "source": [
    "### 1.2 Commentaires"
   ]
  },
  {
   "cell_type": "markdown",
   "id": "dfe0f255",
   "metadata": {},
   "source": [
    "En Python, il existe deux façons principales de créer des commentaires : en utilisant le symbole dièse (#) pour les commentaires sur une seule ligne et en utilisant des triples guillemets (\"\"\") pour les commentaires sur plusieurs lignes."
   ]
  },
  {
   "cell_type": "markdown",
   "id": "15a00d82",
   "metadata": {},
   "source": [
    "Commentaire sur une seule ligne avec le symbole dièse (#) :"
   ]
  },
  {
   "cell_type": "code",
   "execution_count": null,
   "id": "f62cf1ca",
   "metadata": {},
   "outputs": [],
   "source": [
    "# Ceci est un commentaire sur une seule ligne\n",
    "variable = 10  # Ceci est aussi un commentaire en fin de ligne"
   ]
  },
  {
   "cell_type": "markdown",
   "id": "7d242b5e",
   "metadata": {},
   "source": [
    "Commentaire sur plusieurs lignes avec des triples guillemets (\"\"\") :"
   ]
  },
  {
   "cell_type": "code",
   "execution_count": null,
   "id": "4e65dfaf",
   "metadata": {},
   "outputs": [],
   "source": [
    "\"\"\"\n",
    "Ceci est un commentaire\n",
    "sur plusieurs lignes.\n",
    "Il peut s'étendre sur plusieurs paragraphes\n",
    "et est souvent utilisé pour la documentation.\n",
    "\"\"\"\n",
    "variable = 20"
   ]
  },
  {
   "cell_type": "markdown",
   "id": "0a0cdc2f",
   "metadata": {},
   "source": [
    "### 1.3 Notion de bloc d'instructions et d'indentation"
   ]
  },
  {
   "cell_type": "markdown",
   "id": "798edf91",
   "metadata": {},
   "source": [
    "En Python, la notion de bloc d'instructions et d'indentation joue un rôle fondamental dans la structure et l'exécution du code. Contrairement à de nombreux autres langages de programmation qui utilisent des caractères spéciaux pour délimiter les blocs de code, Python utilise l'indentation pour organiser les instructions en blocs. Un bloc d'instructions regroupe un ensemble de lignes de code qui doivent être exécutées ensemble en réponse à une condition ou dans un contexte particulier, comme une boucle ou une fonction.\n",
    "\n",
    "L'indentation consiste à décaler horizontalement les lignes de code à l'intérieur d'un bloc à l'aide d'espaces ou de tabulations. Toutes les lignes de code qui ont le même niveau d'indentation appartiennent au même bloc. Par exemple, dans une boucle for ou une structure conditionnelle if, le bloc d'instructions qui doit être exécuté à l'intérieur doit être correctement indenté pour indiquer qu'il fait partie du bloc. Si l'indentation est incorrecte, Python générera une erreur.\n",
    "\n",
    "Cette approche d'indentation favorise la lisibilité et la cohérence du code, car elle impose une structure claire et uniforme. Cependant, il est essentiel de faire preuve de prudence lors du mélange d'espaces et de tabulations pour l'indentation, car cela peut entraîner des erreurs. En résumé, la notion de bloc d'instructions et d'indentation dans Python garantit une organisation logique du code et encourage la rédaction de programmes lisibles et compréhensibles.\n",
    "\n",
    "Voici un exemple simple pour illustrer la notion de bloc d'instructions et d'indentation en Python. Dans cet exemple, nous allons utiliser une boucle for pour afficher les éléments d'une liste, et nous verrons comment l'indentation joue un rôle dans la définition du bloc d'instructions à l'intérieur de la boucle :"
   ]
  },
  {
   "cell_type": "code",
   "execution_count": null,
   "id": "9d9f9538",
   "metadata": {},
   "outputs": [],
   "source": [
    "fruits = [\"pomme\", \"orange\", \"banane\"]\n",
    "\n",
    "for fruit in fruits:\n",
    "    print(\"J'aime les\", fruit)\n",
    "    print(\"C'est délicieux !\")\n",
    "    \n",
    "print(\"Fin de la boucle\")"
   ]
  },
  {
   "cell_type": "markdown",
   "id": "03cddaee",
   "metadata": {},
   "source": [
    "## 2. Les variables"
   ]
  },
  {
   "cell_type": "markdown",
   "id": "859c4f6e",
   "metadata": {},
   "source": [
    "### 2.1 Définition"
   ]
  },
  {
   "cell_type": "markdown",
   "id": "d59127f7",
   "metadata": {},
   "source": [
    "Une variable est une zone de la mémoire de l'ordinateur dans laquelle une valeur est stockée. Aux yeux du programmeur, cette variable est définie par un nom, alors que pour l'ordinateur, il s'agit en fait d'une adresse, c'est-à-dire d'une zone particulière de la mémoire.\n",
    "\n",
    "En Python, la déclaration d'une variable et son initialisation (c'est-à-dire la première valeur que l'on va stocker dedans) se font en même temps.\n",
    "\n",
    "Pour vous en convaincre, testez les instructions suivantes après avoir lancé l'interpréteur :"
   ]
  },
  {
   "cell_type": "code",
   "execution_count": 2,
   "id": "8662f0f8",
   "metadata": {},
   "outputs": [
    {
     "data": {
      "text/plain": [
       "2"
      ]
     },
     "execution_count": 2,
     "metadata": {},
     "output_type": "execute_result"
    }
   ],
   "source": [
    "x = 2\n",
    "x"
   ]
  },
  {
   "cell_type": "markdown",
   "id": "d4f676ef",
   "metadata": {},
   "source": [
    "Ligne 1. Dans cet exemple, nous avons déclaré, puis initialisé la variable x avec la valeur 2. Notez bien qu'en réalité, il s'est passé plusieurs choses :\n",
    " * Python a « deviné » que la variable était un entier. On dit que Python est un langage au typage dynamique.\n",
    " * Python a alloué (réservé) l'espace en mémoire pour y accueillir un entier. Chaque type de variable prend plus ou moins d'espace en mémoire. Python a aussi fait en sorte qu'on puisse retrouver la variable sous le nom x.\n",
    " * Enfin, Python a assigné la valeur 2 à la variable x."
   ]
  },
  {
   "cell_type": "markdown",
   "id": "459f81e7",
   "metadata": {},
   "source": [
    "### 2.2 Les types de variables"
   ]
  },
  {
   "cell_type": "markdown",
   "id": "ee49fb36",
   "metadata": {},
   "source": [
    "Le type d'une variable correspond à la nature de celle-ci. Les trois principaux types dont nous aurons besoin dans un premier temps sont les entiers (integer ou int), les nombres décimaux que nous appellerons floats et les chaînes de caractères (string ou str). Bien sûr, il existe de nombreux autres types (par exemple, les booléens, les nombres complexes, etc.).\n",
    "\n",
    "Dans l'exemple précédent, nous avons stocké un nombre entier (int) dans la variable x, mais il est tout à fait possible de stocker des floats, des chaînes de caractères (string ou str) ou de nombreux autres types de variable que nous verrons par la suite :"
   ]
  },
  {
   "cell_type": "code",
   "execution_count": 4,
   "id": "77055fc8",
   "metadata": {},
   "outputs": [
    {
     "data": {
      "text/plain": [
       "3.14"
      ]
     },
     "execution_count": 4,
     "metadata": {},
     "output_type": "execute_result"
    }
   ],
   "source": [
    "y = 3.14\n",
    "y"
   ]
  },
  {
   "cell_type": "code",
   "execution_count": 5,
   "id": "e12aa4c0",
   "metadata": {},
   "outputs": [
    {
     "data": {
      "text/plain": [
       "'bonjour'"
      ]
     },
     "execution_count": 5,
     "metadata": {},
     "output_type": "execute_result"
    }
   ],
   "source": [
    "a = \"bonjour\"\n",
    "a"
   ]
  },
  {
   "cell_type": "code",
   "execution_count": null,
   "id": "76e3ea24",
   "metadata": {},
   "outputs": [],
   "source": [
    "b = 'salut'\n",
    "b"
   ]
  },
  {
   "cell_type": "code",
   "execution_count": 6,
   "id": "86eae46f",
   "metadata": {},
   "outputs": [
    {
     "data": {
      "text/plain": [
       "'girafe'"
      ]
     },
     "execution_count": 6,
     "metadata": {},
     "output_type": "execute_result"
    }
   ],
   "source": [
    "c = \"\"\"girafe\"\"\"\n",
    "c"
   ]
  },
  {
   "cell_type": "code",
   "execution_count": 7,
   "id": "998ff668",
   "metadata": {},
   "outputs": [
    {
     "data": {
      "text/plain": [
       "'lion'"
      ]
     },
     "execution_count": 7,
     "metadata": {},
     "output_type": "execute_result"
    }
   ],
   "source": [
    "d = '''lion'''\n",
    "d"
   ]
  },
  {
   "cell_type": "markdown",
   "id": "d7673810",
   "metadata": {},
   "source": [
    "### 2.3 Nommage"
   ]
  },
  {
   "cell_type": "markdown",
   "id": "8e6a7066",
   "metadata": {},
   "source": [
    "Le nom des variables en Python peut être constitué de lettres minuscules (a à z), de lettres majuscules (A à Z), de nombres (0 à 9) ou du caractère souligné (_). Vous ne pouvez pas utiliser d'espace dans un nom de variable.\n",
    "\n",
    "Par ailleurs, un nom de variable ne doit pas débuter par un chiffre et il n'est pas recommandé de le faire débuter par le caractère _ (sauf cas très particuliers).\n",
    "\n",
    "De plus, il faut absolument éviter d'utiliser un mot « réservé » par Python comme nom de variable (par exemple : print, range, for, from, etc.).\n",
    "\n",
    "Enfin, Python est sensible à la casse, ce qui signifie que les variables TesT, test et TEST sont différentes."
   ]
  },
  {
   "cell_type": "markdown",
   "id": "9890059e",
   "metadata": {},
   "source": [
    "### 2.4 Opérations"
   ]
  },
  {
   "cell_type": "markdown",
   "id": "22b6d24d",
   "metadata": {},
   "source": [
    "#### 2.4.1. Opérations sur les types numériques"
   ]
  },
  {
   "cell_type": "markdown",
   "id": "24332b6a",
   "metadata": {},
   "source": [
    "Les quatre opérations arithmétiques de base se font de manière simple sur les types numériques (nombres entiers et floats) :"
   ]
  },
  {
   "cell_type": "code",
   "execution_count": 8,
   "id": "3d79d6a5",
   "metadata": {},
   "outputs": [
    {
     "name": "stdout",
     "output_type": "stream",
     "text": [
      "47\n",
      "43\n",
      "135\n",
      "42.5\n",
      "452.5\n"
     ]
    }
   ],
   "source": [
    "x = 45\n",
    "print(x + 2)\n",
    "print(x - 2)\n",
    "print(x * 3)\n",
    "y = 2.5\n",
    "print(x - y)\n",
    "print((x * 10) + y)"
   ]
  },
  {
   "cell_type": "markdown",
   "id": "ff156891",
   "metadata": {},
   "source": [
    "Remarquez toutefois que si vous mélangez les types entiers et floats, le résultat est renvoyé comme un float (car ce type est plus général). Par ailleurs, l'utilisation de parenthèses permet de gérer les priorités."
   ]
  },
  {
   "cell_type": "markdown",
   "id": "58e17cab",
   "metadata": {},
   "source": [
    "L'opérateur / effectue une division. Contrairement aux opérateurs +, - et *, celui-ci renvoie systématiquement un float :"
   ]
  },
  {
   "cell_type": "code",
   "execution_count": 9,
   "id": "9a74a7b7",
   "metadata": {},
   "outputs": [
    {
     "data": {
      "text/plain": [
       "0.75"
      ]
     },
     "execution_count": 9,
     "metadata": {},
     "output_type": "execute_result"
    }
   ],
   "source": [
    "3 / 4"
   ]
  },
  {
   "cell_type": "code",
   "execution_count": 10,
   "id": "34d91c5c",
   "metadata": {},
   "outputs": [
    {
     "data": {
      "text/plain": [
       "4.0"
      ]
     },
     "execution_count": 10,
     "metadata": {},
     "output_type": "execute_result"
    }
   ],
   "source": [
    "8/2"
   ]
  },
  {
   "cell_type": "markdown",
   "id": "569375ae",
   "metadata": {},
   "source": [
    "Pour obtenir le quotient et le reste d'une division entière, on utilise respectivement les symboles // et modulo % :"
   ]
  },
  {
   "cell_type": "code",
   "execution_count": 11,
   "id": "ec548bd9",
   "metadata": {},
   "outputs": [
    {
     "data": {
      "text/plain": [
       "2"
      ]
     },
     "execution_count": 11,
     "metadata": {},
     "output_type": "execute_result"
    }
   ],
   "source": [
    "# division entière\n",
    "5 // 2"
   ]
  },
  {
   "cell_type": "code",
   "execution_count": 12,
   "id": "32b6e5fd",
   "metadata": {},
   "outputs": [
    {
     "data": {
      "text/plain": [
       "1"
      ]
     },
     "execution_count": 12,
     "metadata": {},
     "output_type": "execute_result"
    }
   ],
   "source": [
    "# reste de la division entière (modulo)\n",
    "5 % 2"
   ]
  },
  {
   "cell_type": "markdown",
   "id": "e84cdee8",
   "metadata": {},
   "source": [
    "Les symboles +, -, *, /, **, // et % sont appelés opérateurs, car ils réalisent des opérations sur les variables."
   ]
  },
  {
   "cell_type": "markdown",
   "id": "22670c9f",
   "metadata": {},
   "source": [
    "Enfin, il existe des opérateurs « combinés » qui effectue une opération et une affectation en une seule étape :"
   ]
  },
  {
   "cell_type": "code",
   "execution_count": 13,
   "id": "c055cefd",
   "metadata": {},
   "outputs": [
    {
     "data": {
      "text/plain": [
       "1"
      ]
     },
     "execution_count": 13,
     "metadata": {},
     "output_type": "execute_result"
    }
   ],
   "source": [
    "i = 0\n",
    "i = i + 1\n",
    "i"
   ]
  },
  {
   "cell_type": "code",
   "execution_count": 14,
   "id": "8013215b",
   "metadata": {},
   "outputs": [
    {
     "data": {
      "text/plain": [
       "2"
      ]
     },
     "execution_count": 14,
     "metadata": {},
     "output_type": "execute_result"
    }
   ],
   "source": [
    "i += 1\n",
    "i"
   ]
  },
  {
   "cell_type": "code",
   "execution_count": 15,
   "id": "f18221ce",
   "metadata": {},
   "outputs": [
    {
     "data": {
      "text/plain": [
       "4"
      ]
     },
     "execution_count": 15,
     "metadata": {},
     "output_type": "execute_result"
    }
   ],
   "source": [
    "i += 2\n",
    "i"
   ]
  },
  {
   "cell_type": "markdown",
   "id": "247186e3",
   "metadata": {},
   "source": [
    "L'opérateur += effectue une addition puis affecte le résultat à la même variable. Cette opération s'appelle une « incrémentation ».\n",
    "\n",
    "Les opérateurs -=, *= et /= se comportent de manière similaire pour la soustraction, la multiplication et la division."
   ]
  },
  {
   "cell_type": "markdown",
   "id": "491a06f6",
   "metadata": {},
   "source": [
    "#### 2.4.2 Opérations sur les chaînes de caractères"
   ]
  },
  {
   "cell_type": "markdown",
   "id": "471cc6e8",
   "metadata": {},
   "source": [
    "Pour les chaînes de caractères, deux opérations sont possibles, l'addition et la multiplication :"
   ]
  },
  {
   "cell_type": "code",
   "execution_count": 16,
   "id": "4eed3464",
   "metadata": {},
   "outputs": [
    {
     "data": {
      "text/plain": [
       "'Salut'"
      ]
     },
     "execution_count": 16,
     "metadata": {},
     "output_type": "execute_result"
    }
   ],
   "source": [
    "chaine = \"Salut\"\n",
    "chaine"
   ]
  },
  {
   "cell_type": "code",
   "execution_count": 17,
   "id": "3bae718c",
   "metadata": {},
   "outputs": [
    {
     "data": {
      "text/plain": [
       "'Salut Python'"
      ]
     },
     "execution_count": 17,
     "metadata": {},
     "output_type": "execute_result"
    }
   ],
   "source": [
    "chaine + \" Python\""
   ]
  },
  {
   "cell_type": "code",
   "execution_count": 18,
   "id": "b86cc0c7",
   "metadata": {},
   "outputs": [
    {
     "data": {
      "text/plain": [
       "'SalutSalutSalut'"
      ]
     },
     "execution_count": 18,
     "metadata": {},
     "output_type": "execute_result"
    }
   ],
   "source": [
    "chaine * 3"
   ]
  },
  {
   "cell_type": "markdown",
   "id": "be878a81",
   "metadata": {},
   "source": [
    "L'opérateur d'addition + concatène (assemble) deux chaînes de caractères.\n",
    "\n",
    "L'opérateur de multiplication * entre un nombre entier et une chaîne de caractères duplique (répète) plusieurs fois une chaîne de caractères."
   ]
  },
  {
   "cell_type": "markdown",
   "id": "3bc8321c",
   "metadata": {},
   "source": [
    "### 2.5. La fonction type()"
   ]
  },
  {
   "cell_type": "markdown",
   "id": "ae9df527",
   "metadata": {},
   "source": [
    "Si vous ne vous souvenez plus du type d'une variable, utilisez la fonction type() qui vous le rappellera."
   ]
  },
  {
   "cell_type": "code",
   "execution_count": 19,
   "id": "0f0e46f7",
   "metadata": {},
   "outputs": [
    {
     "data": {
      "text/plain": [
       "int"
      ]
     },
     "execution_count": 19,
     "metadata": {},
     "output_type": "execute_result"
    }
   ],
   "source": [
    "x = 2\n",
    "type(x)"
   ]
  },
  {
   "cell_type": "code",
   "execution_count": 20,
   "id": "e18fd4cf",
   "metadata": {},
   "outputs": [
    {
     "data": {
      "text/plain": [
       "float"
      ]
     },
     "execution_count": 20,
     "metadata": {},
     "output_type": "execute_result"
    }
   ],
   "source": [
    "y = 2.0\n",
    "type(y)"
   ]
  },
  {
   "cell_type": "code",
   "execution_count": 21,
   "id": "721b571e",
   "metadata": {},
   "outputs": [
    {
     "data": {
      "text/plain": [
       "str"
      ]
     },
     "execution_count": 21,
     "metadata": {},
     "output_type": "execute_result"
    }
   ],
   "source": [
    "z = '2'\n",
    "type(z)"
   ]
  },
  {
   "cell_type": "markdown",
   "id": "67aef6d0",
   "metadata": {},
   "source": [
    "### 2.6. Conversion de types"
   ]
  },
  {
   "cell_type": "markdown",
   "id": "89f5a336",
   "metadata": {},
   "source": [
    "En programmation, on est souvent amené à convertir les types, c'est-à-dire passer d'un type numérique à une chaîne de caractères ou vice-versa. En Python, rien de plus simple avec les fonctions int(), float() et str(). Pour vous en convaincre, regardez ces exemples :"
   ]
  },
  {
   "cell_type": "code",
   "execution_count": 22,
   "id": "8ec030e5",
   "metadata": {},
   "outputs": [
    {
     "data": {
      "text/plain": [
       "'3'"
      ]
     },
     "execution_count": 22,
     "metadata": {},
     "output_type": "execute_result"
    }
   ],
   "source": [
    "i = 3\n",
    "str(i)"
   ]
  },
  {
   "cell_type": "code",
   "execution_count": 23,
   "id": "f9af4ef2",
   "metadata": {},
   "outputs": [
    {
     "data": {
      "text/plain": [
       "456"
      ]
     },
     "execution_count": 23,
     "metadata": {},
     "output_type": "execute_result"
    }
   ],
   "source": [
    "i = '456'\n",
    "int(i)"
   ]
  },
  {
   "cell_type": "code",
   "execution_count": 24,
   "id": "d8e02755",
   "metadata": {},
   "outputs": [
    {
     "data": {
      "text/plain": [
       "456.0"
      ]
     },
     "execution_count": 24,
     "metadata": {},
     "output_type": "execute_result"
    }
   ],
   "source": [
    "float(i)\n",
    "456.0"
   ]
  },
  {
   "cell_type": "code",
   "execution_count": 25,
   "id": "813a2a85",
   "metadata": {},
   "outputs": [
    {
     "data": {
      "text/plain": [
       "3.1416"
      ]
     },
     "execution_count": 25,
     "metadata": {},
     "output_type": "execute_result"
    }
   ],
   "source": [
    "i = '3.1416'\n",
    "float(i)"
   ]
  },
  {
   "cell_type": "markdown",
   "id": "a105a554",
   "metadata": {},
   "source": [
    "### 2.7. Exercices"
   ]
  },
  {
   "cell_type": "markdown",
   "id": "0e19ba64",
   "metadata": {},
   "source": [
    "Prédire le résultat : opérations\n",
    "    \n",
    "* (1+2)**3\n",
    "* \"Da\" * 4\n",
    "* \"Da\" + 3\n",
    "* (\"Pa\"+\"La\") * 2\n",
    "* (\"Da\"*4) / 2\n",
    "* 5 / 2\n",
    "* 5 // 2\n",
    "* 5 % 2\n"
   ]
  },
  {
   "cell_type": "markdown",
   "id": "161b7e59",
   "metadata": {},
   "source": [
    "Prédire le résultat : opérations et conversions de types\n",
    "\n",
    "* str(4) * int(\"3\")\n",
    "* int(\"3\") + float(\"3.2\")\n",
    "* str(3) * float(\"3.2\")\n",
    "* str(3/4) * 2"
   ]
  },
  {
   "cell_type": "code",
   "execution_count": null,
   "id": "ce91cc4f",
   "metadata": {},
   "outputs": [],
   "source": []
  }
 ],
 "metadata": {
  "kernelspec": {
   "display_name": "Python 3 (ipykernel)",
   "language": "python",
   "name": "python3"
  },
  "language_info": {
   "codemirror_mode": {
    "name": "ipython",
    "version": 3
   },
   "file_extension": ".py",
   "mimetype": "text/x-python",
   "name": "python",
   "nbconvert_exporter": "python",
   "pygments_lexer": "ipython3",
   "version": "3.10.9"
  }
 },
 "nbformat": 4,
 "nbformat_minor": 5
}
