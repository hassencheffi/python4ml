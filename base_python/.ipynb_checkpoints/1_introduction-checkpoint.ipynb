{
 "cells": [
  {
   "cell_type": "markdown",
   "id": "d5a90621",
   "metadata": {},
   "source": [
    "# 1. Introduction"
   ]
  },
  {
   "cell_type": "markdown",
   "id": "411dfed7",
   "metadata": {},
   "source": [
    "<div style=\"width: 50%; margin: 0 auto;\">\n",
    "    <img src=\"../images/logos/python.svg\" alt=\"Python\" style=\"width: 100%; height: auto;\">\n",
    "</div>"
   ]
  },
  {
   "cell_type": "markdown",
   "id": "d6a06bbd",
   "metadata": {},
   "source": [
    "## 1.1. C'est quoi Python ?"
   ]
  },
  {
   "cell_type": "markdown",
   "id": "54fd4368",
   "metadata": {},
   "source": [
    "Le langage de programmation Python a été créé en 1989 par Guido van Rossum, aux Pays-Bas. Le nom Python vient d'un hommage à la série télévisée Monty Python's Flying Circus dont G. van Rossum est fan. La première version publique de ce langage a été publiée en 1991.\n",
    "\n",
    "Ce langage de programmation présente de nombreuses caractéristiques intéressantes :\n",
    "\n",
    " * **Il est multiplateforme**. C'est-à-dire qu'il fonctionne sur de nombreux systèmes d'exploitation : Windows, Mac OS X, Linux, Android, iOS, depuis les mini-ordinateurs Raspberry Pi jusqu'aux supercalculateurs.\n",
    " * **Il est gratuit**. Vous pouvez l'installer sur autant d'ordinateurs que vous voulez (même sur votre téléphone !).\n",
    " * C'est un langage de haut niveau. Il demande relativement peu de connaissance sur le fonctionnement d'un ordinateur pour être utilisé.\n",
    " * **C'est un langage interprété**. Un script Python n'a pas besoin d'être compilé pour être exécuté, contrairement à des langages comme le C ou le C++.\n",
    " * **Il est orienté objet**. C'est-à-dire qu'il est possible de concevoir en Python des entités qui miment celles du monde réel (une cellule, une protéine, un atome, etc.) avec un certain nombre de règles de fonctionnement et d'interactions.\n",
    " * **Il est relativement simple à prendre en main**.\n",
    "    Enfin, il est très utilisé en bioinformatique et plus généralement en analyse de données.\n"
   ]
  },
  {
   "cell_type": "markdown",
   "id": "6bfd1414",
   "metadata": {},
   "source": [
    "## 1.2 Commentaires"
   ]
  },
  {
   "cell_type": "markdown",
   "id": "dfe0f255",
   "metadata": {},
   "source": [
    "En Python, il existe deux façons principales de créer des commentaires : en utilisant le symbole dièse (#) pour les commentaires sur une seule ligne et en utilisant des triples guillemets (\"\"\") pour les commentaires sur plusieurs lignes."
   ]
  },
  {
   "cell_type": "markdown",
   "id": "15a00d82",
   "metadata": {},
   "source": [
    "Commentaire sur une seule ligne avec le symbole dièse (#) :"
   ]
  },
  {
   "cell_type": "code",
   "execution_count": null,
   "id": "f62cf1ca",
   "metadata": {},
   "outputs": [],
   "source": [
    "# Ceci est un commentaire sur une seule ligne\n",
    "variable = 10  # Ceci est aussi un commentaire en fin de ligne"
   ]
  },
  {
   "cell_type": "markdown",
   "id": "7d242b5e",
   "metadata": {},
   "source": [
    "Commentaire sur plusieurs lignes avec des triples guillemets (\"\"\") :"
   ]
  },
  {
   "cell_type": "code",
   "execution_count": 3,
   "id": "4e65dfaf",
   "metadata": {},
   "outputs": [],
   "source": [
    "\"\"\"\n",
    "Ceci est un commentaire\n",
    "sur plusieurs lignes.\n",
    "Il peut s'étendre sur plusieurs paragraphes\n",
    "et est souvent utilisé pour la documentation.\n",
    "\"\"\"\n",
    "variable = 20"
   ]
  },
  {
   "cell_type": "markdown",
   "id": "0a0cdc2f",
   "metadata": {},
   "source": [
    "## 1.3 Notion de bloc d'instructions et d'indentation"
   ]
  },
  {
   "cell_type": "markdown",
   "id": "798edf91",
   "metadata": {},
   "source": [
    "En Python, la notion de bloc d'instructions et d'indentation joue un rôle fondamental dans la structure et l'exécution du code. Contrairement à de nombreux autres langages de programmation qui utilisent des caractères spéciaux pour délimiter les blocs de code, Python utilise l'indentation pour organiser les instructions en blocs. Un bloc d'instructions regroupe un ensemble de lignes de code qui doivent être exécutées ensemble en réponse à une condition ou dans un contexte particulier, comme une boucle ou une fonction.\n",
    "\n",
    "L'indentation consiste à décaler horizontalement les lignes de code à l'intérieur d'un bloc à l'aide d'espaces ou de tabulations. Toutes les lignes de code qui ont le même niveau d'indentation appartiennent au même bloc. Par exemple, dans une boucle for ou une structure conditionnelle if, le bloc d'instructions qui doit être exécuté à l'intérieur doit être correctement indenté pour indiquer qu'il fait partie du bloc. Si l'indentation est incorrecte, Python générera une erreur.\n",
    "\n",
    "Cette approche d'indentation favorise la lisibilité et la cohérence du code, car elle impose une structure claire et uniforme. Cependant, il est essentiel de faire preuve de prudence lors du mélange d'espaces et de tabulations pour l'indentation, car cela peut entraîner des erreurs. En résumé, la notion de bloc d'instructions et d'indentation dans Python garantit une organisation logique du code et encourage la rédaction de programmes lisibles et compréhensibles.\n",
    "\n",
    "Voici un exemple simple pour illustrer la notion de bloc d'instructions et d'indentation en Python. Dans cet exemple, nous allons utiliser une boucle for pour afficher les éléments d'une liste, et nous verrons comment l'indentation joue un rôle dans la définition du bloc d'instructions à l'intérieur de la boucle :"
   ]
  },
  {
   "cell_type": "code",
   "execution_count": 1,
   "id": "9d9f9538",
   "metadata": {},
   "outputs": [
    {
     "name": "stdout",
     "output_type": "stream",
     "text": [
      "J'aime les pomme\n",
      "C'est délicieux !\n",
      "J'aime les orange\n",
      "C'est délicieux !\n",
      "J'aime les banane\n",
      "C'est délicieux !\n",
      "Fin de la boucle\n"
     ]
    }
   ],
   "source": [
    "fruits = [\"pomme\", \"orange\", \"banane\"]\n",
    "\n",
    "for fruit in fruits:\n",
    "    print(\"J'aime les\", fruit)\n",
    "    print(\"C'est délicieux !\")\n",
    "    \n",
    "print(\"Fin de la boucle\")"
   ]
  },
  {
   "cell_type": "code",
   "execution_count": null,
   "id": "ce91cc4f",
   "metadata": {},
   "outputs": [],
   "source": [
    "for steps in range(100):\n",
    "    for c in ('blue', 'red', 'green'):\n",
    "        color(c)\n",
    "        forward(steps)\n",
    "        right(30)"
   ]
  },
  {
   "cell_type": "code",
   "execution_count": null,
   "id": "a084ec2b",
   "metadata": {},
   "outputs": [],
   "source": []
  }
 ],
 "metadata": {
  "kernelspec": {
   "display_name": "Python 3 (ipykernel)",
   "language": "python",
   "name": "python3"
  },
  "language_info": {
   "codemirror_mode": {
    "name": "ipython",
    "version": 3
   },
   "file_extension": ".py",
   "mimetype": "text/x-python",
   "name": "python",
   "nbconvert_exporter": "python",
   "pygments_lexer": "ipython3",
   "version": "3.10.9"
  }
 },
 "nbformat": 4,
 "nbformat_minor": 5
}
