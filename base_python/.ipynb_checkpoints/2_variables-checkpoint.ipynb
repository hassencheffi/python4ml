{
 "cells": [
  {
   "cell_type": "markdown",
   "id": "03cddaee",
   "metadata": {},
   "source": [
    "# 2. Les variables"
   ]
  },
  {
   "cell_type": "markdown",
   "id": "859c4f6e",
   "metadata": {},
   "source": [
    "## 2.1 Définition"
   ]
  },
  {
   "cell_type": "markdown",
   "id": "d59127f7",
   "metadata": {},
   "source": [
    "Une variable est une zone de la mémoire de l'ordinateur dans laquelle une valeur est stockée. Aux yeux du programmeur, cette variable est définie par un nom, alors que pour l'ordinateur, il s'agit en fait d'une adresse, c'est-à-dire d'une zone particulière de la mémoire.\n",
    "\n",
    "En Python, la déclaration d'une variable et son initialisation (c'est-à-dire la première valeur que l'on va stocker dedans) se font en même temps.\n",
    "\n",
    "Pour vous en convaincre, testez les instructions suivantes après avoir lancé l'interpréteur :"
   ]
  },
  {
   "cell_type": "code",
   "execution_count": null,
   "id": "8662f0f8",
   "metadata": {},
   "outputs": [],
   "source": [
    "x = 2\n",
    "x"
   ]
  },
  {
   "cell_type": "markdown",
   "id": "d4f676ef",
   "metadata": {},
   "source": [
    "Ligne 1. Dans cet exemple, nous avons déclaré, puis initialisé la variable x avec la valeur 2. Notez bien qu'en réalité, il s'est passé plusieurs choses :\n",
    " * Python a « deviné » que la variable était un entier. On dit que Python est un langage au typage dynamique.\n",
    " * Python a alloué (réservé) l'espace en mémoire pour y accueillir un entier. Chaque type de variable prend plus ou moins d'espace en mémoire. Python a aussi fait en sorte qu'on puisse retrouver la variable sous le nom x.\n",
    " * Enfin, Python a assigné la valeur 2 à la variable x."
   ]
  },
  {
   "cell_type": "markdown",
   "id": "459f81e7",
   "metadata": {},
   "source": [
    "## 2.2 Les types de variables"
   ]
  },
  {
   "cell_type": "markdown",
   "id": "ee49fb36",
   "metadata": {},
   "source": [
    "Le type d'une variable correspond à la nature de celle-ci. Les trois principaux types dont nous aurons besoin dans un premier temps sont les entiers (integer ou int), les nombres décimaux que nous appellerons floats et les chaînes de caractères (string ou str). Bien sûr, il existe de nombreux autres types (par exemple, les booléens, les nombres complexes, etc.).\n",
    "\n",
    "Dans l'exemple précédent, nous avons stocké un nombre entier (int) dans la variable x, mais il est tout à fait possible de stocker des floats, des chaînes de caractères (string ou str) ou de nombreux autres types de variable que nous verrons par la suite :"
   ]
  },
  {
   "cell_type": "code",
   "execution_count": null,
   "id": "77055fc8",
   "metadata": {},
   "outputs": [],
   "source": [
    "y = 3.14\n",
    "y"
   ]
  },
  {
   "cell_type": "code",
   "execution_count": null,
   "id": "e12aa4c0",
   "metadata": {},
   "outputs": [],
   "source": [
    "a = \"bonjour\"\n",
    "a"
   ]
  },
  {
   "cell_type": "code",
   "execution_count": null,
   "id": "76e3ea24",
   "metadata": {},
   "outputs": [],
   "source": [
    "b = 'salut'\n",
    "b"
   ]
  },
  {
   "cell_type": "code",
   "execution_count": null,
   "id": "86eae46f",
   "metadata": {},
   "outputs": [],
   "source": [
    "c = \"\"\"girafe\n",
    "suite\n",
    "suite\n",
    "\"\"\"\n",
    "c"
   ]
  },
  {
   "cell_type": "code",
   "execution_count": null,
   "id": "998ff668",
   "metadata": {},
   "outputs": [],
   "source": [
    "d = '''lion'''\n",
    "d"
   ]
  },
  {
   "cell_type": "markdown",
   "id": "d7673810",
   "metadata": {},
   "source": [
    "## 2.3 Nommage"
   ]
  },
  {
   "cell_type": "markdown",
   "id": "8e6a7066",
   "metadata": {},
   "source": [
    "Le nom des variables en Python peut être constitué de lettres minuscules (a à z), de lettres majuscules (A à Z), de nombres (0 à 9) ou du caractère souligné (_). Vous ne pouvez pas utiliser d'espace dans un nom de variable.\n",
    "\n",
    "Par ailleurs, un nom de variable ne doit pas débuter par un chiffre et il n'est pas recommandé de le faire débuter par le caractère _ (sauf cas très particuliers).\n",
    "\n",
    "De plus, il faut absolument éviter d'utiliser un mot « réservé » par Python comme nom de variable (par exemple : print, range, for, from, etc.).\n",
    "\n",
    "Enfin, Python est sensible à la casse, ce qui signifie que les variables TesT, test et TEST sont différentes."
   ]
  },
  {
   "cell_type": "markdown",
   "id": "9890059e",
   "metadata": {},
   "source": [
    "## 2.4 Opérations"
   ]
  },
  {
   "cell_type": "markdown",
   "id": "22b6d24d",
   "metadata": {},
   "source": [
    "### 2.4.1. Opérations sur les types numériques"
   ]
  },
  {
   "cell_type": "markdown",
   "id": "24332b6a",
   "metadata": {},
   "source": [
    "Les quatre opérations arithmétiques de base se font de manière simple sur les types numériques (nombres entiers et floats) :"
   ]
  },
  {
   "cell_type": "code",
   "execution_count": null,
   "id": "3d79d6a5",
   "metadata": {},
   "outputs": [],
   "source": [
    "x = 45\n",
    "print(x + 2)\n",
    "print(x - 2)\n",
    "print(x * 3)\n",
    "y = 2.5\n",
    "print(x - y)\n",
    "print((x * 10) + y)"
   ]
  },
  {
   "cell_type": "markdown",
   "id": "ff156891",
   "metadata": {},
   "source": [
    "Remarquez toutefois que si vous mélangez les types entiers et floats, le résultat est renvoyé comme un float (car ce type est plus général). Par ailleurs, l'utilisation de parenthèses permet de gérer les priorités."
   ]
  },
  {
   "cell_type": "markdown",
   "id": "58e17cab",
   "metadata": {},
   "source": [
    "L'opérateur $/$ effectue une division. Contrairement aux opérateurs $+$, $-$ et $*$, celui-ci renvoie systématiquement un float :"
   ]
  },
  {
   "cell_type": "code",
   "execution_count": null,
   "id": "9a74a7b7",
   "metadata": {},
   "outputs": [],
   "source": [
    "3 / 4"
   ]
  },
  {
   "cell_type": "code",
   "execution_count": null,
   "id": "34d91c5c",
   "metadata": {},
   "outputs": [],
   "source": [
    "8/2"
   ]
  },
  {
   "cell_type": "markdown",
   "id": "0c28327d",
   "metadata": {},
   "source": [
    "En Python, l'opération 2\\*\\*3 correspond à l'exponentiation, c'est-à-dire élever 2 à la puissance 3. Vous pouvez effectuer cette opération dans un programme Python de la manière suivante :"
   ]
  },
  {
   "cell_type": "code",
   "execution_count": null,
   "id": "f2ea1f55",
   "metadata": {},
   "outputs": [],
   "source": [
    "2**3"
   ]
  },
  {
   "cell_type": "markdown",
   "id": "569375ae",
   "metadata": {},
   "source": [
    "Pour obtenir le quotient et le reste d'une division entière, on utilise respectivement les symboles $//$ et modulo $\\%$ :"
   ]
  },
  {
   "cell_type": "code",
   "execution_count": null,
   "id": "ec548bd9",
   "metadata": {},
   "outputs": [],
   "source": [
    "# division entière\n",
    "5 // 2"
   ]
  },
  {
   "cell_type": "code",
   "execution_count": null,
   "id": "32b6e5fd",
   "metadata": {},
   "outputs": [],
   "source": [
    "# reste de la division entière (modulo)\n",
    "5 % 2"
   ]
  },
  {
   "cell_type": "markdown",
   "id": "e84cdee8",
   "metadata": {},
   "source": [
    "Les symboles $+$, $-$, $*$, $/$, $**$, $//$ et $\\%$ sont appelés opérateurs, car ils réalisent des opérations sur les variables."
   ]
  },
  {
   "cell_type": "markdown",
   "id": "22670c9f",
   "metadata": {},
   "source": [
    "Enfin, il existe des opérateurs « combinés » qui effectue une opération et une affectation en une seule étape :"
   ]
  },
  {
   "cell_type": "code",
   "execution_count": null,
   "id": "c055cefd",
   "metadata": {},
   "outputs": [],
   "source": [
    "i = 0\n",
    "i = i + 1\n",
    "i"
   ]
  },
  {
   "cell_type": "code",
   "execution_count": null,
   "id": "8013215b",
   "metadata": {},
   "outputs": [],
   "source": [
    "i += 1\n",
    "i"
   ]
  },
  {
   "cell_type": "code",
   "execution_count": null,
   "id": "f18221ce",
   "metadata": {},
   "outputs": [],
   "source": [
    "i += 2\n",
    "i"
   ]
  },
  {
   "cell_type": "markdown",
   "id": "247186e3",
   "metadata": {},
   "source": [
    "L'opérateur $+=$ effectue une addition puis affecte le résultat à la même variable. Cette opération s'appelle une « incrémentation ».\n",
    "\n",
    "Les opérateurs $-=$, $*=$ et $/=$ se comportent de manière similaire pour la soustraction, la multiplication et la division."
   ]
  },
  {
   "cell_type": "markdown",
   "id": "491a06f6",
   "metadata": {},
   "source": [
    "### 2.4.2 Opérations sur les chaînes de caractères"
   ]
  },
  {
   "cell_type": "markdown",
   "id": "471cc6e8",
   "metadata": {},
   "source": [
    "Pour les chaînes de caractères, deux opérations sont possibles, l'addition et la multiplication :"
   ]
  },
  {
   "cell_type": "code",
   "execution_count": null,
   "id": "4eed3464",
   "metadata": {},
   "outputs": [],
   "source": [
    "chaine = \"Salut\"\n",
    "chaine"
   ]
  },
  {
   "cell_type": "code",
   "execution_count": null,
   "id": "3bae718c",
   "metadata": {},
   "outputs": [],
   "source": [
    "chaine + \" Python\""
   ]
  },
  {
   "cell_type": "code",
   "execution_count": null,
   "id": "b86cc0c7",
   "metadata": {},
   "outputs": [],
   "source": [
    "chaine * 3"
   ]
  },
  {
   "cell_type": "markdown",
   "id": "be878a81",
   "metadata": {},
   "source": [
    "L'opérateur d'addition $+$ concatène (assemble) deux chaînes de caractères.\n",
    "\n",
    "L'opérateur de multiplication $*$ entre un nombre entier et une chaîne de caractères duplique (répète) plusieurs fois une chaîne de caractères."
   ]
  },
  {
   "cell_type": "markdown",
   "id": "3bc8321c",
   "metadata": {},
   "source": [
    "## 2.5. La fonction type()"
   ]
  },
  {
   "cell_type": "markdown",
   "id": "ae9df527",
   "metadata": {},
   "source": [
    "Si vous ne vous souvenez plus du type d'une variable, utilisez la fonction **``type()``** qui vous le rappellera."
   ]
  },
  {
   "cell_type": "code",
   "execution_count": null,
   "id": "0f0e46f7",
   "metadata": {},
   "outputs": [],
   "source": [
    "x = 2\n",
    "type(x)"
   ]
  },
  {
   "cell_type": "code",
   "execution_count": null,
   "id": "e18fd4cf",
   "metadata": {},
   "outputs": [],
   "source": [
    "y = 2.0\n",
    "type(y)"
   ]
  },
  {
   "cell_type": "code",
   "execution_count": null,
   "id": "721b571e",
   "metadata": {},
   "outputs": [],
   "source": [
    "z = '2'\n",
    "type(z)"
   ]
  },
  {
   "cell_type": "markdown",
   "id": "67aef6d0",
   "metadata": {},
   "source": [
    "## 2.6. Conversion de types"
   ]
  },
  {
   "cell_type": "markdown",
   "id": "89f5a336",
   "metadata": {},
   "source": [
    "En programmation, on est souvent amené à convertir les types, c'est-à-dire passer d'un type numérique à une chaîne de caractères ou vice-versa. En Python, rien de plus simple avec les fonctions **``int()``**, **``float()``** et **``str()``**. Pour vous en convaincre, regardez ces exemples :"
   ]
  },
  {
   "cell_type": "code",
   "execution_count": null,
   "id": "8ec030e5",
   "metadata": {},
   "outputs": [],
   "source": [
    "i = 3\n",
    "str(i)"
   ]
  },
  {
   "cell_type": "code",
   "execution_count": null,
   "id": "f9af4ef2",
   "metadata": {},
   "outputs": [],
   "source": [
    "i = '456'\n",
    "int(i)"
   ]
  },
  {
   "cell_type": "code",
   "execution_count": null,
   "id": "d8e02755",
   "metadata": {},
   "outputs": [],
   "source": [
    "float(i)\n",
    "456.0"
   ]
  },
  {
   "cell_type": "code",
   "execution_count": null,
   "id": "813a2a85",
   "metadata": {},
   "outputs": [],
   "source": [
    "i = '3.1416'\n",
    "float(i)"
   ]
  },
  {
   "cell_type": "markdown",
   "id": "a105a554",
   "metadata": {},
   "source": [
    "### 2.7. Exercices"
   ]
  },
  {
   "cell_type": "markdown",
   "id": "0e19ba64",
   "metadata": {},
   "source": [
    "Prédire le résultat : opérations\n",
    "    \n",
    "* (1+2)**3\n",
    "* \"Da\" * 4\n",
    "* \"Da\" + 3\n",
    "* (\"Pa\"+\"La\") * 2\n",
    "* (\"Da\"*4) / 2\n",
    "* 5 / 2\n",
    "* 5 // 2\n",
    "* 5 % 2\n"
   ]
  },
  {
   "cell_type": "markdown",
   "id": "161b7e59",
   "metadata": {},
   "source": [
    "Prédire le résultat : opérations et conversions de types\n",
    "\n",
    "* str(4) * int(\"3\")\n",
    "* int(\"3\") + float(\"3.2\")\n",
    "* str(3) * float(\"3.2\")\n",
    "* str(3/4) * 2"
   ]
  }
 ],
 "metadata": {
  "kernelspec": {
   "display_name": "Python 3 (ipykernel)",
   "language": "python",
   "name": "python3"
  },
  "language_info": {
   "codemirror_mode": {
    "name": "ipython",
    "version": 3
   },
   "file_extension": ".py",
   "mimetype": "text/x-python",
   "name": "python",
   "nbconvert_exporter": "python",
   "pygments_lexer": "ipython3",
   "version": "3.10.9"
  }
 },
 "nbformat": 4,
 "nbformat_minor": 5
}
