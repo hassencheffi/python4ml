{
 "cells": [
  {
   "cell_type": "markdown",
   "id": "7813dece",
   "metadata": {},
   "source": [
    "# Table des matières"
   ]
  },
  {
   "cell_type": "markdown",
   "id": "f89a77cf",
   "metadata": {},
   "source": [
    "1. Introduction [<sup>[Notebook]</sup>](./1_introduction.ipynb)\n",
    "2. Les variables [<sup>[Notebook]</sup>](./2_variables.ipynb)\n",
    "3. Affichage [<sup>[Notebook]</sup>](./3_affichage.ipynb)\n",
    "4. Les listes [<sup>[Notebook]</sup>](./4_listes.ipynb)\n",
    "5. Boucles et comparaisons [<sup>[Notebook]</sup>](./5_boucles_et_comparaisons.ipynb)\n",
    "6. Tests [<sup>[Notebook]</sup>](./6_tests.ipynb)"
   ]
  }
 ],
 "metadata": {
  "kernelspec": {
   "display_name": "Python 3 (ipykernel)",
   "language": "python",
   "name": "python3"
  },
  "language_info": {
   "codemirror_mode": {
    "name": "ipython",
    "version": 3
   },
   "file_extension": ".py",
   "mimetype": "text/x-python",
   "name": "python",
   "nbconvert_exporter": "python",
   "pygments_lexer": "ipython3",
   "version": "3.10.9"
  }
 },
 "nbformat": 4,
 "nbformat_minor": 5
}
