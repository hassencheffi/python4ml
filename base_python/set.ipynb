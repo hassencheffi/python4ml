{
 "cells": [
  {
   "cell_type": "markdown",
   "id": "4b7dd208",
   "metadata": {},
   "source": [
    "# Présentation de set en Python"
   ]
  },
  {
   "cell_type": "markdown",
   "id": "53074934",
   "metadata": {},
   "source": [
    "### Introduction"
   ]
  },
  {
   "cell_type": "markdown",
   "id": "b1e8ee94",
   "metadata": {},
   "source": [
    "En Python, un set (ensemble) est une collection non ordonnée, mutable (modifiable), et non indexée, qui ne contient que des éléments uniques. Les sets sont utiles pour éliminer les doublons, effectuer des opérations d'ensemble comme les unions et les intersections, et bien plus encore.\n",
    "\n",
    "Un set est défini en utilisant des accolades {} ou la fonction set()."
   ]
  },
  {
   "cell_type": "markdown",
   "id": "1d761b98",
   "metadata": {},
   "source": [
    "### Caractéristiques principales"
   ]
  },
  {
   "cell_type": "markdown",
   "id": "f5f8e3c7",
   "metadata": {},
   "source": [
    "* Uniqueness : Chaque élément est unique.\n",
    "* Immutabilité des éléments : Les éléments doivent être immuables (ex. : nombres, chaînes de caractères, tuples). c'est-à-dire que leur contenu ne peut pas être modifié après leur création. Cela garantit que le contenu du set reste stable et que les opérations de hachage (utilisées pour garantir l'unicité des éléments) fonctionnent correctement.\n",
    "* Non ordonné : Les éléments n'ont pas de position fixe."
   ]
  },
  {
   "cell_type": "markdown",
   "id": "35e4a048",
   "metadata": {},
   "source": [
    "## Utilisations courantes de set"
   ]
  },
  {
   "cell_type": "markdown",
   "id": "70bd0fc7",
   "metadata": {},
   "source": [
    "### 1. Création de sets"
   ]
  },
  {
   "cell_type": "code",
   "execution_count": 1,
   "id": "3310d386",
   "metadata": {},
   "outputs": [
    {
     "name": "stdout",
     "output_type": "stream",
     "text": [
      "{1, 2, 3, 4}\n",
      "set()\n",
      "{1, 2, 3}\n"
     ]
    }
   ],
   "source": [
    "# Set avec des valeurs uniques\n",
    "my_set = {1, 2, 3, 4}\n",
    "print(my_set)  # Output: {1, 2, 3, 4}\n",
    "\n",
    "# Set vide\n",
    "empty_set = set()\n",
    "print(empty_set)  # Output: set()\n",
    "\n",
    "# Élimination des doublons\n",
    "duplicates = {1, 2, 2, 3}\n",
    "print(duplicates)  # Output: {1, 2, 3}"
   ]
  },
  {
   "cell_type": "markdown",
   "id": "591fff33",
   "metadata": {},
   "source": [
    "### 2. Vérification de l'unicité"
   ]
  },
  {
   "cell_type": "markdown",
   "id": "36d3b99c",
   "metadata": {},
   "source": [
    "Le set est souvent utilisé pour éliminer les doublons d'une liste."
   ]
  },
  {
   "cell_type": "code",
   "execution_count": 3,
   "id": "740e2fb1",
   "metadata": {},
   "outputs": [
    {
     "name": "stdout",
     "output_type": "stream",
     "text": [
      "{1, 2, 3, 4, 5}\n"
     ]
    },
    {
     "data": {
      "text/plain": [
       "[1, 2, 3, 4, 5]"
      ]
     },
     "execution_count": 3,
     "metadata": {},
     "output_type": "execute_result"
    }
   ],
   "source": [
    "my_list = [1, 2, 2, 3, 4, 4, 5]\n",
    "unique_elements = set(my_list)\n",
    "print(unique_elements)  # Output: {1, 2, 3, 4, 5}"
   ]
  },
  {
   "cell_type": "markdown",
   "id": "7009674f",
   "metadata": {},
   "source": [
    "### 3. Opérations d'ensemble"
   ]
  },
  {
   "cell_type": "markdown",
   "id": "9c6de496",
   "metadata": {},
   "source": [
    "Les sets permettent d'effectuer des opérations mathématiques sur des ensembles, comme l'union, l'intersection, et la différence."
   ]
  },
  {
   "cell_type": "markdown",
   "id": "3f039d5c",
   "metadata": {},
   "source": [
    "##### Union"
   ]
  },
  {
   "cell_type": "markdown",
   "id": "bed10744",
   "metadata": {},
   "source": [
    "Combine tous les éléments de deux sets."
   ]
  },
  {
   "cell_type": "code",
   "execution_count": 4,
   "id": "c3d06eac",
   "metadata": {},
   "outputs": [
    {
     "name": "stdout",
     "output_type": "stream",
     "text": [
      "{1, 2, 3, 4, 5}\n"
     ]
    }
   ],
   "source": [
    "set1 = {1, 2, 3}\n",
    "set2 = {3, 4, 5}\n",
    "union_set = set1 | set2\n",
    "print(union_set)  # Output: {1, 2, 3, 4, 5}"
   ]
  },
  {
   "cell_type": "markdown",
   "id": "cdf6fcfc",
   "metadata": {},
   "source": [
    "##### Intersection"
   ]
  },
  {
   "cell_type": "markdown",
   "id": "ba3e581b",
   "metadata": {},
   "source": [
    "Trouve les éléments communs entre deux sets."
   ]
  },
  {
   "cell_type": "code",
   "execution_count": 5,
   "id": "5f289468",
   "metadata": {},
   "outputs": [
    {
     "name": "stdout",
     "output_type": "stream",
     "text": [
      "{3}\n"
     ]
    }
   ],
   "source": [
    "intersection_set = set1 & set2\n",
    "print(intersection_set)  # Output: {3}\n"
   ]
  },
  {
   "cell_type": "markdown",
   "id": "e71d01da",
   "metadata": {},
   "source": [
    "##### Différence"
   ]
  },
  {
   "cell_type": "markdown",
   "id": "04d7f822",
   "metadata": {},
   "source": [
    "Trouve les éléments présents dans un set mais pas dans l'autre."
   ]
  },
  {
   "cell_type": "code",
   "execution_count": 6,
   "id": "a19155bd",
   "metadata": {},
   "outputs": [
    {
     "name": "stdout",
     "output_type": "stream",
     "text": [
      "{1, 2}\n"
     ]
    }
   ],
   "source": [
    "difference_set = set1 - set2\n",
    "print(difference_set)  # Output: {1, 2}"
   ]
  },
  {
   "cell_type": "markdown",
   "id": "e5bdb2e8",
   "metadata": {},
   "source": [
    "##### Différence symétrique"
   ]
  },
  {
   "cell_type": "markdown",
   "id": "55f0df4a",
   "metadata": {},
   "source": [
    "Trouve les éléments présents dans l'un ou l'autre des sets, mais pas les deux."
   ]
  },
  {
   "cell_type": "code",
   "execution_count": 7,
   "id": "f4686983",
   "metadata": {},
   "outputs": [
    {
     "name": "stdout",
     "output_type": "stream",
     "text": [
      "{1, 2, 4, 5}\n"
     ]
    }
   ],
   "source": [
    "symmetric_diff = set1 ^ set2\n",
    "print(symmetric_diff)  # Output: {1, 2, 4, 5}"
   ]
  },
  {
   "cell_type": "markdown",
   "id": "0402ca3e",
   "metadata": {},
   "source": [
    "### 4. Ajout et suppression d'éléments"
   ]
  },
  {
   "cell_type": "markdown",
   "id": "1dc5b4c6",
   "metadata": {},
   "source": [
    "##### Ajouter un élément"
   ]
  },
  {
   "cell_type": "code",
   "execution_count": null,
   "id": "99d7ff92",
   "metadata": {},
   "outputs": [],
   "source": [
    "my_set = {1, 2, 3}\n",
    "my_set.add(4)\n",
    "print(my_set)  # Output: {1, 2, 3, 4}\n"
   ]
  },
  {
   "cell_type": "markdown",
   "id": "ad82ccbc",
   "metadata": {},
   "source": [
    "##### Supprimer un élément"
   ]
  },
  {
   "cell_type": "code",
   "execution_count": 9,
   "id": "ff08c453",
   "metadata": {},
   "outputs": [
    {
     "name": "stdout",
     "output_type": "stream",
     "text": [
      "{1, 3, 4}\n"
     ]
    }
   ],
   "source": [
    "my_set.remove(2)  # Lève une erreur si l'élément n'existe pas\n",
    "print(my_set)  # Output: {1, 3, 4}\n",
    "\n",
    "my_set.discard(5)  # Ne lève pas d'erreur si l'élément n'existe pas\n"
   ]
  },
  {
   "cell_type": "markdown",
   "id": "f23692ce",
   "metadata": {},
   "source": [
    "##### Vider un set"
   ]
  },
  {
   "cell_type": "code",
   "execution_count": 10,
   "id": "e43c42b4",
   "metadata": {},
   "outputs": [
    {
     "name": "stdout",
     "output_type": "stream",
     "text": [
      "set()\n"
     ]
    }
   ],
   "source": [
    "my_set.clear()\n",
    "print(my_set)  # Output: set()\n"
   ]
  },
  {
   "cell_type": "markdown",
   "id": "75cb0585",
   "metadata": {},
   "source": [
    "### 5. Vérification d'appartenance"
   ]
  },
  {
   "cell_type": "markdown",
   "id": "9853d0a0",
   "metadata": {},
   "source": [
    "Utilisez l'opérateur in pour vérifier si un élément est présent dans un set."
   ]
  },
  {
   "cell_type": "code",
   "execution_count": 11,
   "id": "94a44678",
   "metadata": {},
   "outputs": [
    {
     "name": "stdout",
     "output_type": "stream",
     "text": [
      "True\n",
      "False\n"
     ]
    }
   ],
   "source": [
    "my_set = {1, 2, 3, 4}\n",
    "print(3 in my_set)  # Output: True\n",
    "print(5 in my_set)  # Output: False\n"
   ]
  },
  {
   "cell_type": "markdown",
   "id": "1d0938f0",
   "metadata": {},
   "source": [
    "### 6. Itération sur un set"
   ]
  },
  {
   "cell_type": "markdown",
   "id": "96ba1d19",
   "metadata": {},
   "source": [
    "Vous pouvez parcourir les éléments d'un set avec une boucle for."
   ]
  },
  {
   "cell_type": "code",
   "execution_count": 12,
   "id": "e60a408b",
   "metadata": {},
   "outputs": [
    {
     "name": "stdout",
     "output_type": "stream",
     "text": [
      "1\n",
      "2\n",
      "3\n"
     ]
    }
   ],
   "source": [
    "my_set = {1, 2, 3}\n",
    "for element in my_set:\n",
    "    print(element)\n"
   ]
  },
  {
   "cell_type": "markdown",
   "id": "7f3328ab",
   "metadata": {},
   "source": [
    "### 7. Conversions avec d'autres types"
   ]
  },
  {
   "cell_type": "markdown",
   "id": "8ebc6a40",
   "metadata": {},
   "source": [
    "Les sets peuvent être convertis en listes, tuples, ou autres types de collections."
   ]
  },
  {
   "cell_type": "markdown",
   "id": "70658c9e",
   "metadata": {},
   "source": [
    "##### Convertir une liste en set"
   ]
  },
  {
   "cell_type": "code",
   "execution_count": null,
   "id": "ac6bd530",
   "metadata": {},
   "outputs": [],
   "source": [
    "my_list = [1, 2, 3, 3, 4]\n",
    "my_set = set(my_list)\n",
    "print(my_set)  # Output: {1, 2, 3, 4}\n"
   ]
  },
  {
   "cell_type": "markdown",
   "id": "66bc556c",
   "metadata": {},
   "source": [
    "##### Convertir un set en liste"
   ]
  },
  {
   "cell_type": "code",
   "execution_count": null,
   "id": "608117e3",
   "metadata": {},
   "outputs": [],
   "source": [
    "my_list = list(my_set)\n",
    "print(my_list)  # Output: [1, 2, 3, 4]\n"
   ]
  }
 ],
 "metadata": {
  "kernelspec": {
   "display_name": "Python 3 (ipykernel)",
   "language": "python",
   "name": "python3"
  },
  "language_info": {
   "codemirror_mode": {
    "name": "ipython",
    "version": 3
   },
   "file_extension": ".py",
   "mimetype": "text/x-python",
   "name": "python",
   "nbconvert_exporter": "python",
   "pygments_lexer": "ipython3",
   "version": "3.12.3"
  }
 },
 "nbformat": 4,
 "nbformat_minor": 5
}
