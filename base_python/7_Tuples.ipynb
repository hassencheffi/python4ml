{
 "cells": [
  {
   "cell_type": "markdown",
   "id": "da47cb72",
   "metadata": {},
   "source": [
    "# 7. Les tuples"
   ]
  },
  {
   "cell_type": "markdown",
   "id": "2d126814",
   "metadata": {},
   "source": [
    "7.1 Définition"
   ]
  },
  {
   "cell_type": "markdown",
   "id": "c0f1fc95",
   "metadata": {},
   "source": [
    "Les tuples (« n-uplets » en français) sont des objets séquentiels correspondant aux listes (itérables, ordonnés et indexables) mais ils sont toutefois non modifiables. L'intérêt des tuples par rapport aux listes réside dans leur immutabilité. Cela, accèlère considérablement la manière dont Python accède à chaque élément et ils prennent moins de place en mémoire. Par ailleurs, on ne risque pas de modifier un de ses éléments par mégarde. "
   ]
  },
  {
   "cell_type": "markdown",
   "id": "eaeed5e8",
   "metadata": {},
   "source": [
    "Pratiquement, on utilise les parenthèses au lieu des crochets pour les créer :"
   ]
  },
  {
   "cell_type": "code",
   "execution_count": null,
   "id": "942b2bd6",
   "metadata": {},
   "outputs": [],
   "source": [
    "t = (1, 2, 3)\n",
    "t"
   ]
  },
  {
   "cell_type": "code",
   "execution_count": null,
   "id": "101aafca",
   "metadata": {},
   "outputs": [],
   "source": [
    "type(t)"
   ]
  },
  {
   "cell_type": "code",
   "execution_count": null,
   "id": "332c5a38",
   "metadata": {},
   "outputs": [],
   "source": [
    "t[2]"
   ]
  },
  {
   "cell_type": "code",
   "execution_count": null,
   "id": "4c0e532a",
   "metadata": {},
   "outputs": [],
   "source": [
    "t[0:2]"
   ]
  },
  {
   "cell_type": "code",
   "execution_count": null,
   "id": "f5abebf9",
   "metadata": {},
   "outputs": [],
   "source": [
    "t[2] = 15"
   ]
  },
  {
   "cell_type": "markdown",
   "id": "008ec1c0",
   "metadata": {},
   "source": [
    "L'affectation et l'indiçage fonctionnent comme avec les listes. Mais si on essaie de modifier un des éléments du tuple, Python renvoie un message d'erreur."
   ]
  },
  {
   "cell_type": "markdown",
   "id": "0ebcc1d9",
   "metadata": {},
   "source": [
    " Si vous voulez ajouter un élément (ou le modifier), vous devez créer un nouveau tuple :"
   ]
  },
  {
   "cell_type": "code",
   "execution_count": null,
   "id": "45d75542",
   "metadata": {},
   "outputs": [],
   "source": [
    "t = (1, 2, 3)\n",
    "t = t + (2,)\n",
    "t"
   ]
  },
  {
   "cell_type": "markdown",
   "id": "3bb8d081",
   "metadata": {},
   "source": [
    "Les opérateurs $+$ et $*$ fonctionnent comme pour les listes (concaténation et duplication) :"
   ]
  },
  {
   "cell_type": "code",
   "execution_count": null,
   "id": "9e23644e",
   "metadata": {},
   "outputs": [],
   "source": [
    "(1, 2) + (3, 4)"
   ]
  },
  {
   "cell_type": "code",
   "execution_count": null,
   "id": "5c24f5b1",
   "metadata": {
    "scrolled": true
   },
   "outputs": [],
   "source": [
    "(1, 2) * 4"
   ]
  },
  {
   "cell_type": "markdown",
   "id": "a26792f3",
   "metadata": {},
   "source": [
    "Enfin, on peut utiliser la fonction tuple(sequence) qui fonctionne exactement comme la fonction **``list()``**, c'est-à-dire qu'elle prend en argument un objet de type container et renvoie le tuple correspondant (opération de casting) :"
   ]
  },
  {
   "cell_type": "code",
   "execution_count": null,
   "id": "a68ce607",
   "metadata": {},
   "outputs": [],
   "source": [
    "tuple([1,2,3])"
   ]
  },
  {
   "cell_type": "code",
   "execution_count": null,
   "id": "01c6db8e",
   "metadata": {},
   "outputs": [],
   "source": [
    "tuple(\"ABCDEFGHIJKLMNOPQRSTUVWXYZ\")"
   ]
  },
  {
   "cell_type": "markdown",
   "id": "db6a0849",
   "metadata": {},
   "source": [
    "## 7.2 Affectation multiple et le nom de variable"
   ]
  },
  {
   "cell_type": "markdown",
   "id": "f7f3f503",
   "metadata": {},
   "source": [
    "L'affectation multiple est un mécanisme très puissant et important en Python. Pour rappel, il permet d'effectuer sur une même ligne plusieurs affectations en même temps, par exemple : **``x, y, z = 1, 2, 3``**. Cette syntaxe correspond à un tuple de chaque côté de l'opérateur **``=``**. Notez qu'il serait possible de le faire également avec les listes : **``[x, y, z] = [1, 2, 3]``**. Toutefois, cette syntaxe est alourdie par la présence des crochets. On préfèrera donc la première syntaxe avec les tuples sans parenthèse."
   ]
  },
  {
   "cell_type": "code",
   "execution_count": null,
   "id": "6bcdbab6",
   "metadata": {},
   "outputs": [],
   "source": [
    "x, y, z = 1, 2, 3\n",
    "print(x,y,z)"
   ]
  },
  {
   "cell_type": "code",
   "execution_count": null,
   "id": "d10fccf1",
   "metadata": {},
   "outputs": [],
   "source": []
  }
 ],
 "metadata": {
  "kernelspec": {
   "display_name": "Python 3 (ipykernel)",
   "language": "python",
   "name": "python3"
  },
  "language_info": {
   "codemirror_mode": {
    "name": "ipython",
    "version": 3
   },
   "file_extension": ".py",
   "mimetype": "text/x-python",
   "name": "python",
   "nbconvert_exporter": "python",
   "pygments_lexer": "ipython3",
   "version": "3.12.3"
  }
 },
 "nbformat": 4,
 "nbformat_minor": 5
}
