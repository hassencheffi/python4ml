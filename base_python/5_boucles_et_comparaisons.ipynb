{
 "cells": [
  {
   "cell_type": "markdown",
   "id": "f6c06f6e",
   "metadata": {},
   "source": [
    "# 5. Boucles et comparaisons"
   ]
  },
  {
   "cell_type": "markdown",
   "id": "cc09422a",
   "metadata": {},
   "source": [
    "## 5.1. Boucles for"
   ]
  },
  {
   "cell_type": "markdown",
   "id": "458df870",
   "metadata": {},
   "source": [
    "### 5.1.1 Principe"
   ]
  },
  {
   "cell_type": "markdown",
   "id": "bc1ffae1",
   "metadata": {},
   "source": [
    "En programmation, on est souvent amené à répéter plusieurs fois une instruction. Incontournables à tout langage de programmation, les boucles vont nous aider à réaliser cette tâche répétitive de manière compacte et efficace."
   ]
  },
  {
   "cell_type": "markdown",
   "id": "50068912",
   "metadata": {},
   "source": [
    "Imaginez par exemple que vous souhaitiez afficher les éléments d'une liste les uns après les autres. Dans l'état actuel de vos connaissances, il faudrait taper quelque chose du style :"
   ]
  },
  {
   "cell_type": "code",
   "execution_count": 1,
   "id": "59a4cd89",
   "metadata": {},
   "outputs": [
    {
     "name": "stdout",
     "output_type": "stream",
     "text": [
      "girafe\n",
      "tigre\n",
      "singe\n",
      "souris\n"
     ]
    }
   ],
   "source": [
    "animaux = [\"girafe\", \"tigre\", \"singe\", \"souris\"]\n",
    "print(animaux[0])\n",
    "print(animaux[1])\n",
    "print(animaux[2])\n",
    "print(animaux[3])"
   ]
  },
  {
   "cell_type": "markdown",
   "id": "73a8c2ec",
   "metadata": {},
   "source": [
    "Si votre liste ne contient que 4 éléments, ceci est encore faisable mais imaginez qu'elle en contienne 100 voire 1000 ! Pour remédier à cela, il faut utiliser les boucles. Regardez l'exemple suivant :"
   ]
  },
  {
   "cell_type": "code",
   "execution_count": 3,
   "id": "cb794106",
   "metadata": {
    "scrolled": true
   },
   "outputs": [
    {
     "name": "stdout",
     "output_type": "stream",
     "text": [
      "tigre\n",
      "singe\n"
     ]
    }
   ],
   "source": [
    "animaux = [\"girafe\", \"tigre\", \"singe\", \"souris\"]\n",
    "for animal in animaux:\n",
    "    print(animal)"
   ]
  },
  {
   "cell_type": "markdown",
   "id": "a4c13912",
   "metadata": {},
   "source": [
    "Commentons en détails ce qu'il s'est passé dans cet exemple :\n",
    "\n",
    "La variable ***animal*** est appelée variable d'itération, elle prend successivement les différentes valeurs de la liste ***animaux*** à chaque itération de la boucle. On verra un peu plus loin dans ce chapitre que l'on peut choisir le nom que l'on veut pour cette variable. Celle-ci est créée par Python la première fois que la ligne contenant le **for** est exécutée (si elle existait déjà son contenu serait écrasé). Une fois la boucle terminée, cette variable d'itération ***animal*** n'est pas détruite et conserve la dernière valeur de la liste ***animaux*** (ici la chaîne de caractères \"***souris***\")."
   ]
  },
  {
   "cell_type": "markdown",
   "id": "12bd6b99",
   "metadata": {},
   "source": [
    "D'ores et déjà, prêtez attention au caractère **deux-points** « : » à la fin de la ligne débutant par ***for***. Cela signifie que la boucle ***for*** attend un **bloc d'instructions**, en l’occurrence toutes les instructions que Python répétera à chaque itération de la boucle. On appelle ce bloc d'instructions le **corps de la boucle**. Comment indique-t-on à Python où ce bloc commence et se termine ? Cela est signalé uniquement par l'**indentation**, c'est-à-dire le décalage vers la droite de la (ou des) ligne(s) du bloc d'instructions."
   ]
  },
  {
   "cell_type": "markdown",
   "id": "5a07e54a",
   "metadata": {},
   "source": [
    "Dans l'exemple suivant, le corps de la boucle contient deux instructions (ligne 2 et ligne 3) car elles sont indentées par rapport à la ligne débutant par **for** :"
   ]
  },
  {
   "cell_type": "code",
   "execution_count": null,
   "id": "dd2ae94d",
   "metadata": {},
   "outputs": [],
   "source": [
    "for animal in animaux:\n",
    "    print(animal)\n",
    "    print(animal*2)\n",
    "print(\"C'est fini\")"
   ]
  },
  {
   "cell_type": "markdown",
   "id": "8154b864",
   "metadata": {},
   "source": [
    "La ligne 4 ne fait pas partie du corps de la boucle car elle est au même niveau que le **for** (c'est-à-dire non indentée par rapport au **for**). Notez également que chaque instruction du corps de la boucle doit être indentée de la même manière (ici 4 espaces)."
   ]
  },
  {
   "cell_type": "markdown",
   "id": "d1011f89",
   "metadata": {},
   "source": [
    "### 5.1.2 Fonction range()"
   ]
  },
  {
   "cell_type": "markdown",
   "id": "95b4f66a",
   "metadata": {},
   "source": [
    "Python possède la fonction ***range()*** que nous avons rencontrée précédemment dans le chapitre 4 sur les Listes et qui est aussi bien commode pour faire une boucle sur une liste d'entiers de manière automatique :"
   ]
  },
  {
   "cell_type": "code",
   "execution_count": null,
   "id": "8f936e78",
   "metadata": {},
   "outputs": [],
   "source": [
    "for i in range(4):\n",
    "    print(i)"
   ]
  },
  {
   "cell_type": "code",
   "execution_count": null,
   "id": "1f7f9a26",
   "metadata": {},
   "outputs": [],
   "source": [
    "for i in range(10,20,2):\n",
    "    print(i)"
   ]
  },
  {
   "cell_type": "code",
   "execution_count": 5,
   "id": "df3aefed",
   "metadata": {},
   "outputs": [
    {
     "name": "stdout",
     "output_type": "stream",
     "text": [
      "L'animal 0 est un(e) girafe\n",
      "L'animal 1 est un(e) tigre\n",
      "L'animal 2 est un(e) singe\n",
      "L'animal 3 est un(e) souris\n"
     ]
    }
   ],
   "source": [
    "animaux = [\"girafe\", \"tigre\", \"singe\", \"souris\"]\n",
    "for i in range(len(animaux)):\n",
    "    print(f\"L'animal {i} est un(e) {animaux[i]}\")"
   ]
  },
  {
   "cell_type": "markdown",
   "id": "337abed4",
   "metadata": {},
   "source": [
    "Python possède toutefois la fonction ***enumerate()*** qui vous permet d'itérer sur les indices et les éléments eux-mêmes."
   ]
  },
  {
   "cell_type": "code",
   "execution_count": 6,
   "id": "41126866",
   "metadata": {},
   "outputs": [
    {
     "name": "stdout",
     "output_type": "stream",
     "text": [
      "L'animal 0 est un(e) girafe\n",
      "L'animal 1 est un(e) tigre\n",
      "L'animal 2 est un(e) singe\n",
      "L'animal 3 est un(e) souris\n"
     ]
    }
   ],
   "source": [
    "animaux = [\"girafe\", \"tigre\", \"singe\", \"souris\"]\n",
    "for i, animal in enumerate(animaux):\n",
    "    print(f\"L'animal {i} est un(e) {animal}\")"
   ]
  },
  {
   "cell_type": "markdown",
   "id": "77ab2fee",
   "metadata": {},
   "source": [
    "## 5.2 Comparaisons"
   ]
  },
  {
   "cell_type": "markdown",
   "id": "c97147fb",
   "metadata": {},
   "source": [
    "Avant de passer à une autre sorte de boucles (les boucles ***while***), nous abordons tout de suite les **comparaisons**. Celles-ci seront reprises dans le chapitre 6 sur les Tests."
   ]
  },
  {
   "cell_type": "markdown",
   "id": "9871dfda",
   "metadata": {},
   "source": [
    "Python est capable d'effectuer toute une série de comparaisons entre le contenu de deux variables, telles que :\n",
    "* == \tégal à\n",
    "* != \tdifférent de\n",
    "* \\> \tstrictement supérieur à\n",
    "* \\>= \tsupérieur ou égal à\n",
    "* < \tstrictement inférieur à\n",
    "* <= \tinférieur ou égal à"
   ]
  },
  {
   "cell_type": "markdown",
   "id": "1063c797",
   "metadata": {},
   "source": [
    "## 5.3 Boucles while"
   ]
  },
  {
   "cell_type": "markdown",
   "id": "af0e111d",
   "metadata": {},
   "source": [
    "Une alternative à l'instruction for couramment utilisée en informatique est la boucle ***while***. Avec ce type de boucle, une série d'instructions est exécutée tant qu'une condition est vraie. Par exemple :"
   ]
  },
  {
   "cell_type": "code",
   "execution_count": 11,
   "id": "fa55a12d",
   "metadata": {},
   "outputs": [
    {
     "name": "stdout",
     "output_type": "stream",
     "text": [
      "1\n",
      "2\n",
      "3\n",
      "4\n"
     ]
    }
   ],
   "source": [
    "i = 1\n",
    "while i <= 4:\n",
    "     print(i)\n",
    "     i = i + 1\n"
   ]
  },
  {
   "cell_type": "markdown",
   "id": "a089a663",
   "metadata": {},
   "source": [
    "Remarquez qu'il est encore une fois nécessaire d'indenter le bloc d'instructions correspondant au corps de la boucle (ici, les instructions lignes 3 et 4)."
   ]
  },
  {
   "cell_type": "markdown",
   "id": "3a1fc7e8",
   "metadata": {},
   "source": [
    "Une boucle while nécessite généralement trois éléments pour fonctionner correctement :\n",
    "1. Initialisation de la variable d'itération avant la boucle (ligne 1).\n",
    "2. Test de la variable d'itération associée à l'instruction while (ligne 2).\n",
    "3. Mise à jour de la variable d'itération dans le corps de la boucle (ligne 4)."
   ]
  },
  {
   "cell_type": "markdown",
   "id": "3505b60b",
   "metadata": {},
   "source": [
    "En Python, il n'y a pas de structure de boucle \"do-while\" telle qu'on la trouve dans certains autres langages de programmation comme C ou Java. Cependant, vous pouvez obtenir un comportement similaire en utilisant une boucle while avec une condition d'entrée qui est toujours vraie lors de la première itération, et en utilisant un break pour sortir de la boucle lorsque la condition désirée n'est plus satisfaite."
   ]
  },
  {
   "cell_type": "code",
   "execution_count": null,
   "id": "314d06fc",
   "metadata": {},
   "outputs": [],
   "source": [
    "while True:\n",
    "    # Bloc de code à exécuter\n",
    "    # Condition de sortie de la boucle\n",
    "    if condition:\n",
    "        break"
   ]
  },
  {
   "cell_type": "markdown",
   "id": "8118a24a",
   "metadata": {},
   "source": [
    "## Exercices"
   ]
  },
  {
   "cell_type": "markdown",
   "id": "eed77f07",
   "metadata": {},
   "source": [
    "### Triangle"
   ]
  },
  {
   "cell_type": "markdown",
   "id": "cf071c99",
   "metadata": {},
   "source": [
    "Créez un script qui dessine un triangle comme celui-ci :"
   ]
  },
  {
   "cell_type": "markdown",
   "id": "d6d18acf",
   "metadata": {},
   "source": [
    "![Ceci est un exemple d’image](images/triangle1.png)\n"
   ]
  },
  {
   "cell_type": "code",
   "execution_count": null,
   "id": "6a836d1d",
   "metadata": {},
   "outputs": [],
   "source": []
  },
  {
   "cell_type": "markdown",
   "id": "53e19766",
   "metadata": {},
   "source": [
    "## Triangle inversé"
   ]
  },
  {
   "cell_type": "markdown",
   "id": "53aad8b4",
   "metadata": {},
   "source": [
    "Créez un script qui dessine un triangle comme celui-ci :"
   ]
  },
  {
   "cell_type": "markdown",
   "id": "08570e30",
   "metadata": {},
   "source": [
    "![Ceci est un exemple d’image](images/triangle2.png)"
   ]
  },
  {
   "cell_type": "markdown",
   "id": "835bb30e",
   "metadata": {},
   "source": [
    "## Triangle gauche"
   ]
  },
  {
   "cell_type": "markdown",
   "id": "05725b4b",
   "metadata": {},
   "source": [
    "Créez un script qui dessine un triangle comme celui-ci :"
   ]
  },
  {
   "cell_type": "markdown",
   "id": "82ef0428",
   "metadata": {},
   "source": [
    "![Ceci est un exemple d’image](images/triangle3.png)"
   ]
  },
  {
   "cell_type": "markdown",
   "id": "29351ee1",
   "metadata": {},
   "source": [
    "## Pyramide"
   ]
  },
  {
   "cell_type": "markdown",
   "id": "c6694cc3",
   "metadata": {},
   "source": [
    "Créez un script qui dessine un triangle comme celui-ci :"
   ]
  },
  {
   "cell_type": "markdown",
   "id": "b0c6dc95",
   "metadata": {},
   "source": [
    "![Ceci est un exemple d’image](images/triangle4.png)"
   ]
  },
  {
   "cell_type": "markdown",
   "id": "ab2232af",
   "metadata": {},
   "source": [
    "## Suite"
   ]
  },
  {
   "cell_type": "markdown",
   "id": "9a4eaeb7",
   "metadata": {},
   "source": [
    "Afficher la suite suivante:\n",
    "(ix8,2^i,i)"
   ]
  },
  {
   "cell_type": "markdown",
   "id": "7f747ecc",
   "metadata": {},
   "source": [
    "![Ceci est un exemple d’image](images/suite1.png)"
   ]
  },
  {
   "cell_type": "markdown",
   "id": "0f0b48f2",
   "metadata": {},
   "source": [
    "## Somme de nombre"
   ]
  },
  {
   "cell_type": "markdown",
   "id": "21f2ce32",
   "metadata": {},
   "source": [
    "Ecrire un programme qui affiche la somme des nombres (sans utiliser de structure conditionnelle):\n",
    "* de 1 à 1000\n",
    "* de 1 à 1000 (juste les valeurs paires)\n",
    "* de 1 à 1000 (juste les valeurs impaires)"
   ]
  },
  {
   "cell_type": "code",
   "execution_count": null,
   "id": "c30a4483",
   "metadata": {},
   "outputs": [],
   "source": []
  },
  {
   "cell_type": "markdown",
   "id": "5b796361",
   "metadata": {},
   "source": [
    "## Développement du binôme de Newton"
   ]
  },
  {
   "cell_type": "markdown",
   "id": "f583929f",
   "metadata": {},
   "source": [
    "Écrivez un programme Python qui prend comme entrée l'exposant n et affiche les coefficients du développement du binôme de Newton (a+b)<sup>n</sup> sous forme de pyramide.\n",
    "\n",
    "Par exemple, si l'utilisateur entre n=4, le programme devrait afficher la pyramide \n",
    "suivante : \\\n",
    "1 \\\n",
    "1 1 \\\n",
    "1 2 1 \\\n",
    "1 3 3 1 \\\n",
    "1 4 6 4 1\n"
   ]
  },
  {
   "cell_type": "code",
   "execution_count": 15,
   "id": "cc3c3a30",
   "metadata": {},
   "outputs": [
    {
     "name": "stdout",
     "output_type": "stream",
     "text": [
      "1  \n",
      "1  1  \n",
      "1  2  1  \n",
      "1  3  3  1  \n",
      "1  4  6  4  1  \n",
      "1  5  10 10 5  1  \n",
      "1  6  15 20 15 6  1  \n",
      "1  7  21 35 35 21 7  1  \n"
     ]
    }
   ],
   "source": [
    "def factoriel(n):\n",
    "    if n==0:\n",
    "        return 1\n",
    "    else:\n",
    "        return factoriel(n-1)*n\n",
    "\n",
    "def binome_newton(n):\n",
    "    for i in range(n+1):\n",
    "        for k in range(i+1):\n",
    "            print(f\"{factoriel(i)//(factoriel(k)*factoriel(i-k)):<3}\",end=\"\")\n",
    "            \n",
    "        print(\"\")\n",
    "            \n",
    "\n",
    "binome_newton(7)"
   ]
  },
  {
   "cell_type": "code",
   "execution_count": 22,
   "id": "92d45af1",
   "metadata": {},
   "outputs": [
    {
     "name": "stdout",
     "output_type": "stream",
     "text": [
      "n= 2 => [1, 2, 1]\n",
      "-----------------------\n",
      "n= 3 => [1, 3, 3, 1]\n",
      "-----------------------\n",
      "n= 4 => [1, 4, 6, 4, 1]\n",
      "-----------------------\n",
      "n= 5 => [1, 5, 10, 10, 5, 1]\n",
      "-----------------------\n",
      "n= 6 => [1, 6, 15, 20, 15, 6, 1]\n",
      "-----------------------\n",
      "n= 7 => [1, 7, 21, 35, 35, 21, 7, 1]\n",
      "-----------------------\n",
      "n= 8 => [1, 8, 28, 56, 70, 56, 28, 8, 1]\n",
      "-----------------------\n",
      "n= 9 => [1, 9, 36, 84, 126, 126, 84, 36, 9, 1]\n",
      "-----------------------\n",
      "n= 10 => [1, 10, 45, 120, 210, 252, 210, 120, 45, 10, 1]\n",
      "-----------------------\n",
      "n= 11 => [1, 11, 55, 165, 330, 462, 462, 330, 165, 55, 11, 1]\n",
      "-----------------------\n",
      "n= 12 => [1, 12, 66, 220, 495, 792, 924, 792, 495, 220, 66, 12, 1]\n",
      "-----------------------\n"
     ]
    }
   ],
   "source": [
    "def binom_newton2(k):\n",
    "    list=[1,1]\n",
    "    n=0\n",
    "    while n<11:\n",
    "        prov=list.copy()\n",
    "        prov.append(1)\n",
    "        n+=1\n",
    "    \n",
    "        for i in range(1,len(prov)-1):\n",
    "            prov[i]=list[i]+list[i-1]\n",
    "        \n",
    "        list=prov[::]\n",
    "        print(\"n=\",n+1,\"=>\", list)\n",
    "        print(\"-----------------------\")\n",
    "\n",
    "        \n",
    "        "
   ]
  },
  {
   "cell_type": "code",
   "execution_count": 21,
   "id": "a3c8ffae",
   "metadata": {},
   "outputs": [
    {
     "name": "stdout",
     "output_type": "stream",
     "text": [
      "[1, 2]\n"
     ]
    }
   ],
   "source": [
    "a=[1,2]\n",
    "b=a.copy()\n",
    "b[0]=9\n",
    "print(a)"
   ]
  },
  {
   "cell_type": "code",
   "execution_count": null,
   "id": "a0fafdb7",
   "metadata": {},
   "outputs": [],
   "source": []
  }
 ],
 "metadata": {
  "kernelspec": {
   "display_name": "Python 3 (ipykernel)",
   "language": "python",
   "name": "python3"
  },
  "language_info": {
   "codemirror_mode": {
    "name": "ipython",
    "version": 3
   },
   "file_extension": ".py",
   "mimetype": "text/x-python",
   "name": "python",
   "nbconvert_exporter": "python",
   "pygments_lexer": "ipython3",
   "version": "3.10.9"
  }
 },
 "nbformat": 4,
 "nbformat_minor": 5
}
