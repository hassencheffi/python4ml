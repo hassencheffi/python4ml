{
 "cells": [
  {
   "cell_type": "markdown",
   "id": "21cc9d91",
   "metadata": {},
   "source": [
    "# Classification des chiffres manuscrits du jeu de données MNIST"
   ]
  },
  {
   "cell_type": "markdown",
   "id": "60059b3f",
   "metadata": {},
   "source": [
    "Dans cet exemple, nous aborderons la fascinante tâche de la classification des chiffres manuscrits en nous appuyant sur le jeu de données MNIST. Notre but sera de créer un modèle de réseau neuronal capable de reconnaître de manière automatisée les chiffres dessinés à la main. En exploitant TensorFlow, nous construirons un réseau de neurones qui apprendra à identifier des caractéristiques clés dans les images de chiffres et à les associer aux étiquettes de classe correspondantes. Cette démarche met en lumière comment TensorFlow se prête à la résolution de défis complexes de vision par ordinateur, et offre un aperçu des possibilités de création de modèles avancés pour des tâches similaires."
   ]
  },
  {
   "cell_type": "markdown",
   "id": "6d744d12",
   "metadata": {},
   "source": [
    "## 1. Importation des bibliothéques nécessaires"
   ]
  },
  {
   "cell_type": "code",
   "execution_count": null,
   "id": "02cf7822",
   "metadata": {},
   "outputs": [],
   "source": [
    "import tensorflow as tf\n",
    "from tensorflow.keras.datasets import mnist\n",
    "from tensorflow.keras.models import Sequential\n",
    "from tensorflow.keras.layers import Dense, Flatten\n",
    "from tensorflow.keras.utils import to_categorical\n",
    "import numpy as np\n",
    "import matplotlib.pyplot as plt\n",
    "from sklearn.metrics import confusion_matrix, ConfusionMatrixDisplay"
   ]
  },
  {
   "cell_type": "markdown",
   "id": "84950dd8",
   "metadata": {},
   "source": [
    "## 2. Préparation des données"
   ]
  },
  {
   "cell_type": "code",
   "execution_count": null,
   "id": "67efa385",
   "metadata": {},
   "outputs": [],
   "source": [
    "# Charger les données MNIST et les diviser en ensembles d'entraînement et de test\n",
    "(x_train, y_train), (x_test, y_test) = mnist.load_data()\n",
    "\n",
    "# Affichage de quelques images d'entraînement\n",
    "plt.figure(figsize=(6, 6))\n",
    "for i in range(16):\n",
    "    plt.subplot(4, 4, i + 1)\n",
    "    plt.imshow(x_train[i], cmap='gray')\n",
    "    plt.axis('off')\n",
    "plt.show()"
   ]
  },
  {
   "cell_type": "markdown",
   "id": "950c1a02",
   "metadata": {},
   "source": [
    "## 3. Mise à l'échelle des caractéristiques"
   ]
  },
  {
   "cell_type": "code",
   "execution_count": null,
   "id": "454b0b12",
   "metadata": {},
   "outputs": [],
   "source": [
    "# Normaliser les valeurs des pixels entre 0 et 1\n",
    "x_train, x_test = x_train / 255.0, x_test / 255.0\n",
    "\n",
    "\n",
    "# Convertir les étiquettes en vecteurs one-hot\n",
    "y_train = to_categorical(y_train, num_classes=10)\n",
    "y_test = to_categorical(y_test, num_classes=10)"
   ]
  },
  {
   "cell_type": "markdown",
   "id": "a0f5700d",
   "metadata": {},
   "source": [
    "## 4. Construction du modèle"
   ]
  },
  {
   "cell_type": "code",
   "execution_count": null,
   "id": "8be6f0ca",
   "metadata": {},
   "outputs": [],
   "source": [
    "# Créer un modèle séquentiel\n",
    "model = Sequential([\n",
    "    Flatten(input_shape=(28, 28)),  # Applatissement des images 28x28 en un vecteur de 784\n",
    "    Dense(128, activation='relu'),   # Couche dense avec 128 neurones et fonction d'activation ReLU\n",
    "    Dense(10, activation='softmax')  # Couche de sortie avec 10 neurones pour les 10 classes et activation softmax\n",
    "])\n",
    "\n",
    "model.summary()"
   ]
  },
  {
   "cell_type": "markdown",
   "id": "4cdb332a",
   "metadata": {},
   "source": [
    "## 5. Compilation du modèle"
   ]
  },
  {
   "cell_type": "code",
   "execution_count": null,
   "id": "5a029380",
   "metadata": {},
   "outputs": [],
   "source": [
    "# Compiler le modèle\n",
    "model.compile(optimizer='adam',\n",
    "              loss='categorical_crossentropy',\n",
    "              metrics=['accuracy'])"
   ]
  },
  {
   "cell_type": "markdown",
   "id": "7b8b06de",
   "metadata": {},
   "source": [
    "## 6. Entraînement du modèle"
   ]
  },
  {
   "cell_type": "code",
   "execution_count": null,
   "id": "686c0f2e",
   "metadata": {},
   "outputs": [],
   "source": [
    "# Entraîner le modèle\n",
    "model.fit(x_train, y_train, epochs=5, batch_size=32, validation_split=0.2)"
   ]
  },
  {
   "cell_type": "markdown",
   "id": "de8b66e9",
   "metadata": {},
   "source": [
    "## 7. Évaluation des résultats"
   ]
  },
  {
   "cell_type": "code",
   "execution_count": null,
   "id": "a56804c2",
   "metadata": {},
   "outputs": [],
   "source": [
    "# Évaluer le modèle sur l'ensemble de test\n",
    "test_loss, test_acc = model.evaluate(x_test, y_test)\n",
    "print(f\"Accuracy on test set: {test_acc}\")"
   ]
  },
  {
   "cell_type": "markdown",
   "id": "f81a554b",
   "metadata": {},
   "source": [
    "#### Affichage des images non reconnues"
   ]
  },
  {
   "cell_type": "code",
   "execution_count": null,
   "id": "8a827bdf",
   "metadata": {},
   "outputs": [],
   "source": [
    "# Prédictions sur l'ensemble de test\n",
    "y_pred = model.predict(x_test)\n",
    "y_pred_labels = np.argmax(y_pred, axis=1)\n",
    "y_true_labels = np.argmax(y_test, axis=1)\n",
    "\n",
    "# Affichage de quelques images mal classées\n",
    "misclassified_indices = np.where(y_pred_labels != y_true_labels)[0]\n",
    "plt.figure(figsize=(7, 9))\n",
    "for i, idx in enumerate(misclassified_indices[:25]):\n",
    "    plt.subplot(5, 5, i + 1)\n",
    "    plt.imshow(x_test[idx].reshape(28, 28), cmap='gray')\n",
    "    plt.title(f'True: {y_true_labels[idx]}\\nPredicted: {y_pred_labels[idx]}')\n",
    "    plt.axis('off')\n",
    "plt.show()\n",
    "\n",
    "\n"
   ]
  },
  {
   "cell_type": "markdown",
   "id": "07b8af65",
   "metadata": {},
   "source": [
    "#### Matrice de confusion"
   ]
  },
  {
   "cell_type": "code",
   "execution_count": null,
   "id": "3084f496",
   "metadata": {},
   "outputs": [],
   "source": [
    "# Matrice de confusion\n",
    "confusion = confusion_matrix(y_true_labels, y_pred_labels)\n",
    "confusion_display = ConfusionMatrixDisplay(confusion, display_labels=np.arange(10))\n",
    "confusion_display.plot(cmap=plt.cm.Blues)\n",
    "plt.title(\"Confusion Matrix\")\n",
    "plt.show()"
   ]
  }
 ],
 "metadata": {
  "kernelspec": {
   "display_name": "Python 3 (ipykernel)",
   "language": "python",
   "name": "python3"
  },
  "language_info": {
   "codemirror_mode": {
    "name": "ipython",
    "version": 3
   },
   "file_extension": ".py",
   "mimetype": "text/x-python",
   "name": "python",
   "nbconvert_exporter": "python",
   "pygments_lexer": "ipython3",
   "version": "3.10.9"
  }
 },
 "nbformat": 4,
 "nbformat_minor": 5
}
