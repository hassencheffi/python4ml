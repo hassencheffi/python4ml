{
 "cells": [
  {
   "cell_type": "code",
   "execution_count": 1,
   "id": "283f9fcf",
   "metadata": {},
   "outputs": [
    {
     "name": "stdout",
     "output_type": "stream",
     "text": [
      "Les données ont été enregistrées dans boston_housing.csv\n"
     ]
    }
   ],
   "source": [
    "import numpy as np\n",
    "import pandas as pd\n",
    "from tensorflow.keras.datasets import boston_housing\n",
    "\n",
    "# Charger les données Boston Housing Price\n",
    "(x_train, y_train), (x_test, y_test) = boston_housing.load_data()\n",
    "\n",
    "# Noms des colonnes\n",
    "column_names = [\n",
    "    'CRIM', 'ZN', 'INDUS', 'CHAS', 'NOX', 'RM', 'AGE', 'DIS',\n",
    "    'RAD', 'TAX', 'PTRATIO', 'B', 'LSTAT', 'MEDV'\n",
    "]\n",
    "\n",
    "# Fusionner les données d'entraînement et de test\n",
    "x_all = np.vstack((x_train, x_test))\n",
    "y_all = np.concatenate((y_train, y_test))\n",
    "\n",
    "# Créer un DataFrame Pandas\n",
    "df = pd.DataFrame(data=np.c_[x_all, y_all], columns=column_names)\n",
    "\n",
    "print(df.head())\n",
    "# Enregistrer le DataFrame dans un fichier CSV\n",
    "df.to_csv('boston_housing.csv', index=False)\n",
    "\n",
    "print(\"Les données ont été enregistrées dans boston_housing.csv\")\n"
   ]
  },
  {
   "cell_type": "code",
   "execution_count": 2,
   "id": "44dd33d8",
   "metadata": {},
   "outputs": [
    {
     "name": "stdout",
     "output_type": "stream",
     "text": [
      "      CRIM    ZN  INDUS  CHAS    NOX     RM    AGE     DIS   RAD    TAX  \\\n",
      "0  1.23247   0.0   8.14   0.0  0.538  6.142   91.7  3.9769   4.0  307.0   \n",
      "1  0.02177  82.5   2.03   0.0  0.415  7.610   15.7  6.2700   2.0  348.0   \n",
      "2  4.89822   0.0  18.10   0.0  0.631  4.970  100.0  1.3325  24.0  666.0   \n",
      "3  0.03961   0.0   5.19   0.0  0.515  6.037   34.5  5.9853   5.0  224.0   \n",
      "4  3.69311   0.0  18.10   0.0  0.713  6.376   88.4  2.5671  24.0  666.0   \n",
      "\n",
      "   PTRATIO       B  LSTAT  MEDV  \n",
      "0     21.0  396.90  18.72  15.2  \n",
      "1     14.7  395.38   3.11  42.3  \n",
      "2     20.2  375.52   3.26  50.0  \n",
      "3     20.2  396.90   8.01  21.1  \n",
      "4     20.2  391.43  14.65  17.7  \n"
     ]
    }
   ],
   "source": [
    "print(df.head())"
   ]
  },
  {
   "cell_type": "code",
   "execution_count": null,
   "id": "dd695a62",
   "metadata": {},
   "outputs": [],
   "source": []
  }
 ],
 "metadata": {
  "kernelspec": {
   "display_name": "Python 3 (ipykernel)",
   "language": "python",
   "name": "python3"
  },
  "language_info": {
   "codemirror_mode": {
    "name": "ipython",
    "version": 3
   },
   "file_extension": ".py",
   "mimetype": "text/x-python",
   "name": "python",
   "nbconvert_exporter": "python",
   "pygments_lexer": "ipython3",
   "version": "3.10.9"
  }
 },
 "nbformat": 4,
 "nbformat_minor": 5
}
