{
 "cells": [
  {
   "cell_type": "markdown",
   "id": "909b6731",
   "metadata": {},
   "source": [
    "# Classification des chiffres manuscrits du jeu de données MNIST en utilisant un réseau de neurones convolutif"
   ]
  },
  {
   "cell_type": "markdown",
   "id": "a9bfb368",
   "metadata": {},
   "source": [
    "Dans ce scénario, nous aborderons la classification des chiffres manuscrits à partir du jeu de données MNIST en optant pour une approche différente. Cette fois-ci, nous exploiterons un réseau de neurones convolutif. Notre objectif est de développer un modèle qui peut automatiquement reconnaître les chiffres écrits à la main avec une plus grande précision en capturant les motifs et les caractéristiques clés dans les images. En utilisant TensorFlow, nous construirons et entraînerons ce réseau de neurones convolutif pour réaliser cette tâche de classification complexe, mettant en évidence comment TensorFlow peut être appliqué à des problèmes de vision par ordinateur avancés tels que la reconnaissance de caractères."
   ]
  },
  {
   "cell_type": "markdown",
   "id": "2d8aefae",
   "metadata": {},
   "source": [
    "## 1. Importation des bibliothéques nécessaires"
   ]
  },
  {
   "cell_type": "code",
   "execution_count": null,
   "id": "ebc9fcd6",
   "metadata": {},
   "outputs": [],
   "source": [
    "import tensorflow as tf\n",
    "from tensorflow.keras.datasets import mnist\n",
    "from tensorflow.keras.models import Sequential\n",
    "from tensorflow.keras.layers import Conv2D, MaxPooling2D, Flatten, Dense\n",
    "from tensorflow.keras.utils import to_categorical\n",
    "import numpy as np\n",
    "import matplotlib.pyplot as plt\n",
    "from sklearn.metrics import confusion_matrix, ConfusionMatrixDisplay"
   ]
  },
  {
   "cell_type": "markdown",
   "id": "62b2271d",
   "metadata": {},
   "source": [
    "## 2. Préparation des données"
   ]
  },
  {
   "cell_type": "code",
   "execution_count": null,
   "id": "98b018ef",
   "metadata": {},
   "outputs": [],
   "source": [
    "# Charger les données MNIST et les diviser en ensembles d'entraînement et de test\n",
    "(x_train, y_train), (x_test, y_test) = mnist.load_data()\n",
    "\n",
    "# Affichage de quelques images d'entraînement\n",
    "plt.figure(figsize=(6, 6))\n",
    "for i in range(16):\n",
    "    plt.subplot(4, 4, i + 1)\n",
    "    plt.imshow(x_train[i], cmap='gray')\n",
    "    plt.axis('off')\n",
    "plt.show()"
   ]
  },
  {
   "cell_type": "markdown",
   "id": "0dccf4c7",
   "metadata": {},
   "source": [
    "## 3. Mise à l'échelle des caractéristiques"
   ]
  },
  {
   "cell_type": "code",
   "execution_count": null,
   "id": "26c3db9d",
   "metadata": {},
   "outputs": [],
   "source": [
    "# Normaliser et remodeler les données d'entraînement et de test\n",
    "x_train = x_train.reshape(-1, 28, 28, 1) / 255.0\n",
    "x_test = x_test.reshape(-1, 28, 28, 1) / 255.0\n",
    "y_train = to_categorical(y_train, num_classes=10)\n",
    "y_test = to_categorical(y_test, num_classes=10)"
   ]
  },
  {
   "cell_type": "markdown",
   "id": "678942cf",
   "metadata": {},
   "source": [
    "## 4. Construction du modèle"
   ]
  },
  {
   "cell_type": "code",
   "execution_count": null,
   "id": "4ba43061",
   "metadata": {},
   "outputs": [],
   "source": [
    "# Créer un modèle CNN\n",
    "model = Sequential([\n",
    "    Conv2D(32, (3, 3), activation='relu', input_shape=(28, 28, 1)),\n",
    "    MaxPooling2D((2, 2)),\n",
    "    Conv2D(64, (3, 3), activation='relu'),\n",
    "    MaxPooling2D((2, 2)),\n",
    "    Conv2D(64, (3, 3), activation='relu'),\n",
    "    Flatten(),\n",
    "    Dense(64, activation='relu'),\n",
    "    Dense(10, activation='softmax')\n",
    "])\n",
    "\n",
    "model.summary()"
   ]
  },
  {
   "cell_type": "markdown",
   "id": "19365775",
   "metadata": {},
   "source": [
    "## 5. Compilation du modèle"
   ]
  },
  {
   "cell_type": "code",
   "execution_count": null,
   "id": "948b0cea",
   "metadata": {},
   "outputs": [],
   "source": [
    "# Compiler le modèle\n",
    "model.compile(optimizer='adam',\n",
    "              loss='categorical_crossentropy',\n",
    "              metrics=['accuracy'])"
   ]
  },
  {
   "cell_type": "markdown",
   "id": "e54fb28a",
   "metadata": {},
   "source": [
    "## 6. Entraînement du modèle"
   ]
  },
  {
   "cell_type": "code",
   "execution_count": null,
   "id": "b4ba35be",
   "metadata": {},
   "outputs": [],
   "source": [
    "# Entraîner le modèle\n",
    "model.fit(x_train, y_train, epochs=5, batch_size=32, validation_split=0.2)"
   ]
  },
  {
   "cell_type": "markdown",
   "id": "9d31d66b",
   "metadata": {},
   "source": [
    "## 7. Évaluation des résultats"
   ]
  },
  {
   "cell_type": "code",
   "execution_count": null,
   "id": "a7c13dc6",
   "metadata": {},
   "outputs": [],
   "source": [
    "# Évaluer le modèle sur l'ensemble de test\n",
    "test_loss, test_acc = model.evaluate(x_test, y_test)\n",
    "print(f\"Accuracy on test set: {test_acc}\")"
   ]
  },
  {
   "cell_type": "markdown",
   "id": "28e05124",
   "metadata": {},
   "source": [
    "#### Affichage des images non reconnues"
   ]
  },
  {
   "cell_type": "code",
   "execution_count": null,
   "id": "1d94a4eb",
   "metadata": {
    "scrolled": false
   },
   "outputs": [],
   "source": [
    "# Prédictions sur l'ensemble de test\n",
    "y_pred = model.predict(x_test)\n",
    "y_pred_labels = np.argmax(y_pred, axis=1)\n",
    "y_true_labels = np.argmax(y_test, axis=1)\n",
    "\n",
    "# Affichage de quelques images mal classées\n",
    "misclassified_indices = np.where(y_pred_labels != y_true_labels)[0]\n",
    "plt.figure(figsize=(8, 10))\n",
    "for i, idx in enumerate(misclassified_indices[:25]):\n",
    "    plt.subplot(5, 5, i + 1)\n",
    "    plt.imshow(x_test[idx].reshape(28, 28), cmap='gray')\n",
    "    plt.title(f'True: {y_true_labels[idx]}\\nPredicted: {y_pred_labels[idx]}')\n",
    "    plt.axis('off')\n",
    "plt.show()"
   ]
  },
  {
   "cell_type": "markdown",
   "id": "d66aaf20",
   "metadata": {},
   "source": [
    "#### Matrice de confusion"
   ]
  },
  {
   "cell_type": "code",
   "execution_count": null,
   "id": "13e0baf8",
   "metadata": {},
   "outputs": [],
   "source": [
    "# Matrice de confusion\n",
    "confusion = confusion_matrix(y_true_labels, y_pred_labels)\n",
    "confusion_display = ConfusionMatrixDisplay(confusion, display_labels=np.arange(10))\n",
    "confusion_display.plot(cmap=plt.cm.Blues)\n",
    "plt.title(\"Confusion Matrix\")\n",
    "plt.show()"
   ]
  },
  {
   "cell_type": "code",
   "execution_count": null,
   "id": "74aa7150",
   "metadata": {},
   "outputs": [],
   "source": []
  }
 ],
 "metadata": {
  "kernelspec": {
   "display_name": "Python 3 (ipykernel)",
   "language": "python",
   "name": "python3"
  },
  "language_info": {
   "codemirror_mode": {
    "name": "ipython",
    "version": 3
   },
   "file_extension": ".py",
   "mimetype": "text/x-python",
   "name": "python",
   "nbconvert_exporter": "python",
   "pygments_lexer": "ipython3",
   "version": "3.10.9"
  }
 },
 "nbformat": 4,
 "nbformat_minor": 5
}
