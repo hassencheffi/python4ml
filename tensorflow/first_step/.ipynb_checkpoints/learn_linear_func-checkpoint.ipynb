{
 "cells": [
  {
   "cell_type": "markdown",
   "id": "85026d30",
   "metadata": {},
   "source": [
    "# Modélisation d'une fonction linéaire simple"
   ]
  },
  {
   "cell_type": "markdown",
   "id": "57418a33",
   "metadata": {},
   "source": [
    "Dans ce tutoriel, nous allons explorer comment utiliser **TensorFlow** pour modéliser la fonction linéaire **f(x) = 2x** à l'aide d'un **réseau de neurones**. Pour ce faire, nous suivrons ces étapes simples :\n",
    "\n",
    "Dans ce tutoriel, nous allons explorer comment utiliser TensorFlow pour modéliser la fonction linéaire `f(x) = 2x` à l'aide d'un réseau de neurones. Pour ce faire, nous suivrons ces étapes simples :\n",
    "\n",
    "1. **Préparation des données** : Nous allons générer des données d'entraînement en créant des paires d'entrées et de sorties basées sur la fonction `f(x) = 2x`.\n",
    "\n",
    "2. **Construction du modèle** : Nous allons définir un réseau de neurones simple à l'aide de la bibliothèque TensorFlow. Notre modèle comportera une couche dense avec une seule unité, visant à capturer la relation linéaire.\n",
    "\n",
    "3. **Compilation du modèle** : Nous choisirons une fonction de perte appropriée, comme l'erreur quadratique moyenne (`mean squared error`), et un optimiseur tel que la descente de gradient stochastique (`SGD`).\n",
    "\n",
    "4. **Entraînement du modèle** : En utilisant les données générées, nous allons entraîner le modèle pour ajuster ses paramètres, de manière à ce qu'il puisse approximer au mieux la fonction `f(x) = 2x`.\n",
    "\n",
    "5. **Évaluation des résultats** : Nous évaluerons les performances du modèle en utilisant des données de test et en calculant la perte (`loss`) ainsi que d'autres métriques pertinentes.\n",
    "\n",
    "En suivant ces étapes, nous allons découvrir comment TensorFlow facilite la création et l'entraînement de modèles de réseaux de neurones pour résoudre des problèmes simples de modélisation de fonctions, jetant ainsi les bases pour aborder des tâches plus complexes à l'avenir.\n"
   ]
  },
  {
   "cell_type": "markdown",
   "id": "356f4b90",
   "metadata": {},
   "source": [
    "## 1. Importation des bibliothéques nécessaires"
   ]
  },
  {
   "cell_type": "code",
   "execution_count": 18,
   "id": "99572093",
   "metadata": {},
   "outputs": [
    {
     "name": "stdout",
     "output_type": "stream",
     "text": [
      "TensorFlow version: 2.10.0\n"
     ]
    }
   ],
   "source": [
    "import tensorflow as tf\n",
    "import numpy as np\n",
    "from sklearn.model_selection import train_test_split\n",
    "import matplotlib.pyplot as plt\n",
    "import os\n",
    "os.environ[\"KMP_DUPLICATE_LIB_OK\"]=\"TRUE\"\n",
    "print(\"TensorFlow version:\", tf.__version__)"
   ]
  },
  {
   "cell_type": "markdown",
   "id": "a0185642",
   "metadata": {},
   "source": [
    "## 2. Préparation des données"
   ]
  },
  {
   "cell_type": "code",
   "execution_count": 19,
   "id": "2b026147",
   "metadata": {},
   "outputs": [
    {
     "name": "stdout",
     "output_type": "stream",
     "text": [
      "[ 1  2  3  4  5  6  7  8  9 10 11 12 13 14 15 16 17 18 19 20 21 22 23 24\n",
      " 25 26 27 28 29 30 31 32 33 34 35 36 37 38 39 40 41 42 43 44 45 46 47 48\n",
      " 49 50]\n",
      "[  2   4   6   8  10  12  14  16  18  20  22  24  26  28  30  32  34  36\n",
      "  38  40  42  44  46  48  50  52  54  56  58  60  62  64  66  68  70  72\n",
      "  74  76  78  80  82  84  86  88  90  92  94  96  98 100]\n",
      "[ 1  2  3  4  5  6  7  8  9 10 11 12 13 14 15 16 17 18 19 20 21 22 23 24\n",
      " 25 26 27 28 29 30 31 32 33 34 35 36 37 38 39 40]\n",
      "[41 42 43 44 45 46 47 48 49 50]\n",
      "[ 2  4  6  8 10 12 14 16 18 20 22 24 26 28 30 32 34 36 38 40 42 44 46 48\n",
      " 50 52 54 56 58 60 62 64 66 68 70 72 74 76 78 80]\n",
      "[ 82  84  86  88  90  92  94  96  98 100]\n"
     ]
    }
   ],
   "source": [
    "x_data = np.arange(1,51,1)\n",
    "y_data = np.arange(2,101,2)\n",
    "print(x_data,y_data,sep=\"\\n\")\n",
    "x_train,x_test,y_train,y_test=train_test_split(x_data, y_data, test_size=0.2, random_state=42,shuffle=False)\n",
    "\n",
    "print(x_train,x_test,y_train,y_test,sep=\"\\n\")\n"
   ]
  },
  {
   "cell_type": "markdown",
   "id": "79f11327",
   "metadata": {},
   "source": [
    "## 3. Construction du modèle"
   ]
  },
  {
   "cell_type": "code",
   "execution_count": 20,
   "id": "013214a0",
   "metadata": {},
   "outputs": [
    {
     "name": "stdout",
     "output_type": "stream",
     "text": [
      "Model: \"sequential_13\"\n",
      "_________________________________________________________________\n",
      " Layer (type)                Output Shape              Param #   \n",
      "=================================================================\n",
      " dense_13 (Dense)            (None, 1)                 2         \n",
      "                                                                 \n",
      "=================================================================\n",
      "Total params: 2\n",
      "Trainable params: 2\n",
      "Non-trainable params: 0\n",
      "_________________________________________________________________\n"
     ]
    }
   ],
   "source": [
    "model = tf.keras.models.Sequential([\n",
    "  tf.keras.layers.Dense(units=1,input_shape=[1],kernel_initializer='glorot_uniform')\n",
    "])\n",
    "model.summary()"
   ]
  },
  {
   "cell_type": "markdown",
   "id": "06798181",
   "metadata": {},
   "source": [
    "## 4. Compilation du modèle"
   ]
  },
  {
   "cell_type": "code",
   "execution_count": 23,
   "id": "008fd19b",
   "metadata": {},
   "outputs": [],
   "source": [
    "model.compile(optimizer='sgd',\n",
    "              loss='mean_squared_error',\n",
    "              metrics=['accuracy'])"
   ]
  },
  {
   "cell_type": "markdown",
   "id": "d1449b0a",
   "metadata": {},
   "source": [
    "## 5. Entraînement du modèle"
   ]
  },
  {
   "cell_type": "code",
   "execution_count": 24,
   "id": "4f2a6715",
   "metadata": {},
   "outputs": [],
   "source": [
    "history = model.fit(x_train, y_train, epochs=20, validation_split=0.2, verbose=0)"
   ]
  },
  {
   "cell_type": "markdown",
   "id": "b81d08dc",
   "metadata": {},
   "source": [
    "## 6. Évaluation des résultats"
   ]
  },
  {
   "cell_type": "code",
   "execution_count": 25,
   "id": "568c260c",
   "metadata": {},
   "outputs": [
    {
     "name": "stdout",
     "output_type": "stream",
     "text": [
      "1/1 [==============================] - 0s 25ms/step - loss: 1023480653758343738569339033681395712.0000 - accuracy: 0.0000e+00\n",
      "Résultat attendu [ 82  84  86  88  90  92  94  96  98 100]\n",
      "Loss:  1.0234806537583437e+36\n",
      "1/1 [==============================] - 0s 54ms/step\n",
      "[[-9.0991067e+17]\n",
      " [-9.3207862e+17]\n",
      " [-9.5424663e+17]\n",
      " [-9.7641457e+17]\n",
      " [-9.9858258e+17]\n",
      " [-1.0207505e+18]\n",
      " [-1.0429185e+18]\n",
      " [-1.0650865e+18]\n",
      " [-1.0872544e+18]\n",
      " [-1.1094224e+18]]\n"
     ]
    },
    {
     "data": {
      "image/png": "[encoded data removed]",
      "text/plain": [
       "<Figure size 640x480 with 1 Axes>"
      ]
     },
     "metadata": {},
     "output_type": "display_data"
    }
   ],
   "source": [
    "test_loss, test_acc = model.evaluate(x_test, y_test)\n",
    "\n",
    "print(\"Résultat attendu\",y_test)\n",
    "print(\"Loss: \",test_loss)\n",
    "y_pred=model.predict(x_test)\n",
    "print(y_pred)\n",
    "# Affichage de la courbe de perte\n",
    "plt.plot(history.history['loss'], label='Train Loss')\n",
    "plt.plot(history.history['val_loss'], label='Validation Loss')\n",
    "plt.title('Courbe de perte')\n",
    "plt.xlabel('Époque')\n",
    "plt.ylabel('Perte')\n",
    "plt.show()"
   ]
  },
  {
   "cell_type": "code",
   "execution_count": null,
   "id": "4229f96d",
   "metadata": {},
   "outputs": [],
   "source": []
  }
 ],
 "metadata": {
  "kernelspec": {
   "display_name": "Python 3 (ipykernel)",
   "language": "python",
   "name": "python3"
  },
  "language_info": {
   "codemirror_mode": {
    "name": "ipython",
    "version": 3
   },
   "file_extension": ".py",
   "mimetype": "text/x-python",
   "name": "python",
   "nbconvert_exporter": "python",
   "pygments_lexer": "ipython3",
   "version": "3.10.9"
  }
 },
 "nbformat": 4,
 "nbformat_minor": 5
}
