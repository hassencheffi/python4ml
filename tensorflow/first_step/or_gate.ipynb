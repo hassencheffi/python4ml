{
 "cells": [
  {
   "cell_type": "markdown",
   "id": "9e220338",
   "metadata": {},
   "source": [
    "# Modélisation de fonction logique OR, AND, XOR"
   ]
  },
  {
   "cell_type": "markdown",
   "id": "7f1653ed",
   "metadata": {},
   "source": [
    "Dans cet exemple, nous nous attèlerons à modéliser les fonctions logiques `OR`, `AND` et `XOR` à l'aide d'un réseau de neurones en exploitant la puissance de la bibliothèque TensorFlow. Ces fonctions logiques de base serviront de fondement pour illustrer comment TensorFlow peut être employé pour apprendre des relations non linéaires en ajustant les poids et les biais du réseau neuronal."
   ]
  },
  {
   "cell_type": "markdown",
   "id": "f2a948a6",
   "metadata": {},
   "source": [
    "## 1. Réalisation de la fonction OR"
   ]
  },
  {
   "cell_type": "markdown",
   "id": "719e6961",
   "metadata": {},
   "source": [
    "#### 1.1. Importation des bibliothéques nécessaires"
   ]
  },
  {
   "cell_type": "code",
   "execution_count": null,
   "id": "6ed88b4e",
   "metadata": {},
   "outputs": [],
   "source": [
    "import tensorflow as tf\n",
    "import numpy as np\n",
    "from sklearn.model_selection import train_test_split\n",
    "import matplotlib.pyplot as plt\n",
    "import os\n",
    "os.environ[\"KMP_DUPLICATE_LIB_OK\"]=\"TRUE\"\n",
    "print(\"TensorFlow version:\", tf.__version__)"
   ]
  },
  {
   "cell_type": "markdown",
   "id": "7f6ebcef",
   "metadata": {},
   "source": [
    "#### 1.2. Préparation des données"
   ]
  },
  {
   "cell_type": "code",
   "execution_count": null,
   "id": "6acab441",
   "metadata": {},
   "outputs": [],
   "source": [
    "# Données d'entraînement pour la fonction OR\n",
    "inputs = np.array([[0, 0], [0, 1], [1, 0], [1, 1]])\n",
    "outputs = np.array([0, 1, 1, 1])"
   ]
  },
  {
   "cell_type": "markdown",
   "id": "c5defded",
   "metadata": {},
   "source": [
    "#### 1.3. Construction du modèle"
   ]
  },
  {
   "cell_type": "code",
   "execution_count": null,
   "id": "ed6d5f05",
   "metadata": {},
   "outputs": [],
   "source": [
    "# Création d'un modèle séquentiel\n",
    "model = tf.keras.models.Sequential()\n",
    "model.add(tf.keras.layers.Dense(units=1, activation='sigmoid', input_shape=(2,)))"
   ]
  },
  {
   "cell_type": "markdown",
   "id": "180a3eff",
   "metadata": {},
   "source": [
    "#### 1.4. Compilation du modèle"
   ]
  },
  {
   "cell_type": "code",
   "execution_count": null,
   "id": "9177c5a4",
   "metadata": {},
   "outputs": [],
   "source": [
    "# Compilation du modèle\n",
    "model.compile(optimizer='adam', loss='binary_crossentropy', metrics=['accuracy'])"
   ]
  },
  {
   "cell_type": "markdown",
   "id": "1c8131c0",
   "metadata": {},
   "source": [
    "#### 1.5. Entraînement du modèle"
   ]
  },
  {
   "cell_type": "code",
   "execution_count": null,
   "id": "75b4dc1b",
   "metadata": {},
   "outputs": [],
   "source": [
    "# Entraînement du modèle\n",
    "history = model.fit(inputs, outputs, epochs=30000, verbose=0)"
   ]
  },
  {
   "cell_type": "markdown",
   "id": "56674a83",
   "metadata": {},
   "source": [
    "#### 1.6. Évaluation des résultats"
   ]
  },
  {
   "cell_type": "code",
   "execution_count": null,
   "id": "c8f59e8d",
   "metadata": {},
   "outputs": [],
   "source": [
    "# Prédiction\n",
    "predictions = model.predict(inputs).round()\n",
    "print(\"Predictions for OR function:\")\n",
    "print(predictions)\n"
   ]
  },
  {
   "cell_type": "markdown",
   "id": "24e96784",
   "metadata": {},
   "source": [
    "## 2. Exercices"
   ]
  },
  {
   "cell_type": "markdown",
   "id": "c58293a4",
   "metadata": {},
   "source": [
    "#### 2.1 Réaliser la fonction logique AND"
   ]
  },
  {
   "cell_type": "markdown",
   "id": "fa4792c3",
   "metadata": {},
   "source": [
    "En utilisant l'exemple précédent comme guide, vous allez maintenant créer un modèle de réseau de neurones pour modéliser la fonction **logique AND**. En ajustant les paramètres du modèle et en formant ses poids, notre objectif est de permettre au réseau de capturer la logique sous-jacente de la fonction AND, démontrant ainsi comment TensorFlow peut être appliqué pour résoudre des tâches de classification binaire simples."
   ]
  },
  {
   "cell_type": "code",
   "execution_count": null,
   "id": "fccd246d",
   "metadata": {},
   "outputs": [],
   "source": [
    "#Importation des bibliothéques nécessaires\n",
    "\n",
    "# Données d'entraînement pour la fonction AND\n",
    "\n",
    "# Création d'un modèle séquentiel\n",
    "\n",
    "# Compilation du modèle\n",
    "\n",
    "# Entraînement du modèle\n",
    "\n",
    "# Prédiction"
   ]
  },
  {
   "cell_type": "markdown",
   "id": "b6e83718",
   "metadata": {},
   "source": [
    "#### 2.2 Réaliser la fonction logique XOR"
   ]
  },
  {
   "cell_type": "markdown",
   "id": "2f13a128",
   "metadata": {},
   "source": [
    "De la même manière, réalisez la fonction logique XOR."
   ]
  },
  {
   "cell_type": "code",
   "execution_count": null,
   "id": "d65e7264",
   "metadata": {},
   "outputs": [],
   "source": [
    "#Importation des bibliothéques nécessaires\n",
    "\n",
    "# Données d'entraînement pour la fonction AND\n",
    "\n",
    "# Création d'un modèle séquentiel\n",
    "\n",
    "# Compilation du modèle\n",
    "\n",
    "# Entraînement du modèle\n",
    "\n",
    "# Prédiction"
   ]
  }
 ],
 "metadata": {
  "kernelspec": {
   "display_name": "Python 3 (ipykernel)",
   "language": "python",
   "name": "python3"
  },
  "language_info": {
   "codemirror_mode": {
    "name": "ipython",
    "version": 3
   },
   "file_extension": ".py",
   "mimetype": "text/x-python",
   "name": "python",
   "nbconvert_exporter": "python",
   "pygments_lexer": "ipython3",
   "version": "3.10.9"
  }
 },
 "nbformat": 4,
 "nbformat_minor": 5
}
