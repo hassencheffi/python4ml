{
 "cells": [
  {
   "cell_type": "code",
   "execution_count": 1,
   "id": "a82f3f98",
   "metadata": {},
   "outputs": [
    {
     "name": "stdout",
     "output_type": "stream",
     "text": [
      "1/1 [==============================] - 0s 146ms/step\n",
      "Predictions for XOR function:\n",
      "[[0.]\n",
      " [1.]\n",
      " [1.]\n",
      " [0.]]\n"
     ]
    }
   ],
   "source": [
    "import numpy as np\n",
    "import tensorflow as tf\n",
    "from tensorflow.keras.models import Sequential\n",
    "from tensorflow.keras.layers import Dense\n",
    "\n",
    "# Données d'entraînement pour la fonction OR\n",
    "inputs = np.array([[0, 0], [0, 1], [1, 0], [1, 1]])\n",
    "# Données d'entraînement pour la fonction XOR\n",
    "outputs_xor = np.array([0, 1, 1, 0])\n",
    "\n",
    "# Création d'un modèle séquentiel\n",
    "model_xor = Sequential()\n",
    "model_xor.add(Dense(units=2, activation='sigmoid', input_shape=(2,)))\n",
    "model_xor.add(Dense(units=1, activation='sigmoid'))\n",
    "\n",
    "# Compilation du modèle\n",
    "model_xor.compile(optimizer='adam', loss='binary_crossentropy', metrics=['accuracy'])\n",
    "\n",
    "# Entraînement du modèle\n",
    "model_xor.fit(inputs, outputs_xor, epochs=10000, verbose=0)\n",
    "\n",
    "# Prédiction\n",
    "predictions_xor = model_xor.predict(inputs).round()\n",
    "print(\"Predictions for XOR function:\")\n",
    "print(predictions_xor)\n"
   ]
  },
  {
   "cell_type": "code",
   "execution_count": null,
   "id": "73cb28a9",
   "metadata": {},
   "outputs": [],
   "source": []
  }
 ],
 "metadata": {
  "kernelspec": {
   "display_name": "Python 3 (ipykernel)",
   "language": "python",
   "name": "python3"
  },
  "language_info": {
   "codemirror_mode": {
    "name": "ipython",
    "version": 3
   },
   "file_extension": ".py",
   "mimetype": "text/x-python",
   "name": "python",
   "nbconvert_exporter": "python",
   "pygments_lexer": "ipython3",
   "version": "3.10.9"
  }
 },
 "nbformat": 4,
 "nbformat_minor": 5
}
