{
 "cells": [
  {
   "cell_type": "markdown",
   "id": "85026d30",
   "metadata": {},
   "source": [
    "# Modélisation d'une fonction linéaire simple"
   ]
  },
  {
   "cell_type": "markdown",
   "id": "57418a33",
   "metadata": {},
   "source": [
    "Dans ce tutoriel, nous allons explorer comment utiliser **TensorFlow** pour modéliser la fonction linéaire **f(x) = 2x** à l'aide d'un **réseau de neurones**. Pour ce faire, nous suivrons ces étapes simples :\n",
    "\n",
    "Dans ce tutoriel, nous allons explorer comment utiliser TensorFlow pour modéliser la fonction linéaire `f(x) = 2x` à l'aide d'un réseau de neurones. Pour ce faire, nous suivrons ces étapes simples :\n",
    "\n",
    "1. **Préparation des données** : Nous allons générer des données d'entraînement en créant des paires d'entrées et de sorties basées sur la fonction `f(x) = 2x`.\n",
    "\n",
    "2. **Construction du modèle** : Nous allons définir un réseau de neurones simple à l'aide de la bibliothèque TensorFlow. Notre modèle comportera une couche dense avec une seule unité, visant à capturer la relation linéaire.\n",
    "\n",
    "3. **Compilation du modèle** : Nous choisirons une fonction de perte appropriée, comme l'erreur quadratique moyenne (`mean squared error`), et un optimiseur tel que la descente de gradient stochastique (`SGD`).\n",
    "\n",
    "4. **Entraînement du modèle** : En utilisant les données générées, nous allons entraîner le modèle pour ajuster ses paramètres, de manière à ce qu'il puisse approximer au mieux la fonction `f(x) = 2x`.\n",
    "\n",
    "5. **Évaluation des résultats** : Nous évaluerons les performances du modèle en utilisant des données de test et en calculant la perte (`loss`) ainsi que d'autres métriques pertinentes.\n",
    "\n",
    "En suivant ces étapes, nous allons découvrir comment TensorFlow facilite la création et l'entraînement de modèles de réseaux de neurones pour résoudre des problèmes simples de modélisation de fonctions, jetant ainsi les bases pour aborder des tâches plus complexes à l'avenir.\n"
   ]
  },
  {
   "cell_type": "markdown",
   "id": "356f4b90",
   "metadata": {},
   "source": [
    "## 1. Importation des bibliothéques nécessaires"
   ]
  },
  {
   "cell_type": "code",
   "execution_count": null,
   "id": "99572093",
   "metadata": {},
   "outputs": [],
   "source": [
    "import tensorflow as tf\n",
    "import numpy as np\n",
    "from sklearn.model_selection import train_test_split\n",
    "import matplotlib.pyplot as plt\n",
    "import os\n",
    "os.environ[\"KMP_DUPLICATE_LIB_OK\"]=\"TRUE\"\n",
    "print(\"TensorFlow version:\", tf.__version__)"
   ]
  },
  {
   "cell_type": "markdown",
   "id": "a0185642",
   "metadata": {},
   "source": [
    "## 2. Préparation des données"
   ]
  },
  {
   "cell_type": "code",
   "execution_count": null,
   "id": "2b026147",
   "metadata": {},
   "outputs": [],
   "source": [
    "x_data = np.arange(1,51,1)\n",
    "y_data = np.arange(2,101,2)\n",
    "print(x_data,y_data,sep=\"\\n\")\n",
    "x_train,x_test,y_train,y_test=train_test_split(x_data, y_data, test_size=0.2, random_state=42,shuffle=False)\n",
    "\n",
    "print(x_train,x_test,y_train,y_test,sep=\"\\n\")\n"
   ]
  },
  {
   "cell_type": "markdown",
   "id": "79f11327",
   "metadata": {},
   "source": [
    "## 3. Construction du modèle"
   ]
  },
  {
   "cell_type": "code",
   "execution_count": null,
   "id": "013214a0",
   "metadata": {},
   "outputs": [],
   "source": [
    "model = tf.keras.models.Sequential([\n",
    "  tf.keras.layers.Dense(units=1,input_shape=[1],kernel_initializer='glorot_uniform')\n",
    "])\n",
    "model.summary()"
   ]
  },
  {
   "cell_type": "markdown",
   "id": "06798181",
   "metadata": {},
   "source": [
    "## 4. Compilation du modèle"
   ]
  },
  {
   "cell_type": "code",
   "execution_count": null,
   "id": "008fd19b",
   "metadata": {},
   "outputs": [],
   "source": [
    "model.compile(optimizer='sgd',\n",
    "              loss='mean_squared_error',\n",
    "              metrics=['accuracy'])"
   ]
  },
  {
   "cell_type": "markdown",
   "id": "d1449b0a",
   "metadata": {},
   "source": [
    "## 5. Entraînement du modèle"
   ]
  },
  {
   "cell_type": "code",
   "execution_count": null,
   "id": "4f2a6715",
   "metadata": {},
   "outputs": [],
   "source": [
    "history = model.fit(x_train, y_train, epochs=100, validation_split=0.2, verbose=0)"
   ]
  },
  {
   "cell_type": "markdown",
   "id": "b81d08dc",
   "metadata": {},
   "source": [
    "## 6. Évaluation des résultats"
   ]
  },
  {
   "cell_type": "code",
   "execution_count": null,
   "id": "568c260c",
   "metadata": {},
   "outputs": [],
   "source": [
    "test_loss, test_acc = model.evaluate(x_test, y_test)\n",
    "\n",
    "print(\"Résultat attendu\",y_test)\n",
    "print(\"Loss: \",test_loss)\n",
    "y_pred=model.predict(x_test)\n",
    "print(y_pred)\n",
    "# Affichage de la courbe de perte\n",
    "plt.plot(history.history['loss'], label='Train Loss')\n",
    "plt.plot(history.history['val_loss'], label='Validation Loss')\n",
    "plt.title('Courbe de perte')\n",
    "plt.xlabel('Époque')\n",
    "plt.ylabel('Perte')\n",
    "plt.legend()\n",
    "plt.show()"
   ]
  },
  {
   "cell_type": "code",
   "execution_count": null,
   "id": "4229f96d",
   "metadata": {},
   "outputs": [],
   "source": []
  }
 ],
 "metadata": {
  "kernelspec": {
   "display_name": "Python 3 (ipykernel)",
   "language": "python",
   "name": "python3"
  },
  "language_info": {
   "codemirror_mode": {
    "name": "ipython",
    "version": 3
   },
   "file_extension": ".py",
   "mimetype": "text/x-python",
   "name": "python",
   "nbconvert_exporter": "python",
   "pygments_lexer": "ipython3",
   "version": "3.10.9"
  }
 },
 "nbformat": 4,
 "nbformat_minor": 5
}
