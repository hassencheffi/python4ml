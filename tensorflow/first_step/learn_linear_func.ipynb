{
 "cells": [
  {
   "cell_type": "markdown",
   "id": "85026d30",
   "metadata": {},
   "source": [
    "# Modélisation d'une fonction linéaire simple"
   ]
  },
  {
   "cell_type": "markdown",
   "id": "57418a33",
   "metadata": {},
   "source": [
    "Dans ce tutoriel, nous allons explorer comment utiliser **TensorFlow** pour modéliser la fonction linéaire $f(x) = 2x$ à l'aide d'un **réseau de neurones**. Pour ce faire, nous suivrons ces étapes simples :\n",
    "\n",
    "Dans ce tutoriel, nous allons explorer comment utiliser TensorFlow pour modéliser la fonction linéaire $f(x) = 2x$ à l'aide d'un réseau de neurones. Pour ce faire, nous suivrons ces étapes simples :\n",
    "\n",
    "1. **Préparation des données** : Nous allons générer des données d'entraînement en créant des paires d'entrées et de sorties basées sur la fonction $f(x) = 2x$.\n",
    "\n",
    "2. **Construction du modèle** : Nous allons définir un réseau de neurones simple à l'aide de la bibliothèque TensorFlow. Notre modèle comportera une couche dense avec une seule unité, visant à capturer la relation linéaire.\n",
    "\n",
    "3. **Compilation du modèle** : Nous choisirons une fonction de perte appropriée, comme l'erreur quadratique moyenne (`mean squared error`), et un optimiseur tel que la descente de gradient stochastique (`SGD`).\n",
    "\n",
    "4. **Entraînement du modèle** : En utilisant les données générées, nous allons entraîner le modèle pour ajuster ses paramètres, de manière à ce qu'il puisse approximer au mieux la fonction $f(x) = 2x$.\n",
    "\n",
    "5. **Évaluation des résultats** : Nous évaluerons les performances du modèle en utilisant des données de test et en calculant la perte (`loss`) ainsi que d'autres métriques pertinentes.\n",
    "\n",
    "En suivant ces étapes, nous allons découvrir comment TensorFlow facilite la création et l'entraînement de modèles de réseaux de neurones pour résoudre des problèmes simples de modélisation de fonctions, jetant ainsi les bases pour aborder des tâches plus complexes à l'avenir.\n"
   ]
  },
  {
   "cell_type": "markdown",
   "id": "356f4b90",
   "metadata": {},
   "source": [
    "## 1. Importation des bibliothéques nécessaires"
   ]
  },
  {
   "cell_type": "code",
   "execution_count": 1,
   "id": "99572093",
   "metadata": {},
   "outputs": [
    {
     "name": "stdout",
     "output_type": "stream",
     "text": [
      "TensorFlow version: 2.10.0\n"
     ]
    }
   ],
   "source": [
    "import tensorflow as tf\n",
    "import numpy as np\n",
    "from sklearn.model_selection import train_test_split\n",
    "import matplotlib.pyplot as plt\n",
    "import os\n",
    "os.environ[\"KMP_DUPLICATE_LIB_OK\"]=\"TRUE\"\n",
    "print(\"TensorFlow version:\", tf.__version__)"
   ]
  },
  {
   "cell_type": "markdown",
   "id": "a0185642",
   "metadata": {},
   "source": [
    "## 2. Préparation des données"
   ]
  },
  {
   "cell_type": "code",
   "execution_count": 3,
   "id": "2b026147",
   "metadata": {},
   "outputs": [
    {
     "name": "stdout",
     "output_type": "stream",
     "text": [
      "[0.00000000e+00 1.00010001e-03 2.00020002e-03 ... 9.99799980e+00\n",
      " 9.99899990e+00 1.00000000e+01]\n",
      "[0.00000000e+00 2.00020002e-03 4.00040004e-03 ... 1.99959996e+01\n",
      " 1.99979998e+01 2.00000000e+01]\n",
      "[0.00000000e+00 1.00010001e-03 2.00020002e-03 ... 7.99779978e+00\n",
      " 7.99879988e+00 7.99979998e+00]\n",
      "[ 8.00080008  8.00180018  8.00280028 ...  9.9979998   9.9989999\n",
      " 10.        ]\n",
      "[0.00000000e+00 2.00020002e-03 4.00040004e-03 ... 1.59955996e+01\n",
      " 1.59975998e+01 1.59996000e+01]\n",
      "[16.00160016 16.00360036 16.00560056 ... 19.9959996  19.9979998\n",
      " 20.        ]\n"
     ]
    }
   ],
   "source": [
    "x_data = np.linspace(0, 10, 10000)\n",
    "y_data = 2*x_data\n",
    "print(x_data,y_data,sep=\"\\n\")\n",
    "x_train,x_test,y_train,y_test=train_test_split(x_data, y_data, test_size=0.2, random_state=42,shuffle=False)\n",
    "\n",
    "print(x_train,x_test,y_train,y_test,sep=\"\\n\")\n"
   ]
  },
  {
   "cell_type": "markdown",
   "id": "79f11327",
   "metadata": {},
   "source": [
    "## 3. Construction du modèle"
   ]
  },
  {
   "cell_type": "code",
   "execution_count": 4,
   "id": "013214a0",
   "metadata": {},
   "outputs": [
    {
     "name": "stdout",
     "output_type": "stream",
     "text": [
      "Model: \"sequential\"\n",
      "_________________________________________________________________\n",
      " Layer (type)                Output Shape              Param #   \n",
      "=================================================================\n",
      " dense (Dense)               (None, 1)                 2         \n",
      "                                                                 \n",
      "=================================================================\n",
      "Total params: 2\n",
      "Trainable params: 2\n",
      "Non-trainable params: 0\n",
      "_________________________________________________________________\n"
     ]
    }
   ],
   "source": [
    "model = tf.keras.models.Sequential([\n",
    "  tf.keras.layers.Dense(units=1,input_shape=[1],kernel_initializer='glorot_uniform')\n",
    "])\n",
    "model.summary()"
   ]
  },
  {
   "cell_type": "markdown",
   "id": "06798181",
   "metadata": {},
   "source": [
    "## 4. Compilation du modèle"
   ]
  },
  {
   "cell_type": "code",
   "execution_count": 5,
   "id": "008fd19b",
   "metadata": {},
   "outputs": [],
   "source": [
    "model.compile(optimizer='sgd',\n",
    "              loss='mean_squared_error',\n",
    "              metrics=['accuracy'])"
   ]
  },
  {
   "cell_type": "markdown",
   "id": "d1449b0a",
   "metadata": {},
   "source": [
    "## 5. Entraînement du modèle"
   ]
  },
  {
   "cell_type": "code",
   "execution_count": 6,
   "id": "4f2a6715",
   "metadata": {
    "scrolled": false
   },
   "outputs": [
    {
     "name": "stdout",
     "output_type": "stream",
     "text": [
      "Epoch 1/10\n",
      "250/250 [==============================] - 1s 3ms/step - loss: 0.3670 - accuracy: 1.2500e-04 - val_loss: 0.0037 - val_accuracy: 0.0000e+00\n",
      "Epoch 2/10\n",
      "250/250 [==============================] - 0s 2ms/step - loss: 6.6846e-04 - accuracy: 1.2500e-04 - val_loss: 3.5281e-04 - val_accuracy: 0.0000e+00\n",
      "Epoch 3/10\n",
      "250/250 [==============================] - 0s 2ms/step - loss: 5.9509e-05 - accuracy: 1.2500e-04 - val_loss: 2.5417e-05 - val_accuracy: 0.0000e+00\n",
      "Epoch 4/10\n",
      "250/250 [==============================] - 0s 2ms/step - loss: 5.2852e-06 - accuracy: 1.2500e-04 - val_loss: 2.6278e-06 - val_accuracy: 0.0000e+00\n",
      "Epoch 5/10\n",
      "250/250 [==============================] - 0s 2ms/step - loss: 4.7070e-07 - accuracy: 1.2500e-04 - val_loss: 2.7024e-07 - val_accuracy: 0.0000e+00\n",
      "Epoch 6/10\n",
      "250/250 [==============================] - 0s 2ms/step - loss: 4.1849e-08 - accuracy: 1.2500e-04 - val_loss: 1.9963e-08 - val_accuracy: 0.0000e+00\n",
      "Epoch 7/10\n",
      "250/250 [==============================] - 0s 2ms/step - loss: 3.7193e-09 - accuracy: 1.2500e-04 - val_loss: 1.9691e-09 - val_accuracy: 0.0000e+00\n",
      "Epoch 8/10\n",
      "250/250 [==============================] - 0s 2ms/step - loss: 3.3067e-10 - accuracy: 1.2500e-04 - val_loss: 1.6793e-10 - val_accuracy: 0.0000e+00\n",
      "Epoch 9/10\n",
      "250/250 [==============================] - 0s 2ms/step - loss: 2.9335e-11 - accuracy: 1.2500e-04 - val_loss: 1.6580e-11 - val_accuracy: 0.0000e+00\n",
      "Epoch 10/10\n",
      "250/250 [==============================] - 0s 2ms/step - loss: 2.6628e-12 - accuracy: 1.2500e-04 - val_loss: 3.6380e-12 - val_accuracy: 0.0000e+00\n"
     ]
    }
   ],
   "source": [
    "history = model.fit(x_train, y_train, epochs=10, validation_split=0.2, validation_data=(x_test, y_test))"
   ]
  },
  {
   "cell_type": "markdown",
   "id": "b81d08dc",
   "metadata": {},
   "source": [
    "## 6. Évaluation des résultats"
   ]
  },
  {
   "cell_type": "code",
   "execution_count": 7,
   "id": "568c260c",
   "metadata": {},
   "outputs": [
    {
     "name": "stdout",
     "output_type": "stream",
     "text": [
      "63/63 [==============================] - 0s 2ms/step - loss: 3.6380e-12 - accuracy: 0.0000e+00\n",
      "Résultat attendu [16.00160016 16.00360036 16.00560056 ... 19.9959996  19.9979998\n",
      " 20.        ]\n",
      "Loss:  3.637978807091713e-12\n",
      "63/63 [==============================] - 0s 1ms/step\n",
      "[[16.001598]\n",
      " [16.0036  ]\n",
      " [16.005598]\n",
      " ...\n",
      " [19.995998]\n",
      " [19.997997]\n",
      " [19.999998]]\n"
     ]
    },
    {
     "data": {
      "image/png": "[encoded data removed]",
      "text/plain": [
       "<Figure size 640x480 with 1 Axes>"
      ]
     },
     "metadata": {},
     "output_type": "display_data"
    }
   ],
   "source": [
    "test_loss, test_acc = model.evaluate(x_test, y_test)\n",
    "\n",
    "print(\"Résultat attendu\",y_test)\n",
    "print(\"Loss: \",test_loss)\n",
    "y_pred=model.predict(x_test)\n",
    "print(y_pred)\n",
    "# Affichage de la courbe de perte\n",
    "plt.plot(history.history['loss'], label='Train Loss')\n",
    "plt.plot(history.history['val_loss'], label='Validation Loss')\n",
    "plt.title('Courbe de perte')\n",
    "plt.xlabel('Époque')\n",
    "plt.ylabel('Perte')\n",
    "plt.legend()\n",
    "plt.show()"
   ]
  },
  {
   "cell_type": "code",
   "execution_count": null,
   "id": "4229f96d",
   "metadata": {},
   "outputs": [],
   "source": []
  }
 ],
 "metadata": {
  "kernelspec": {
   "display_name": "Python 3 (ipykernel)",
   "language": "python",
   "name": "python3"
  },
  "language_info": {
   "codemirror_mode": {
    "name": "ipython",
    "version": 3
   },
   "file_extension": ".py",
   "mimetype": "text/x-python",
   "name": "python",
   "nbconvert_exporter": "python",
   "pygments_lexer": "ipython3",
   "version": "3.10.9"
  }
 },
 "nbformat": 4,
 "nbformat_minor": 5
}
