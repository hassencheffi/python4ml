{
 "cells": [
  {
   "cell_type": "markdown",
   "id": "85026d30",
   "metadata": {},
   "source": [
    "# Modélisation d'une fonction linéaire simple"
   ]
  },
  {
   "cell_type": "markdown",
   "id": "57418a33",
   "metadata": {},
   "source": [
    "Dans ce tutoriel, nous allons explorer comment utiliser **TensorFlow** pour modéliser la fonction linéaire $f(x) = 2x$ à l'aide d'un **réseau de neurones**. Pour ce faire, nous suivrons ces étapes simples :\n",
    "\n",
    "Dans ce tutoriel, nous allons explorer comment utiliser TensorFlow pour modéliser la fonction linéaire $f(x) = 2x$ à l'aide d'un réseau de neurones. Pour ce faire, nous suivrons ces étapes simples :\n",
    "\n",
    "1. **Préparation des données** : Nous allons générer des données d'entraînement en créant des paires d'entrées et de sorties basées sur la fonction $f(x) = 2x$.\n",
    "\n",
    "2. **Construction du modèle** : Nous allons définir un réseau de neurones simple à l'aide de la bibliothèque TensorFlow. Notre modèle comportera une couche dense avec une seule unité, visant à capturer la relation linéaire.\n",
    "\n",
    "3. **Compilation du modèle** : Nous choisirons une fonction de perte appropriée, comme l'erreur quadratique moyenne (`mean squared error`), et un optimiseur tel que la descente de gradient stochastique (`SGD`).\n",
    "\n",
    "4. **Entraînement du modèle** : En utilisant les données générées, nous allons entraîner le modèle pour ajuster ses paramètres, de manière à ce qu'il puisse approximer au mieux la fonction $f(x) = 2x$.\n",
    "\n",
    "5. **Évaluation des résultats** : Nous évaluerons les performances du modèle en utilisant des données de test et en calculant la perte (`loss`) ainsi que d'autres métriques pertinentes.\n",
    "\n",
    "En suivant ces étapes, nous allons découvrir comment TensorFlow facilite la création et l'entraînement de modèles de réseaux de neurones pour résoudre des problèmes simples de modélisation de fonctions, jetant ainsi les bases pour aborder des tâches plus complexes à l'avenir.\n"
   ]
  },
  {
   "cell_type": "markdown",
   "id": "356f4b90",
   "metadata": {},
   "source": [
    "## 1. Importation des bibliothéques nécessaires"
   ]
  },
  {
   "cell_type": "code",
   "execution_count": null,
   "id": "99572093",
   "metadata": {},
   "outputs": [],
   "source": [
    "import tensorflow as tf\n",
    "import numpy as np\n",
    "from sklearn.model_selection import train_test_split\n",
    "import matplotlib.pyplot as plt\n",
    "import os\n",
    "os.environ[\"KMP_DUPLICATE_LIB_OK\"]=\"TRUE\"\n",
    "print(\"TensorFlow version:\", tf.__version__)"
   ]
  },
  {
   "cell_type": "markdown",
   "id": "a0185642",
   "metadata": {},
   "source": [
    "## 2. Préparation des données"
   ]
  },
  {
   "cell_type": "code",
   "execution_count": null,
   "id": "2b026147",
   "metadata": {},
   "outputs": [],
   "source": [
    "x_data = np.linspace(0, 10, 10000)\n",
    "y_data = 2*x_data\n",
    "print(x_data,y_data,sep=\"\\n\")\n",
    "x_train,x_test,y_train,y_test=train_test_split(x_data, y_data, test_size=0.2, random_state=42,shuffle=False)\n",
    "\n",
    "print(x_train,x_test,y_train,y_test,sep=\"\\n\")\n"
   ]
  },
  {
   "cell_type": "markdown",
   "id": "79f11327",
   "metadata": {},
   "source": [
    "## 3. Construction du modèle"
   ]
  },
  {
   "cell_type": "markdown",
   "id": "5d8a7e7e",
   "metadata": {},
   "source": [
    "La couche Dense est une des couches les plus fondamentales et les plus utilisées dans TensorFlow et Keras pour construire des réseaux de neurones. Elle est souvent appelée couche pleinement connectée. Voici les principaux paramètres que vous pouvez configurer avec `tf.keras.layers.Dense` :\n",
    " * `units` : Le nombre de neurones (unités) dans la couche. C'est un paramètre obligatoire qui définit la dimensionnalité de l'espace de sortie de la couche.\n",
    " * `activation` : Fonction d'activation à utiliser. Les choix courants incluent `relu`, `sigmoid`, `softmax`, et `tanh`. Si vous ne spécifiez rien, aucune activation n'est appliquée (c'est-à-dire, une \"activation linéaire\" avec $a(x) = x$).\n",
    " * `kernel_initializer` : Initialisateur pour la matrice des poids. Les valeurs par défaut dépendent de la version de Keras/TensorFlow mais sont généralement `glorot_uniform` ou un initialiseur similaire.\n",
    " * `input_shape` : Utilisé pour spécifier la forme des données d'entrée que la première couche de votre réseau de neurones s'attend à recevoir. Ce paramètre est crucial lors de la définition de la première couche dans un modèle séquentiel TensorFlow/Keras, car il aide le modèle à comprendre la dimensionnalité des données d'entrée."
   ]
  },
  {
   "cell_type": "code",
   "execution_count": null,
   "id": "013214a0",
   "metadata": {},
   "outputs": [],
   "source": [
    "model = tf.keras.models.Sequential([\n",
    "  tf.keras.layers.Dense(units=1,input_shape=[1])\n",
    "])"
   ]
  },
  {
   "cell_type": "markdown",
   "id": "eed07a93",
   "metadata": {},
   "source": [
    "La méthode `model.summary()` dans TensorFlow/Keras fournit un résumé simple du modèle, y compris le nombre de paramètres (poids et biais) de chaque couche et le total dans le modèle. Ce résumé inclut les noms des couches, leurs formes de sortie et le nombre de paramètres. C'est un outil utile pour visualiser et comprendre la structure d'un modèle, surtout pour des modèles complexes."
   ]
  },
  {
   "cell_type": "code",
   "execution_count": null,
   "id": "b91d97cf",
   "metadata": {},
   "outputs": [],
   "source": [
    "model.summary()"
   ]
  },
  {
   "cell_type": "markdown",
   "id": "06798181",
   "metadata": {},
   "source": [
    "## 4. Compilation du modèle"
   ]
  },
  {
   "cell_type": "markdown",
   "id": "a4a4c95f",
   "metadata": {},
   "source": [
    "La méthode compile est une étape essentielle dans la construction d'un modèle de réseau de neurones avec TensorFlow et Keras. Elle configure le modèle pour l'entraînement, en spécifiant des éléments clés comme la fonction de perte, l'optimiseur et les métriques à évaluer pendant l'entraînement et le test. Voici les principaux paramètres de la méthode compile :\n",
    "* `optimizer` : Définit l'algorithme d'optimisation à utiliser pour minimiser la fonction de perte. Des exemples courants d'optimiseurs incluent `adam`, `sgd`, `rmsprop`, etc. Vous pouvez également passer une instance d'optimiseur de `tf.keras.optimizers`.\n",
    "* `loss` : Spécifie la fonction de perte à minimiser, qui mesure à quel point les prédictions du modèle sont éloignées des vraies valeurs. Des exemples courants incluent `sparse_categorical_crossentropy` pour la classification multi-classes avec des étiquettes comme des entiers, `categorical_crossentropy` pour les étiquettes sous forme de vecteurs one-hot, et `mean_squared_error` pour la régression.\n",
    "* `metrics` : Liste des métriques à évaluer par le modèle pendant l'entraînement et le test. Ces métriques ne sont pas utilisées pour l'entraînement (elles ne contribuent pas à la mise à jour des poids du modèle) mais fournissent des informations utiles sur la performance du modèle. Exemples : `accuracy`, `mae` (erreur absolue moyenne).\n",
    "* `loss_weights` : Des pondérations facultatives peuvent être attribuées à différentes sorties de modèle, particulièrement utile dans les modèles à sorties multiples. Les valeurs plus élevées donnent plus d'importance à la minimisation de la fonction de perte correspondante pendant l'entraînement."
   ]
  },
  {
   "cell_type": "code",
   "execution_count": null,
   "id": "008fd19b",
   "metadata": {},
   "outputs": [],
   "source": [
    "model.compile(optimizer='sgd',\n",
    "              loss='mean_squared_error',\n",
    "              metrics=['accuracy'])"
   ]
  },
  {
   "cell_type": "markdown",
   "id": "d1449b0a",
   "metadata": {},
   "source": [
    "## 5. Entraînement du modèle"
   ]
  },
  {
   "cell_type": "markdown",
   "id": "b6a2fa69",
   "metadata": {},
   "source": [
    "La méthode fit de Keras est utilisée pour entraîner un modèle sur des données d'entrée. Pendant l'entraînement, le modèle cherche à minimiser la fonction de perte en ajustant ses poids à travers les données fournies. Voici une explication des principaux paramètres de la méthode `fit` :\n",
    "* `x` : Données d'entrée sur lesquelles entraîner le modèle. Pour un modèle simple, cela pourrait être un tableau NumPy ou un tenseur TensorFlow contenant les caractéristiques d'entrée.\n",
    "* `y` : Données cibles (étiquettes) correspondant aux données d'entrée `x`.\n",
    "* `batch_size` : Nombre d'échantillons par mise à jour de gradient. Si non spécifié, `batch_size` sera 32 par défaut.\n",
    "* `epochs` : Nombre d'itérations sur l'ensemble des données d'entrée `x` et `y`.\n",
    "* `verbose` : Mode verbeux. 0 = silencieux, 1 = barre de progression, 2 = une ligne par époque.\n",
    "* `callbacks` : Liste d'objets de rappel à appliquer pendant l'entraînement. Utilisé pour des actions personnalisées à différentes étapes de l'entraînement (par exemple, pour enregistrer le modèle à chaque époque).\n",
    "* `validation_split` : Fraction des données à utiliser comme ensemble de validation. Doit être compris entre 0 et 1.\n",
    "* `validation_data` : Données sur lesquelles évaluer la perte et les métriques du modèle à la fin de chaque époque. Le modèle ne sera pas entraîné sur ces données.\n",
    "* `shuffle` : Indique si les données d'entraînement doivent être mélangées avant chaque époque."
   ]
  },
  {
   "cell_type": "code",
   "execution_count": null,
   "id": "4f2a6715",
   "metadata": {
    "scrolled": false
   },
   "outputs": [],
   "source": [
    "history = model.fit(x_train, y_train, epochs=10,  validation_data=(x_test, y_test))\n",
    "history.history"
   ]
  },
  {
   "cell_type": "markdown",
   "id": "b81d08dc",
   "metadata": {},
   "source": [
    "## 6. Évaluation des résultats"
   ]
  },
  {
   "cell_type": "markdown",
   "id": "96056c6a",
   "metadata": {},
   "source": [
    "La méthode model.evaluate de Keras est utilisée pour évaluer la performance d'un modèle sur des données de test. Elle retourne la valeur de perte et les métriques d'évaluation spécifiées lors de la compilation du modèle pour l'ensemble de données fourni. Voici les principaux paramètres de `model.evaluate(x,y)` :\n",
    "* `x` : Données d'entrée sur lesquelles évaluer le modèle.\n",
    "* `y` : Données cibles (labels) correspondant aux données d'entrée `x`.\n",
    "* `batch_size` : Nombre d'échantillons par lot de données traitées. Si non spécifié, la valeur par défaut est 32.\n",
    "* `verbose` : Mode verbeux. 0 = silencieux, 1 = barre de progression."
   ]
  },
  {
   "cell_type": "code",
   "execution_count": null,
   "id": "568c260c",
   "metadata": {},
   "outputs": [],
   "source": [
    "test_loss, test_acc = model.evaluate(x_test, y_test)\n",
    "\n",
    "print(\"Résultat attendu\",y_test)\n",
    "print(\"Loss: \",test_loss)\n",
    "y_pred=model.predict(x_test)\n",
    "print(y_pred)\n",
    "# Affichage de la courbe de perte\n",
    "plt.plot(history.history['loss'], label='Train Loss')\n",
    "plt.plot(history.history['val_loss'], label='Validation Loss')\n",
    "plt.title('Courbe de perte')\n",
    "plt.xlabel('Époque')\n",
    "plt.ylabel('Perte')\n",
    "plt.legend()\n",
    "plt.show()"
   ]
  },
  {
   "cell_type": "markdown",
   "id": "e706bfaa",
   "metadata": {},
   "source": [
    "La méthode `model.predict` dans Keras est utilisée pour générer des prédictions à partir des données d'entrée fournies au modèle."
   ]
  },
  {
   "cell_type": "code",
   "execution_count": null,
   "id": "4229f96d",
   "metadata": {},
   "outputs": [],
   "source": [
    "# Faire des prédictions\n",
    "y_pred_train = model.predict(x_train)\n",
    "y_pred_test = model.predict(x_test)\n",
    "\n",
    "# Afficher les résultats de prédiction\n",
    "plt.scatter(x_train, y_train, label='Données d\\'entraînement')\n",
    "plt.scatter(x_test, y_test, color='green', label='Données de test')\n",
    "plt.plot(x_train, y_pred_train, color='red', label='Prédiction sur entraînement')\n",
    "plt.plot(x_test, y_pred_test, color='orange', label='Prédiction sur test')\n",
    "plt.legend()\n",
    "plt.title(\"Régression Linéaire avec TensorFlow\")\n",
    "plt.xlabel(\"x\")\n",
    "plt.ylabel(\"y\")\n",
    "plt.show()"
   ]
  }
 ],
 "metadata": {
  "kernelspec": {
   "display_name": "Python 3 (ipykernel)",
   "language": "python",
   "name": "python3"
  },
  "language_info": {
   "codemirror_mode": {
    "name": "ipython",
    "version": 3
   },
   "file_extension": ".py",
   "mimetype": "text/x-python",
   "name": "python",
   "nbconvert_exporter": "python",
   "pygments_lexer": "ipython3",
   "version": "3.10.9"
  }
 },
 "nbformat": 4,
 "nbformat_minor": 5
}
