{
 "cells": [
  {
   "cell_type": "markdown",
   "id": "2ee3a507",
   "metadata": {},
   "source": [
    "# Mise à l'échelle des caractéristiques"
   ]
  },
  {
   "cell_type": "markdown",
   "id": "054be0e9",
   "metadata": {},
   "source": [
    "La mise à l'échelle des caractéristiques, également appelée normalisation, est une étape cruciale dans le prétraitement des données. Elle consiste à ajuster les valeurs de différentes caractéristiques à une échelle commune, généralement entre 0 et 1, afin d'éviter que certaines caractéristiques avec des valeurs numériques plus grandes ne dominent injustement l'analyse. Cela améliore la performance des algorithmes d'apprentissage automatique qui sont sensibles à l'échelle des données, tels que les méthodes basées sur la distance, comme les algorithmes de regroupement (clustering) et les méthodes de régression. En mettant à l'échelle les caractéristiques, nous permettons à ces algorithmes de traiter les données de manière équitable, garantissant ainsi des résultats plus précis et cohérents, indépendamment de la magnitude initiale des valeurs."
   ]
  },
  {
   "cell_type": "markdown",
   "id": "a8c6e7f8",
   "metadata": {},
   "source": [
    "Il existe plusieurs méthodes de mise à l'échelle des caractéristiques, chacune adaptée à des scénarios spécifiques. Voici quelques-unes des méthodes couramment utilisées :\n",
    "\n",
    " * **Min-Max Scaling (Normalisation)** : Cette méthode redimensionne les valeurs d'une caractéristique pour qu'elles se situent dans une plage spécifiée, généralement entre 0 et 1. Cela se fait en soustrayant la valeur minimale et en divisant par la plage des valeurs.\n",
    "\n",
    "\n",
    " * **Standard Scaling (Standardisation)** : Cette méthode transforme les valeurs en utilisant la moyenne et l'écart-type, de sorte qu'elles aient une moyenne de zéro et un écart-type de un. Cela permet de centrer les données autour de zéro et de leur donner une unité d'écart-type."
   ]
  },
  {
   "cell_type": "markdown",
   "id": "90f457fb",
   "metadata": {},
   "source": [
    "## Données test"
   ]
  },
  {
   "cell_type": "code",
   "execution_count": null,
   "id": "972ae70b",
   "metadata": {},
   "outputs": [],
   "source": [
    "import pandas as pd\n",
    "\n",
    "datas = {'Salarié': ['Samir', 'Sofien', 'Sarra', 'Aymen'],\n",
    "         'Age': [35,33,41,39],\n",
    "         'Salaire': [1200.000, 1500.000, 950.000, 1450.000]}\n",
    "data = pd.DataFrame.from_dict(datas)\n",
    "data"
   ]
  },
  {
   "cell_type": "markdown",
   "id": "6b0b432f",
   "metadata": {},
   "source": [
    "## Min-Max Scaling (Normalisation)"
   ]
  },
  {
   "cell_type": "markdown",
   "id": "47690247",
   "metadata": {},
   "source": [
    "« Normaliser » un vecteur signifie le plus souvent diviser par une norme du vecteur. Il fait également souvent référence à la remise à l’échelle par le minimum et la plage du vecteur, pour que tous les éléments se situent entre 0 et 1, amenant ainsi toutes les valeurs des colonnes numériques de l’ensemble de données à une échelle commune."
   ]
  },
  {
   "cell_type": "markdown",
   "id": "648b652e",
   "metadata": {},
   "source": [
    "Pour ce faire rien de plus simple, la formule est la suivante : "
   ]
  },
  {
   "cell_type": "markdown",
   "id": "01d12ef5",
   "metadata": {},
   "source": [
    "![normalsation](./images/normalisation_func.png)"
   ]
  },
  {
   "cell_type": "code",
   "execution_count": null,
   "id": "2394b6c5",
   "metadata": {},
   "outputs": [],
   "source": [
    "# Sélectionner les colonnes numériques\n",
    "numeric_cols = ['Age', 'Salaire']\n",
    "data[numeric_cols] = (data[numeric_cols] - data[numeric_cols].min())/(data[numeric_cols].max() - data[numeric_cols].min())\n",
    "data"
   ]
  },
  {
   "cell_type": "markdown",
   "id": "9c19e10b",
   "metadata": {},
   "source": [
    "## Standard Scaling (Standardisation)"
   ]
  },
  {
   "cell_type": "markdown",
   "id": "e34b156d",
   "metadata": {},
   "source": [
    "« Standardiser » un vecteur signifie le plus souvent soustraire une mesure de localisation et diviser par une mesure d’échelle. Par exemple, si le vecteur contient des valeurs aléatoires avec une distribution gaussienne, vous pouvez soustraire la moyenne et diviser par l’écart type, obtenant ainsi une variable aléatoire « normale standard » avec une moyenne de 0 et un écart type de 1."
   ]
  },
  {
   "cell_type": "markdown",
   "id": "92558412",
   "metadata": {},
   "source": [
    "La transformation est plus subtile que simplement ramener l’ensemble des valeurs entre 0 et 1, elle a pour but de ramener la moyenne μ à 0 et l’écart-type σ à 1."
   ]
  },
  {
   "cell_type": "markdown",
   "id": "8a326d34",
   "metadata": {},
   "source": [
    "Encore une fois, le procédé n’est pas sorcier si on a à disposition la moyenne μ et l’écart-type σ d’une variable X = x1 x2 xn donnée, alors la variable standardisée s’écrira : "
   ]
  },
  {
   "cell_type": "markdown",
   "id": "f4897eba",
   "metadata": {},
   "source": [
    "![Standardisation](./images/standardisation_func.png)"
   ]
  },
  {
   "cell_type": "code",
   "execution_count": null,
   "id": "f4ab0725",
   "metadata": {},
   "outputs": [],
   "source": [
    "# Sélectionner les colonnes numériques\n",
    "numeric_cols = ['Age', 'Salaire']\n",
    "data[numeric_cols] = (data[numeric_cols] - data[numeric_cols].mean()) / data[numeric_cols].std()\n",
    "data"
   ]
  },
  {
   "cell_type": "code",
   "execution_count": null,
   "id": "ddc13695",
   "metadata": {},
   "outputs": [],
   "source": [
    "data.describe()"
   ]
  },
  {
   "cell_type": "code",
   "execution_count": null,
   "id": "41e6c517",
   "metadata": {},
   "outputs": [],
   "source": []
  }
 ],
 "metadata": {
  "kernelspec": {
   "display_name": "Python 3 (ipykernel)",
   "language": "python",
   "name": "python3"
  },
  "language_info": {
   "codemirror_mode": {
    "name": "ipython",
    "version": 3
   },
   "file_extension": ".py",
   "mimetype": "text/x-python",
   "name": "python",
   "nbconvert_exporter": "python",
   "pygments_lexer": "ipython3",
   "version": "3.10.9"
  }
 },
 "nbformat": 4,
 "nbformat_minor": 5
}
