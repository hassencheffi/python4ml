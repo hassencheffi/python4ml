{
 "cells": [
  {
   "cell_type": "markdown",
   "id": "0b5905c8",
   "metadata": {},
   "source": [
    "# Gestion des valeurs manquantes"
   ]
  },
  {
   "cell_type": "markdown",
   "id": "d36a8236",
   "metadata": {},
   "source": [
    "La génération de valeurs manquantes fait référence à la création délibérée d'entrées manquantes ou incomplètes dans un ensemble de données. Cette pratique, bien que peut sembler contre-intuitive, est utilisée à des fins diverses dans le domaine de l'analyse de données et de l'apprentissage automatique. L'une des raisons principales de générer des valeurs manquantes est de simuler des scénarios réalistes où des données manquent réellement, ce qui permet d'évaluer la robustesse des méthodes d'analyse face à cette situation."
   ]
  },
  {
   "cell_type": "markdown",
   "id": "2a0f10b3",
   "metadata": {},
   "source": [
    "### Les données de test"
   ]
  },
  {
   "cell_type": "code",
   "execution_count": 24,
   "id": "f6684b7d",
   "metadata": {},
   "outputs": [
    {
     "data": {
      "text/html": [
       "<div>\n",
       "<style scoped>\n",
       "    .dataframe tbody tr th:only-of-type {\n",
       "        vertical-align: middle;\n",
       "    }\n",
       "\n",
       "    .dataframe tbody tr th {\n",
       "        vertical-align: top;\n",
       "    }\n",
       "\n",
       "    .dataframe thead th {\n",
       "        text-align: right;\n",
       "    }\n",
       "</style>\n",
       "<table border=\"1\" class=\"dataframe\">\n",
       "  <thead>\n",
       "    <tr style=\"text-align: right;\">\n",
       "      <th></th>\n",
       "      <th>Étudiant</th>\n",
       "      <th>Note</th>\n",
       "    </tr>\n",
       "  </thead>\n",
       "  <tbody>\n",
       "    <tr>\n",
       "      <th>0</th>\n",
       "      <td>Samir</td>\n",
       "      <td>10.0</td>\n",
       "    </tr>\n",
       "    <tr>\n",
       "      <th>1</th>\n",
       "      <td>Sofien</td>\n",
       "      <td>NaN</td>\n",
       "    </tr>\n",
       "    <tr>\n",
       "      <th>2</th>\n",
       "      <td>Sarra</td>\n",
       "      <td>13.0</td>\n",
       "    </tr>\n",
       "    <tr>\n",
       "      <th>3</th>\n",
       "      <td>Aymen</td>\n",
       "      <td>13.0</td>\n",
       "    </tr>\n",
       "  </tbody>\n",
       "</table>\n",
       "</div>"
      ],
      "text/plain": [
       "  Étudiant  Note\n",
       "0    Samir  10.0\n",
       "1   Sofien   NaN\n",
       "2    Sarra  13.0\n",
       "3    Aymen  13.0"
      ]
     },
     "execution_count": 24,
     "metadata": {},
     "output_type": "execute_result"
    }
   ],
   "source": [
    "import pandas as pd\n",
    "\n",
    "datas = {'Étudiant': ['Samir', 'Sofien', 'Sarra', 'Aymen'],\n",
    "        'Note': [10, None, 13, 13]}\n",
    "data = pd.DataFrame.from_dict(datas)\n",
    "data"
   ]
  },
  {
   "cell_type": "markdown",
   "id": "00740117",
   "metadata": {},
   "source": [
    "Les données de test intègrent volontairement des valeurs manquantes pour simuler des conditions réelles. Cette démarche permet d'évaluer l'efficacité des méthodes analytiques en présence d'incertitude. En confrontant les modèles à des données incomplètes, nous affinons nos approches de traitement et de gestion des valeurs manquantes. Cette préparation optimise la pertinence et la fiabilité des résultats dans des environnements de données authentiques."
   ]
  },
  {
   "cell_type": "markdown",
   "id": "8c13e716",
   "metadata": {},
   "source": [
    "### Afficher les valeurs manquantes"
   ]
  },
  {
   "cell_type": "code",
   "execution_count": 6,
   "id": "fc26eca9",
   "metadata": {},
   "outputs": [
    {
     "data": {
      "text/html": [
       "<div>\n",
       "<style scoped>\n",
       "    .dataframe tbody tr th:only-of-type {\n",
       "        vertical-align: middle;\n",
       "    }\n",
       "\n",
       "    .dataframe tbody tr th {\n",
       "        vertical-align: top;\n",
       "    }\n",
       "\n",
       "    .dataframe thead th {\n",
       "        text-align: right;\n",
       "    }\n",
       "</style>\n",
       "<table border=\"1\" class=\"dataframe\">\n",
       "  <thead>\n",
       "    <tr style=\"text-align: right;\">\n",
       "      <th></th>\n",
       "      <th>Étudiant</th>\n",
       "      <th>Note</th>\n",
       "    </tr>\n",
       "  </thead>\n",
       "  <tbody>\n",
       "    <tr>\n",
       "      <th>0</th>\n",
       "      <td>False</td>\n",
       "      <td>False</td>\n",
       "    </tr>\n",
       "    <tr>\n",
       "      <th>1</th>\n",
       "      <td>False</td>\n",
       "      <td>True</td>\n",
       "    </tr>\n",
       "    <tr>\n",
       "      <th>2</th>\n",
       "      <td>False</td>\n",
       "      <td>False</td>\n",
       "    </tr>\n",
       "    <tr>\n",
       "      <th>3</th>\n",
       "      <td>False</td>\n",
       "      <td>False</td>\n",
       "    </tr>\n",
       "  </tbody>\n",
       "</table>\n",
       "</div>"
      ],
      "text/plain": [
       "   Étudiant   Note\n",
       "0     False  False\n",
       "1     False   True\n",
       "2     False  False\n",
       "3     False  False"
      ]
     },
     "execution_count": 6,
     "metadata": {},
     "output_type": "execute_result"
    }
   ],
   "source": [
    "data.isnull()"
   ]
  },
  {
   "cell_type": "markdown",
   "id": "fbbf3aed",
   "metadata": {},
   "source": [
    "### Afficher le nombre de valeurs manquantes pour chaque colonne"
   ]
  },
  {
   "cell_type": "code",
   "execution_count": 8,
   "id": "4f6c559b",
   "metadata": {},
   "outputs": [
    {
     "data": {
      "text/plain": [
       "Étudiant    0\n",
       "Note        1\n",
       "dtype: int64"
      ]
     },
     "execution_count": 8,
     "metadata": {},
     "output_type": "execute_result"
    }
   ],
   "source": [
    "data.isnull().sum()"
   ]
  },
  {
   "cell_type": "markdown",
   "id": "510a7d7f",
   "metadata": {},
   "source": [
    "### Afficher seulement les lignes qui contiennent des valeurs null"
   ]
  },
  {
   "cell_type": "code",
   "execution_count": 14,
   "id": "154b494f",
   "metadata": {},
   "outputs": [
    {
     "data": {
      "text/html": [
       "<div>\n",
       "<style scoped>\n",
       "    .dataframe tbody tr th:only-of-type {\n",
       "        vertical-align: middle;\n",
       "    }\n",
       "\n",
       "    .dataframe tbody tr th {\n",
       "        vertical-align: top;\n",
       "    }\n",
       "\n",
       "    .dataframe thead th {\n",
       "        text-align: right;\n",
       "    }\n",
       "</style>\n",
       "<table border=\"1\" class=\"dataframe\">\n",
       "  <thead>\n",
       "    <tr style=\"text-align: right;\">\n",
       "      <th></th>\n",
       "      <th>Étudiant</th>\n",
       "      <th>Note</th>\n",
       "    </tr>\n",
       "  </thead>\n",
       "  <tbody>\n",
       "    <tr>\n",
       "      <th>1</th>\n",
       "      <td>Sofien</td>\n",
       "      <td>NaN</td>\n",
       "    </tr>\n",
       "  </tbody>\n",
       "</table>\n",
       "</div>"
      ],
      "text/plain": [
       "  Étudiant  Note\n",
       "1   Sofien   NaN"
      ]
     },
     "execution_count": 14,
     "metadata": {},
     "output_type": "execute_result"
    }
   ],
   "source": [
    "data[data.isna().any(axis=1)]"
   ]
  },
  {
   "cell_type": "markdown",
   "id": "0958942e",
   "metadata": {},
   "source": [
    "### Traiter les valeurs manquantes"
   ]
  },
  {
   "cell_type": "markdown",
   "id": "e89b33ba",
   "metadata": {},
   "source": [
    "Plusieurs approches sont disponibles pour traiter les valeurs manquantes, le choix dépendant du type de données et de l'objectif visé par l'analyse des données.\n",
    "\n",
    "Parmi les méthodes de traitement courantes :\n",
    "\n",
    " * Élimination des lignes contenant des valeurs manquantes.\n",
    " * Remplacement des valeurs manquantes par la moyenne, la médiane."
   ]
  },
  {
   "cell_type": "markdown",
   "id": "cc938e84",
   "metadata": {},
   "source": [
    "#### Élimination des lignes contenant des valeurs manquantes."
   ]
  },
  {
   "cell_type": "code",
   "execution_count": 15,
   "id": "6c0d2b07",
   "metadata": {},
   "outputs": [
    {
     "data": {
      "text/html": [
       "<div>\n",
       "<style scoped>\n",
       "    .dataframe tbody tr th:only-of-type {\n",
       "        vertical-align: middle;\n",
       "    }\n",
       "\n",
       "    .dataframe tbody tr th {\n",
       "        vertical-align: top;\n",
       "    }\n",
       "\n",
       "    .dataframe thead th {\n",
       "        text-align: right;\n",
       "    }\n",
       "</style>\n",
       "<table border=\"1\" class=\"dataframe\">\n",
       "  <thead>\n",
       "    <tr style=\"text-align: right;\">\n",
       "      <th></th>\n",
       "      <th>Étudiant</th>\n",
       "      <th>Note</th>\n",
       "    </tr>\n",
       "  </thead>\n",
       "  <tbody>\n",
       "    <tr>\n",
       "      <th>0</th>\n",
       "      <td>Samir</td>\n",
       "      <td>85.0</td>\n",
       "    </tr>\n",
       "    <tr>\n",
       "      <th>2</th>\n",
       "      <td>Sarra</td>\n",
       "      <td>70.0</td>\n",
       "    </tr>\n",
       "    <tr>\n",
       "      <th>3</th>\n",
       "      <td>Aymen</td>\n",
       "      <td>92.0</td>\n",
       "    </tr>\n",
       "  </tbody>\n",
       "</table>\n",
       "</div>"
      ],
      "text/plain": [
       "  Étudiant  Note\n",
       "0    Samir  85.0\n",
       "2    Sarra  70.0\n",
       "3    Aymen  92.0"
      ]
     },
     "execution_count": 15,
     "metadata": {},
     "output_type": "execute_result"
    }
   ],
   "source": [
    "data2=data.dropna()\n",
    "data2"
   ]
  },
  {
   "cell_type": "markdown",
   "id": "e6b0c80a",
   "metadata": {},
   "source": [
    "Il est important de noter que l'utilisation de **data.dropna()** ne modifie pas directement le DataFrame data. Pour appliquer les modifications au DataFrame, vous devez ajouter le paramètre **inplace=True** à la méthode **dropna()**. Cela garantit que les lignes contenant des valeurs manquantes seront **effectivement supprimées** du DataFrame data.\n",
    "\n",
    "La commande sera **data.dropna(inplace=True)**"
   ]
  },
  {
   "cell_type": "markdown",
   "id": "e53bb34c",
   "metadata": {},
   "source": [
    "#### Remplacement des valeurs manquantes par la moyenne."
   ]
  },
  {
   "cell_type": "code",
   "execution_count": 25,
   "id": "e36dda13",
   "metadata": {},
   "outputs": [
    {
     "data": {
      "text/html": [
       "<div>\n",
       "<style scoped>\n",
       "    .dataframe tbody tr th:only-of-type {\n",
       "        vertical-align: middle;\n",
       "    }\n",
       "\n",
       "    .dataframe tbody tr th {\n",
       "        vertical-align: top;\n",
       "    }\n",
       "\n",
       "    .dataframe thead th {\n",
       "        text-align: right;\n",
       "    }\n",
       "</style>\n",
       "<table border=\"1\" class=\"dataframe\">\n",
       "  <thead>\n",
       "    <tr style=\"text-align: right;\">\n",
       "      <th></th>\n",
       "      <th>Étudiant</th>\n",
       "      <th>Note</th>\n",
       "    </tr>\n",
       "  </thead>\n",
       "  <tbody>\n",
       "    <tr>\n",
       "      <th>0</th>\n",
       "      <td>Samir</td>\n",
       "      <td>10.0</td>\n",
       "    </tr>\n",
       "    <tr>\n",
       "      <th>1</th>\n",
       "      <td>Sofien</td>\n",
       "      <td>12.0</td>\n",
       "    </tr>\n",
       "    <tr>\n",
       "      <th>2</th>\n",
       "      <td>Sarra</td>\n",
       "      <td>13.0</td>\n",
       "    </tr>\n",
       "    <tr>\n",
       "      <th>3</th>\n",
       "      <td>Aymen</td>\n",
       "      <td>13.0</td>\n",
       "    </tr>\n",
       "  </tbody>\n",
       "</table>\n",
       "</div>"
      ],
      "text/plain": [
       "  Étudiant  Note\n",
       "0    Samir  10.0\n",
       "1   Sofien  12.0\n",
       "2    Sarra  13.0\n",
       "3    Aymen  13.0"
      ]
     },
     "execution_count": 25,
     "metadata": {},
     "output_type": "execute_result"
    }
   ],
   "source": [
    "data2=data.fillna(data[\"Note\"].mean())\n",
    "data2"
   ]
  },
  {
   "cell_type": "markdown",
   "id": "f2715a65",
   "metadata": {},
   "source": [
    "#### Remplacement des valeurs manquantes par la médiane."
   ]
  },
  {
   "cell_type": "code",
   "execution_count": 26,
   "id": "5e4cd006",
   "metadata": {},
   "outputs": [
    {
     "data": {
      "text/html": [
       "<div>\n",
       "<style scoped>\n",
       "    .dataframe tbody tr th:only-of-type {\n",
       "        vertical-align: middle;\n",
       "    }\n",
       "\n",
       "    .dataframe tbody tr th {\n",
       "        vertical-align: top;\n",
       "    }\n",
       "\n",
       "    .dataframe thead th {\n",
       "        text-align: right;\n",
       "    }\n",
       "</style>\n",
       "<table border=\"1\" class=\"dataframe\">\n",
       "  <thead>\n",
       "    <tr style=\"text-align: right;\">\n",
       "      <th></th>\n",
       "      <th>Étudiant</th>\n",
       "      <th>Note</th>\n",
       "    </tr>\n",
       "  </thead>\n",
       "  <tbody>\n",
       "    <tr>\n",
       "      <th>0</th>\n",
       "      <td>Samir</td>\n",
       "      <td>10.0</td>\n",
       "    </tr>\n",
       "    <tr>\n",
       "      <th>1</th>\n",
       "      <td>Sofien</td>\n",
       "      <td>13.0</td>\n",
       "    </tr>\n",
       "    <tr>\n",
       "      <th>2</th>\n",
       "      <td>Sarra</td>\n",
       "      <td>13.0</td>\n",
       "    </tr>\n",
       "    <tr>\n",
       "      <th>3</th>\n",
       "      <td>Aymen</td>\n",
       "      <td>13.0</td>\n",
       "    </tr>\n",
       "  </tbody>\n",
       "</table>\n",
       "</div>"
      ],
      "text/plain": [
       "  Étudiant  Note\n",
       "0    Samir  10.0\n",
       "1   Sofien  13.0\n",
       "2    Sarra  13.0\n",
       "3    Aymen  13.0"
      ]
     },
     "execution_count": 26,
     "metadata": {},
     "output_type": "execute_result"
    }
   ],
   "source": [
    "data2=data.fillna(data[\"Note\"].median())\n",
    "data2"
   ]
  },
  {
   "cell_type": "code",
   "execution_count": null,
   "id": "45014b8d",
   "metadata": {},
   "outputs": [],
   "source": []
  }
 ],
 "metadata": {
  "kernelspec": {
   "display_name": "Python 3 (ipykernel)",
   "language": "python",
   "name": "python3"
  },
  "language_info": {
   "codemirror_mode": {
    "name": "ipython",
    "version": 3
   },
   "file_extension": ".py",
   "mimetype": "text/x-python",
   "name": "python",
   "nbconvert_exporter": "python",
   "pygments_lexer": "ipython3",
   "version": "3.10.9"
  }
 },
 "nbformat": 4,
 "nbformat_minor": 5
}
