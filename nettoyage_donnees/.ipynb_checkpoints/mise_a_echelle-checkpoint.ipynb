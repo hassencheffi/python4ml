{
 "cells": [
  {
   "cell_type": "markdown",
   "id": "2ee3a507",
   "metadata": {},
   "source": [
    "# Mise à l'échelle des caractéristiques"
   ]
  },
  {
   "cell_type": "markdown",
   "id": "054be0e9",
   "metadata": {},
   "source": [
    "La mise à l'échelle des caractéristiques, également appelée normalisation, est une étape cruciale dans le prétraitement des données. Elle consiste à ajuster les valeurs de différentes caractéristiques à une échelle commune, généralement entre 0 et 1, afin d'éviter que certaines caractéristiques avec des valeurs numériques plus grandes ne dominent injustement l'analyse. Cela améliore la performance des algorithmes d'apprentissage automatique qui sont sensibles à l'échelle des données, tels que les méthodes basées sur la distance, comme les algorithmes de regroupement (clustering) et les méthodes de régression. En mettant à l'échelle les caractéristiques, nous permettons à ces algorithmes de traiter les données de manière équitable, garantissant ainsi des résultats plus précis et cohérents, indépendamment de la magnitude initiale des valeurs."
   ]
  },
  {
   "cell_type": "markdown",
   "id": "a8c6e7f8",
   "metadata": {},
   "source": [
    "Il existe plusieurs méthodes de mise à l'échelle des caractéristiques, chacune adaptée à des scénarios spécifiques. Voici quelques-unes des méthodes couramment utilisées :\n",
    "\n",
    " * **Min-Max Scaling (Normalisation)** : Cette méthode redimensionne les valeurs d'une caractéristique pour qu'elles se situent dans une plage spécifiée, généralement entre 0 et 1. Cela se fait en soustrayant la valeur minimale et en divisant par la plage des valeurs.\n",
    "\n",
    "\n",
    " * **Standard Scaling (Standardisation)** : Cette méthode transforme les valeurs en utilisant la moyenne et l'écart-type, de sorte qu'elles aient une moyenne de zéro et un écart-type de un. Cela permet de centrer les données autour de zéro et de leur donner une unité d'écart-type."
   ]
  },
  {
   "cell_type": "markdown",
   "id": "90f457fb",
   "metadata": {},
   "source": [
    "## Données test"
   ]
  },
  {
   "cell_type": "code",
   "execution_count": 18,
   "id": "972ae70b",
   "metadata": {},
   "outputs": [
    {
     "data": {
      "text/html": [
       "<div>\n",
       "<style scoped>\n",
       "    .dataframe tbody tr th:only-of-type {\n",
       "        vertical-align: middle;\n",
       "    }\n",
       "\n",
       "    .dataframe tbody tr th {\n",
       "        vertical-align: top;\n",
       "    }\n",
       "\n",
       "    .dataframe thead th {\n",
       "        text-align: right;\n",
       "    }\n",
       "</style>\n",
       "<table border=\"1\" class=\"dataframe\">\n",
       "  <thead>\n",
       "    <tr style=\"text-align: right;\">\n",
       "      <th></th>\n",
       "      <th>Salarié</th>\n",
       "      <th>Age</th>\n",
       "      <th>Salaire</th>\n",
       "    </tr>\n",
       "  </thead>\n",
       "  <tbody>\n",
       "    <tr>\n",
       "      <th>0</th>\n",
       "      <td>Samir</td>\n",
       "      <td>35</td>\n",
       "      <td>1200.0</td>\n",
       "    </tr>\n",
       "    <tr>\n",
       "      <th>1</th>\n",
       "      <td>Sofien</td>\n",
       "      <td>33</td>\n",
       "      <td>1500.0</td>\n",
       "    </tr>\n",
       "    <tr>\n",
       "      <th>2</th>\n",
       "      <td>Sarra</td>\n",
       "      <td>41</td>\n",
       "      <td>950.0</td>\n",
       "    </tr>\n",
       "    <tr>\n",
       "      <th>3</th>\n",
       "      <td>Aymen</td>\n",
       "      <td>39</td>\n",
       "      <td>1450.0</td>\n",
       "    </tr>\n",
       "  </tbody>\n",
       "</table>\n",
       "</div>"
      ],
      "text/plain": [
       "  Salarié  Age  Salaire\n",
       "0   Samir   35   1200.0\n",
       "1  Sofien   33   1500.0\n",
       "2   Sarra   41    950.0\n",
       "3   Aymen   39   1450.0"
      ]
     },
     "execution_count": 18,
     "metadata": {},
     "output_type": "execute_result"
    }
   ],
   "source": [
    "import pandas as pd\n",
    "\n",
    "datas = {'Salarié': ['Samir', 'Sofien', 'Sarra', 'Aymen'],\n",
    "         'Age': [35,33,41,39],\n",
    "         'Salaire': [1200.000, 1500.000, 950.000, 1450.000]}\n",
    "data = pd.DataFrame.from_dict(datas)\n",
    "data"
   ]
  },
  {
   "cell_type": "markdown",
   "id": "6b0b432f",
   "metadata": {},
   "source": [
    "## Min-Max Scaling (Normalisation)"
   ]
  },
  {
   "cell_type": "markdown",
   "id": "47690247",
   "metadata": {},
   "source": [
    "« Normaliser » un vecteur signifie le plus souvent diviser par une norme du vecteur. Il fait également souvent référence à la remise à l’échelle par le minimum et la plage du vecteur, pour que tous les éléments se situent entre 0 et 1, amenant ainsi toutes les valeurs des colonnes numériques de l’ensemble de données à une échelle commune."
   ]
  },
  {
   "cell_type": "markdown",
   "id": "648b652e",
   "metadata": {},
   "source": [
    "Pour ce faire rien de plus simple, la formule est la suivante : "
   ]
  },
  {
   "cell_type": "markdown",
   "id": "01d12ef5",
   "metadata": {},
   "source": [
    "![normalsation](./images/normalisation_func.png)"
   ]
  },
  {
   "cell_type": "code",
   "execution_count": 30,
   "id": "2394b6c5",
   "metadata": {},
   "outputs": [
    {
     "data": {
      "text/html": [
       "<div>\n",
       "<style scoped>\n",
       "    .dataframe tbody tr th:only-of-type {\n",
       "        vertical-align: middle;\n",
       "    }\n",
       "\n",
       "    .dataframe tbody tr th {\n",
       "        vertical-align: top;\n",
       "    }\n",
       "\n",
       "    .dataframe thead th {\n",
       "        text-align: right;\n",
       "    }\n",
       "</style>\n",
       "<table border=\"1\" class=\"dataframe\">\n",
       "  <thead>\n",
       "    <tr style=\"text-align: right;\">\n",
       "      <th></th>\n",
       "      <th>Salarié</th>\n",
       "      <th>Age</th>\n",
       "      <th>Salaire</th>\n",
       "    </tr>\n",
       "  </thead>\n",
       "  <tbody>\n",
       "    <tr>\n",
       "      <th>0</th>\n",
       "      <td>Samir</td>\n",
       "      <td>0.25</td>\n",
       "      <td>0.454545</td>\n",
       "    </tr>\n",
       "    <tr>\n",
       "      <th>1</th>\n",
       "      <td>Sofien</td>\n",
       "      <td>0.00</td>\n",
       "      <td>1.000000</td>\n",
       "    </tr>\n",
       "    <tr>\n",
       "      <th>2</th>\n",
       "      <td>Sarra</td>\n",
       "      <td>1.00</td>\n",
       "      <td>0.000000</td>\n",
       "    </tr>\n",
       "    <tr>\n",
       "      <th>3</th>\n",
       "      <td>Aymen</td>\n",
       "      <td>0.75</td>\n",
       "      <td>0.909091</td>\n",
       "    </tr>\n",
       "  </tbody>\n",
       "</table>\n",
       "</div>"
      ],
      "text/plain": [
       "  Salarié   Age   Salaire\n",
       "0   Samir  0.25  0.454545\n",
       "1  Sofien  0.00  1.000000\n",
       "2   Sarra  1.00  0.000000\n",
       "3   Aymen  0.75  0.909091"
      ]
     },
     "execution_count": 30,
     "metadata": {},
     "output_type": "execute_result"
    }
   ],
   "source": [
    "# Sélectionner les colonnes numériques\n",
    "numeric_cols = ['Age', 'Salaire']\n",
    "data[numeric_cols] = (data[numeric_cols] - data[numeric_cols].min())/(data[numeric_cols].max() - data[numeric_cols].min())\n",
    "data"
   ]
  },
  {
   "cell_type": "markdown",
   "id": "9c19e10b",
   "metadata": {},
   "source": [
    "## Standard Scaling (Standardisation)"
   ]
  },
  {
   "cell_type": "markdown",
   "id": "e34b156d",
   "metadata": {},
   "source": [
    "« Standardiser » un vecteur signifie le plus souvent soustraire une mesure de localisation et diviser par une mesure d’échelle. Par exemple, si le vecteur contient des valeurs aléatoires avec une distribution gaussienne, vous pouvez soustraire la moyenne et diviser par l’écart type, obtenant ainsi une variable aléatoire « normale standard » avec une moyenne de 0 et un écart type de 1."
   ]
  },
  {
   "cell_type": "markdown",
   "id": "92558412",
   "metadata": {},
   "source": [
    "La transformation est plus subtile que simplement ramener l’ensemble des valeurs entre 0 et 1, elle a pour but de ramener la moyenne μ à 0 et l’écart-type σ à 1."
   ]
  },
  {
   "cell_type": "markdown",
   "id": "8a326d34",
   "metadata": {},
   "source": [
    "Encore une fois, le procédé n’est pas sorcier si on a à disposition la moyenne μ et l’écart-type σ d’une variable X = x1 x2 xn donnée, alors la variable standardisée s’écrira : "
   ]
  },
  {
   "cell_type": "markdown",
   "id": "f4897eba",
   "metadata": {},
   "source": [
    "![Standardisation](./images/standardisation_func.png)"
   ]
  },
  {
   "cell_type": "code",
   "execution_count": 28,
   "id": "f4ab0725",
   "metadata": {},
   "outputs": [
    {
     "data": {
      "text/html": [
       "<div>\n",
       "<style scoped>\n",
       "    .dataframe tbody tr th:only-of-type {\n",
       "        vertical-align: middle;\n",
       "    }\n",
       "\n",
       "    .dataframe tbody tr th {\n",
       "        vertical-align: top;\n",
       "    }\n",
       "\n",
       "    .dataframe thead th {\n",
       "        text-align: right;\n",
       "    }\n",
       "</style>\n",
       "<table border=\"1\" class=\"dataframe\">\n",
       "  <thead>\n",
       "    <tr style=\"text-align: right;\">\n",
       "      <th></th>\n",
       "      <th>Salarié</th>\n",
       "      <th>Age</th>\n",
       "      <th>Salaire</th>\n",
       "    </tr>\n",
       "  </thead>\n",
       "  <tbody>\n",
       "    <tr>\n",
       "      <th>0</th>\n",
       "      <td>Samir</td>\n",
       "      <td>-0.547723</td>\n",
       "      <td>-0.296078</td>\n",
       "    </tr>\n",
       "    <tr>\n",
       "      <th>1</th>\n",
       "      <td>Sofien</td>\n",
       "      <td>-1.095445</td>\n",
       "      <td>0.888235</td>\n",
       "    </tr>\n",
       "    <tr>\n",
       "      <th>2</th>\n",
       "      <td>Sarra</td>\n",
       "      <td>1.095445</td>\n",
       "      <td>-1.283006</td>\n",
       "    </tr>\n",
       "    <tr>\n",
       "      <th>3</th>\n",
       "      <td>Aymen</td>\n",
       "      <td>0.547723</td>\n",
       "      <td>0.690849</td>\n",
       "    </tr>\n",
       "  </tbody>\n",
       "</table>\n",
       "</div>"
      ],
      "text/plain": [
       "  Salarié       Age   Salaire\n",
       "0   Samir -0.547723 -0.296078\n",
       "1  Sofien -1.095445  0.888235\n",
       "2   Sarra  1.095445 -1.283006\n",
       "3   Aymen  0.547723  0.690849"
      ]
     },
     "execution_count": 28,
     "metadata": {},
     "output_type": "execute_result"
    }
   ],
   "source": [
    "# Sélectionner les colonnes numériques\n",
    "numeric_cols = ['Age', 'Salaire']\n",
    "data[numeric_cols] = (data[numeric_cols] - data[numeric_cols].mean()) / data[numeric_cols].std()\n",
    "data"
   ]
  },
  {
   "cell_type": "code",
   "execution_count": 29,
   "id": "ddc13695",
   "metadata": {},
   "outputs": [
    {
     "data": {
      "text/html": [
       "<div>\n",
       "<style scoped>\n",
       "    .dataframe tbody tr th:only-of-type {\n",
       "        vertical-align: middle;\n",
       "    }\n",
       "\n",
       "    .dataframe tbody tr th {\n",
       "        vertical-align: top;\n",
       "    }\n",
       "\n",
       "    .dataframe thead th {\n",
       "        text-align: right;\n",
       "    }\n",
       "</style>\n",
       "<table border=\"1\" class=\"dataframe\">\n",
       "  <thead>\n",
       "    <tr style=\"text-align: right;\">\n",
       "      <th></th>\n",
       "      <th>Age</th>\n",
       "      <th>Salaire</th>\n",
       "    </tr>\n",
       "  </thead>\n",
       "  <tbody>\n",
       "    <tr>\n",
       "      <th>count</th>\n",
       "      <td>4.000000</td>\n",
       "      <td>4.000000</td>\n",
       "    </tr>\n",
       "    <tr>\n",
       "      <th>mean</th>\n",
       "      <td>0.000000</td>\n",
       "      <td>0.000000</td>\n",
       "    </tr>\n",
       "    <tr>\n",
       "      <th>std</th>\n",
       "      <td>1.000000</td>\n",
       "      <td>1.000000</td>\n",
       "    </tr>\n",
       "    <tr>\n",
       "      <th>min</th>\n",
       "      <td>-1.095445</td>\n",
       "      <td>-1.283006</td>\n",
       "    </tr>\n",
       "    <tr>\n",
       "      <th>25%</th>\n",
       "      <td>-0.684653</td>\n",
       "      <td>-0.542810</td>\n",
       "    </tr>\n",
       "    <tr>\n",
       "      <th>50%</th>\n",
       "      <td>0.000000</td>\n",
       "      <td>0.197386</td>\n",
       "    </tr>\n",
       "    <tr>\n",
       "      <th>75%</th>\n",
       "      <td>0.684653</td>\n",
       "      <td>0.740196</td>\n",
       "    </tr>\n",
       "    <tr>\n",
       "      <th>max</th>\n",
       "      <td>1.095445</td>\n",
       "      <td>0.888235</td>\n",
       "    </tr>\n",
       "  </tbody>\n",
       "</table>\n",
       "</div>"
      ],
      "text/plain": [
       "            Age   Salaire\n",
       "count  4.000000  4.000000\n",
       "mean   0.000000  0.000000\n",
       "std    1.000000  1.000000\n",
       "min   -1.095445 -1.283006\n",
       "25%   -0.684653 -0.542810\n",
       "50%    0.000000  0.197386\n",
       "75%    0.684653  0.740196\n",
       "max    1.095445  0.888235"
      ]
     },
     "execution_count": 29,
     "metadata": {},
     "output_type": "execute_result"
    }
   ],
   "source": [
    "data.describe()"
   ]
  }
 ],
 "metadata": {
  "kernelspec": {
   "display_name": "Python 3 (ipykernel)",
   "language": "python",
   "name": "python3"
  },
  "language_info": {
   "codemirror_mode": {
    "name": "ipython",
    "version": 3
   },
   "file_extension": ".py",
   "mimetype": "text/x-python",
   "name": "python",
   "nbconvert_exporter": "python",
   "pygments_lexer": "ipython3",
   "version": "3.10.9"
  }
 },
 "nbformat": 4,
 "nbformat_minor": 5
}
