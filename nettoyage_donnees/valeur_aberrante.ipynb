{
 "cells": [
  {
   "cell_type": "markdown",
   "id": "143eb84a",
   "metadata": {},
   "source": [
    "# Gestion des valeurs aberrantes"
   ]
  },
  {
   "cell_type": "markdown",
   "id": "fbc3af4e",
   "metadata": {},
   "source": [
    "La gestion des valeurs aberrantes, également appelées valeurs extrêmes, joue un rôle essentiel dans l'analyse exploratoire des données en contribuant à garantir la qualité et la fiabilité de nos conclusions. Les valeurs aberrantes sont des points de données qui diffèrent considérablement du reste de la distribution, pouvant résulter d'erreurs de mesure, de saisie incorrecte ou même refléter des phénomènes inhabituels. Leur présence peut fausser les statistiques descriptives et influencer les résultats des analyses. "
   ]
  },
  {
   "cell_type": "markdown",
   "id": "840d26eb",
   "metadata": {},
   "source": [
    "![valeur abérrange](./images/valeur_aberrante.png)"
   ]
  },
  {
   "cell_type": "markdown",
   "id": "5532fc94",
   "metadata": {},
   "source": [
    "Il est crucial de les identifier et de les gérer de manière appropriée. Différentes approches, telles que la visualisation de boîtes à moustaches (box plots), les méthodes statistiques basées sur les écart-types, ou encore l'utilisation de méthodes plus avancées comme la détection d'anomalies par modèle, permettent de repérer ces valeurs. Une fois repérées, les valeurs aberrantes peuvent être traitées en les supprimant, en les remplaçant par des valeurs plausibles ou en utilisant des techniques de transformation. "
   ]
  },
  {
   "cell_type": "markdown",
   "id": "4bfee14e",
   "metadata": {},
   "source": [
    "## 1. Détection des anomalies"
   ]
  },
  {
   "cell_type": "markdown",
   "id": "83974de8",
   "metadata": {},
   "source": [
    "### 1.1 Détection des anomalies grâce aux médianes"
   ]
  },
  {
   "cell_type": "markdown",
   "id": "1feb2943",
   "metadata": {},
   "source": [
    "La détection d'anomalies basée sur les médianes constitue une approche efficace pour identifier des valeurs aberrantes dans les ensembles de données. En utilisant la médiane plutôt que la moyenne, cette méthode devient moins sensible aux valeurs extrêmes, ce qui en fait une approche plus robuste. Les valeurs qui s'écartent significativement de la médiane sont souvent considérées comme potentielles anomalies. Cette approche est particulièrement utile dans des situations où la présence d'anomalies pourrait fausser l'interprétation globale des données."
   ]
  },
  {
   "cell_type": "markdown",
   "id": "1fc4d8a9",
   "metadata": {},
   "source": [
    "![mediane](./images/mediane.jpg)"
   ]
  },
  {
   "cell_type": "code",
   "execution_count": null,
   "id": "2bc3f992",
   "metadata": {},
   "outputs": [],
   "source": [
    "import pandas as pd\n",
    "import numpy as np\n",
    "data = pd.Series([1.1,1.2,1.3,1.4,1.5,1.6,3.5])\n",
    "data"
   ]
  },
  {
   "cell_type": "markdown",
   "id": "69b74ed3",
   "metadata": {},
   "source": [
    "Calcule de la valeur de la médiane"
   ]
  },
  {
   "cell_type": "code",
   "execution_count": null,
   "id": "8dd352c6",
   "metadata": {},
   "outputs": [],
   "source": [
    "mediane = np.median(data)\n",
    "print(\"Mediane:\",mediane)"
   ]
  },
  {
   "cell_type": "markdown",
   "id": "01066d82",
   "metadata": {},
   "source": [
    "Identification des valeurs aberrantes. Celles-ci seront disponibles dans le tableau \"tab_anomalie\"."
   ]
  },
  {
   "cell_type": "code",
   "execution_count": null,
   "id": "706061c7",
   "metadata": {},
   "outputs": [],
   "source": [
    "seuil_autorise = 2\n",
    "tab_anomalie=[]\n",
    "for valeur in data:\n",
    "    if abs(valeur - mediane) > seuil_autorise:\n",
    "        tab_anomalie.append(valeur)\n",
    "print(tab_anomalie)"
   ]
  },
  {
   "cell_type": "markdown",
   "id": "63219ec9",
   "metadata": {},
   "source": [
    "### 1.2 Détection des anomalies grâce aux moyennes"
   ]
  },
  {
   "cell_type": "markdown",
   "id": "fb7f22e8",
   "metadata": {},
   "source": [
    "La détection des anomalies à l'aide de la moyenne implique généralement le calcul de la moyenne et de l'écart-type des données. Les valeurs qui s'écartent considérablement de la moyenne par rapport à l'écart-type peuvent être considérées comme des anomalies. Par exemple, si l'écart-type est faible et une valeur se trouve à plusieurs écart-types de la moyenne, elle pourrait être identifiée comme une anomalie. Cependant, cette méthode est sensible aux valeurs extrêmes et peut ne pas fonctionner efficacement dans des distributions asymétriques ou avec des valeurs aberrantes sévères. Une approche plus robuste, comme l'utilisation de médianes et de méthodes basées sur les quartiles, peut être préférable pour gérer ces situations.\n",
    "#### $(Moyenne - Ecart\\_type) \\leq Valeur \\leq (Moyenne + Ecart\\_type)$"
   ]
  },
  {
   "cell_type": "code",
   "execution_count": null,
   "id": "39f1cfb9",
   "metadata": {},
   "outputs": [],
   "source": [
    "moyenne=np.mean(data)\n",
    "ecart_type=np.std(data)\n",
    "print(\"Moyenne: \",moyenne)\n",
    "print(\"Ecart type:\",ecart_type)\n",
    "tab_anomalie=[]\n",
    "for valeur in data:\n",
    "    if not((valeur<(moyenne-ecart_type)) or (valeur<(moyenne+ecart_type))):\n",
    "        tab_anomalie.append(valeur)\n",
    "print(tab_anomalie)"
   ]
  },
  {
   "cell_type": "markdown",
   "id": "6f2406cd",
   "metadata": {},
   "source": [
    "### 1.3 Détection des anomalies grâce à la méthode Z-score"
   ]
  },
  {
   "cell_type": "markdown",
   "id": "4d53dd09",
   "metadata": {},
   "source": [
    "La détection des anomalies à l'aide de la z-score est une méthode courante pour identifier les valeurs aberrantes. La z-score mesure à quel point une valeur diffère de la moyenne d'un ensemble de données en termes d'écart-types. Une z-score élevée (positivement ou négativement) indique que la valeur est éloignée de la moyenne. Typiquement, on considère les valeurs ayant une z-score supérieure à un seuil donné (par exemple, 2 ou 3) comme des anomalies. Par exemple, si une z-score dépasse 3, cela peut suggérer qu'une valeur est nettement éloignée de la norme et peut être considérée comme une anomalie. Cependant, cette méthode repose sur l'hypothèse que les données suivent une distribution normale, ce qui peut ne pas toujours être le cas dans la pratique."
   ]
  },
  {
   "cell_type": "code",
   "execution_count": null,
   "id": "e272e92a",
   "metadata": {},
   "outputs": [],
   "source": [
    "seuil_autorise = 2\n",
    "moyenne=np.mean(data)*\n",
    "ecart_type=np.std(data)\n",
    "print(\"Moyenne: \",moyenne)\n",
    "print(\"Ecart type:\",ecart_type)\n",
    "tab_anomalie=[]\n",
    "for valeur in data:\n",
    "    z_score = (valeur - moyenne) / ecart_type\n",
    "    if z_score > seuil_autorise:\n",
    "        tab_anomalie.append(valeur)\n",
    "print(tab_anomalie)"
   ]
  },
  {
   "cell_type": "markdown",
   "id": "9f33745d",
   "metadata": {},
   "source": [
    "### 1.4 Détection des anomalies grâce à l'écart interquartile IQR"
   ]
  },
  {
   "cell_type": "markdown",
   "id": "d77a64a7",
   "metadata": {},
   "source": [
    "La détection des anomalies à l'aide de l'écart interquartile (IQR) est une méthode robuste pour identifier les valeurs aberrantes dans un ensemble de données. L'IQR mesure la dispersion des valeurs au sein du premier et du troisième quartile de la distribution. Les valeurs situées en dehors d'une certaine plage définie par les quartiles sont considérées comme des anomalies. Par exemple, si Q1 est le premier quartile, Q3 est le troisième quartile et IQR est la différence entre eux (IQR = Q3 - Q1), alors les valeurs en dehors de l'intervalle [Q1 - 1.5 * IQR, Q3 + 1.5 * IQR] sont souvent identifiées comme des anomalies. Cette approche est particulièrement efficace pour détecter les valeurs aberrantes dans des distributions non normales ou en présence de valeurs extrêmes."
   ]
  },
  {
   "cell_type": "markdown",
   "id": "e8ddcc3c",
   "metadata": {},
   "source": [
    "![IQR](./images/iqr.png)"
   ]
  },
  {
   "cell_type": "code",
   "execution_count": null,
   "id": "85b7cc6b",
   "metadata": {
    "scrolled": true
   },
   "outputs": [],
   "source": [
    "Q1,Q3 = np.percentile(data,[25,75])\n",
    "IQR= Q3 - Q1\n",
    "print(\"Q1, Q3, IQR:\",Q1,Q3,IQR)\n",
    "tab_anomalie=[]\n",
    "print(data)\n",
    "for valeur in data:\n",
    "    if (valeur<(Q1 - 1.5 * IQR)) or (valeur>(Q3 + 1.5 * IQR)):\n",
    "        tab_anomalie.append(valeur)\n",
    "print(tab_anomalie)\n",
    "\n"
   ]
  },
  {
   "cell_type": "code",
   "execution_count": null,
   "id": "05391155",
   "metadata": {},
   "outputs": [],
   "source": [
    "import matplotlib.pyplot as plt\n",
    "fig1, ax1 = plt.subplots()\n",
    "ax1.set_title('Visualisation des données')\n",
    "ax1.boxplot(data)"
   ]
  },
  {
   "cell_type": "code",
   "execution_count": null,
   "id": "8bfa95cd",
   "metadata": {},
   "outputs": [],
   "source": []
  }
 ],
 "metadata": {
  "kernelspec": {
   "display_name": "Python 3 (ipykernel)",
   "language": "python",
   "name": "python3"
  },
  "language_info": {
   "codemirror_mode": {
    "name": "ipython",
    "version": 3
   },
   "file_extension": ".py",
   "mimetype": "text/x-python",
   "name": "python",
   "nbconvert_exporter": "python",
   "pygments_lexer": "ipython3",
   "version": "3.10.9"
  }
 },
 "nbformat": 4,
 "nbformat_minor": 5
}
