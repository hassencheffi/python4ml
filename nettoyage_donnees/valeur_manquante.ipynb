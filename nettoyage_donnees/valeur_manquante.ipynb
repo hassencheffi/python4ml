{
 "cells": [
  {
   "cell_type": "markdown",
   "id": "0b5905c8",
   "metadata": {},
   "source": [
    "# Gestion des valeurs manquantes"
   ]
  },
  {
   "cell_type": "markdown",
   "id": "d36a8236",
   "metadata": {},
   "source": [
    "La génération de valeurs manquantes fait référence à la création délibérée d'entrées manquantes ou incomplètes dans un ensemble de données. Cette pratique, bien que peut sembler contre-intuitive, est utilisée à des fins diverses dans le domaine de l'analyse de données et de l'apprentissage automatique. L'une des raisons principales de générer des valeurs manquantes est de simuler des scénarios réalistes où des données manquent réellement, ce qui permet d'évaluer la robustesse des méthodes d'analyse face à cette situation."
   ]
  },
  {
   "cell_type": "markdown",
   "id": "2a0f10b3",
   "metadata": {},
   "source": [
    "### Les données de test"
   ]
  },
  {
   "cell_type": "code",
   "execution_count": null,
   "id": "f6684b7d",
   "metadata": {},
   "outputs": [],
   "source": [
    "import pandas as pd\n",
    "\n",
    "datas = {'Étudiant': ['Samir', 'Sofien', 'Sarra', 'Aymen'],\n",
    "        'Note': [10, None, 13, 13]}\n",
    "data = pd.DataFrame.from_dict(datas)\n",
    "data"
   ]
  },
  {
   "cell_type": "markdown",
   "id": "00740117",
   "metadata": {},
   "source": [
    "Les données de test intègrent volontairement des valeurs manquantes pour simuler des conditions réelles. Cette démarche permet d'évaluer l'efficacité des méthodes analytiques en présence d'incertitude. En confrontant les modèles à des données incomplètes, nous affinons nos approches de traitement et de gestion des valeurs manquantes. Cette préparation optimise la pertinence et la fiabilité des résultats dans des environnements de données authentiques."
   ]
  },
  {
   "cell_type": "markdown",
   "id": "8c13e716",
   "metadata": {},
   "source": [
    "### Afficher les valeurs manquantes"
   ]
  },
  {
   "cell_type": "code",
   "execution_count": null,
   "id": "fc26eca9",
   "metadata": {},
   "outputs": [],
   "source": [
    "data.isnull()"
   ]
  },
  {
   "cell_type": "markdown",
   "id": "fbbf3aed",
   "metadata": {},
   "source": [
    "### Afficher le nombre de valeurs manquantes pour chaque colonne"
   ]
  },
  {
   "cell_type": "code",
   "execution_count": null,
   "id": "4f6c559b",
   "metadata": {},
   "outputs": [],
   "source": [
    "data.isnull().sum()"
   ]
  },
  {
   "cell_type": "markdown",
   "id": "510a7d7f",
   "metadata": {},
   "source": [
    "### Afficher seulement les lignes qui contiennent des valeurs null"
   ]
  },
  {
   "cell_type": "code",
   "execution_count": null,
   "id": "154b494f",
   "metadata": {},
   "outputs": [],
   "source": [
    "data[data.isna().any(axis=1)]"
   ]
  },
  {
   "cell_type": "markdown",
   "id": "0958942e",
   "metadata": {},
   "source": [
    "### Traiter les valeurs manquantes"
   ]
  },
  {
   "cell_type": "markdown",
   "id": "e89b33ba",
   "metadata": {},
   "source": [
    "Plusieurs approches sont disponibles pour traiter les valeurs manquantes, le choix dépendant du type de données et de l'objectif visé par l'analyse des données.\n",
    "\n",
    "Parmi les méthodes de traitement courantes :\n",
    "\n",
    " * Élimination des lignes contenant des valeurs manquantes.\n",
    " * Remplacement des valeurs manquantes par la moyenne, la médiane."
   ]
  },
  {
   "cell_type": "markdown",
   "id": "cc938e84",
   "metadata": {},
   "source": [
    "#### Élimination des lignes contenant des valeurs manquantes."
   ]
  },
  {
   "cell_type": "code",
   "execution_count": null,
   "id": "6c0d2b07",
   "metadata": {},
   "outputs": [],
   "source": [
    "data2=data.dropna()\n",
    "data2"
   ]
  },
  {
   "cell_type": "markdown",
   "id": "e6b0c80a",
   "metadata": {},
   "source": [
    "Il est important de noter que l'utilisation de **data.dropna()** ne modifie pas directement le DataFrame data. Pour appliquer les modifications au DataFrame, vous devez ajouter le paramètre **inplace=True** à la méthode **dropna()**. Cela garantit que les lignes contenant des valeurs manquantes seront **effectivement supprimées** du DataFrame data.\n",
    "\n",
    "La commande sera **data.dropna(inplace=True)**"
   ]
  },
  {
   "cell_type": "markdown",
   "id": "e53bb34c",
   "metadata": {},
   "source": [
    "#### Remplacement des valeurs manquantes par la moyenne."
   ]
  },
  {
   "cell_type": "code",
   "execution_count": null,
   "id": "e36dda13",
   "metadata": {},
   "outputs": [],
   "source": [
    "data2=data.fillna(data[\"Note\"].mean())\n",
    "data2"
   ]
  },
  {
   "cell_type": "markdown",
   "id": "f2715a65",
   "metadata": {},
   "source": [
    "#### Remplacement des valeurs manquantes par la médiane."
   ]
  },
  {
   "cell_type": "code",
   "execution_count": null,
   "id": "5e4cd006",
   "metadata": {},
   "outputs": [],
   "source": [
    "data2=data.fillna(data[\"Note\"].median())\n",
    "data2"
   ]
  },
  {
   "cell_type": "code",
   "execution_count": null,
   "id": "45014b8d",
   "metadata": {},
   "outputs": [],
   "source": []
  }
 ],
 "metadata": {
  "kernelspec": {
   "display_name": "Python 3 (ipykernel)",
   "language": "python",
   "name": "python3"
  },
  "language_info": {
   "codemirror_mode": {
    "name": "ipython",
    "version": 3
   },
   "file_extension": ".py",
   "mimetype": "text/x-python",
   "name": "python",
   "nbconvert_exporter": "python",
   "pygments_lexer": "ipython3",
   "version": "3.10.9"
  }
 },
 "nbformat": 4,
 "nbformat_minor": 5
}
